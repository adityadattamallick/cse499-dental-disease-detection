{
  "nbformat": 4,
  "nbformat_minor": 0,
  "metadata": {
    "colab": {
      "provenance": [],
      "gpuType": "T4"
    },
    "kernelspec": {
      "name": "python3",
      "display_name": "Python 3"
    },
    "language_info": {
      "name": "python"
    },
    "accelerator": "GPU"
  },
  "cells": [
    {
      "cell_type": "code",
      "execution_count": null,
      "metadata": {
        "id": "PLywtCJUexkw",
        "colab": {
          "base_uri": "https://localhost:8080/"
        },
        "outputId": "d8a8d201-1864-4e39-aaac-734d406ca179"
      },
      "outputs": [
        {
          "output_type": "stream",
          "name": "stdout",
          "text": [
            "Drive already mounted at /content/drive; to attempt to forcibly remount, call drive.mount(\"/content/drive\", force_remount=True).\n"
          ]
        }
      ],
      "source": [
        "from google.colab import drive\n",
        "drive.mount('/content/drive')"
      ]
    },
    {
      "cell_type": "code",
      "source": [
        "ROOT_DIR ='/content/drive/MyDrive/testrun'"
      ],
      "metadata": {
        "id": "IBhu3yuQe0sN"
      },
      "execution_count": null,
      "outputs": []
    },
    {
      "cell_type": "code",
      "source": [
        "!pip install ultralytics"
      ],
      "metadata": {
        "colab": {
          "base_uri": "https://localhost:8080/"
        },
        "id": "PCTGu76_fwtg",
        "outputId": "927d4307-acbb-4188-a844-af9495bd8e86"
      },
      "execution_count": null,
      "outputs": [
        {
          "output_type": "stream",
          "name": "stdout",
          "text": [
            "Requirement already satisfied: ultralytics in /usr/local/lib/python3.10/dist-packages (8.2.18)\n",
            "Requirement already satisfied: matplotlib>=3.3.0 in /usr/local/lib/python3.10/dist-packages (from ultralytics) (3.7.1)\n",
            "Requirement already satisfied: opencv-python>=4.6.0 in /usr/local/lib/python3.10/dist-packages (from ultralytics) (4.8.0.76)\n",
            "Requirement already satisfied: pillow>=7.1.2 in /usr/local/lib/python3.10/dist-packages (from ultralytics) (9.4.0)\n",
            "Requirement already satisfied: pyyaml>=5.3.1 in /usr/local/lib/python3.10/dist-packages (from ultralytics) (6.0.1)\n",
            "Requirement already satisfied: requests>=2.23.0 in /usr/local/lib/python3.10/dist-packages (from ultralytics) (2.31.0)\n",
            "Requirement already satisfied: scipy>=1.4.1 in /usr/local/lib/python3.10/dist-packages (from ultralytics) (1.11.4)\n",
            "Requirement already satisfied: torch>=1.8.0 in /usr/local/lib/python3.10/dist-packages (from ultralytics) (2.2.1+cu121)\n",
            "Requirement already satisfied: torchvision>=0.9.0 in /usr/local/lib/python3.10/dist-packages (from ultralytics) (0.17.1+cu121)\n",
            "Requirement already satisfied: tqdm>=4.64.0 in /usr/local/lib/python3.10/dist-packages (from ultralytics) (4.66.4)\n",
            "Requirement already satisfied: psutil in /usr/local/lib/python3.10/dist-packages (from ultralytics) (5.9.5)\n",
            "Requirement already satisfied: py-cpuinfo in /usr/local/lib/python3.10/dist-packages (from ultralytics) (9.0.0)\n",
            "Requirement already satisfied: thop>=0.1.1 in /usr/local/lib/python3.10/dist-packages (from ultralytics) (0.1.1.post2209072238)\n",
            "Requirement already satisfied: pandas>=1.1.4 in /usr/local/lib/python3.10/dist-packages (from ultralytics) (2.0.3)\n",
            "Requirement already satisfied: seaborn>=0.11.0 in /usr/local/lib/python3.10/dist-packages (from ultralytics) (0.13.1)\n",
            "Requirement already satisfied: contourpy>=1.0.1 in /usr/local/lib/python3.10/dist-packages (from matplotlib>=3.3.0->ultralytics) (1.2.1)\n",
            "Requirement already satisfied: cycler>=0.10 in /usr/local/lib/python3.10/dist-packages (from matplotlib>=3.3.0->ultralytics) (0.12.1)\n",
            "Requirement already satisfied: fonttools>=4.22.0 in /usr/local/lib/python3.10/dist-packages (from matplotlib>=3.3.0->ultralytics) (4.51.0)\n",
            "Requirement already satisfied: kiwisolver>=1.0.1 in /usr/local/lib/python3.10/dist-packages (from matplotlib>=3.3.0->ultralytics) (1.4.5)\n",
            "Requirement already satisfied: numpy>=1.20 in /usr/local/lib/python3.10/dist-packages (from matplotlib>=3.3.0->ultralytics) (1.25.2)\n",
            "Requirement already satisfied: packaging>=20.0 in /usr/local/lib/python3.10/dist-packages (from matplotlib>=3.3.0->ultralytics) (24.0)\n",
            "Requirement already satisfied: pyparsing>=2.3.1 in /usr/local/lib/python3.10/dist-packages (from matplotlib>=3.3.0->ultralytics) (3.1.2)\n",
            "Requirement already satisfied: python-dateutil>=2.7 in /usr/local/lib/python3.10/dist-packages (from matplotlib>=3.3.0->ultralytics) (2.8.2)\n",
            "Requirement already satisfied: pytz>=2020.1 in /usr/local/lib/python3.10/dist-packages (from pandas>=1.1.4->ultralytics) (2023.4)\n",
            "Requirement already satisfied: tzdata>=2022.1 in /usr/local/lib/python3.10/dist-packages (from pandas>=1.1.4->ultralytics) (2024.1)\n",
            "Requirement already satisfied: charset-normalizer<4,>=2 in /usr/local/lib/python3.10/dist-packages (from requests>=2.23.0->ultralytics) (3.3.2)\n",
            "Requirement already satisfied: idna<4,>=2.5 in /usr/local/lib/python3.10/dist-packages (from requests>=2.23.0->ultralytics) (3.7)\n",
            "Requirement already satisfied: urllib3<3,>=1.21.1 in /usr/local/lib/python3.10/dist-packages (from requests>=2.23.0->ultralytics) (2.0.7)\n",
            "Requirement already satisfied: certifi>=2017.4.17 in /usr/local/lib/python3.10/dist-packages (from requests>=2.23.0->ultralytics) (2024.2.2)\n",
            "Requirement already satisfied: filelock in /usr/local/lib/python3.10/dist-packages (from torch>=1.8.0->ultralytics) (3.14.0)\n",
            "Requirement already satisfied: typing-extensions>=4.8.0 in /usr/local/lib/python3.10/dist-packages (from torch>=1.8.0->ultralytics) (4.11.0)\n",
            "Requirement already satisfied: sympy in /usr/local/lib/python3.10/dist-packages (from torch>=1.8.0->ultralytics) (1.12)\n",
            "Requirement already satisfied: networkx in /usr/local/lib/python3.10/dist-packages (from torch>=1.8.0->ultralytics) (3.3)\n",
            "Requirement already satisfied: jinja2 in /usr/local/lib/python3.10/dist-packages (from torch>=1.8.0->ultralytics) (3.1.4)\n",
            "Requirement already satisfied: fsspec in /usr/local/lib/python3.10/dist-packages (from torch>=1.8.0->ultralytics) (2023.6.0)\n",
            "Requirement already satisfied: nvidia-cuda-nvrtc-cu12==12.1.105 in /usr/local/lib/python3.10/dist-packages (from torch>=1.8.0->ultralytics) (12.1.105)\n",
            "Requirement already satisfied: nvidia-cuda-runtime-cu12==12.1.105 in /usr/local/lib/python3.10/dist-packages (from torch>=1.8.0->ultralytics) (12.1.105)\n",
            "Requirement already satisfied: nvidia-cuda-cupti-cu12==12.1.105 in /usr/local/lib/python3.10/dist-packages (from torch>=1.8.0->ultralytics) (12.1.105)\n",
            "Requirement already satisfied: nvidia-cudnn-cu12==8.9.2.26 in /usr/local/lib/python3.10/dist-packages (from torch>=1.8.0->ultralytics) (8.9.2.26)\n",
            "Requirement already satisfied: nvidia-cublas-cu12==12.1.3.1 in /usr/local/lib/python3.10/dist-packages (from torch>=1.8.0->ultralytics) (12.1.3.1)\n",
            "Requirement already satisfied: nvidia-cufft-cu12==11.0.2.54 in /usr/local/lib/python3.10/dist-packages (from torch>=1.8.0->ultralytics) (11.0.2.54)\n",
            "Requirement already satisfied: nvidia-curand-cu12==10.3.2.106 in /usr/local/lib/python3.10/dist-packages (from torch>=1.8.0->ultralytics) (10.3.2.106)\n",
            "Requirement already satisfied: nvidia-cusolver-cu12==11.4.5.107 in /usr/local/lib/python3.10/dist-packages (from torch>=1.8.0->ultralytics) (11.4.5.107)\n",
            "Requirement already satisfied: nvidia-cusparse-cu12==12.1.0.106 in /usr/local/lib/python3.10/dist-packages (from torch>=1.8.0->ultralytics) (12.1.0.106)\n",
            "Requirement already satisfied: nvidia-nccl-cu12==2.19.3 in /usr/local/lib/python3.10/dist-packages (from torch>=1.8.0->ultralytics) (2.19.3)\n",
            "Requirement already satisfied: nvidia-nvtx-cu12==12.1.105 in /usr/local/lib/python3.10/dist-packages (from torch>=1.8.0->ultralytics) (12.1.105)\n",
            "Requirement already satisfied: triton==2.2.0 in /usr/local/lib/python3.10/dist-packages (from torch>=1.8.0->ultralytics) (2.2.0)\n",
            "Requirement already satisfied: nvidia-nvjitlink-cu12 in /usr/local/lib/python3.10/dist-packages (from nvidia-cusolver-cu12==11.4.5.107->torch>=1.8.0->ultralytics) (12.4.127)\n",
            "Requirement already satisfied: six>=1.5 in /usr/local/lib/python3.10/dist-packages (from python-dateutil>=2.7->matplotlib>=3.3.0->ultralytics) (1.16.0)\n",
            "Requirement already satisfied: MarkupSafe>=2.0 in /usr/local/lib/python3.10/dist-packages (from jinja2->torch>=1.8.0->ultralytics) (2.1.5)\n",
            "Requirement already satisfied: mpmath>=0.19 in /usr/local/lib/python3.10/dist-packages (from sympy->torch>=1.8.0->ultralytics) (1.3.0)\n"
          ]
        }
      ]
    },
    {
      "cell_type": "code",
      "source": [
        "import os\n",
        "\n",
        "from ultralytics import YOLO\n",
        "\n",
        "model = YOLO(\"yolov8s.pt\")\n",
        "\n",
        "results= model.train(data=os.path.join(ROOT_DIR, \"google_colab_config.yaml\"), epochs=300, augment=True)\n"
      ],
      "metadata": {
        "colab": {
          "base_uri": "https://localhost:8080/"
        },
        "id": "JzPlPsnzgO2X",
        "outputId": "7752b683-fd3b-48f8-fd69-376817a05157"
      },
      "execution_count": null,
      "outputs": [
        {
          "output_type": "stream",
          "name": "stdout",
          "text": [
            "Ultralytics YOLOv8.2.18 🚀 Python-3.10.12 torch-2.2.1+cu121 CUDA:0 (Tesla T4, 15102MiB)\n",
            "\u001b[34m\u001b[1mengine/trainer: \u001b[0mtask=detect, mode=train, model=yolov8s.pt, data=/content/drive/MyDrive/testrun/google_colab_config.yaml, epochs=300, time=None, patience=100, batch=16, imgsz=640, save=True, save_period=-1, cache=False, device=None, workers=8, project=None, name=train8, exist_ok=False, pretrained=True, optimizer=auto, verbose=True, seed=0, deterministic=True, single_cls=False, rect=False, cos_lr=False, close_mosaic=10, resume=False, amp=True, fraction=1.0, profile=False, freeze=None, multi_scale=False, overlap_mask=True, mask_ratio=4, dropout=0.0, val=True, split=val, save_json=False, save_hybrid=False, conf=None, iou=0.7, max_det=300, half=False, dnn=False, plots=True, source=None, vid_stride=1, stream_buffer=False, visualize=False, augment=True, agnostic_nms=False, classes=None, retina_masks=False, embed=None, show=False, save_frames=False, save_txt=False, save_conf=False, save_crop=False, show_labels=True, show_conf=True, show_boxes=True, line_width=None, format=torchscript, keras=False, optimize=False, int8=False, dynamic=False, simplify=False, opset=None, workspace=4, nms=False, lr0=0.01, lrf=0.01, momentum=0.937, weight_decay=0.0005, warmup_epochs=3.0, warmup_momentum=0.8, warmup_bias_lr=0.1, box=7.5, cls=0.5, dfl=1.5, pose=12.0, kobj=1.0, label_smoothing=0.0, nbs=64, hsv_h=0.015, hsv_s=0.7, hsv_v=0.4, degrees=0.0, translate=0.1, scale=0.5, shear=0.0, perspective=0.0, flipud=0.0, fliplr=0.5, bgr=0.0, mosaic=1.0, mixup=0.0, copy_paste=0.0, auto_augment=randaugment, erasing=0.4, crop_fraction=1.0, cfg=None, tracker=botsort.yaml, save_dir=runs/detect/train8\n",
            "Overriding model.yaml nc=80 with nc=44\n",
            "\n",
            "                   from  n    params  module                                       arguments                     \n",
            "  0                  -1  1       928  ultralytics.nn.modules.conv.Conv             [3, 32, 3, 2]                 \n",
            "  1                  -1  1     18560  ultralytics.nn.modules.conv.Conv             [32, 64, 3, 2]                \n",
            "  2                  -1  1     29056  ultralytics.nn.modules.block.C2f             [64, 64, 1, True]             \n",
            "  3                  -1  1     73984  ultralytics.nn.modules.conv.Conv             [64, 128, 3, 2]               \n",
            "  4                  -1  2    197632  ultralytics.nn.modules.block.C2f             [128, 128, 2, True]           \n",
            "  5                  -1  1    295424  ultralytics.nn.modules.conv.Conv             [128, 256, 3, 2]              \n",
            "  6                  -1  2    788480  ultralytics.nn.modules.block.C2f             [256, 256, 2, True]           \n",
            "  7                  -1  1   1180672  ultralytics.nn.modules.conv.Conv             [256, 512, 3, 2]              \n",
            "  8                  -1  1   1838080  ultralytics.nn.modules.block.C2f             [512, 512, 1, True]           \n",
            "  9                  -1  1    656896  ultralytics.nn.modules.block.SPPF            [512, 512, 5]                 \n",
            " 10                  -1  1         0  torch.nn.modules.upsampling.Upsample         [None, 2, 'nearest']          \n",
            " 11             [-1, 6]  1         0  ultralytics.nn.modules.conv.Concat           [1]                           \n",
            " 12                  -1  1    591360  ultralytics.nn.modules.block.C2f             [768, 256, 1]                 \n",
            " 13                  -1  1         0  torch.nn.modules.upsampling.Upsample         [None, 2, 'nearest']          \n",
            " 14             [-1, 4]  1         0  ultralytics.nn.modules.conv.Concat           [1]                           \n",
            " 15                  -1  1    148224  ultralytics.nn.modules.block.C2f             [384, 128, 1]                 \n",
            " 16                  -1  1    147712  ultralytics.nn.modules.conv.Conv             [128, 128, 3, 2]              \n",
            " 17            [-1, 12]  1         0  ultralytics.nn.modules.conv.Concat           [1]                           \n",
            " 18                  -1  1    493056  ultralytics.nn.modules.block.C2f             [384, 256, 1]                 \n",
            " 19                  -1  1    590336  ultralytics.nn.modules.conv.Conv             [256, 256, 3, 2]              \n",
            " 20             [-1, 9]  1         0  ultralytics.nn.modules.conv.Concat           [1]                           \n",
            " 21                  -1  1   1969152  ultralytics.nn.modules.block.C2f             [768, 512, 1]                 \n",
            " 22        [15, 18, 21]  1   2133076  ultralytics.nn.modules.head.Detect           [44, [128, 256, 512]]         \n",
            "Model summary: 225 layers, 11152628 parameters, 11152612 gradients, 28.7 GFLOPs\n",
            "\n",
            "Transferred 349/355 items from pretrained weights\n",
            "\u001b[34m\u001b[1mTensorBoard: \u001b[0mStart with 'tensorboard --logdir runs/detect/train8', view at http://localhost:6006/\n",
            "Freezing layer 'model.22.dfl.conv.weight'\n",
            "\u001b[34m\u001b[1mAMP: \u001b[0mrunning Automatic Mixed Precision (AMP) checks with YOLOv8n...\n",
            "\u001b[34m\u001b[1mAMP: \u001b[0mchecks passed ✅\n"
          ]
        },
        {
          "output_type": "stream",
          "name": "stderr",
          "text": [
            "\u001b[34m\u001b[1mtrain: \u001b[0mScanning /content/drive/MyDrive/testrun/data/labels/train.cache... 121 images, 0 backgrounds, 0 corrupt: 100%|██████████| 121/121 [00:00<?, ?it/s]\n"
          ]
        },
        {
          "output_type": "stream",
          "name": "stdout",
          "text": [
            "\u001b[34m\u001b[1malbumentations: \u001b[0mBlur(p=0.01, blur_limit=(3, 7)), MedianBlur(p=0.01, blur_limit=(3, 7)), ToGray(p=0.01), CLAHE(p=0.01, clip_limit=(1, 4.0), tile_grid_size=(8, 8))\n"
          ]
        },
        {
          "output_type": "stream",
          "name": "stderr",
          "text": [
            "/usr/lib/python3.10/multiprocessing/popen_fork.py:66: RuntimeWarning: os.fork() was called. os.fork() is incompatible with multithreaded code, and JAX is multithreaded, so this will likely lead to a deadlock.\n",
            "  self.pid = os.fork()\n",
            "\u001b[34m\u001b[1mval: \u001b[0mScanning /content/drive/MyDrive/testrun/data/labels/val.cache... 35 images, 0 backgrounds, 0 corrupt: 100%|██████████| 35/35 [00:00<?, ?it/s]\n"
          ]
        },
        {
          "output_type": "stream",
          "name": "stdout",
          "text": [
            "Plotting labels to runs/detect/train8/labels.jpg... \n",
            "\u001b[34m\u001b[1moptimizer:\u001b[0m 'optimizer=auto' found, ignoring 'lr0=0.01' and 'momentum=0.937' and determining best 'optimizer', 'lr0' and 'momentum' automatically... \n",
            "\u001b[34m\u001b[1moptimizer:\u001b[0m AdamW(lr=0.000208, momentum=0.9) with parameter groups 57 weight(decay=0.0), 64 weight(decay=0.0005), 63 bias(decay=0.0)\n",
            "\u001b[34m\u001b[1mTensorBoard: \u001b[0mmodel graph visualization added ✅\n",
            "Image sizes 640 train, 640 val\n",
            "Using 2 dataloader workers\n",
            "Logging results to \u001b[1mruns/detect/train8\u001b[0m\n",
            "Starting training for 300 epochs...\n",
            "\n",
            "      Epoch    GPU_mem   box_loss   cls_loss   dfl_loss  Instances       Size\n"
          ]
        },
        {
          "output_type": "stream",
          "name": "stderr",
          "text": [
            "      1/300      4.28G      1.495      5.188      1.557        162        640: 100%|██████████| 8/8 [00:14<00:00,  1.83s/it]\n",
            "                 Class     Images  Instances      Box(P          R      mAP50  mAP50-95): 100%|██████████| 2/2 [00:04<00:00,  2.02s/it]"
          ]
        },
        {
          "output_type": "stream",
          "name": "stdout",
          "text": [
            "                   all         35        628    0.00914     0.0765    0.00793    0.00592\n"
          ]
        },
        {
          "output_type": "stream",
          "name": "stderr",
          "text": [
            "\n"
          ]
        },
        {
          "output_type": "stream",
          "name": "stdout",
          "text": [
            "\n",
            "      Epoch    GPU_mem   box_loss   cls_loss   dfl_loss  Instances       Size\n"
          ]
        },
        {
          "output_type": "stream",
          "name": "stderr",
          "text": [
            "      2/300      4.76G      1.448      4.872      1.506        214        640: 100%|██████████| 8/8 [00:04<00:00,  1.87it/s]\n",
            "                 Class     Images  Instances      Box(P          R      mAP50  mAP50-95): 100%|██████████| 2/2 [00:02<00:00,  1.30s/it]\n"
          ]
        },
        {
          "output_type": "stream",
          "name": "stdout",
          "text": [
            "                   all         35        628     0.0816       0.11     0.0173     0.0146\n",
            "\n",
            "      Epoch    GPU_mem   box_loss   cls_loss   dfl_loss  Instances       Size\n"
          ]
        },
        {
          "output_type": "stream",
          "name": "stderr",
          "text": [
            "      3/300      4.37G      1.304      4.261      1.403        225        640: 100%|██████████| 8/8 [00:05<00:00,  1.51it/s]\n",
            "                 Class     Images  Instances      Box(P          R      mAP50  mAP50-95): 100%|██████████| 2/2 [00:01<00:00,  1.02it/s]"
          ]
        },
        {
          "output_type": "stream",
          "name": "stdout",
          "text": [
            "                   all         35        628     0.0205      0.261     0.0433     0.0358\n"
          ]
        },
        {
          "output_type": "stream",
          "name": "stderr",
          "text": [
            "\n"
          ]
        },
        {
          "output_type": "stream",
          "name": "stdout",
          "text": [
            "\n",
            "      Epoch    GPU_mem   box_loss   cls_loss   dfl_loss  Instances       Size\n"
          ]
        },
        {
          "output_type": "stream",
          "name": "stderr",
          "text": [
            "      4/300      4.07G      1.296      3.949      1.375        279        640: 100%|██████████| 8/8 [00:04<00:00,  2.00it/s]\n",
            "                 Class     Images  Instances      Box(P          R      mAP50  mAP50-95): 100%|██████████| 2/2 [00:02<00:00,  1.44s/it]"
          ]
        },
        {
          "output_type": "stream",
          "name": "stdout",
          "text": [
            "                   all         35        628       0.55       0.12     0.0712     0.0564\n"
          ]
        },
        {
          "output_type": "stream",
          "name": "stderr",
          "text": [
            "\n"
          ]
        },
        {
          "output_type": "stream",
          "name": "stdout",
          "text": [
            "\n",
            "      Epoch    GPU_mem   box_loss   cls_loss   dfl_loss  Instances       Size\n"
          ]
        },
        {
          "output_type": "stream",
          "name": "stderr",
          "text": [
            "      5/300      4.59G      1.256      3.489      1.324        221        640: 100%|██████████| 8/8 [00:06<00:00,  1.27it/s]\n",
            "                 Class     Images  Instances      Box(P          R      mAP50  mAP50-95): 100%|██████████| 2/2 [00:01<00:00,  1.13it/s]"
          ]
        },
        {
          "output_type": "stream",
          "name": "stdout",
          "text": [
            "                   all         35        628      0.437      0.203     0.0832     0.0655\n"
          ]
        },
        {
          "output_type": "stream",
          "name": "stderr",
          "text": [
            "\n"
          ]
        },
        {
          "output_type": "stream",
          "name": "stdout",
          "text": [
            "\n",
            "      Epoch    GPU_mem   box_loss   cls_loss   dfl_loss  Instances       Size\n"
          ]
        },
        {
          "output_type": "stream",
          "name": "stderr",
          "text": [
            "      6/300      4.64G      1.247      3.164      1.318        245        640: 100%|██████████| 8/8 [00:03<00:00,  2.17it/s]\n",
            "                 Class     Images  Instances      Box(P          R      mAP50  mAP50-95): 100%|██████████| 2/2 [00:01<00:00,  1.20it/s]"
          ]
        },
        {
          "output_type": "stream",
          "name": "stdout",
          "text": [
            "                   all         35        628      0.299      0.312       0.14      0.108\n"
          ]
        },
        {
          "output_type": "stream",
          "name": "stderr",
          "text": [
            "\n"
          ]
        },
        {
          "output_type": "stream",
          "name": "stdout",
          "text": [
            "\n",
            "      Epoch    GPU_mem   box_loss   cls_loss   dfl_loss  Instances       Size\n"
          ]
        },
        {
          "output_type": "stream",
          "name": "stderr",
          "text": [
            "      7/300      4.45G      1.217      2.872      1.293        174        640: 100%|██████████| 8/8 [00:06<00:00,  1.29it/s]\n",
            "                 Class     Images  Instances      Box(P          R      mAP50  mAP50-95): 100%|██████████| 2/2 [00:02<00:00,  1.16s/it]"
          ]
        },
        {
          "output_type": "stream",
          "name": "stdout",
          "text": [
            "                   all         35        628      0.339        0.3      0.167      0.129\n"
          ]
        },
        {
          "output_type": "stream",
          "name": "stderr",
          "text": [
            "\n"
          ]
        },
        {
          "output_type": "stream",
          "name": "stdout",
          "text": [
            "\n",
            "      Epoch    GPU_mem   box_loss   cls_loss   dfl_loss  Instances       Size\n"
          ]
        },
        {
          "output_type": "stream",
          "name": "stderr",
          "text": [
            "      8/300      4.56G      1.227      2.713      1.298        311        640: 100%|██████████| 8/8 [00:03<00:00,  2.05it/s]\n",
            "                 Class     Images  Instances      Box(P          R      mAP50  mAP50-95): 100%|██████████| 2/2 [00:01<00:00,  1.14it/s]\n"
          ]
        },
        {
          "output_type": "stream",
          "name": "stdout",
          "text": [
            "                   all         35        628       0.28      0.368      0.192      0.147\n",
            "\n",
            "      Epoch    GPU_mem   box_loss   cls_loss   dfl_loss  Instances       Size\n"
          ]
        },
        {
          "output_type": "stream",
          "name": "stderr",
          "text": [
            "      9/300      4.38G      1.213      2.524      1.295        216        640: 100%|██████████| 8/8 [00:06<00:00,  1.30it/s]\n",
            "                 Class     Images  Instances      Box(P          R      mAP50  mAP50-95): 100%|██████████| 2/2 [00:02<00:00,  1.15s/it]\n"
          ]
        },
        {
          "output_type": "stream",
          "name": "stdout",
          "text": [
            "                   all         35        628      0.274      0.357      0.215      0.165\n",
            "\n",
            "      Epoch    GPU_mem   box_loss   cls_loss   dfl_loss  Instances       Size\n"
          ]
        },
        {
          "output_type": "stream",
          "name": "stderr",
          "text": [
            "     10/300      4.28G      1.196      2.354      1.278        226        640: 100%|██████████| 8/8 [00:03<00:00,  2.30it/s]\n",
            "                 Class     Images  Instances      Box(P          R      mAP50  mAP50-95): 100%|██████████| 2/2 [00:01<00:00,  1.51it/s]"
          ]
        },
        {
          "output_type": "stream",
          "name": "stdout",
          "text": [
            "                   all         35        628      0.293       0.43      0.231      0.176\n"
          ]
        },
        {
          "output_type": "stream",
          "name": "stderr",
          "text": [
            "\n"
          ]
        },
        {
          "output_type": "stream",
          "name": "stdout",
          "text": [
            "\n",
            "      Epoch    GPU_mem   box_loss   cls_loss   dfl_loss  Instances       Size\n"
          ]
        },
        {
          "output_type": "stream",
          "name": "stderr",
          "text": [
            "     11/300      4.44G      1.165      2.233      1.258        205        640: 100%|██████████| 8/8 [00:04<00:00,  1.85it/s]\n",
            "                 Class     Images  Instances      Box(P          R      mAP50  mAP50-95): 100%|██████████| 2/2 [00:02<00:00,  1.04s/it]\n"
          ]
        },
        {
          "output_type": "stream",
          "name": "stdout",
          "text": [
            "                   all         35        628      0.314      0.474      0.253      0.191\n",
            "\n",
            "      Epoch    GPU_mem   box_loss   cls_loss   dfl_loss  Instances       Size\n"
          ]
        },
        {
          "output_type": "stream",
          "name": "stderr",
          "text": [
            "     12/300       4.4G      1.172      2.192      1.265        289        640: 100%|██████████| 8/8 [00:04<00:00,  1.61it/s]\n",
            "                 Class     Images  Instances      Box(P          R      mAP50  mAP50-95): 100%|██████████| 2/2 [00:01<00:00,  1.67it/s]\n"
          ]
        },
        {
          "output_type": "stream",
          "name": "stdout",
          "text": [
            "                   all         35        628       0.33      0.521      0.283      0.216\n",
            "\n",
            "      Epoch    GPU_mem   box_loss   cls_loss   dfl_loss  Instances       Size\n"
          ]
        },
        {
          "output_type": "stream",
          "name": "stderr",
          "text": [
            "     13/300      4.55G      1.163      2.105      1.251        202        640: 100%|██████████| 8/8 [00:03<00:00,  2.40it/s]\n",
            "                 Class     Images  Instances      Box(P          R      mAP50  mAP50-95): 100%|██████████| 2/2 [00:01<00:00,  1.62it/s]\n"
          ]
        },
        {
          "output_type": "stream",
          "name": "stdout",
          "text": [
            "                   all         35        628      0.349      0.485      0.299      0.225\n",
            "\n",
            "      Epoch    GPU_mem   box_loss   cls_loss   dfl_loss  Instances       Size\n"
          ]
        },
        {
          "output_type": "stream",
          "name": "stderr",
          "text": [
            "     14/300      4.59G       1.16      2.049      1.235        227        640: 100%|██████████| 8/8 [00:06<00:00,  1.31it/s]\n",
            "                 Class     Images  Instances      Box(P          R      mAP50  mAP50-95): 100%|██████████| 2/2 [00:01<00:00,  1.02it/s]\n"
          ]
        },
        {
          "output_type": "stream",
          "name": "stdout",
          "text": [
            "                   all         35        628      0.327       0.47       0.32      0.237\n",
            "\n",
            "      Epoch    GPU_mem   box_loss   cls_loss   dfl_loss  Instances       Size\n"
          ]
        },
        {
          "output_type": "stream",
          "name": "stderr",
          "text": [
            "     15/300      4.39G      1.124      1.972      1.223        302        640: 100%|██████████| 8/8 [00:03<00:00,  2.03it/s]\n",
            "                 Class     Images  Instances      Box(P          R      mAP50  mAP50-95): 100%|██████████| 2/2 [00:01<00:00,  1.82it/s]"
          ]
        },
        {
          "output_type": "stream",
          "name": "stdout",
          "text": [
            "                   all         35        628      0.333      0.486      0.342      0.259\n"
          ]
        },
        {
          "output_type": "stream",
          "name": "stderr",
          "text": [
            "\n"
          ]
        },
        {
          "output_type": "stream",
          "name": "stdout",
          "text": [
            "\n",
            "      Epoch    GPU_mem   box_loss   cls_loss   dfl_loss  Instances       Size\n"
          ]
        },
        {
          "output_type": "stream",
          "name": "stderr",
          "text": [
            "     16/300       4.9G      1.143       1.92      1.242        250        640: 100%|██████████| 8/8 [00:04<00:00,  1.61it/s]\n",
            "                 Class     Images  Instances      Box(P          R      mAP50  mAP50-95): 100%|██████████| 2/2 [00:01<00:00,  1.03it/s]\n"
          ]
        },
        {
          "output_type": "stream",
          "name": "stdout",
          "text": [
            "                   all         35        628       0.38      0.498      0.353      0.271\n",
            "\n",
            "      Epoch    GPU_mem   box_loss   cls_loss   dfl_loss  Instances       Size\n"
          ]
        },
        {
          "output_type": "stream",
          "name": "stderr",
          "text": [
            "     17/300      4.41G      1.116      1.884      1.207        200        640: 100%|██████████| 8/8 [00:03<00:00,  2.17it/s]\n",
            "                 Class     Images  Instances      Box(P          R      mAP50  mAP50-95): 100%|██████████| 2/2 [00:01<00:00,  1.54it/s]\n"
          ]
        },
        {
          "output_type": "stream",
          "name": "stdout",
          "text": [
            "                   all         35        628      0.401      0.501       0.37      0.282\n",
            "\n",
            "      Epoch    GPU_mem   box_loss   cls_loss   dfl_loss  Instances       Size\n"
          ]
        },
        {
          "output_type": "stream",
          "name": "stderr",
          "text": [
            "     18/300      4.54G        1.1      1.812      1.198        223        640: 100%|██████████| 8/8 [00:03<00:00,  2.17it/s]\n",
            "                 Class     Images  Instances      Box(P          R      mAP50  mAP50-95): 100%|██████████| 2/2 [00:01<00:00,  1.06it/s]\n"
          ]
        },
        {
          "output_type": "stream",
          "name": "stdout",
          "text": [
            "                   all         35        628      0.396      0.486      0.362      0.278\n",
            "\n",
            "      Epoch    GPU_mem   box_loss   cls_loss   dfl_loss  Instances       Size\n"
          ]
        },
        {
          "output_type": "stream",
          "name": "stderr",
          "text": [
            "     19/300      4.19G      1.089      1.793      1.196        166        640: 100%|██████████| 8/8 [00:05<00:00,  1.55it/s]\n",
            "                 Class     Images  Instances      Box(P          R      mAP50  mAP50-95): 100%|██████████| 2/2 [00:01<00:00,  1.41it/s]"
          ]
        },
        {
          "output_type": "stream",
          "name": "stdout",
          "text": [
            "                   all         35        628      0.362      0.546      0.366      0.282\n"
          ]
        },
        {
          "output_type": "stream",
          "name": "stderr",
          "text": [
            "\n"
          ]
        },
        {
          "output_type": "stream",
          "name": "stdout",
          "text": [
            "\n",
            "      Epoch    GPU_mem   box_loss   cls_loss   dfl_loss  Instances       Size\n"
          ]
        },
        {
          "output_type": "stream",
          "name": "stderr",
          "text": [
            "     20/300      4.62G       1.09      1.765      1.187        206        640: 100%|██████████| 8/8 [00:03<00:00,  2.09it/s]\n",
            "                 Class     Images  Instances      Box(P          R      mAP50  mAP50-95): 100%|██████████| 2/2 [00:01<00:00,  1.52it/s]\n"
          ]
        },
        {
          "output_type": "stream",
          "name": "stdout",
          "text": [
            "                   all         35        628      0.375       0.56      0.381      0.294\n",
            "\n",
            "      Epoch    GPU_mem   box_loss   cls_loss   dfl_loss  Instances       Size\n"
          ]
        },
        {
          "output_type": "stream",
          "name": "stderr",
          "text": [
            "     21/300      4.54G       1.11      1.708        1.2        312        640: 100%|██████████| 8/8 [00:05<00:00,  1.40it/s]\n",
            "                 Class     Images  Instances      Box(P          R      mAP50  mAP50-95): 100%|██████████| 2/2 [00:01<00:00,  1.33it/s]"
          ]
        },
        {
          "output_type": "stream",
          "name": "stdout",
          "text": [
            "                   all         35        628      0.367      0.542       0.42      0.325\n"
          ]
        },
        {
          "output_type": "stream",
          "name": "stderr",
          "text": [
            "\n"
          ]
        },
        {
          "output_type": "stream",
          "name": "stdout",
          "text": [
            "\n",
            "      Epoch    GPU_mem   box_loss   cls_loss   dfl_loss  Instances       Size\n"
          ]
        },
        {
          "output_type": "stream",
          "name": "stderr",
          "text": [
            "     22/300      4.93G      1.037      1.658      1.147        230        640: 100%|██████████| 8/8 [00:03<00:00,  2.38it/s]\n",
            "                 Class     Images  Instances      Box(P          R      mAP50  mAP50-95): 100%|██████████| 2/2 [00:01<00:00,  1.84it/s]\n"
          ]
        },
        {
          "output_type": "stream",
          "name": "stdout",
          "text": [
            "                   all         35        628        0.4      0.535      0.435      0.334\n",
            "\n",
            "      Epoch    GPU_mem   box_loss   cls_loss   dfl_loss  Instances       Size\n"
          ]
        },
        {
          "output_type": "stream",
          "name": "stderr",
          "text": [
            "     23/300      4.04G      1.037      1.612      1.156        287        640: 100%|██████████| 8/8 [00:05<00:00,  1.48it/s]\n",
            "                 Class     Images  Instances      Box(P          R      mAP50  mAP50-95): 100%|██████████| 2/2 [00:01<00:00,  1.11it/s]\n"
          ]
        },
        {
          "output_type": "stream",
          "name": "stdout",
          "text": [
            "                   all         35        628      0.365      0.626       0.44      0.336\n",
            "\n",
            "      Epoch    GPU_mem   box_loss   cls_loss   dfl_loss  Instances       Size\n"
          ]
        },
        {
          "output_type": "stream",
          "name": "stderr",
          "text": [
            "     24/300      4.69G      1.078      1.671      1.184        208        640: 100%|██████████| 8/8 [00:03<00:00,  2.15it/s]\n",
            "                 Class     Images  Instances      Box(P          R      mAP50  mAP50-95): 100%|██████████| 2/2 [00:01<00:00,  1.49it/s]"
          ]
        },
        {
          "output_type": "stream",
          "name": "stdout",
          "text": [
            "                   all         35        628      0.381      0.639      0.441      0.335\n"
          ]
        },
        {
          "output_type": "stream",
          "name": "stderr",
          "text": [
            "\n"
          ]
        },
        {
          "output_type": "stream",
          "name": "stdout",
          "text": [
            "\n",
            "      Epoch    GPU_mem   box_loss   cls_loss   dfl_loss  Instances       Size\n"
          ]
        },
        {
          "output_type": "stream",
          "name": "stderr",
          "text": [
            "     25/300      4.57G      1.055      1.536      1.175        248        640: 100%|██████████| 8/8 [00:03<00:00,  2.22it/s]\n",
            "                 Class     Images  Instances      Box(P          R      mAP50  mAP50-95): 100%|██████████| 2/2 [00:01<00:00,  1.26it/s]\n"
          ]
        },
        {
          "output_type": "stream",
          "name": "stdout",
          "text": [
            "                   all         35        628      0.395      0.591      0.461       0.35\n",
            "\n",
            "      Epoch    GPU_mem   box_loss   cls_loss   dfl_loss  Instances       Size\n"
          ]
        },
        {
          "output_type": "stream",
          "name": "stderr",
          "text": [
            "     26/300      4.56G      1.035      1.544      1.166        252        640: 100%|██████████| 8/8 [00:05<00:00,  1.34it/s]\n",
            "                 Class     Images  Instances      Box(P          R      mAP50  mAP50-95): 100%|██████████| 2/2 [00:01<00:00,  1.63it/s]\n"
          ]
        },
        {
          "output_type": "stream",
          "name": "stdout",
          "text": [
            "                   all         35        628      0.416      0.539      0.471      0.365\n",
            "\n",
            "      Epoch    GPU_mem   box_loss   cls_loss   dfl_loss  Instances       Size\n"
          ]
        },
        {
          "output_type": "stream",
          "name": "stderr",
          "text": [
            "     27/300      4.68G      1.022      1.471      1.142        231        640: 100%|██████████| 8/8 [00:03<00:00,  2.14it/s]\n",
            "                 Class     Images  Instances      Box(P          R      mAP50  mAP50-95): 100%|██████████| 2/2 [00:01<00:00,  1.75it/s]\n"
          ]
        },
        {
          "output_type": "stream",
          "name": "stdout",
          "text": [
            "                   all         35        628      0.384      0.526      0.456      0.353\n",
            "\n",
            "      Epoch    GPU_mem   box_loss   cls_loss   dfl_loss  Instances       Size\n"
          ]
        },
        {
          "output_type": "stream",
          "name": "stderr",
          "text": [
            "     28/300      4.94G      1.041      1.413      1.134        237        640: 100%|██████████| 8/8 [00:05<00:00,  1.36it/s]\n",
            "                 Class     Images  Instances      Box(P          R      mAP50  mAP50-95): 100%|██████████| 2/2 [00:01<00:00,  1.13it/s]\n"
          ]
        },
        {
          "output_type": "stream",
          "name": "stdout",
          "text": [
            "                   all         35        628      0.364      0.542      0.448      0.346\n",
            "\n",
            "      Epoch    GPU_mem   box_loss   cls_loss   dfl_loss  Instances       Size\n"
          ]
        },
        {
          "output_type": "stream",
          "name": "stderr",
          "text": [
            "     29/300      4.54G      1.034      1.464      1.166        271        640: 100%|██████████| 8/8 [00:03<00:00,  2.25it/s]\n",
            "                 Class     Images  Instances      Box(P          R      mAP50  mAP50-95): 100%|██████████| 2/2 [00:01<00:00,  1.71it/s]\n"
          ]
        },
        {
          "output_type": "stream",
          "name": "stdout",
          "text": [
            "                   all         35        628      0.391      0.533       0.47      0.358\n",
            "\n",
            "      Epoch    GPU_mem   box_loss   cls_loss   dfl_loss  Instances       Size\n"
          ]
        },
        {
          "output_type": "stream",
          "name": "stderr",
          "text": [
            "     30/300      4.52G      1.009      1.364       1.15        139        640: 100%|██████████| 8/8 [00:04<00:00,  1.87it/s]\n",
            "                 Class     Images  Instances      Box(P          R      mAP50  mAP50-95): 100%|██████████| 2/2 [00:01<00:00,  1.33it/s]\n"
          ]
        },
        {
          "output_type": "stream",
          "name": "stdout",
          "text": [
            "                   all         35        628      0.474      0.509      0.479      0.362\n",
            "\n",
            "      Epoch    GPU_mem   box_loss   cls_loss   dfl_loss  Instances       Size\n"
          ]
        },
        {
          "output_type": "stream",
          "name": "stderr",
          "text": [
            "     31/300       4.6G      1.012      1.363      1.139        163        640: 100%|██████████| 8/8 [00:04<00:00,  1.66it/s]\n",
            "                 Class     Images  Instances      Box(P          R      mAP50  mAP50-95): 100%|██████████| 2/2 [00:01<00:00,  1.99it/s]"
          ]
        },
        {
          "output_type": "stream",
          "name": "stdout",
          "text": [
            "                   all         35        628      0.351      0.588      0.461      0.342\n"
          ]
        },
        {
          "output_type": "stream",
          "name": "stderr",
          "text": [
            "\n"
          ]
        },
        {
          "output_type": "stream",
          "name": "stdout",
          "text": [
            "\n",
            "      Epoch    GPU_mem   box_loss   cls_loss   dfl_loss  Instances       Size\n"
          ]
        },
        {
          "output_type": "stream",
          "name": "stderr",
          "text": [
            "     32/300      4.51G      1.022      1.346      1.132        299        640: 100%|██████████| 8/8 [00:03<00:00,  2.31it/s]\n",
            "                 Class     Images  Instances      Box(P          R      mAP50  mAP50-95): 100%|██████████| 2/2 [00:01<00:00,  1.79it/s]\n"
          ]
        },
        {
          "output_type": "stream",
          "name": "stdout",
          "text": [
            "                   all         35        628      0.392      0.526      0.488      0.365\n",
            "\n",
            "      Epoch    GPU_mem   box_loss   cls_loss   dfl_loss  Instances       Size\n"
          ]
        },
        {
          "output_type": "stream",
          "name": "stderr",
          "text": [
            "     33/300      4.35G      1.028      1.378      1.149        283        640: 100%|██████████| 8/8 [00:05<00:00,  1.37it/s]\n",
            "                 Class     Images  Instances      Box(P          R      mAP50  mAP50-95): 100%|██████████| 2/2 [00:01<00:00,  1.23it/s]\n"
          ]
        },
        {
          "output_type": "stream",
          "name": "stdout",
          "text": [
            "                   all         35        628      0.388      0.519      0.466      0.355\n",
            "\n",
            "      Epoch    GPU_mem   box_loss   cls_loss   dfl_loss  Instances       Size\n"
          ]
        },
        {
          "output_type": "stream",
          "name": "stderr",
          "text": [
            "     34/300      4.53G     0.9913      1.267      1.125        343        640: 100%|██████████| 8/8 [00:03<00:00,  2.26it/s]\n",
            "                 Class     Images  Instances      Box(P          R      mAP50  mAP50-95): 100%|██████████| 2/2 [00:01<00:00,  1.76it/s]\n"
          ]
        },
        {
          "output_type": "stream",
          "name": "stdout",
          "text": [
            "                   all         35        628      0.386       0.56      0.471       0.36\n",
            "\n",
            "      Epoch    GPU_mem   box_loss   cls_loss   dfl_loss  Instances       Size\n"
          ]
        },
        {
          "output_type": "stream",
          "name": "stderr",
          "text": [
            "     35/300      4.44G     0.9902      1.276      1.145        160        640: 100%|██████████| 8/8 [00:04<00:00,  1.79it/s]\n",
            "                 Class     Images  Instances      Box(P          R      mAP50  mAP50-95): 100%|██████████| 2/2 [00:01<00:00,  1.32it/s]\n"
          ]
        },
        {
          "output_type": "stream",
          "name": "stdout",
          "text": [
            "                   all         35        628      0.376      0.607      0.481      0.365\n",
            "\n",
            "      Epoch    GPU_mem   box_loss   cls_loss   dfl_loss  Instances       Size\n"
          ]
        },
        {
          "output_type": "stream",
          "name": "stderr",
          "text": [
            "     36/300      4.56G     0.9937      1.274      1.121        312        640: 100%|██████████| 8/8 [00:04<00:00,  1.74it/s]\n",
            "                 Class     Images  Instances      Box(P          R      mAP50  mAP50-95): 100%|██████████| 2/2 [00:01<00:00,  1.87it/s]"
          ]
        },
        {
          "output_type": "stream",
          "name": "stdout",
          "text": [
            "                   all         35        628      0.382      0.532      0.455      0.345\n"
          ]
        },
        {
          "output_type": "stream",
          "name": "stderr",
          "text": [
            "\n"
          ]
        },
        {
          "output_type": "stream",
          "name": "stdout",
          "text": [
            "\n",
            "      Epoch    GPU_mem   box_loss   cls_loss   dfl_loss  Instances       Size\n"
          ]
        },
        {
          "output_type": "stream",
          "name": "stderr",
          "text": [
            "     37/300      4.68G     0.9923       1.26      1.131        282        640: 100%|██████████| 8/8 [00:03<00:00,  2.17it/s]\n",
            "                 Class     Images  Instances      Box(P          R      mAP50  mAP50-95): 100%|██████████| 2/2 [00:00<00:00,  2.10it/s]\n"
          ]
        },
        {
          "output_type": "stream",
          "name": "stdout",
          "text": [
            "                   all         35        628      0.445      0.513      0.462      0.347\n",
            "\n",
            "      Epoch    GPU_mem   box_loss   cls_loss   dfl_loss  Instances       Size\n"
          ]
        },
        {
          "output_type": "stream",
          "name": "stderr",
          "text": [
            "     38/300      4.75G     0.9786      1.216      1.115        299        640: 100%|██████████| 8/8 [00:05<00:00,  1.38it/s]\n",
            "                 Class     Images  Instances      Box(P          R      mAP50  mAP50-95): 100%|██████████| 2/2 [00:01<00:00,  1.57it/s]\n"
          ]
        },
        {
          "output_type": "stream",
          "name": "stdout",
          "text": [
            "                   all         35        628      0.425      0.528      0.478      0.357\n",
            "\n",
            "      Epoch    GPU_mem   box_loss   cls_loss   dfl_loss  Instances       Size\n"
          ]
        },
        {
          "output_type": "stream",
          "name": "stderr",
          "text": [
            "     39/300      4.44G     0.9984      1.198      1.133        220        640: 100%|██████████| 8/8 [00:03<00:00,  2.14it/s]\n",
            "                 Class     Images  Instances      Box(P          R      mAP50  mAP50-95): 100%|██████████| 2/2 [00:01<00:00,  1.74it/s]"
          ]
        },
        {
          "output_type": "stream",
          "name": "stdout",
          "text": [
            "                   all         35        628      0.402      0.573      0.479      0.361\n"
          ]
        },
        {
          "output_type": "stream",
          "name": "stderr",
          "text": [
            "\n"
          ]
        },
        {
          "output_type": "stream",
          "name": "stdout",
          "text": [
            "\n",
            "      Epoch    GPU_mem   box_loss   cls_loss   dfl_loss  Instances       Size\n"
          ]
        },
        {
          "output_type": "stream",
          "name": "stderr",
          "text": [
            "     40/300      4.51G     0.9543      1.154      1.107        265        640: 100%|██████████| 8/8 [00:05<00:00,  1.35it/s]\n",
            "                 Class     Images  Instances      Box(P          R      mAP50  mAP50-95): 100%|██████████| 2/2 [00:01<00:00,  1.21it/s]\n"
          ]
        },
        {
          "output_type": "stream",
          "name": "stdout",
          "text": [
            "                   all         35        628      0.468      0.525      0.509       0.39\n",
            "\n",
            "      Epoch    GPU_mem   box_loss   cls_loss   dfl_loss  Instances       Size\n"
          ]
        },
        {
          "output_type": "stream",
          "name": "stderr",
          "text": [
            "     41/300      4.38G     0.9645      1.169      1.111        300        640: 100%|██████████| 8/8 [00:03<00:00,  2.25it/s]\n",
            "                 Class     Images  Instances      Box(P          R      mAP50  mAP50-95): 100%|██████████| 2/2 [00:01<00:00,  1.89it/s]"
          ]
        },
        {
          "output_type": "stream",
          "name": "stdout",
          "text": [
            "                   all         35        628      0.464      0.591      0.514      0.397\n"
          ]
        },
        {
          "output_type": "stream",
          "name": "stderr",
          "text": [
            "\n"
          ]
        },
        {
          "output_type": "stream",
          "name": "stdout",
          "text": [
            "\n",
            "      Epoch    GPU_mem   box_loss   cls_loss   dfl_loss  Instances       Size\n"
          ]
        },
        {
          "output_type": "stream",
          "name": "stderr",
          "text": [
            "     42/300      4.34G     0.9575      1.136      1.107        195        640: 100%|██████████| 8/8 [00:04<00:00,  1.85it/s]\n",
            "                 Class     Images  Instances      Box(P          R      mAP50  mAP50-95): 100%|██████████| 2/2 [00:01<00:00,  1.27it/s]\n"
          ]
        },
        {
          "output_type": "stream",
          "name": "stdout",
          "text": [
            "                   all         35        628      0.403      0.571        0.5       0.38\n",
            "\n",
            "      Epoch    GPU_mem   box_loss   cls_loss   dfl_loss  Instances       Size\n"
          ]
        },
        {
          "output_type": "stream",
          "name": "stderr",
          "text": [
            "     43/300      4.49G     0.9372      1.128      1.091        319        640: 100%|██████████| 8/8 [00:04<00:00,  1.69it/s]\n",
            "                 Class     Images  Instances      Box(P          R      mAP50  mAP50-95): 100%|██████████| 2/2 [00:00<00:00,  2.36it/s]"
          ]
        },
        {
          "output_type": "stream",
          "name": "stdout",
          "text": [
            "                   all         35        628      0.396      0.517      0.471      0.357\n"
          ]
        },
        {
          "output_type": "stream",
          "name": "stderr",
          "text": [
            "\n"
          ]
        },
        {
          "output_type": "stream",
          "name": "stdout",
          "text": [
            "\n",
            "      Epoch    GPU_mem   box_loss   cls_loss   dfl_loss  Instances       Size\n"
          ]
        },
        {
          "output_type": "stream",
          "name": "stderr",
          "text": [
            "     44/300       4.5G     0.9636      1.135      1.123        269        640: 100%|██████████| 8/8 [00:03<00:00,  2.37it/s]\n",
            "                 Class     Images  Instances      Box(P          R      mAP50  mAP50-95): 100%|██████████| 2/2 [00:01<00:00,  1.77it/s]"
          ]
        },
        {
          "output_type": "stream",
          "name": "stdout",
          "text": [
            "                   all         35        628       0.38      0.521       0.46      0.345\n"
          ]
        },
        {
          "output_type": "stream",
          "name": "stderr",
          "text": [
            "\n"
          ]
        },
        {
          "output_type": "stream",
          "name": "stdout",
          "text": [
            "\n",
            "      Epoch    GPU_mem   box_loss   cls_loss   dfl_loss  Instances       Size\n"
          ]
        },
        {
          "output_type": "stream",
          "name": "stderr",
          "text": [
            "     45/300      4.47G     0.9363      1.059       1.12        235        640: 100%|██████████| 8/8 [00:06<00:00,  1.28it/s]\n",
            "                 Class     Images  Instances      Box(P          R      mAP50  mAP50-95): 100%|██████████| 2/2 [00:01<00:00,  1.27it/s]\n"
          ]
        },
        {
          "output_type": "stream",
          "name": "stdout",
          "text": [
            "                   all         35        628      0.494      0.472      0.462       0.35\n",
            "\n",
            "      Epoch    GPU_mem   box_loss   cls_loss   dfl_loss  Instances       Size\n"
          ]
        },
        {
          "output_type": "stream",
          "name": "stderr",
          "text": [
            "     46/300      4.08G     0.9308      1.037      1.101        294        640: 100%|██████████| 8/8 [00:03<00:00,  2.29it/s]\n",
            "                 Class     Images  Instances      Box(P          R      mAP50  mAP50-95): 100%|██████████| 2/2 [00:01<00:00,  1.78it/s]"
          ]
        },
        {
          "output_type": "stream",
          "name": "stdout",
          "text": [
            "                   all         35        628      0.448      0.523      0.485      0.367\n"
          ]
        },
        {
          "output_type": "stream",
          "name": "stderr",
          "text": [
            "\n"
          ]
        },
        {
          "output_type": "stream",
          "name": "stdout",
          "text": [
            "\n",
            "      Epoch    GPU_mem   box_loss   cls_loss   dfl_loss  Instances       Size\n"
          ]
        },
        {
          "output_type": "stream",
          "name": "stderr",
          "text": [
            "     47/300      4.31G     0.9438      1.058      1.107        212        640: 100%|██████████| 8/8 [00:04<00:00,  1.68it/s]\n",
            "                 Class     Images  Instances      Box(P          R      mAP50  mAP50-95): 100%|██████████| 2/2 [00:01<00:00,  1.15it/s]\n"
          ]
        },
        {
          "output_type": "stream",
          "name": "stdout",
          "text": [
            "                   all         35        628      0.457      0.522      0.499       0.38\n",
            "\n",
            "      Epoch    GPU_mem   box_loss   cls_loss   dfl_loss  Instances       Size\n"
          ]
        },
        {
          "output_type": "stream",
          "name": "stderr",
          "text": [
            "     48/300      4.54G     0.9336      1.065      1.087        148        640: 100%|██████████| 8/8 [00:04<00:00,  1.79it/s]\n",
            "                 Class     Images  Instances      Box(P          R      mAP50  mAP50-95): 100%|██████████| 2/2 [00:01<00:00,  1.92it/s]"
          ]
        },
        {
          "output_type": "stream",
          "name": "stdout",
          "text": [
            "                   all         35        628       0.47      0.518      0.502      0.385\n"
          ]
        },
        {
          "output_type": "stream",
          "name": "stderr",
          "text": [
            "\n"
          ]
        },
        {
          "output_type": "stream",
          "name": "stdout",
          "text": [
            "\n",
            "      Epoch    GPU_mem   box_loss   cls_loss   dfl_loss  Instances       Size\n"
          ]
        },
        {
          "output_type": "stream",
          "name": "stderr",
          "text": [
            "     49/300      3.87G     0.9133      1.005      1.101        291        640: 100%|██████████| 8/8 [00:03<00:00,  2.28it/s]\n",
            "                 Class     Images  Instances      Box(P          R      mAP50  mAP50-95): 100%|██████████| 2/2 [00:01<00:00,  1.33it/s]\n"
          ]
        },
        {
          "output_type": "stream",
          "name": "stdout",
          "text": [
            "                   all         35        628      0.495      0.473       0.51      0.396\n",
            "\n",
            "      Epoch    GPU_mem   box_loss   cls_loss   dfl_loss  Instances       Size\n"
          ]
        },
        {
          "output_type": "stream",
          "name": "stderr",
          "text": [
            "     50/300      4.51G     0.9061     0.9975      1.062        251        640: 100%|██████████| 8/8 [00:06<00:00,  1.30it/s]\n",
            "                 Class     Images  Instances      Box(P          R      mAP50  mAP50-95): 100%|██████████| 2/2 [00:01<00:00,  1.82it/s]\n"
          ]
        },
        {
          "output_type": "stream",
          "name": "stdout",
          "text": [
            "                   all         35        628      0.474      0.491      0.503      0.386\n",
            "\n",
            "      Epoch    GPU_mem   box_loss   cls_loss   dfl_loss  Instances       Size\n"
          ]
        },
        {
          "output_type": "stream",
          "name": "stderr",
          "text": [
            "     51/300      4.35G     0.9419      1.056      1.114        170        640: 100%|██████████| 8/8 [00:03<00:00,  2.20it/s]\n",
            "                 Class     Images  Instances      Box(P          R      mAP50  mAP50-95): 100%|██████████| 2/2 [00:01<00:00,  1.92it/s]\n"
          ]
        },
        {
          "output_type": "stream",
          "name": "stdout",
          "text": [
            "                   all         35        628      0.509      0.486      0.498      0.386\n",
            "\n",
            "      Epoch    GPU_mem   box_loss   cls_loss   dfl_loss  Instances       Size\n"
          ]
        },
        {
          "output_type": "stream",
          "name": "stderr",
          "text": [
            "     52/300      4.43G      0.951      1.042      1.117        184        640: 100%|██████████| 8/8 [00:06<00:00,  1.28it/s]\n",
            "                 Class     Images  Instances      Box(P          R      mAP50  mAP50-95): 100%|██████████| 2/2 [00:01<00:00,  1.14it/s]\n"
          ]
        },
        {
          "output_type": "stream",
          "name": "stdout",
          "text": [
            "                   all         35        628      0.514      0.476      0.492      0.383\n",
            "\n",
            "      Epoch    GPU_mem   box_loss   cls_loss   dfl_loss  Instances       Size\n"
          ]
        },
        {
          "output_type": "stream",
          "name": "stderr",
          "text": [
            "     53/300      4.55G     0.9493      1.012      1.098        295        640: 100%|██████████| 8/8 [00:03<00:00,  2.23it/s]\n",
            "                 Class     Images  Instances      Box(P          R      mAP50  mAP50-95): 100%|██████████| 2/2 [00:01<00:00,  1.95it/s]"
          ]
        },
        {
          "output_type": "stream",
          "name": "stdout",
          "text": [
            "                   all         35        628      0.526      0.475      0.496      0.378\n"
          ]
        },
        {
          "output_type": "stream",
          "name": "stderr",
          "text": [
            "\n"
          ]
        },
        {
          "output_type": "stream",
          "name": "stdout",
          "text": [
            "\n",
            "      Epoch    GPU_mem   box_loss   cls_loss   dfl_loss  Instances       Size\n"
          ]
        },
        {
          "output_type": "stream",
          "name": "stderr",
          "text": [
            "     54/300      4.35G     0.9099     0.9842      1.095        162        640: 100%|██████████| 8/8 [00:04<00:00,  1.97it/s]\n",
            "                 Class     Images  Instances      Box(P          R      mAP50  mAP50-95): 100%|██████████| 2/2 [00:01<00:00,  1.50it/s]\n"
          ]
        },
        {
          "output_type": "stream",
          "name": "stdout",
          "text": [
            "                   all         35        628      0.533        0.5      0.495       0.38\n",
            "\n",
            "      Epoch    GPU_mem   box_loss   cls_loss   dfl_loss  Instances       Size\n"
          ]
        },
        {
          "output_type": "stream",
          "name": "stderr",
          "text": [
            "     55/300      4.36G     0.9109     0.9655      1.078        229        640: 100%|██████████| 8/8 [00:04<00:00,  1.66it/s]\n",
            "                 Class     Images  Instances      Box(P          R      mAP50  mAP50-95): 100%|██████████| 2/2 [00:01<00:00,  1.75it/s]"
          ]
        },
        {
          "output_type": "stream",
          "name": "stdout",
          "text": [
            "                   all         35        628      0.402      0.579      0.487      0.374\n"
          ]
        },
        {
          "output_type": "stream",
          "name": "stderr",
          "text": [
            "\n"
          ]
        },
        {
          "output_type": "stream",
          "name": "stdout",
          "text": [
            "\n",
            "      Epoch    GPU_mem   box_loss   cls_loss   dfl_loss  Instances       Size\n"
          ]
        },
        {
          "output_type": "stream",
          "name": "stderr",
          "text": [
            "     56/300      4.35G     0.9143     0.9856      1.097        157        640: 100%|██████████| 8/8 [00:03<00:00,  2.02it/s]\n",
            "                 Class     Images  Instances      Box(P          R      mAP50  mAP50-95): 100%|██████████| 2/2 [00:00<00:00,  2.28it/s]"
          ]
        },
        {
          "output_type": "stream",
          "name": "stdout",
          "text": [
            "                   all         35        628      0.409      0.575       0.49      0.378\n"
          ]
        },
        {
          "output_type": "stream",
          "name": "stderr",
          "text": [
            "\n"
          ]
        },
        {
          "output_type": "stream",
          "name": "stdout",
          "text": [
            "\n",
            "      Epoch    GPU_mem   box_loss   cls_loss   dfl_loss  Instances       Size\n"
          ]
        },
        {
          "output_type": "stream",
          "name": "stderr",
          "text": [
            "     57/300      4.45G     0.9159     0.9533      1.085        262        640: 100%|██████████| 8/8 [00:06<00:00,  1.26it/s]\n",
            "                 Class     Images  Instances      Box(P          R      mAP50  mAP50-95): 100%|██████████| 2/2 [00:00<00:00,  2.56it/s]"
          ]
        },
        {
          "output_type": "stream",
          "name": "stdout",
          "text": [
            "                   all         35        628      0.432      0.624      0.506      0.386\n"
          ]
        },
        {
          "output_type": "stream",
          "name": "stderr",
          "text": [
            "\n"
          ]
        },
        {
          "output_type": "stream",
          "name": "stdout",
          "text": [
            "\n",
            "      Epoch    GPU_mem   box_loss   cls_loss   dfl_loss  Instances       Size\n"
          ]
        },
        {
          "output_type": "stream",
          "name": "stderr",
          "text": [
            "     58/300      4.42G     0.8842     0.9164      1.048        225        640: 100%|██████████| 8/8 [00:03<00:00,  2.11it/s]\n",
            "                 Class     Images  Instances      Box(P          R      mAP50  mAP50-95): 100%|██████████| 2/2 [00:01<00:00,  1.93it/s]"
          ]
        },
        {
          "output_type": "stream",
          "name": "stdout",
          "text": [
            "                   all         35        628      0.413      0.589      0.506      0.384\n"
          ]
        },
        {
          "output_type": "stream",
          "name": "stderr",
          "text": [
            "\n"
          ]
        },
        {
          "output_type": "stream",
          "name": "stdout",
          "text": [
            "\n",
            "      Epoch    GPU_mem   box_loss   cls_loss   dfl_loss  Instances       Size\n"
          ]
        },
        {
          "output_type": "stream",
          "name": "stderr",
          "text": [
            "     59/300      4.53G     0.8982     0.9355       1.08        173        640: 100%|██████████| 8/8 [00:05<00:00,  1.48it/s]\n",
            "                 Class     Images  Instances      Box(P          R      mAP50  mAP50-95): 100%|██████████| 2/2 [00:01<00:00,  1.16it/s]\n"
          ]
        },
        {
          "output_type": "stream",
          "name": "stdout",
          "text": [
            "                   all         35        628      0.433      0.602      0.517      0.397\n",
            "\n",
            "      Epoch    GPU_mem   box_loss   cls_loss   dfl_loss  Instances       Size\n"
          ]
        },
        {
          "output_type": "stream",
          "name": "stderr",
          "text": [
            "     60/300      4.71G     0.8795     0.9185      1.055        255        640: 100%|██████████| 8/8 [00:03<00:00,  2.19it/s]\n",
            "                 Class     Images  Instances      Box(P          R      mAP50  mAP50-95): 100%|██████████| 2/2 [00:00<00:00,  2.06it/s]\n"
          ]
        },
        {
          "output_type": "stream",
          "name": "stdout",
          "text": [
            "                   all         35        628        0.5      0.586      0.522        0.4\n",
            "\n",
            "      Epoch    GPU_mem   box_loss   cls_loss   dfl_loss  Instances       Size\n"
          ]
        },
        {
          "output_type": "stream",
          "name": "stderr",
          "text": [
            "     61/300      4.53G     0.9076     0.9586      1.093        222        640: 100%|██████████| 8/8 [00:03<00:00,  2.45it/s]\n",
            "                 Class     Images  Instances      Box(P          R      mAP50  mAP50-95): 100%|██████████| 2/2 [00:01<00:00,  1.39it/s]"
          ]
        },
        {
          "output_type": "stream",
          "name": "stdout",
          "text": [
            "                   all         35        628      0.444      0.574      0.511      0.389\n"
          ]
        },
        {
          "output_type": "stream",
          "name": "stderr",
          "text": [
            "\n"
          ]
        },
        {
          "output_type": "stream",
          "name": "stdout",
          "text": [
            "\n",
            "      Epoch    GPU_mem   box_loss   cls_loss   dfl_loss  Instances       Size\n"
          ]
        },
        {
          "output_type": "stream",
          "name": "stderr",
          "text": [
            "     62/300      4.42G     0.8823     0.9001      1.076        274        640: 100%|██████████| 8/8 [00:05<00:00,  1.57it/s]\n",
            "                 Class     Images  Instances      Box(P          R      mAP50  mAP50-95): 100%|██████████| 2/2 [00:01<00:00,  1.79it/s]\n"
          ]
        },
        {
          "output_type": "stream",
          "name": "stdout",
          "text": [
            "                   all         35        628      0.473      0.532      0.515      0.398\n",
            "\n",
            "      Epoch    GPU_mem   box_loss   cls_loss   dfl_loss  Instances       Size\n"
          ]
        },
        {
          "output_type": "stream",
          "name": "stderr",
          "text": [
            "     63/300      4.59G     0.8988     0.9419       1.08        220        640: 100%|██████████| 8/8 [00:03<00:00,  2.50it/s]\n",
            "                 Class     Images  Instances      Box(P          R      mAP50  mAP50-95): 100%|██████████| 2/2 [00:01<00:00,  1.83it/s]\n"
          ]
        },
        {
          "output_type": "stream",
          "name": "stdout",
          "text": [
            "                   all         35        628      0.481      0.503      0.502      0.387\n",
            "\n",
            "      Epoch    GPU_mem   box_loss   cls_loss   dfl_loss  Instances       Size\n"
          ]
        },
        {
          "output_type": "stream",
          "name": "stderr",
          "text": [
            "     64/300      4.53G     0.8735      0.907      1.067        199        640: 100%|██████████| 8/8 [00:05<00:00,  1.49it/s]\n",
            "                 Class     Images  Instances      Box(P          R      mAP50  mAP50-95): 100%|██████████| 2/2 [00:01<00:00,  1.21it/s]\n"
          ]
        },
        {
          "output_type": "stream",
          "name": "stdout",
          "text": [
            "                   all         35        628      0.431      0.568      0.501      0.383\n",
            "\n",
            "      Epoch    GPU_mem   box_loss   cls_loss   dfl_loss  Instances       Size\n"
          ]
        },
        {
          "output_type": "stream",
          "name": "stderr",
          "text": [
            "     65/300      4.61G     0.8817     0.8891      1.078        213        640: 100%|██████████| 8/8 [00:03<00:00,  2.26it/s]\n",
            "                 Class     Images  Instances      Box(P          R      mAP50  mAP50-95): 100%|██████████| 2/2 [00:01<00:00,  1.69it/s]\n"
          ]
        },
        {
          "output_type": "stream",
          "name": "stdout",
          "text": [
            "                   all         35        628      0.427        0.6      0.512      0.393\n",
            "\n",
            "      Epoch    GPU_mem   box_loss   cls_loss   dfl_loss  Instances       Size\n"
          ]
        },
        {
          "output_type": "stream",
          "name": "stderr",
          "text": [
            "     66/300      4.64G     0.8624     0.8746      1.055        202        640: 100%|██████████| 8/8 [00:04<00:00,  1.79it/s]\n",
            "                 Class     Images  Instances      Box(P          R      mAP50  mAP50-95): 100%|██████████| 2/2 [00:01<00:00,  1.34it/s]\n"
          ]
        },
        {
          "output_type": "stream",
          "name": "stdout",
          "text": [
            "                   all         35        628      0.417      0.563      0.496      0.379\n",
            "\n",
            "      Epoch    GPU_mem   box_loss   cls_loss   dfl_loss  Instances       Size\n"
          ]
        },
        {
          "output_type": "stream",
          "name": "stderr",
          "text": [
            "     67/300      4.05G     0.8837     0.8927      1.073        193        640: 100%|██████████| 8/8 [00:04<00:00,  1.69it/s]\n",
            "                 Class     Images  Instances      Box(P          R      mAP50  mAP50-95): 100%|██████████| 2/2 [00:00<00:00,  2.07it/s]\n"
          ]
        },
        {
          "output_type": "stream",
          "name": "stdout",
          "text": [
            "                   all         35        628      0.454       0.54      0.497      0.383\n",
            "\n",
            "      Epoch    GPU_mem   box_loss   cls_loss   dfl_loss  Instances       Size\n"
          ]
        },
        {
          "output_type": "stream",
          "name": "stderr",
          "text": [
            "     68/300      4.54G     0.8846     0.8783      1.074        261        640: 100%|██████████| 8/8 [00:03<00:00,  2.20it/s]\n",
            "                 Class     Images  Instances      Box(P          R      mAP50  mAP50-95): 100%|██████████| 2/2 [00:00<00:00,  2.08it/s]"
          ]
        },
        {
          "output_type": "stream",
          "name": "stdout",
          "text": [
            "                   all         35        628       0.44      0.591      0.511      0.396\n"
          ]
        },
        {
          "output_type": "stream",
          "name": "stderr",
          "text": [
            "\n"
          ]
        },
        {
          "output_type": "stream",
          "name": "stdout",
          "text": [
            "\n",
            "      Epoch    GPU_mem   box_loss   cls_loss   dfl_loss  Instances       Size\n"
          ]
        },
        {
          "output_type": "stream",
          "name": "stderr",
          "text": [
            "     69/300      4.05G     0.8666     0.8638      1.062        261        640: 100%|██████████| 8/8 [00:06<00:00,  1.32it/s]\n",
            "                 Class     Images  Instances      Box(P          R      mAP50  mAP50-95): 100%|██████████| 2/2 [00:01<00:00,  1.22it/s]\n"
          ]
        },
        {
          "output_type": "stream",
          "name": "stdout",
          "text": [
            "                   all         35        628      0.465      0.568      0.529      0.407\n",
            "\n",
            "      Epoch    GPU_mem   box_loss   cls_loss   dfl_loss  Instances       Size\n"
          ]
        },
        {
          "output_type": "stream",
          "name": "stderr",
          "text": [
            "     70/300      4.43G     0.8881     0.8664      1.073        244        640: 100%|██████████| 8/8 [00:03<00:00,  2.19it/s]\n",
            "                 Class     Images  Instances      Box(P          R      mAP50  mAP50-95): 100%|██████████| 2/2 [00:01<00:00,  1.56it/s]"
          ]
        },
        {
          "output_type": "stream",
          "name": "stdout",
          "text": [
            "                   all         35        628      0.463      0.555      0.535      0.409\n"
          ]
        },
        {
          "output_type": "stream",
          "name": "stderr",
          "text": [
            "\n"
          ]
        },
        {
          "output_type": "stream",
          "name": "stdout",
          "text": [
            "\n",
            "      Epoch    GPU_mem   box_loss   cls_loss   dfl_loss  Instances       Size\n"
          ]
        },
        {
          "output_type": "stream",
          "name": "stderr",
          "text": [
            "     71/300      3.89G     0.8561     0.8463      1.047        310        640: 100%|██████████| 8/8 [00:04<00:00,  1.66it/s]\n",
            "                 Class     Images  Instances      Box(P          R      mAP50  mAP50-95): 100%|██████████| 2/2 [00:01<00:00,  1.19it/s]\n"
          ]
        },
        {
          "output_type": "stream",
          "name": "stdout",
          "text": [
            "                   all         35        628      0.444      0.569      0.538       0.41\n",
            "\n",
            "      Epoch    GPU_mem   box_loss   cls_loss   dfl_loss  Instances       Size\n"
          ]
        },
        {
          "output_type": "stream",
          "name": "stderr",
          "text": [
            "     72/300      4.05G      0.859     0.8351      1.054        195        640: 100%|██████████| 8/8 [00:04<00:00,  1.92it/s]\n",
            "                 Class     Images  Instances      Box(P          R      mAP50  mAP50-95): 100%|██████████| 2/2 [00:01<00:00,  1.83it/s]\n"
          ]
        },
        {
          "output_type": "stream",
          "name": "stdout",
          "text": [
            "                   all         35        628      0.544      0.503      0.534      0.408\n",
            "\n",
            "      Epoch    GPU_mem   box_loss   cls_loss   dfl_loss  Instances       Size\n"
          ]
        },
        {
          "output_type": "stream",
          "name": "stderr",
          "text": [
            "     73/300      4.51G     0.8422     0.8071      1.046        260        640: 100%|██████████| 8/8 [00:03<00:00,  2.05it/s]\n",
            "                 Class     Images  Instances      Box(P          R      mAP50  mAP50-95): 100%|██████████| 2/2 [00:01<00:00,  1.63it/s]\n"
          ]
        },
        {
          "output_type": "stream",
          "name": "stdout",
          "text": [
            "                   all         35        628      0.473      0.612      0.546      0.415\n",
            "\n",
            "      Epoch    GPU_mem   box_loss   cls_loss   dfl_loss  Instances       Size\n"
          ]
        },
        {
          "output_type": "stream",
          "name": "stderr",
          "text": [
            "     74/300      4.93G     0.8627     0.8273      1.062        224        640: 100%|██████████| 8/8 [00:06<00:00,  1.33it/s]\n",
            "                 Class     Images  Instances      Box(P          R      mAP50  mAP50-95): 100%|██████████| 2/2 [00:01<00:00,  1.85it/s]\n"
          ]
        },
        {
          "output_type": "stream",
          "name": "stdout",
          "text": [
            "                   all         35        628      0.474      0.605      0.551      0.421\n",
            "\n",
            "      Epoch    GPU_mem   box_loss   cls_loss   dfl_loss  Instances       Size\n"
          ]
        },
        {
          "output_type": "stream",
          "name": "stderr",
          "text": [
            "     75/300      4.03G      0.854     0.8144      1.048        181        640: 100%|██████████| 8/8 [00:03<00:00,  2.27it/s]\n",
            "                 Class     Images  Instances      Box(P          R      mAP50  mAP50-95): 100%|██████████| 2/2 [00:01<00:00,  1.86it/s]\n"
          ]
        },
        {
          "output_type": "stream",
          "name": "stdout",
          "text": [
            "                   all         35        628      0.473      0.588      0.541      0.414\n",
            "\n",
            "      Epoch    GPU_mem   box_loss   cls_loss   dfl_loss  Instances       Size\n"
          ]
        },
        {
          "output_type": "stream",
          "name": "stderr",
          "text": [
            "     76/300      4.75G     0.8397     0.8183      1.051        230        640: 100%|██████████| 8/8 [00:05<00:00,  1.35it/s]\n",
            "                 Class     Images  Instances      Box(P          R      mAP50  mAP50-95): 100%|██████████| 2/2 [00:01<00:00,  1.25it/s]\n"
          ]
        },
        {
          "output_type": "stream",
          "name": "stdout",
          "text": [
            "                   all         35        628      0.536      0.533       0.54      0.412\n",
            "\n",
            "      Epoch    GPU_mem   box_loss   cls_loss   dfl_loss  Instances       Size\n"
          ]
        },
        {
          "output_type": "stream",
          "name": "stderr",
          "text": [
            "     77/300      4.37G     0.8476     0.8047      1.045        273        640: 100%|██████████| 8/8 [00:03<00:00,  2.14it/s]\n",
            "                 Class     Images  Instances      Box(P          R      mAP50  mAP50-95): 100%|██████████| 2/2 [00:01<00:00,  1.78it/s]\n"
          ]
        },
        {
          "output_type": "stream",
          "name": "stdout",
          "text": [
            "                   all         35        628      0.525       0.53      0.545      0.417\n",
            "\n",
            "      Epoch    GPU_mem   box_loss   cls_loss   dfl_loss  Instances       Size\n"
          ]
        },
        {
          "output_type": "stream",
          "name": "stderr",
          "text": [
            "     78/300      4.29G     0.8349     0.7908      1.053        222        640: 100%|██████████| 8/8 [00:04<00:00,  1.79it/s]\n",
            "                 Class     Images  Instances      Box(P          R      mAP50  mAP50-95): 100%|██████████| 2/2 [00:01<00:00,  1.44it/s]\n"
          ]
        },
        {
          "output_type": "stream",
          "name": "stdout",
          "text": [
            "                   all         35        628       0.48      0.576      0.556      0.431\n",
            "\n",
            "      Epoch    GPU_mem   box_loss   cls_loss   dfl_loss  Instances       Size\n"
          ]
        },
        {
          "output_type": "stream",
          "name": "stderr",
          "text": [
            "     79/300      4.35G      0.838     0.7888      1.048        270        640: 100%|██████████| 8/8 [00:04<00:00,  1.73it/s]\n",
            "                 Class     Images  Instances      Box(P          R      mAP50  mAP50-95): 100%|██████████| 2/2 [00:01<00:00,  1.98it/s]\n"
          ]
        },
        {
          "output_type": "stream",
          "name": "stdout",
          "text": [
            "                   all         35        628      0.474      0.589      0.543      0.422\n",
            "\n",
            "      Epoch    GPU_mem   box_loss   cls_loss   dfl_loss  Instances       Size\n"
          ]
        },
        {
          "output_type": "stream",
          "name": "stderr",
          "text": [
            "     80/300      4.03G     0.8215     0.7876       1.03        166        640: 100%|██████████| 8/8 [00:03<00:00,  2.20it/s]\n",
            "                 Class     Images  Instances      Box(P          R      mAP50  mAP50-95): 100%|██████████| 2/2 [00:01<00:00,  1.93it/s]\n"
          ]
        },
        {
          "output_type": "stream",
          "name": "stdout",
          "text": [
            "                   all         35        628       0.51      0.568      0.528      0.408\n",
            "\n",
            "      Epoch    GPU_mem   box_loss   cls_loss   dfl_loss  Instances       Size\n"
          ]
        },
        {
          "output_type": "stream",
          "name": "stderr",
          "text": [
            "     81/300      4.35G     0.8175     0.8025       1.02        213        640: 100%|██████████| 8/8 [00:06<00:00,  1.33it/s]\n",
            "                 Class     Images  Instances      Box(P          R      mAP50  mAP50-95): 100%|██████████| 2/2 [00:01<00:00,  1.22it/s]\n"
          ]
        },
        {
          "output_type": "stream",
          "name": "stdout",
          "text": [
            "                   all         35        628      0.488      0.571      0.536      0.412\n",
            "\n",
            "      Epoch    GPU_mem   box_loss   cls_loss   dfl_loss  Instances       Size\n"
          ]
        },
        {
          "output_type": "stream",
          "name": "stderr",
          "text": [
            "     82/300      4.74G     0.8126     0.7979      1.036        259        640: 100%|██████████| 8/8 [00:03<00:00,  2.22it/s]\n",
            "                 Class     Images  Instances      Box(P          R      mAP50  mAP50-95): 100%|██████████| 2/2 [00:00<00:00,  2.20it/s]\n"
          ]
        },
        {
          "output_type": "stream",
          "name": "stdout",
          "text": [
            "                   all         35        628      0.453      0.589      0.539      0.417\n",
            "\n",
            "      Epoch    GPU_mem   box_loss   cls_loss   dfl_loss  Instances       Size\n"
          ]
        },
        {
          "output_type": "stream",
          "name": "stderr",
          "text": [
            "     83/300      4.68G     0.8296     0.8038      1.043        203        640: 100%|██████████| 8/8 [00:05<00:00,  1.57it/s]\n",
            "                 Class     Images  Instances      Box(P          R      mAP50  mAP50-95): 100%|██████████| 2/2 [00:01<00:00,  1.25it/s]\n"
          ]
        },
        {
          "output_type": "stream",
          "name": "stdout",
          "text": [
            "                   all         35        628       0.44      0.611      0.546      0.421\n",
            "\n",
            "      Epoch    GPU_mem   box_loss   cls_loss   dfl_loss  Instances       Size\n"
          ]
        },
        {
          "output_type": "stream",
          "name": "stderr",
          "text": [
            "     84/300      4.53G     0.8373     0.7754      1.039        273        640: 100%|██████████| 8/8 [00:03<00:00,  2.21it/s]\n",
            "                 Class     Images  Instances      Box(P          R      mAP50  mAP50-95): 100%|██████████| 2/2 [00:01<00:00,  1.74it/s]"
          ]
        },
        {
          "output_type": "stream",
          "name": "stdout",
          "text": [
            "                   all         35        628      0.448      0.619      0.555      0.425\n"
          ]
        },
        {
          "output_type": "stream",
          "name": "stderr",
          "text": [
            "\n"
          ]
        },
        {
          "output_type": "stream",
          "name": "stdout",
          "text": [
            "\n",
            "      Epoch    GPU_mem   box_loss   cls_loss   dfl_loss  Instances       Size\n"
          ]
        },
        {
          "output_type": "stream",
          "name": "stderr",
          "text": [
            "     85/300      4.43G     0.8231     0.7672      1.026        362        640: 100%|██████████| 8/8 [00:04<00:00,  1.95it/s]\n",
            "                 Class     Images  Instances      Box(P          R      mAP50  mAP50-95): 100%|██████████| 2/2 [00:01<00:00,  1.38it/s]\n"
          ]
        },
        {
          "output_type": "stream",
          "name": "stdout",
          "text": [
            "                   all         35        628      0.464        0.6      0.557      0.428\n",
            "\n",
            "      Epoch    GPU_mem   box_loss   cls_loss   dfl_loss  Instances       Size\n"
          ]
        },
        {
          "output_type": "stream",
          "name": "stderr",
          "text": [
            "     86/300      4.77G     0.8278     0.7714      1.027        271        640: 100%|██████████| 8/8 [00:05<00:00,  1.38it/s]\n",
            "                 Class     Images  Instances      Box(P          R      mAP50  mAP50-95): 100%|██████████| 2/2 [00:00<00:00,  2.15it/s]"
          ]
        },
        {
          "output_type": "stream",
          "name": "stdout",
          "text": [
            "                   all         35        628      0.514      0.557      0.545      0.418\n"
          ]
        },
        {
          "output_type": "stream",
          "name": "stderr",
          "text": [
            "\n"
          ]
        },
        {
          "output_type": "stream",
          "name": "stdout",
          "text": [
            "\n",
            "      Epoch    GPU_mem   box_loss   cls_loss   dfl_loss  Instances       Size\n"
          ]
        },
        {
          "output_type": "stream",
          "name": "stderr",
          "text": [
            "     87/300      4.55G     0.7914     0.7421       1.02        271        640: 100%|██████████| 8/8 [00:03<00:00,  2.30it/s]\n",
            "                 Class     Images  Instances      Box(P          R      mAP50  mAP50-95): 100%|██████████| 2/2 [00:01<00:00,  1.87it/s]"
          ]
        },
        {
          "output_type": "stream",
          "name": "stdout",
          "text": [
            "                   all         35        628      0.473      0.596      0.524      0.404\n"
          ]
        },
        {
          "output_type": "stream",
          "name": "stderr",
          "text": [
            "\n"
          ]
        },
        {
          "output_type": "stream",
          "name": "stdout",
          "text": [
            "\n",
            "      Epoch    GPU_mem   box_loss   cls_loss   dfl_loss  Instances       Size\n"
          ]
        },
        {
          "output_type": "stream",
          "name": "stderr",
          "text": [
            "     88/300      4.58G     0.8089     0.7612      1.036        174        640: 100%|██████████| 8/8 [00:06<00:00,  1.33it/s]\n",
            "                 Class     Images  Instances      Box(P          R      mAP50  mAP50-95): 100%|██████████| 2/2 [00:01<00:00,  1.30it/s]\n"
          ]
        },
        {
          "output_type": "stream",
          "name": "stdout",
          "text": [
            "                   all         35        628        0.5      0.567      0.515      0.397\n",
            "\n",
            "      Epoch    GPU_mem   box_loss   cls_loss   dfl_loss  Instances       Size\n"
          ]
        },
        {
          "output_type": "stream",
          "name": "stderr",
          "text": [
            "     89/300      4.38G     0.8164     0.7543      1.051        199        640: 100%|██████████| 8/8 [00:03<00:00,  2.21it/s]\n",
            "                 Class     Images  Instances      Box(P          R      mAP50  mAP50-95): 100%|██████████| 2/2 [00:01<00:00,  1.84it/s]"
          ]
        },
        {
          "output_type": "stream",
          "name": "stdout",
          "text": [
            "                   all         35        628      0.532      0.547      0.525      0.406\n"
          ]
        },
        {
          "output_type": "stream",
          "name": "stderr",
          "text": [
            "\n"
          ]
        },
        {
          "output_type": "stream",
          "name": "stdout",
          "text": [
            "\n",
            "      Epoch    GPU_mem   box_loss   cls_loss   dfl_loss  Instances       Size\n"
          ]
        },
        {
          "output_type": "stream",
          "name": "stderr",
          "text": [
            "     90/300      4.52G     0.7851     0.7419      1.038        149        640: 100%|██████████| 8/8 [00:04<00:00,  1.91it/s]\n",
            "                 Class     Images  Instances      Box(P          R      mAP50  mAP50-95): 100%|██████████| 2/2 [00:01<00:00,  1.42it/s]\n"
          ]
        },
        {
          "output_type": "stream",
          "name": "stdout",
          "text": [
            "                   all         35        628      0.535      0.596      0.546      0.423\n",
            "\n",
            "      Epoch    GPU_mem   box_loss   cls_loss   dfl_loss  Instances       Size\n"
          ]
        },
        {
          "output_type": "stream",
          "name": "stderr",
          "text": [
            "     91/300      4.49G     0.7916     0.7399      1.027        269        640: 100%|██████████| 8/8 [00:05<00:00,  1.58it/s]\n",
            "                 Class     Images  Instances      Box(P          R      mAP50  mAP50-95): 100%|██████████| 2/2 [00:01<00:00,  1.74it/s]"
          ]
        },
        {
          "output_type": "stream",
          "name": "stdout",
          "text": [
            "                   all         35        628      0.491      0.597       0.54      0.416\n"
          ]
        },
        {
          "output_type": "stream",
          "name": "stderr",
          "text": [
            "\n"
          ]
        },
        {
          "output_type": "stream",
          "name": "stdout",
          "text": [
            "\n",
            "      Epoch    GPU_mem   box_loss   cls_loss   dfl_loss  Instances       Size\n"
          ]
        },
        {
          "output_type": "stream",
          "name": "stderr",
          "text": [
            "     92/300      4.03G       0.79     0.7399      1.031        160        640: 100%|██████████| 8/8 [00:03<00:00,  2.17it/s]\n",
            "                 Class     Images  Instances      Box(P          R      mAP50  mAP50-95): 100%|██████████| 2/2 [00:00<00:00,  2.04it/s]\n"
          ]
        },
        {
          "output_type": "stream",
          "name": "stdout",
          "text": [
            "                   all         35        628      0.495      0.569      0.534       0.41\n",
            "\n",
            "      Epoch    GPU_mem   box_loss   cls_loss   dfl_loss  Instances       Size\n"
          ]
        },
        {
          "output_type": "stream",
          "name": "stderr",
          "text": [
            "     93/300      4.07G     0.7934     0.7348      1.024        234        640: 100%|██████████| 8/8 [00:06<00:00,  1.30it/s]\n",
            "                 Class     Images  Instances      Box(P          R      mAP50  mAP50-95): 100%|██████████| 2/2 [00:01<00:00,  1.32it/s]"
          ]
        },
        {
          "output_type": "stream",
          "name": "stdout",
          "text": [
            "                   all         35        628      0.511      0.563      0.527      0.403\n"
          ]
        },
        {
          "output_type": "stream",
          "name": "stderr",
          "text": [
            "\n"
          ]
        },
        {
          "output_type": "stream",
          "name": "stdout",
          "text": [
            "\n",
            "      Epoch    GPU_mem   box_loss   cls_loss   dfl_loss  Instances       Size\n"
          ]
        },
        {
          "output_type": "stream",
          "name": "stderr",
          "text": [
            "     94/300      4.53G     0.8001     0.7565      1.031        231        640: 100%|██████████| 8/8 [00:03<00:00,  2.23it/s]\n",
            "                 Class     Images  Instances      Box(P          R      mAP50  mAP50-95): 100%|██████████| 2/2 [00:00<00:00,  2.01it/s]\n"
          ]
        },
        {
          "output_type": "stream",
          "name": "stdout",
          "text": [
            "                   all         35        628      0.504       0.54      0.524      0.399\n",
            "\n",
            "      Epoch    GPU_mem   box_loss   cls_loss   dfl_loss  Instances       Size\n"
          ]
        },
        {
          "output_type": "stream",
          "name": "stderr",
          "text": [
            "     95/300      4.72G     0.7865     0.7293      1.009        211        640: 100%|██████████| 8/8 [00:05<00:00,  1.54it/s]\n",
            "                 Class     Images  Instances      Box(P          R      mAP50  mAP50-95): 100%|██████████| 2/2 [00:01<00:00,  1.34it/s]\n"
          ]
        },
        {
          "output_type": "stream",
          "name": "stdout",
          "text": [
            "                   all         35        628      0.457      0.609      0.525      0.399\n",
            "\n",
            "      Epoch    GPU_mem   box_loss   cls_loss   dfl_loss  Instances       Size\n"
          ]
        },
        {
          "output_type": "stream",
          "name": "stderr",
          "text": [
            "     96/300      4.33G     0.7835     0.7254      1.021        195        640: 100%|██████████| 8/8 [00:03<00:00,  2.02it/s]\n",
            "                 Class     Images  Instances      Box(P          R      mAP50  mAP50-95): 100%|██████████| 2/2 [00:00<00:00,  2.06it/s]\n"
          ]
        },
        {
          "output_type": "stream",
          "name": "stdout",
          "text": [
            "                   all         35        628      0.477      0.555      0.526      0.403\n",
            "\n",
            "      Epoch    GPU_mem   box_loss   cls_loss   dfl_loss  Instances       Size\n"
          ]
        },
        {
          "output_type": "stream",
          "name": "stderr",
          "text": [
            "     97/300      4.82G        0.8     0.7183      1.014        269        640: 100%|██████████| 8/8 [00:03<00:00,  2.30it/s]\n",
            "                 Class     Images  Instances      Box(P          R      mAP50  mAP50-95): 100%|██████████| 2/2 [00:01<00:00,  1.45it/s]\n"
          ]
        },
        {
          "output_type": "stream",
          "name": "stdout",
          "text": [
            "                   all         35        628      0.488      0.553      0.536      0.409\n",
            "\n",
            "      Epoch    GPU_mem   box_loss   cls_loss   dfl_loss  Instances       Size\n"
          ]
        },
        {
          "output_type": "stream",
          "name": "stderr",
          "text": [
            "     98/300      4.45G      0.811      0.746      1.036        199        640: 100%|██████████| 8/8 [00:06<00:00,  1.30it/s]\n",
            "                 Class     Images  Instances      Box(P          R      mAP50  mAP50-95): 100%|██████████| 2/2 [00:00<00:00,  2.27it/s]\n"
          ]
        },
        {
          "output_type": "stream",
          "name": "stdout",
          "text": [
            "                   all         35        628      0.504      0.565      0.557      0.431\n",
            "\n",
            "      Epoch    GPU_mem   box_loss   cls_loss   dfl_loss  Instances       Size\n"
          ]
        },
        {
          "output_type": "stream",
          "name": "stderr",
          "text": [
            "     99/300      4.53G     0.7813     0.7254      1.006        270        640: 100%|██████████| 8/8 [00:03<00:00,  2.16it/s]\n",
            "                 Class     Images  Instances      Box(P          R      mAP50  mAP50-95): 100%|██████████| 2/2 [00:01<00:00,  1.82it/s]"
          ]
        },
        {
          "output_type": "stream",
          "name": "stdout",
          "text": [
            "                   all         35        628       0.47      0.613      0.549      0.429\n"
          ]
        },
        {
          "output_type": "stream",
          "name": "stderr",
          "text": [
            "\n"
          ]
        },
        {
          "output_type": "stream",
          "name": "stdout",
          "text": [
            "\n",
            "      Epoch    GPU_mem   box_loss   cls_loss   dfl_loss  Instances       Size\n"
          ]
        },
        {
          "output_type": "stream",
          "name": "stderr",
          "text": [
            "    100/300      4.37G     0.7675     0.7153      1.012        243        640: 100%|██████████| 8/8 [00:05<00:00,  1.37it/s]\n",
            "                 Class     Images  Instances      Box(P          R      mAP50  mAP50-95): 100%|██████████| 2/2 [00:01<00:00,  1.18it/s]\n"
          ]
        },
        {
          "output_type": "stream",
          "name": "stdout",
          "text": [
            "                   all         35        628      0.558      0.544      0.547       0.42\n",
            "\n",
            "      Epoch    GPU_mem   box_loss   cls_loss   dfl_loss  Instances       Size\n"
          ]
        },
        {
          "output_type": "stream",
          "name": "stderr",
          "text": [
            "    101/300      4.53G     0.7768     0.6972          1        284        640: 100%|██████████| 8/8 [00:03<00:00,  2.31it/s]\n",
            "                 Class     Images  Instances      Box(P          R      mAP50  mAP50-95): 100%|██████████| 2/2 [00:00<00:00,  2.07it/s]\n"
          ]
        },
        {
          "output_type": "stream",
          "name": "stdout",
          "text": [
            "                   all         35        628      0.509      0.579      0.538      0.413\n",
            "\n",
            "      Epoch    GPU_mem   box_loss   cls_loss   dfl_loss  Instances       Size\n"
          ]
        },
        {
          "output_type": "stream",
          "name": "stderr",
          "text": [
            "    102/300       4.6G     0.7672     0.6965      1.006        222        640: 100%|██████████| 8/8 [00:04<00:00,  1.96it/s]\n",
            "                 Class     Images  Instances      Box(P          R      mAP50  mAP50-95): 100%|██████████| 2/2 [00:01<00:00,  1.46it/s]\n"
          ]
        },
        {
          "output_type": "stream",
          "name": "stdout",
          "text": [
            "                   all         35        628      0.573      0.527      0.541      0.414\n",
            "\n",
            "      Epoch    GPU_mem   box_loss   cls_loss   dfl_loss  Instances       Size\n"
          ]
        },
        {
          "output_type": "stream",
          "name": "stderr",
          "text": [
            "    103/300      4.69G     0.7841     0.7135      1.014        239        640: 100%|██████████| 8/8 [00:04<00:00,  1.63it/s]\n",
            "                 Class     Images  Instances      Box(P          R      mAP50  mAP50-95): 100%|██████████| 2/2 [00:00<00:00,  2.06it/s]\n"
          ]
        },
        {
          "output_type": "stream",
          "name": "stdout",
          "text": [
            "                   all         35        628      0.575      0.552      0.545      0.415\n",
            "\n",
            "      Epoch    GPU_mem   box_loss   cls_loss   dfl_loss  Instances       Size\n"
          ]
        },
        {
          "output_type": "stream",
          "name": "stderr",
          "text": [
            "    104/300      4.55G     0.7684     0.6995      1.012        270        640: 100%|██████████| 8/8 [00:03<00:00,  2.34it/s]\n",
            "                 Class     Images  Instances      Box(P          R      mAP50  mAP50-95): 100%|██████████| 2/2 [00:00<00:00,  2.22it/s]\n"
          ]
        },
        {
          "output_type": "stream",
          "name": "stdout",
          "text": [
            "                   all         35        628      0.491      0.599      0.538      0.413\n",
            "\n",
            "      Epoch    GPU_mem   box_loss   cls_loss   dfl_loss  Instances       Size\n"
          ]
        },
        {
          "output_type": "stream",
          "name": "stderr",
          "text": [
            "    105/300      4.27G     0.7596      0.686     0.9871        284        640: 100%|██████████| 8/8 [00:06<00:00,  1.29it/s]\n",
            "                 Class     Images  Instances      Box(P          R      mAP50  mAP50-95): 100%|██████████| 2/2 [00:01<00:00,  1.34it/s]"
          ]
        },
        {
          "output_type": "stream",
          "name": "stdout",
          "text": [
            "                   all         35        628       0.45      0.592      0.527      0.404\n"
          ]
        },
        {
          "output_type": "stream",
          "name": "stderr",
          "text": [
            "\n"
          ]
        },
        {
          "output_type": "stream",
          "name": "stdout",
          "text": [
            "\n",
            "      Epoch    GPU_mem   box_loss   cls_loss   dfl_loss  Instances       Size\n"
          ]
        },
        {
          "output_type": "stream",
          "name": "stderr",
          "text": [
            "    106/300      4.54G     0.7637      0.697      1.009        266        640: 100%|██████████| 8/8 [00:03<00:00,  2.29it/s]\n",
            "                 Class     Images  Instances      Box(P          R      mAP50  mAP50-95): 100%|██████████| 2/2 [00:00<00:00,  2.61it/s]\n"
          ]
        },
        {
          "output_type": "stream",
          "name": "stdout",
          "text": [
            "                   all         35        628        0.5      0.584      0.526      0.402\n",
            "\n",
            "      Epoch    GPU_mem   box_loss   cls_loss   dfl_loss  Instances       Size\n"
          ]
        },
        {
          "output_type": "stream",
          "name": "stderr",
          "text": [
            "    107/300      4.41G     0.7886      0.708       1.01        248        640: 100%|██████████| 8/8 [00:05<00:00,  1.54it/s]\n",
            "                 Class     Images  Instances      Box(P          R      mAP50  mAP50-95): 100%|██████████| 2/2 [00:01<00:00,  1.26it/s]\n"
          ]
        },
        {
          "output_type": "stream",
          "name": "stdout",
          "text": [
            "                   all         35        628      0.506      0.566       0.53      0.405\n",
            "\n",
            "      Epoch    GPU_mem   box_loss   cls_loss   dfl_loss  Instances       Size\n"
          ]
        },
        {
          "output_type": "stream",
          "name": "stderr",
          "text": [
            "    108/300      4.27G     0.7315     0.6459     0.9999        279        640: 100%|██████████| 8/8 [00:03<00:00,  2.33it/s]\n",
            "                 Class     Images  Instances      Box(P          R      mAP50  mAP50-95): 100%|██████████| 2/2 [00:00<00:00,  2.09it/s]"
          ]
        },
        {
          "output_type": "stream",
          "name": "stdout",
          "text": [
            "                   all         35        628      0.498      0.567      0.544      0.415\n"
          ]
        },
        {
          "output_type": "stream",
          "name": "stderr",
          "text": [
            "\n"
          ]
        },
        {
          "output_type": "stream",
          "name": "stdout",
          "text": [
            "\n",
            "      Epoch    GPU_mem   box_loss   cls_loss   dfl_loss  Instances       Size\n"
          ]
        },
        {
          "output_type": "stream",
          "name": "stderr",
          "text": [
            "    109/300      4.74G     0.7491     0.6795     0.9992        324        640: 100%|██████████| 8/8 [00:04<00:00,  1.98it/s]\n",
            "                 Class     Images  Instances      Box(P          R      mAP50  mAP50-95): 100%|██████████| 2/2 [00:01<00:00,  1.38it/s]\n"
          ]
        },
        {
          "output_type": "stream",
          "name": "stdout",
          "text": [
            "                   all         35        628      0.493      0.593      0.552      0.425\n",
            "\n",
            "      Epoch    GPU_mem   box_loss   cls_loss   dfl_loss  Instances       Size\n"
          ]
        },
        {
          "output_type": "stream",
          "name": "stderr",
          "text": [
            "    110/300      4.51G     0.7429     0.6737     0.9844        231        640: 100%|██████████| 8/8 [00:05<00:00,  1.38it/s]\n",
            "                 Class     Images  Instances      Box(P          R      mAP50  mAP50-95): 100%|██████████| 2/2 [00:01<00:00,  1.98it/s]"
          ]
        },
        {
          "output_type": "stream",
          "name": "stdout",
          "text": [
            "                   all         35        628      0.488      0.608      0.544      0.419\n"
          ]
        },
        {
          "output_type": "stream",
          "name": "stderr",
          "text": [
            "\n"
          ]
        },
        {
          "output_type": "stream",
          "name": "stdout",
          "text": [
            "\n",
            "      Epoch    GPU_mem   box_loss   cls_loss   dfl_loss  Instances       Size\n"
          ]
        },
        {
          "output_type": "stream",
          "name": "stderr",
          "text": [
            "    111/300       4.5G     0.7433     0.6599     0.9936        277        640: 100%|██████████| 8/8 [00:04<00:00,  1.95it/s]\n",
            "                 Class     Images  Instances      Box(P          R      mAP50  mAP50-95): 100%|██████████| 2/2 [00:01<00:00,  1.91it/s]"
          ]
        },
        {
          "output_type": "stream",
          "name": "stdout",
          "text": [
            "                   all         35        628      0.483      0.605      0.549      0.425\n"
          ]
        },
        {
          "output_type": "stream",
          "name": "stderr",
          "text": [
            "\n"
          ]
        },
        {
          "output_type": "stream",
          "name": "stdout",
          "text": [
            "\n",
            "      Epoch    GPU_mem   box_loss   cls_loss   dfl_loss  Instances       Size\n"
          ]
        },
        {
          "output_type": "stream",
          "name": "stderr",
          "text": [
            "    112/300      4.37G     0.7457     0.6772      1.001        303        640: 100%|██████████| 8/8 [00:05<00:00,  1.34it/s]\n",
            "                 Class     Images  Instances      Box(P          R      mAP50  mAP50-95): 100%|██████████| 2/2 [00:01<00:00,  1.16it/s]\n"
          ]
        },
        {
          "output_type": "stream",
          "name": "stdout",
          "text": [
            "                   all         35        628      0.466      0.614      0.549      0.429\n",
            "\n",
            "      Epoch    GPU_mem   box_loss   cls_loss   dfl_loss  Instances       Size\n"
          ]
        },
        {
          "output_type": "stream",
          "name": "stderr",
          "text": [
            "    113/300      4.58G      0.755     0.6889      1.003        241        640: 100%|██████████| 8/8 [00:03<00:00,  2.12it/s]\n",
            "                 Class     Images  Instances      Box(P          R      mAP50  mAP50-95): 100%|██████████| 2/2 [00:01<00:00,  1.78it/s]\n"
          ]
        },
        {
          "output_type": "stream",
          "name": "stdout",
          "text": [
            "                   all         35        628      0.488      0.606      0.568      0.444\n",
            "\n",
            "      Epoch    GPU_mem   box_loss   cls_loss   dfl_loss  Instances       Size\n"
          ]
        },
        {
          "output_type": "stream",
          "name": "stderr",
          "text": [
            "    114/300      4.59G     0.7559     0.6772      1.011        160        640: 100%|██████████| 8/8 [00:04<00:00,  1.67it/s]\n",
            "                 Class     Images  Instances      Box(P          R      mAP50  mAP50-95): 100%|██████████| 2/2 [00:01<00:00,  1.35it/s]\n"
          ]
        },
        {
          "output_type": "stream",
          "name": "stdout",
          "text": [
            "                   all         35        628      0.515      0.597      0.572      0.444\n",
            "\n",
            "      Epoch    GPU_mem   box_loss   cls_loss   dfl_loss  Instances       Size\n"
          ]
        },
        {
          "output_type": "stream",
          "name": "stderr",
          "text": [
            "    115/300      4.57G     0.7446     0.6659     0.9906        220        640: 100%|██████████| 8/8 [00:04<00:00,  1.77it/s]\n",
            "                 Class     Images  Instances      Box(P          R      mAP50  mAP50-95): 100%|██████████| 2/2 [00:00<00:00,  2.04it/s]\n"
          ]
        },
        {
          "output_type": "stream",
          "name": "stdout",
          "text": [
            "                   all         35        628       0.54      0.554      0.574      0.448\n",
            "\n",
            "      Epoch    GPU_mem   box_loss   cls_loss   dfl_loss  Instances       Size\n"
          ]
        },
        {
          "output_type": "stream",
          "name": "stderr",
          "text": [
            "    116/300      4.35G     0.7253     0.6567     0.9932        205        640: 100%|██████████| 8/8 [00:03<00:00,  2.20it/s]\n",
            "                 Class     Images  Instances      Box(P          R      mAP50  mAP50-95): 100%|██████████| 2/2 [00:01<00:00,  1.73it/s]\n"
          ]
        },
        {
          "output_type": "stream",
          "name": "stdout",
          "text": [
            "                   all         35        628      0.616      0.518      0.562      0.435\n",
            "\n",
            "      Epoch    GPU_mem   box_loss   cls_loss   dfl_loss  Instances       Size\n"
          ]
        },
        {
          "output_type": "stream",
          "name": "stderr",
          "text": [
            "    117/300      4.43G      0.757     0.6647      1.006        259        640: 100%|██████████| 8/8 [00:06<00:00,  1.30it/s]\n",
            "                 Class     Images  Instances      Box(P          R      mAP50  mAP50-95): 100%|██████████| 2/2 [00:00<00:00,  2.03it/s]\n"
          ]
        },
        {
          "output_type": "stream",
          "name": "stdout",
          "text": [
            "                   all         35        628      0.617      0.509       0.56      0.429\n",
            "\n",
            "      Epoch    GPU_mem   box_loss   cls_loss   dfl_loss  Instances       Size\n"
          ]
        },
        {
          "output_type": "stream",
          "name": "stderr",
          "text": [
            "    118/300      4.27G     0.7464     0.6853      1.009        151        640: 100%|██████████| 8/8 [00:03<00:00,  2.15it/s]\n",
            "                 Class     Images  Instances      Box(P          R      mAP50  mAP50-95): 100%|██████████| 2/2 [00:00<00:00,  2.18it/s]\n"
          ]
        },
        {
          "output_type": "stream",
          "name": "stdout",
          "text": [
            "                   all         35        628      0.548      0.553      0.557      0.422\n",
            "\n",
            "      Epoch    GPU_mem   box_loss   cls_loss   dfl_loss  Instances       Size\n"
          ]
        },
        {
          "output_type": "stream",
          "name": "stderr",
          "text": [
            "    119/300      4.43G     0.7514     0.6578          1        243        640: 100%|██████████| 8/8 [00:06<00:00,  1.31it/s]\n",
            "                 Class     Images  Instances      Box(P          R      mAP50  mAP50-95): 100%|██████████| 2/2 [00:01<00:00,  1.14it/s]\n"
          ]
        },
        {
          "output_type": "stream",
          "name": "stdout",
          "text": [
            "                   all         35        628      0.545      0.581       0.56       0.43\n",
            "\n",
            "      Epoch    GPU_mem   box_loss   cls_loss   dfl_loss  Instances       Size\n"
          ]
        },
        {
          "output_type": "stream",
          "name": "stderr",
          "text": [
            "    120/300      4.45G     0.7282      0.643      1.003        169        640: 100%|██████████| 8/8 [00:03<00:00,  2.10it/s]\n",
            "                 Class     Images  Instances      Box(P          R      mAP50  mAP50-95): 100%|██████████| 2/2 [00:00<00:00,  2.02it/s]\n"
          ]
        },
        {
          "output_type": "stream",
          "name": "stdout",
          "text": [
            "                   all         35        628      0.577      0.566      0.575      0.441\n",
            "\n",
            "      Epoch    GPU_mem   box_loss   cls_loss   dfl_loss  Instances       Size\n"
          ]
        },
        {
          "output_type": "stream",
          "name": "stderr",
          "text": [
            "    121/300      4.01G     0.7198     0.6273     0.9853        249        640: 100%|██████████| 8/8 [00:04<00:00,  1.91it/s]\n",
            "                 Class     Images  Instances      Box(P          R      mAP50  mAP50-95): 100%|██████████| 2/2 [00:01<00:00,  1.43it/s]\n"
          ]
        },
        {
          "output_type": "stream",
          "name": "stdout",
          "text": [
            "                   all         35        628      0.572      0.576       0.58      0.447\n",
            "\n",
            "      Epoch    GPU_mem   box_loss   cls_loss   dfl_loss  Instances       Size\n"
          ]
        },
        {
          "output_type": "stream",
          "name": "stderr",
          "text": [
            "    122/300      4.36G     0.7081     0.6147     0.9753        265        640: 100%|██████████| 8/8 [00:05<00:00,  1.55it/s]\n",
            "                 Class     Images  Instances      Box(P          R      mAP50  mAP50-95): 100%|██████████| 2/2 [00:01<00:00,  1.97it/s]"
          ]
        },
        {
          "output_type": "stream",
          "name": "stdout",
          "text": [
            "                   all         35        628      0.571      0.564      0.576      0.442\n"
          ]
        },
        {
          "output_type": "stream",
          "name": "stderr",
          "text": [
            "\n"
          ]
        },
        {
          "output_type": "stream",
          "name": "stdout",
          "text": [
            "\n",
            "      Epoch    GPU_mem   box_loss   cls_loss   dfl_loss  Instances       Size\n"
          ]
        },
        {
          "output_type": "stream",
          "name": "stderr",
          "text": [
            "    123/300      4.57G     0.7235     0.6256     0.9772        272        640: 100%|██████████| 8/8 [00:03<00:00,  2.28it/s]\n",
            "                 Class     Images  Instances      Box(P          R      mAP50  mAP50-95): 100%|██████████| 2/2 [00:01<00:00,  1.80it/s]"
          ]
        },
        {
          "output_type": "stream",
          "name": "stdout",
          "text": [
            "                   all         35        628      0.526      0.583      0.567      0.434\n"
          ]
        },
        {
          "output_type": "stream",
          "name": "stderr",
          "text": [
            "\n"
          ]
        },
        {
          "output_type": "stream",
          "name": "stdout",
          "text": [
            "\n",
            "      Epoch    GPU_mem   box_loss   cls_loss   dfl_loss  Instances       Size\n"
          ]
        },
        {
          "output_type": "stream",
          "name": "stderr",
          "text": [
            "    124/300      4.35G     0.7451     0.6658      1.002        301        640: 100%|██████████| 8/8 [00:05<00:00,  1.36it/s]\n",
            "                 Class     Images  Instances      Box(P          R      mAP50  mAP50-95): 100%|██████████| 2/2 [00:01<00:00,  1.59it/s]\n"
          ]
        },
        {
          "output_type": "stream",
          "name": "stdout",
          "text": [
            "                   all         35        628      0.506      0.593      0.566      0.433\n",
            "\n",
            "      Epoch    GPU_mem   box_loss   cls_loss   dfl_loss  Instances       Size\n"
          ]
        },
        {
          "output_type": "stream",
          "name": "stderr",
          "text": [
            "    125/300      4.57G     0.7348     0.6515     0.9983        192        640: 100%|██████████| 8/8 [00:03<00:00,  2.17it/s]\n",
            "                 Class     Images  Instances      Box(P          R      mAP50  mAP50-95): 100%|██████████| 2/2 [00:01<00:00,  1.81it/s]"
          ]
        },
        {
          "output_type": "stream",
          "name": "stdout",
          "text": [
            "                   all         35        628      0.522      0.579      0.565      0.429\n"
          ]
        },
        {
          "output_type": "stream",
          "name": "stderr",
          "text": [
            "\n"
          ]
        },
        {
          "output_type": "stream",
          "name": "stdout",
          "text": [
            "\n",
            "      Epoch    GPU_mem   box_loss   cls_loss   dfl_loss  Instances       Size\n"
          ]
        },
        {
          "output_type": "stream",
          "name": "stderr",
          "text": [
            "    126/300      4.35G      0.735     0.6424      1.002        241        640: 100%|██████████| 8/8 [00:05<00:00,  1.37it/s]\n",
            "                 Class     Images  Instances      Box(P          R      mAP50  mAP50-95): 100%|██████████| 2/2 [00:01<00:00,  1.19it/s]\n"
          ]
        },
        {
          "output_type": "stream",
          "name": "stdout",
          "text": [
            "                   all         35        628      0.539       0.57       0.56      0.427\n",
            "\n",
            "      Epoch    GPU_mem   box_loss   cls_loss   dfl_loss  Instances       Size\n"
          ]
        },
        {
          "output_type": "stream",
          "name": "stderr",
          "text": [
            "    127/300      4.55G     0.7213     0.6319     0.9837        247        640: 100%|██████████| 8/8 [00:04<00:00,  1.93it/s]\n",
            "                 Class     Images  Instances      Box(P          R      mAP50  mAP50-95): 100%|██████████| 2/2 [00:01<00:00,  1.91it/s]\n"
          ]
        },
        {
          "output_type": "stream",
          "name": "stdout",
          "text": [
            "                   all         35        628      0.526       0.59      0.559      0.425\n",
            "\n",
            "      Epoch    GPU_mem   box_loss   cls_loss   dfl_loss  Instances       Size\n"
          ]
        },
        {
          "output_type": "stream",
          "name": "stderr",
          "text": [
            "    128/300      4.31G     0.7301     0.6281      0.987        196        640: 100%|██████████| 8/8 [00:04<00:00,  1.84it/s]\n",
            "                 Class     Images  Instances      Box(P          R      mAP50  mAP50-95): 100%|██████████| 2/2 [00:01<00:00,  1.37it/s]\n"
          ]
        },
        {
          "output_type": "stream",
          "name": "stdout",
          "text": [
            "                   all         35        628      0.502      0.591      0.559       0.43\n",
            "\n",
            "      Epoch    GPU_mem   box_loss   cls_loss   dfl_loss  Instances       Size\n"
          ]
        },
        {
          "output_type": "stream",
          "name": "stderr",
          "text": [
            "    129/300      4.51G     0.7281     0.6398     0.9858        208        640: 100%|██████████| 8/8 [00:05<00:00,  1.55it/s]\n",
            "                 Class     Images  Instances      Box(P          R      mAP50  mAP50-95): 100%|██████████| 2/2 [00:01<00:00,  1.80it/s]"
          ]
        },
        {
          "output_type": "stream",
          "name": "stdout",
          "text": [
            "                   all         35        628       0.48      0.597      0.559      0.429\n"
          ]
        },
        {
          "output_type": "stream",
          "name": "stderr",
          "text": [
            "\n"
          ]
        },
        {
          "output_type": "stream",
          "name": "stdout",
          "text": [
            "\n",
            "      Epoch    GPU_mem   box_loss   cls_loss   dfl_loss  Instances       Size\n"
          ]
        },
        {
          "output_type": "stream",
          "name": "stderr",
          "text": [
            "    130/300      4.34G     0.7126     0.6245     0.9858        305        640: 100%|██████████| 8/8 [00:03<00:00,  2.27it/s]\n",
            "                 Class     Images  Instances      Box(P          R      mAP50  mAP50-95): 100%|██████████| 2/2 [00:01<00:00,  1.88it/s]\n"
          ]
        },
        {
          "output_type": "stream",
          "name": "stdout",
          "text": [
            "                   all         35        628      0.463      0.635      0.563      0.432\n",
            "\n",
            "      Epoch    GPU_mem   box_loss   cls_loss   dfl_loss  Instances       Size\n"
          ]
        },
        {
          "output_type": "stream",
          "name": "stderr",
          "text": [
            "    131/300      4.34G     0.7069     0.6157     0.9796        222        640: 100%|██████████| 8/8 [00:06<00:00,  1.32it/s]\n",
            "                 Class     Images  Instances      Box(P          R      mAP50  mAP50-95): 100%|██████████| 2/2 [00:01<00:00,  1.30it/s]\n"
          ]
        },
        {
          "output_type": "stream",
          "name": "stdout",
          "text": [
            "                   all         35        628      0.478      0.644      0.562      0.429\n",
            "\n",
            "      Epoch    GPU_mem   box_loss   cls_loss   dfl_loss  Instances       Size\n"
          ]
        },
        {
          "output_type": "stream",
          "name": "stderr",
          "text": [
            "    132/300      4.53G     0.7235     0.6254     0.9979        179        640: 100%|██████████| 8/8 [00:03<00:00,  2.33it/s]\n",
            "                 Class     Images  Instances      Box(P          R      mAP50  mAP50-95): 100%|██████████| 2/2 [00:01<00:00,  1.97it/s]\n"
          ]
        },
        {
          "output_type": "stream",
          "name": "stdout",
          "text": [
            "                   all         35        628      0.486      0.645      0.564      0.434\n",
            "\n",
            "      Epoch    GPU_mem   box_loss   cls_loss   dfl_loss  Instances       Size\n"
          ]
        },
        {
          "output_type": "stream",
          "name": "stderr",
          "text": [
            "    133/300      4.71G      0.706     0.6148     0.9796        272        640: 100%|██████████| 8/8 [00:04<00:00,  1.63it/s]\n",
            "                 Class     Images  Instances      Box(P          R      mAP50  mAP50-95): 100%|██████████| 2/2 [00:01<00:00,  1.26it/s]\n"
          ]
        },
        {
          "output_type": "stream",
          "name": "stdout",
          "text": [
            "                   all         35        628      0.474      0.624      0.556      0.431\n",
            "\n",
            "      Epoch    GPU_mem   box_loss   cls_loss   dfl_loss  Instances       Size\n"
          ]
        },
        {
          "output_type": "stream",
          "name": "stderr",
          "text": [
            "    134/300      4.65G     0.7181     0.6116     0.9718        277        640: 100%|██████████| 8/8 [00:04<00:00,  1.93it/s]\n",
            "                 Class     Images  Instances      Box(P          R      mAP50  mAP50-95): 100%|██████████| 2/2 [00:01<00:00,  1.97it/s]"
          ]
        },
        {
          "output_type": "stream",
          "name": "stdout",
          "text": [
            "                   all         35        628       0.46      0.598      0.549       0.42\n"
          ]
        },
        {
          "output_type": "stream",
          "name": "stderr",
          "text": [
            "\n"
          ]
        },
        {
          "output_type": "stream",
          "name": "stdout",
          "text": [
            "\n",
            "      Epoch    GPU_mem   box_loss   cls_loss   dfl_loss  Instances       Size\n"
          ]
        },
        {
          "output_type": "stream",
          "name": "stderr",
          "text": [
            "    135/300      4.52G     0.7236      0.635     0.9856        250        640: 100%|██████████| 8/8 [00:03<00:00,  2.20it/s]\n",
            "                 Class     Images  Instances      Box(P          R      mAP50  mAP50-95): 100%|██████████| 2/2 [00:01<00:00,  1.42it/s]\n"
          ]
        },
        {
          "output_type": "stream",
          "name": "stdout",
          "text": [
            "                   all         35        628      0.474      0.592      0.558      0.429\n",
            "\n",
            "      Epoch    GPU_mem   box_loss   cls_loss   dfl_loss  Instances       Size\n"
          ]
        },
        {
          "output_type": "stream",
          "name": "stderr",
          "text": [
            "    136/300      4.43G      0.725      0.629     0.9935        229        640: 100%|██████████| 8/8 [00:06<00:00,  1.27it/s]\n",
            "                 Class     Images  Instances      Box(P          R      mAP50  mAP50-95): 100%|██████████| 2/2 [00:00<00:00,  2.10it/s]"
          ]
        },
        {
          "output_type": "stream",
          "name": "stdout",
          "text": [
            "                   all         35        628       0.48      0.601      0.552      0.427\n"
          ]
        },
        {
          "output_type": "stream",
          "name": "stderr",
          "text": [
            "\n"
          ]
        },
        {
          "output_type": "stream",
          "name": "stdout",
          "text": [
            "\n",
            "      Epoch    GPU_mem   box_loss   cls_loss   dfl_loss  Instances       Size\n"
          ]
        },
        {
          "output_type": "stream",
          "name": "stderr",
          "text": [
            "    137/300      4.74G     0.7082     0.6148     0.9833        337        640: 100%|██████████| 8/8 [00:03<00:00,  2.11it/s]\n",
            "                 Class     Images  Instances      Box(P          R      mAP50  mAP50-95): 100%|██████████| 2/2 [00:01<00:00,  1.99it/s]"
          ]
        },
        {
          "output_type": "stream",
          "name": "stdout",
          "text": [
            "                   all         35        628      0.496       0.59      0.549       0.42\n"
          ]
        },
        {
          "output_type": "stream",
          "name": "stderr",
          "text": [
            "\n"
          ]
        },
        {
          "output_type": "stream",
          "name": "stdout",
          "text": [
            "\n",
            "      Epoch    GPU_mem   box_loss   cls_loss   dfl_loss  Instances       Size\n"
          ]
        },
        {
          "output_type": "stream",
          "name": "stderr",
          "text": [
            "    138/300      3.99G     0.7199     0.6189     0.9963        149        640: 100%|██████████| 8/8 [00:06<00:00,  1.30it/s]\n",
            "                 Class     Images  Instances      Box(P          R      mAP50  mAP50-95): 100%|██████████| 2/2 [00:01<00:00,  1.22it/s]\n"
          ]
        },
        {
          "output_type": "stream",
          "name": "stdout",
          "text": [
            "                   all         35        628      0.547      0.555      0.551      0.417\n",
            "\n",
            "      Epoch    GPU_mem   box_loss   cls_loss   dfl_loss  Instances       Size\n"
          ]
        },
        {
          "output_type": "stream",
          "name": "stderr",
          "text": [
            "    139/300      4.39G     0.7138      0.618     0.9812        169        640: 100%|██████████| 8/8 [00:03<00:00,  2.33it/s]\n",
            "                 Class     Images  Instances      Box(P          R      mAP50  mAP50-95): 100%|██████████| 2/2 [00:01<00:00,  1.90it/s]"
          ]
        },
        {
          "output_type": "stream",
          "name": "stdout",
          "text": [
            "                   all         35        628      0.544      0.558      0.554      0.425\n"
          ]
        },
        {
          "output_type": "stream",
          "name": "stderr",
          "text": [
            "\n"
          ]
        },
        {
          "output_type": "stream",
          "name": "stdout",
          "text": [
            "\n",
            "      Epoch    GPU_mem   box_loss   cls_loss   dfl_loss  Instances       Size\n"
          ]
        },
        {
          "output_type": "stream",
          "name": "stderr",
          "text": [
            "    140/300      4.58G     0.7184     0.6198     0.9823        233        640: 100%|██████████| 8/8 [00:05<00:00,  1.55it/s]\n",
            "                 Class     Images  Instances      Box(P          R      mAP50  mAP50-95): 100%|██████████| 2/2 [00:01<00:00,  1.40it/s]\n"
          ]
        },
        {
          "output_type": "stream",
          "name": "stdout",
          "text": [
            "                   all         35        628      0.508      0.609      0.562       0.43\n",
            "\n",
            "      Epoch    GPU_mem   box_loss   cls_loss   dfl_loss  Instances       Size\n"
          ]
        },
        {
          "output_type": "stream",
          "name": "stderr",
          "text": [
            "    141/300      4.38G     0.6964     0.6021     0.9806        219        640: 100%|██████████| 8/8 [00:04<00:00,  1.65it/s]\n",
            "                 Class     Images  Instances      Box(P          R      mAP50  mAP50-95): 100%|██████████| 2/2 [00:00<00:00,  2.15it/s]"
          ]
        },
        {
          "output_type": "stream",
          "name": "stdout",
          "text": [
            "                   all         35        628      0.501      0.602      0.568      0.431\n"
          ]
        },
        {
          "output_type": "stream",
          "name": "stderr",
          "text": [
            "\n"
          ]
        },
        {
          "output_type": "stream",
          "name": "stdout",
          "text": [
            "\n",
            "      Epoch    GPU_mem   box_loss   cls_loss   dfl_loss  Instances       Size\n"
          ]
        },
        {
          "output_type": "stream",
          "name": "stderr",
          "text": [
            "    142/300      4.54G     0.6967     0.6097       0.98        256        640: 100%|██████████| 8/8 [00:03<00:00,  2.16it/s]\n",
            "                 Class     Images  Instances      Box(P          R      mAP50  mAP50-95): 100%|██████████| 2/2 [00:00<00:00,  2.05it/s]\n"
          ]
        },
        {
          "output_type": "stream",
          "name": "stdout",
          "text": [
            "                   all         35        628      0.516      0.606       0.57      0.434\n",
            "\n",
            "      Epoch    GPU_mem   box_loss   cls_loss   dfl_loss  Instances       Size\n"
          ]
        },
        {
          "output_type": "stream",
          "name": "stderr",
          "text": [
            "    143/300      4.75G     0.6877     0.5919     0.9599        245        640: 100%|██████████| 8/8 [00:06<00:00,  1.28it/s]\n",
            "                 Class     Images  Instances      Box(P          R      mAP50  mAP50-95): 100%|██████████| 2/2 [00:01<00:00,  1.39it/s]"
          ]
        },
        {
          "output_type": "stream",
          "name": "stdout",
          "text": [
            "                   all         35        628      0.507      0.629      0.574      0.441\n"
          ]
        },
        {
          "output_type": "stream",
          "name": "stderr",
          "text": [
            "\n"
          ]
        },
        {
          "output_type": "stream",
          "name": "stdout",
          "text": [
            "\n",
            "      Epoch    GPU_mem   box_loss   cls_loss   dfl_loss  Instances       Size\n"
          ]
        },
        {
          "output_type": "stream",
          "name": "stderr",
          "text": [
            "    144/300      4.41G     0.6869     0.5986     0.9738        213        640: 100%|██████████| 8/8 [00:03<00:00,  2.30it/s]\n",
            "                 Class     Images  Instances      Box(P          R      mAP50  mAP50-95): 100%|██████████| 2/2 [00:01<00:00,  1.62it/s]"
          ]
        },
        {
          "output_type": "stream",
          "name": "stdout",
          "text": [
            "                   all         35        628      0.532      0.584      0.573      0.443\n"
          ]
        },
        {
          "output_type": "stream",
          "name": "stderr",
          "text": [
            "\n"
          ]
        },
        {
          "output_type": "stream",
          "name": "stdout",
          "text": [
            "\n",
            "      Epoch    GPU_mem   box_loss   cls_loss   dfl_loss  Instances       Size\n"
          ]
        },
        {
          "output_type": "stream",
          "name": "stderr",
          "text": [
            "    145/300       3.9G     0.6964     0.6024     0.9818        198        640: 100%|██████████| 8/8 [00:05<00:00,  1.51it/s]\n",
            "                 Class     Images  Instances      Box(P          R      mAP50  mAP50-95): 100%|██████████| 2/2 [00:01<00:00,  1.47it/s]\n"
          ]
        },
        {
          "output_type": "stream",
          "name": "stdout",
          "text": [
            "                   all         35        628      0.534       0.58      0.576      0.444\n",
            "\n",
            "      Epoch    GPU_mem   box_loss   cls_loss   dfl_loss  Instances       Size\n"
          ]
        },
        {
          "output_type": "stream",
          "name": "stderr",
          "text": [
            "    146/300      4.75G     0.6803     0.5836     0.9557        299        640: 100%|██████████| 8/8 [00:04<00:00,  1.80it/s]\n",
            "                 Class     Images  Instances      Box(P          R      mAP50  mAP50-95): 100%|██████████| 2/2 [00:00<00:00,  2.26it/s]\n"
          ]
        },
        {
          "output_type": "stream",
          "name": "stdout",
          "text": [
            "                   all         35        628      0.557       0.57      0.579      0.445\n",
            "\n",
            "      Epoch    GPU_mem   box_loss   cls_loss   dfl_loss  Instances       Size\n"
          ]
        },
        {
          "output_type": "stream",
          "name": "stderr",
          "text": [
            "    147/300      4.53G     0.7049      0.603     0.9853        171        640: 100%|██████████| 8/8 [00:03<00:00,  2.07it/s]\n",
            "                 Class     Images  Instances      Box(P          R      mAP50  mAP50-95): 100%|██████████| 2/2 [00:01<00:00,  1.37it/s]\n"
          ]
        },
        {
          "output_type": "stream",
          "name": "stdout",
          "text": [
            "                   all         35        628       0.58      0.538      0.577      0.446\n",
            "\n",
            "      Epoch    GPU_mem   box_loss   cls_loss   dfl_loss  Instances       Size\n"
          ]
        },
        {
          "output_type": "stream",
          "name": "stderr",
          "text": [
            "    148/300       4.5G     0.7025     0.6275     0.9875        253        640: 100%|██████████| 8/8 [00:05<00:00,  1.56it/s]\n",
            "                 Class     Images  Instances      Box(P          R      mAP50  mAP50-95): 100%|██████████| 2/2 [00:01<00:00,  1.92it/s]"
          ]
        },
        {
          "output_type": "stream",
          "name": "stdout",
          "text": [
            "                   all         35        628       0.56      0.552      0.575      0.445\n"
          ]
        },
        {
          "output_type": "stream",
          "name": "stderr",
          "text": [
            "\n"
          ]
        },
        {
          "output_type": "stream",
          "name": "stdout",
          "text": [
            "\n",
            "      Epoch    GPU_mem   box_loss   cls_loss   dfl_loss  Instances       Size\n"
          ]
        },
        {
          "output_type": "stream",
          "name": "stderr",
          "text": [
            "    149/300      4.54G     0.6857     0.5926     0.9734        244        640: 100%|██████████| 8/8 [00:03<00:00,  2.14it/s]\n",
            "                 Class     Images  Instances      Box(P          R      mAP50  mAP50-95): 100%|██████████| 2/2 [00:01<00:00,  1.92it/s]\n"
          ]
        },
        {
          "output_type": "stream",
          "name": "stdout",
          "text": [
            "                   all         35        628      0.539      0.576      0.567      0.434\n",
            "\n",
            "      Epoch    GPU_mem   box_loss   cls_loss   dfl_loss  Instances       Size\n"
          ]
        },
        {
          "output_type": "stream",
          "name": "stderr",
          "text": [
            "    150/300      4.58G     0.6861     0.6021     0.9561        323        640: 100%|██████████| 8/8 [00:05<00:00,  1.38it/s]\n",
            "                 Class     Images  Instances      Box(P          R      mAP50  mAP50-95): 100%|██████████| 2/2 [00:01<00:00,  1.25it/s]\n"
          ]
        },
        {
          "output_type": "stream",
          "name": "stdout",
          "text": [
            "                   all         35        628      0.501      0.604      0.566      0.434\n",
            "\n",
            "      Epoch    GPU_mem   box_loss   cls_loss   dfl_loss  Instances       Size\n"
          ]
        },
        {
          "output_type": "stream",
          "name": "stderr",
          "text": [
            "    151/300      4.55G     0.6847     0.5868     0.9615        264        640: 100%|██████████| 8/8 [00:03<00:00,  2.23it/s]\n",
            "                 Class     Images  Instances      Box(P          R      mAP50  mAP50-95): 100%|██████████| 2/2 [00:01<00:00,  1.95it/s]\n"
          ]
        },
        {
          "output_type": "stream",
          "name": "stdout",
          "text": [
            "                   all         35        628      0.502      0.599      0.563      0.431\n",
            "\n",
            "      Epoch    GPU_mem   box_loss   cls_loss   dfl_loss  Instances       Size\n"
          ]
        },
        {
          "output_type": "stream",
          "name": "stderr",
          "text": [
            "    152/300      4.03G     0.6698     0.5666     0.9554        248        640: 100%|██████████| 8/8 [00:04<00:00,  1.69it/s]\n",
            "                 Class     Images  Instances      Box(P          R      mAP50  mAP50-95): 100%|██████████| 2/2 [00:01<00:00,  1.46it/s]\n"
          ]
        },
        {
          "output_type": "stream",
          "name": "stdout",
          "text": [
            "                   all         35        628      0.487      0.603       0.56      0.431\n",
            "\n",
            "      Epoch    GPU_mem   box_loss   cls_loss   dfl_loss  Instances       Size\n"
          ]
        },
        {
          "output_type": "stream",
          "name": "stderr",
          "text": [
            "    153/300      4.56G     0.7118      0.608     0.9766        281        640: 100%|██████████| 8/8 [00:03<00:00,  2.22it/s]\n",
            "                 Class     Images  Instances      Box(P          R      mAP50  mAP50-95): 100%|██████████| 2/2 [00:01<00:00,  1.94it/s]"
          ]
        },
        {
          "output_type": "stream",
          "name": "stdout",
          "text": [
            "                   all         35        628      0.549      0.538      0.561      0.428\n"
          ]
        },
        {
          "output_type": "stream",
          "name": "stderr",
          "text": [
            "\n"
          ]
        },
        {
          "output_type": "stream",
          "name": "stdout",
          "text": [
            "\n",
            "      Epoch    GPU_mem   box_loss   cls_loss   dfl_loss  Instances       Size\n"
          ]
        },
        {
          "output_type": "stream",
          "name": "stderr",
          "text": [
            "    154/300      4.54G      0.656     0.5695     0.9528        285        640: 100%|██████████| 8/8 [00:04<00:00,  1.93it/s]\n",
            "                 Class     Images  Instances      Box(P          R      mAP50  mAP50-95): 100%|██████████| 2/2 [00:01<00:00,  1.43it/s]\n"
          ]
        },
        {
          "output_type": "stream",
          "name": "stdout",
          "text": [
            "                   all         35        628      0.562      0.569      0.568      0.433\n",
            "\n",
            "      Epoch    GPU_mem   box_loss   cls_loss   dfl_loss  Instances       Size\n"
          ]
        },
        {
          "output_type": "stream",
          "name": "stderr",
          "text": [
            "    155/300      4.44G     0.6758     0.5732      0.965        259        640: 100%|██████████| 8/8 [00:05<00:00,  1.59it/s]\n",
            "                 Class     Images  Instances      Box(P          R      mAP50  mAP50-95): 100%|██████████| 2/2 [00:01<00:00,  1.85it/s]"
          ]
        },
        {
          "output_type": "stream",
          "name": "stdout",
          "text": [
            "                   all         35        628      0.535      0.577      0.572      0.431\n"
          ]
        },
        {
          "output_type": "stream",
          "name": "stderr",
          "text": [
            "\n"
          ]
        },
        {
          "output_type": "stream",
          "name": "stdout",
          "text": [
            "\n",
            "      Epoch    GPU_mem   box_loss   cls_loss   dfl_loss  Instances       Size\n"
          ]
        },
        {
          "output_type": "stream",
          "name": "stderr",
          "text": [
            "    156/300      3.92G     0.6823     0.5699     0.9683        222        640: 100%|██████████| 8/8 [00:03<00:00,  2.31it/s]\n",
            "                 Class     Images  Instances      Box(P          R      mAP50  mAP50-95): 100%|██████████| 2/2 [00:01<00:00,  1.84it/s]"
          ]
        },
        {
          "output_type": "stream",
          "name": "stdout",
          "text": [
            "                   all         35        628      0.485      0.618      0.567      0.434\n"
          ]
        },
        {
          "output_type": "stream",
          "name": "stderr",
          "text": [
            "\n"
          ]
        },
        {
          "output_type": "stream",
          "name": "stdout",
          "text": [
            "\n",
            "      Epoch    GPU_mem   box_loss   cls_loss   dfl_loss  Instances       Size\n"
          ]
        },
        {
          "output_type": "stream",
          "name": "stderr",
          "text": [
            "    157/300      4.55G     0.6805     0.5815     0.9818        184        640: 100%|██████████| 8/8 [00:06<00:00,  1.30it/s]\n",
            "                 Class     Images  Instances      Box(P          R      mAP50  mAP50-95): 100%|██████████| 2/2 [00:01<00:00,  1.30it/s]\n"
          ]
        },
        {
          "output_type": "stream",
          "name": "stdout",
          "text": [
            "                   all         35        628      0.513      0.594      0.564      0.432\n",
            "\n",
            "      Epoch    GPU_mem   box_loss   cls_loss   dfl_loss  Instances       Size\n"
          ]
        },
        {
          "output_type": "stream",
          "name": "stderr",
          "text": [
            "    158/300      4.56G     0.6695     0.5776     0.9673        289        640: 100%|██████████| 8/8 [00:03<00:00,  2.15it/s]\n",
            "                 Class     Images  Instances      Box(P          R      mAP50  mAP50-95): 100%|██████████| 2/2 [00:01<00:00,  1.90it/s]"
          ]
        },
        {
          "output_type": "stream",
          "name": "stdout",
          "text": [
            "                   all         35        628      0.501      0.614      0.568      0.433\n"
          ]
        },
        {
          "output_type": "stream",
          "name": "stderr",
          "text": [
            "\n"
          ]
        },
        {
          "output_type": "stream",
          "name": "stdout",
          "text": [
            "\n",
            "      Epoch    GPU_mem   box_loss   cls_loss   dfl_loss  Instances       Size\n"
          ]
        },
        {
          "output_type": "stream",
          "name": "stderr",
          "text": [
            "    159/300      4.78G     0.6845     0.5852     0.9669        323        640: 100%|██████████| 8/8 [00:05<00:00,  1.54it/s]\n",
            "                 Class     Images  Instances      Box(P          R      mAP50  mAP50-95): 100%|██████████| 2/2 [00:01<00:00,  1.29it/s]\n"
          ]
        },
        {
          "output_type": "stream",
          "name": "stdout",
          "text": [
            "                   all         35        628      0.518      0.591      0.564      0.431\n",
            "\n",
            "      Epoch    GPU_mem   box_loss   cls_loss   dfl_loss  Instances       Size\n"
          ]
        },
        {
          "output_type": "stream",
          "name": "stderr",
          "text": [
            "    160/300      4.54G      0.648     0.5495     0.9533        280        640: 100%|██████████| 8/8 [00:04<00:00,  1.91it/s]\n",
            "                 Class     Images  Instances      Box(P          R      mAP50  mAP50-95): 100%|██████████| 2/2 [00:01<00:00,  1.82it/s]"
          ]
        },
        {
          "output_type": "stream",
          "name": "stdout",
          "text": [
            "                   all         35        628      0.535       0.59      0.576      0.441\n"
          ]
        },
        {
          "output_type": "stream",
          "name": "stderr",
          "text": [
            "\n"
          ]
        },
        {
          "output_type": "stream",
          "name": "stdout",
          "text": [
            "\n",
            "      Epoch    GPU_mem   box_loss   cls_loss   dfl_loss  Instances       Size\n"
          ]
        },
        {
          "output_type": "stream",
          "name": "stderr",
          "text": [
            "    161/300      4.52G     0.6644     0.5709     0.9501        271        640: 100%|██████████| 8/8 [00:03<00:00,  2.11it/s]\n",
            "                 Class     Images  Instances      Box(P          R      mAP50  mAP50-95): 100%|██████████| 2/2 [00:01<00:00,  1.39it/s]\n"
          ]
        },
        {
          "output_type": "stream",
          "name": "stdout",
          "text": [
            "                   all         35        628      0.548      0.592      0.578      0.439\n",
            "\n",
            "      Epoch    GPU_mem   box_loss   cls_loss   dfl_loss  Instances       Size\n"
          ]
        },
        {
          "output_type": "stream",
          "name": "stderr",
          "text": [
            "    162/300      4.27G     0.6747     0.5594     0.9564        340        640: 100%|██████████| 8/8 [00:05<00:00,  1.43it/s]\n",
            "                 Class     Images  Instances      Box(P          R      mAP50  mAP50-95): 100%|██████████| 2/2 [00:01<00:00,  1.90it/s]\n"
          ]
        },
        {
          "output_type": "stream",
          "name": "stdout",
          "text": [
            "                   all         35        628      0.564      0.576      0.579       0.44\n",
            "\n",
            "      Epoch    GPU_mem   box_loss   cls_loss   dfl_loss  Instances       Size\n"
          ]
        },
        {
          "output_type": "stream",
          "name": "stderr",
          "text": [
            "    163/300      4.33G      0.676     0.5844     0.9745        214        640: 100%|██████████| 8/8 [00:03<00:00,  2.10it/s]\n",
            "                 Class     Images  Instances      Box(P          R      mAP50  mAP50-95): 100%|██████████| 2/2 [00:01<00:00,  1.72it/s]\n"
          ]
        },
        {
          "output_type": "stream",
          "name": "stdout",
          "text": [
            "                   all         35        628      0.532      0.586      0.573      0.437\n",
            "\n",
            "      Epoch    GPU_mem   box_loss   cls_loss   dfl_loss  Instances       Size\n"
          ]
        },
        {
          "output_type": "stream",
          "name": "stderr",
          "text": [
            "    164/300      4.71G     0.6723     0.5755     0.9627        241        640: 100%|██████████| 8/8 [00:05<00:00,  1.38it/s]\n",
            "                 Class     Images  Instances      Box(P          R      mAP50  mAP50-95): 100%|██████████| 2/2 [00:01<00:00,  1.22it/s]\n"
          ]
        },
        {
          "output_type": "stream",
          "name": "stdout",
          "text": [
            "                   all         35        628      0.479      0.624      0.575       0.44\n",
            "\n",
            "      Epoch    GPU_mem   box_loss   cls_loss   dfl_loss  Instances       Size\n"
          ]
        },
        {
          "output_type": "stream",
          "name": "stderr",
          "text": [
            "    165/300       4.5G     0.6582     0.5468     0.9619        195        640: 100%|██████████| 8/8 [00:03<00:00,  2.06it/s]\n",
            "                 Class     Images  Instances      Box(P          R      mAP50  mAP50-95): 100%|██████████| 2/2 [00:01<00:00,  1.87it/s]"
          ]
        },
        {
          "output_type": "stream",
          "name": "stdout",
          "text": [
            "                   all         35        628      0.486      0.616      0.568      0.434\n"
          ]
        },
        {
          "output_type": "stream",
          "name": "stderr",
          "text": [
            "\n"
          ]
        },
        {
          "output_type": "stream",
          "name": "stdout",
          "text": [
            "\n",
            "      Epoch    GPU_mem   box_loss   cls_loss   dfl_loss  Instances       Size\n"
          ]
        },
        {
          "output_type": "stream",
          "name": "stderr",
          "text": [
            "    166/300      4.41G     0.6468     0.5512     0.9598        198        640: 100%|██████████| 8/8 [00:04<00:00,  1.91it/s]\n",
            "                 Class     Images  Instances      Box(P          R      mAP50  mAP50-95): 100%|██████████| 2/2 [00:01<00:00,  1.41it/s]\n"
          ]
        },
        {
          "output_type": "stream",
          "name": "stdout",
          "text": [
            "                   all         35        628      0.486      0.614      0.563       0.43\n",
            "\n",
            "      Epoch    GPU_mem   box_loss   cls_loss   dfl_loss  Instances       Size\n"
          ]
        },
        {
          "output_type": "stream",
          "name": "stderr",
          "text": [
            "    167/300      4.57G     0.6416     0.5595     0.9626        201        640: 100%|██████████| 8/8 [00:05<00:00,  1.58it/s]\n",
            "                 Class     Images  Instances      Box(P          R      mAP50  mAP50-95): 100%|██████████| 2/2 [00:00<00:00,  2.53it/s]"
          ]
        },
        {
          "output_type": "stream",
          "name": "stdout",
          "text": [
            "                   all         35        628      0.502      0.608      0.571      0.437\n"
          ]
        },
        {
          "output_type": "stream",
          "name": "stderr",
          "text": [
            "\n"
          ]
        },
        {
          "output_type": "stream",
          "name": "stdout",
          "text": [
            "\n",
            "      Epoch    GPU_mem   box_loss   cls_loss   dfl_loss  Instances       Size\n"
          ]
        },
        {
          "output_type": "stream",
          "name": "stderr",
          "text": [
            "    168/300      4.58G     0.6666     0.5741     0.9648        219        640: 100%|██████████| 8/8 [00:03<00:00,  2.21it/s]\n",
            "                 Class     Images  Instances      Box(P          R      mAP50  mAP50-95): 100%|██████████| 2/2 [00:01<00:00,  1.85it/s]\n"
          ]
        },
        {
          "output_type": "stream",
          "name": "stdout",
          "text": [
            "                   all         35        628      0.538      0.615       0.57      0.436\n",
            "\n",
            "      Epoch    GPU_mem   box_loss   cls_loss   dfl_loss  Instances       Size\n"
          ]
        },
        {
          "output_type": "stream",
          "name": "stderr",
          "text": [
            "    169/300      4.59G     0.6594     0.5649     0.9657        203        640: 100%|██████████| 8/8 [00:05<00:00,  1.34it/s]\n",
            "                 Class     Images  Instances      Box(P          R      mAP50  mAP50-95): 100%|██████████| 2/2 [00:01<00:00,  1.66it/s]\n"
          ]
        },
        {
          "output_type": "stream",
          "name": "stdout",
          "text": [
            "                   all         35        628      0.518      0.626      0.573      0.437\n",
            "\n",
            "      Epoch    GPU_mem   box_loss   cls_loss   dfl_loss  Instances       Size\n"
          ]
        },
        {
          "output_type": "stream",
          "name": "stderr",
          "text": [
            "    170/300      4.45G     0.6439      0.542     0.9466        269        640: 100%|██████████| 8/8 [00:03<00:00,  2.24it/s]\n",
            "                 Class     Images  Instances      Box(P          R      mAP50  mAP50-95): 100%|██████████| 2/2 [00:01<00:00,  1.79it/s]\n"
          ]
        },
        {
          "output_type": "stream",
          "name": "stdout",
          "text": [
            "                   all         35        628      0.483      0.635      0.572      0.439\n",
            "\n",
            "      Epoch    GPU_mem   box_loss   cls_loss   dfl_loss  Instances       Size\n"
          ]
        },
        {
          "output_type": "stream",
          "name": "stderr",
          "text": [
            "    171/300      4.47G     0.6291     0.5477     0.9474        160        640: 100%|██████████| 8/8 [00:05<00:00,  1.37it/s]\n",
            "                 Class     Images  Instances      Box(P          R      mAP50  mAP50-95): 100%|██████████| 2/2 [00:01<00:00,  1.31it/s]\n"
          ]
        },
        {
          "output_type": "stream",
          "name": "stdout",
          "text": [
            "                   all         35        628      0.471      0.662      0.577      0.444\n",
            "\n",
            "      Epoch    GPU_mem   box_loss   cls_loss   dfl_loss  Instances       Size\n"
          ]
        },
        {
          "output_type": "stream",
          "name": "stderr",
          "text": [
            "    172/300      4.56G     0.6726     0.5698     0.9759        182        640: 100%|██████████| 8/8 [00:03<00:00,  2.04it/s]\n",
            "                 Class     Images  Instances      Box(P          R      mAP50  mAP50-95): 100%|██████████| 2/2 [00:00<00:00,  2.59it/s]"
          ]
        },
        {
          "output_type": "stream",
          "name": "stdout",
          "text": [
            "                   all         35        628      0.497      0.625      0.569      0.439\n"
          ]
        },
        {
          "output_type": "stream",
          "name": "stderr",
          "text": [
            "\n"
          ]
        },
        {
          "output_type": "stream",
          "name": "stdout",
          "text": [
            "\n",
            "      Epoch    GPU_mem   box_loss   cls_loss   dfl_loss  Instances       Size\n"
          ]
        },
        {
          "output_type": "stream",
          "name": "stderr",
          "text": [
            "    173/300      4.02G     0.6704     0.5542     0.9527        311        640: 100%|██████████| 8/8 [00:04<00:00,  1.95it/s]\n",
            "                 Class     Images  Instances      Box(P          R      mAP50  mAP50-95): 100%|██████████| 2/2 [00:01<00:00,  1.43it/s]\n"
          ]
        },
        {
          "output_type": "stream",
          "name": "stdout",
          "text": [
            "                   all         35        628      0.467      0.635      0.558      0.431\n",
            "\n",
            "      Epoch    GPU_mem   box_loss   cls_loss   dfl_loss  Instances       Size\n"
          ]
        },
        {
          "output_type": "stream",
          "name": "stderr",
          "text": [
            "    174/300      4.22G       0.65     0.5512     0.9568        217        640: 100%|██████████| 8/8 [00:05<00:00,  1.38it/s]\n",
            "                 Class     Images  Instances      Box(P          R      mAP50  mAP50-95): 100%|██████████| 2/2 [00:01<00:00,  1.94it/s]\n"
          ]
        },
        {
          "output_type": "stream",
          "name": "stdout",
          "text": [
            "                   all         35        628      0.475      0.649      0.564      0.433\n",
            "\n",
            "      Epoch    GPU_mem   box_loss   cls_loss   dfl_loss  Instances       Size\n"
          ]
        },
        {
          "output_type": "stream",
          "name": "stderr",
          "text": [
            "    175/300      4.47G     0.6511     0.5555     0.9453        226        640: 100%|██████████| 8/8 [00:03<00:00,  2.16it/s]\n",
            "                 Class     Images  Instances      Box(P          R      mAP50  mAP50-95): 100%|██████████| 2/2 [00:01<00:00,  1.76it/s]"
          ]
        },
        {
          "output_type": "stream",
          "name": "stdout",
          "text": [
            "                   all         35        628      0.469      0.645      0.563      0.432\n"
          ]
        },
        {
          "output_type": "stream",
          "name": "stderr",
          "text": [
            "\n"
          ]
        },
        {
          "output_type": "stream",
          "name": "stdout",
          "text": [
            "\n",
            "      Epoch    GPU_mem   box_loss   cls_loss   dfl_loss  Instances       Size\n"
          ]
        },
        {
          "output_type": "stream",
          "name": "stderr",
          "text": [
            "    176/300      4.36G     0.6318     0.5319     0.9452        196        640: 100%|██████████| 8/8 [00:06<00:00,  1.26it/s]\n",
            "                 Class     Images  Instances      Box(P          R      mAP50  mAP50-95): 100%|██████████| 2/2 [00:01<00:00,  1.17it/s]\n"
          ]
        },
        {
          "output_type": "stream",
          "name": "stdout",
          "text": [
            "                   all         35        628      0.464      0.663      0.572      0.439\n",
            "\n",
            "      Epoch    GPU_mem   box_loss   cls_loss   dfl_loss  Instances       Size\n"
          ]
        },
        {
          "output_type": "stream",
          "name": "stderr",
          "text": [
            "    177/300      4.35G     0.6512     0.5514     0.9616        227        640: 100%|██████████| 8/8 [00:03<00:00,  2.22it/s]\n",
            "                 Class     Images  Instances      Box(P          R      mAP50  mAP50-95): 100%|██████████| 2/2 [00:01<00:00,  1.92it/s]\n"
          ]
        },
        {
          "output_type": "stream",
          "name": "stdout",
          "text": [
            "                   all         35        628      0.476      0.648      0.571      0.439\n",
            "\n",
            "      Epoch    GPU_mem   box_loss   cls_loss   dfl_loss  Instances       Size\n"
          ]
        },
        {
          "output_type": "stream",
          "name": "stderr",
          "text": [
            "    178/300      4.54G     0.6407     0.5567       0.95        210        640: 100%|██████████| 8/8 [00:05<00:00,  1.44it/s]\n",
            "                 Class     Images  Instances      Box(P          R      mAP50  mAP50-95): 100%|██████████| 2/2 [00:01<00:00,  1.25it/s]\n"
          ]
        },
        {
          "output_type": "stream",
          "name": "stdout",
          "text": [
            "                   all         35        628      0.483      0.645      0.576      0.443\n",
            "\n",
            "      Epoch    GPU_mem   box_loss   cls_loss   dfl_loss  Instances       Size\n"
          ]
        },
        {
          "output_type": "stream",
          "name": "stderr",
          "text": [
            "    179/300      4.28G     0.6465     0.5414     0.9541        216        640: 100%|██████████| 8/8 [00:04<00:00,  1.82it/s]\n",
            "                 Class     Images  Instances      Box(P          R      mAP50  mAP50-95): 100%|██████████| 2/2 [00:01<00:00,  1.86it/s]"
          ]
        },
        {
          "output_type": "stream",
          "name": "stdout",
          "text": [
            "                   all         35        628      0.491      0.642      0.574      0.442\n"
          ]
        },
        {
          "output_type": "stream",
          "name": "stderr",
          "text": [
            "\n"
          ]
        },
        {
          "output_type": "stream",
          "name": "stdout",
          "text": [
            "\n",
            "      Epoch    GPU_mem   box_loss   cls_loss   dfl_loss  Instances       Size\n"
          ]
        },
        {
          "output_type": "stream",
          "name": "stderr",
          "text": [
            "    180/300      4.53G     0.6505     0.5497     0.9495        252        640: 100%|██████████| 8/8 [00:03<00:00,  2.34it/s]\n",
            "                 Class     Images  Instances      Box(P          R      mAP50  mAP50-95): 100%|██████████| 2/2 [00:01<00:00,  1.45it/s]\n"
          ]
        },
        {
          "output_type": "stream",
          "name": "stdout",
          "text": [
            "                   all         35        628      0.501      0.641      0.563      0.434\n",
            "\n",
            "      Epoch    GPU_mem   box_loss   cls_loss   dfl_loss  Instances       Size\n"
          ]
        },
        {
          "output_type": "stream",
          "name": "stderr",
          "text": [
            "    181/300      4.35G     0.6416     0.5458     0.9544        229        640: 100%|██████████| 8/8 [00:06<00:00,  1.28it/s]\n",
            "                 Class     Images  Instances      Box(P          R      mAP50  mAP50-95): 100%|██████████| 2/2 [00:01<00:00,  1.66it/s]\n"
          ]
        },
        {
          "output_type": "stream",
          "name": "stdout",
          "text": [
            "                   all         35        628      0.507      0.625       0.56      0.431\n",
            "\n",
            "      Epoch    GPU_mem   box_loss   cls_loss   dfl_loss  Instances       Size\n"
          ]
        },
        {
          "output_type": "stream",
          "name": "stderr",
          "text": [
            "    182/300      3.88G     0.6438      0.544     0.9508        260        640: 100%|██████████| 8/8 [00:03<00:00,  2.25it/s]\n",
            "                 Class     Images  Instances      Box(P          R      mAP50  mAP50-95): 100%|██████████| 2/2 [00:01<00:00,  1.96it/s]"
          ]
        },
        {
          "output_type": "stream",
          "name": "stdout",
          "text": [
            "                   all         35        628      0.506      0.612      0.559       0.43\n"
          ]
        },
        {
          "output_type": "stream",
          "name": "stderr",
          "text": [
            "\n"
          ]
        },
        {
          "output_type": "stream",
          "name": "stdout",
          "text": [
            "\n",
            "      Epoch    GPU_mem   box_loss   cls_loss   dfl_loss  Instances       Size\n"
          ]
        },
        {
          "output_type": "stream",
          "name": "stderr",
          "text": [
            "    183/300      4.69G     0.6284     0.5466      0.938        203        640: 100%|██████████| 8/8 [00:05<00:00,  1.51it/s]\n",
            "                 Class     Images  Instances      Box(P          R      mAP50  mAP50-95): 100%|██████████| 2/2 [00:01<00:00,  1.24it/s]\n"
          ]
        },
        {
          "output_type": "stream",
          "name": "stdout",
          "text": [
            "                   all         35        628      0.507      0.613      0.559       0.43\n",
            "\n",
            "      Epoch    GPU_mem   box_loss   cls_loss   dfl_loss  Instances       Size\n"
          ]
        },
        {
          "output_type": "stream",
          "name": "stderr",
          "text": [
            "    184/300      4.37G     0.6467     0.5428     0.9548        251        640: 100%|██████████| 8/8 [00:03<00:00,  2.20it/s]\n",
            "                 Class     Images  Instances      Box(P          R      mAP50  mAP50-95): 100%|██████████| 2/2 [00:01<00:00,  1.78it/s]\n"
          ]
        },
        {
          "output_type": "stream",
          "name": "stdout",
          "text": [
            "                   all         35        628      0.501      0.622      0.551      0.424\n",
            "\n",
            "      Epoch    GPU_mem   box_loss   cls_loss   dfl_loss  Instances       Size\n"
          ]
        },
        {
          "output_type": "stream",
          "name": "stderr",
          "text": [
            "    185/300      4.53G     0.6561     0.5374     0.9515        184        640: 100%|██████████| 8/8 [00:04<00:00,  1.99it/s]\n",
            "                 Class     Images  Instances      Box(P          R      mAP50  mAP50-95): 100%|██████████| 2/2 [00:01<00:00,  1.50it/s]\n"
          ]
        },
        {
          "output_type": "stream",
          "name": "stdout",
          "text": [
            "                   all         35        628       0.48      0.622      0.548      0.419\n",
            "\n",
            "      Epoch    GPU_mem   box_loss   cls_loss   dfl_loss  Instances       Size\n"
          ]
        },
        {
          "output_type": "stream",
          "name": "stderr",
          "text": [
            "    186/300       4.7G     0.6452     0.5435      0.944        279        640: 100%|██████████| 8/8 [00:05<00:00,  1.36it/s]\n",
            "                 Class     Images  Instances      Box(P          R      mAP50  mAP50-95): 100%|██████████| 2/2 [00:01<00:00,  1.83it/s]\n"
          ]
        },
        {
          "output_type": "stream",
          "name": "stdout",
          "text": [
            "                   all         35        628      0.475      0.626      0.552      0.421\n",
            "\n",
            "      Epoch    GPU_mem   box_loss   cls_loss   dfl_loss  Instances       Size\n"
          ]
        },
        {
          "output_type": "stream",
          "name": "stderr",
          "text": [
            "    187/300      4.28G     0.6495     0.5552     0.9614        207        640: 100%|██████████| 8/8 [00:03<00:00,  2.23it/s]\n",
            "                 Class     Images  Instances      Box(P          R      mAP50  mAP50-95): 100%|██████████| 2/2 [00:00<00:00,  2.01it/s]\n"
          ]
        },
        {
          "output_type": "stream",
          "name": "stdout",
          "text": [
            "                   all         35        628      0.483      0.614      0.555      0.422\n",
            "\n",
            "      Epoch    GPU_mem   box_loss   cls_loss   dfl_loss  Instances       Size\n"
          ]
        },
        {
          "output_type": "stream",
          "name": "stderr",
          "text": [
            "    188/300      4.27G     0.6362     0.5424     0.9523        171        640: 100%|██████████| 8/8 [00:06<00:00,  1.27it/s]\n",
            "                 Class     Images  Instances      Box(P          R      mAP50  mAP50-95): 100%|██████████| 2/2 [00:01<00:00,  1.28it/s]\n"
          ]
        },
        {
          "output_type": "stream",
          "name": "stdout",
          "text": [
            "                   all         35        628      0.477       0.62      0.556      0.423\n",
            "\n",
            "      Epoch    GPU_mem   box_loss   cls_loss   dfl_loss  Instances       Size\n"
          ]
        },
        {
          "output_type": "stream",
          "name": "stderr",
          "text": [
            "    189/300      4.45G     0.6456     0.5326     0.9514        279        640: 100%|██████████| 8/8 [00:03<00:00,  2.23it/s]\n",
            "                 Class     Images  Instances      Box(P          R      mAP50  mAP50-95): 100%|██████████| 2/2 [00:01<00:00,  1.92it/s]\n"
          ]
        },
        {
          "output_type": "stream",
          "name": "stdout",
          "text": [
            "                   all         35        628      0.509      0.595      0.556      0.424\n",
            "\n",
            "      Epoch    GPU_mem   box_loss   cls_loss   dfl_loss  Instances       Size\n"
          ]
        },
        {
          "output_type": "stream",
          "name": "stderr",
          "text": [
            "    190/300      4.65G     0.6344     0.5267     0.9572        194        640: 100%|██████████| 8/8 [00:05<00:00,  1.56it/s]\n",
            "                 Class     Images  Instances      Box(P          R      mAP50  mAP50-95): 100%|██████████| 2/2 [00:01<00:00,  1.30it/s]\n"
          ]
        },
        {
          "output_type": "stream",
          "name": "stdout",
          "text": [
            "                   all         35        628      0.539      0.584      0.555      0.423\n",
            "\n",
            "      Epoch    GPU_mem   box_loss   cls_loss   dfl_loss  Instances       Size\n"
          ]
        },
        {
          "output_type": "stream",
          "name": "stderr",
          "text": [
            "    191/300      4.44G     0.6277     0.5302     0.9492        187        640: 100%|██████████| 8/8 [00:04<00:00,  1.91it/s]\n",
            "                 Class     Images  Instances      Box(P          R      mAP50  mAP50-95): 100%|██████████| 2/2 [00:00<00:00,  2.05it/s]"
          ]
        },
        {
          "output_type": "stream",
          "name": "stdout",
          "text": [
            "                   all         35        628       0.55      0.575       0.56      0.427\n"
          ]
        },
        {
          "output_type": "stream",
          "name": "stderr",
          "text": [
            "\n"
          ]
        },
        {
          "output_type": "stream",
          "name": "stdout",
          "text": [
            "\n",
            "      Epoch    GPU_mem   box_loss   cls_loss   dfl_loss  Instances       Size\n"
          ]
        },
        {
          "output_type": "stream",
          "name": "stderr",
          "text": [
            "    192/300      4.76G     0.6514     0.5424     0.9633        190        640: 100%|██████████| 8/8 [00:03<00:00,  2.06it/s]\n",
            "                 Class     Images  Instances      Box(P          R      mAP50  mAP50-95): 100%|██████████| 2/2 [00:01<00:00,  1.47it/s]\n"
          ]
        },
        {
          "output_type": "stream",
          "name": "stdout",
          "text": [
            "                   all         35        628      0.545      0.588      0.564      0.435\n",
            "\n",
            "      Epoch    GPU_mem   box_loss   cls_loss   dfl_loss  Instances       Size\n"
          ]
        },
        {
          "output_type": "stream",
          "name": "stderr",
          "text": [
            "    193/300      4.01G      0.629     0.5324      0.943        313        640: 100%|██████████| 8/8 [00:06<00:00,  1.32it/s]\n",
            "                 Class     Images  Instances      Box(P          R      mAP50  mAP50-95): 100%|██████████| 2/2 [00:00<00:00,  2.15it/s]"
          ]
        },
        {
          "output_type": "stream",
          "name": "stdout",
          "text": [
            "                   all         35        628      0.524      0.634      0.577      0.445\n"
          ]
        },
        {
          "output_type": "stream",
          "name": "stderr",
          "text": [
            "\n"
          ]
        },
        {
          "output_type": "stream",
          "name": "stdout",
          "text": [
            "\n",
            "      Epoch    GPU_mem   box_loss   cls_loss   dfl_loss  Instances       Size\n"
          ]
        },
        {
          "output_type": "stream",
          "name": "stderr",
          "text": [
            "    194/300      4.51G     0.6185     0.5161     0.9487        258        640: 100%|██████████| 8/8 [00:03<00:00,  2.16it/s]\n",
            "                 Class     Images  Instances      Box(P          R      mAP50  mAP50-95): 100%|██████████| 2/2 [00:01<00:00,  1.84it/s]"
          ]
        },
        {
          "output_type": "stream",
          "name": "stdout",
          "text": [
            "                   all         35        628      0.484      0.638      0.572      0.441\n"
          ]
        },
        {
          "output_type": "stream",
          "name": "stderr",
          "text": [
            "\n"
          ]
        },
        {
          "output_type": "stream",
          "name": "stdout",
          "text": [
            "\n",
            "      Epoch    GPU_mem   box_loss   cls_loss   dfl_loss  Instances       Size\n"
          ]
        },
        {
          "output_type": "stream",
          "name": "stderr",
          "text": [
            "    195/300      4.42G     0.6403     0.5358     0.9525        262        640: 100%|██████████| 8/8 [00:05<00:00,  1.39it/s]\n",
            "                 Class     Images  Instances      Box(P          R      mAP50  mAP50-95): 100%|██████████| 2/2 [00:01<00:00,  1.43it/s]\n"
          ]
        },
        {
          "output_type": "stream",
          "name": "stdout",
          "text": [
            "                   all         35        628      0.516      0.654      0.584      0.447\n",
            "\n",
            "      Epoch    GPU_mem   box_loss   cls_loss   dfl_loss  Instances       Size\n"
          ]
        },
        {
          "output_type": "stream",
          "name": "stderr",
          "text": [
            "    196/300      4.35G     0.6124     0.5135     0.9314        287        640: 100%|██████████| 8/8 [00:03<00:00,  2.05it/s]\n",
            "                 Class     Images  Instances      Box(P          R      mAP50  mAP50-95): 100%|██████████| 2/2 [00:00<00:00,  2.17it/s]"
          ]
        },
        {
          "output_type": "stream",
          "name": "stdout",
          "text": [
            "                   all         35        628      0.482      0.662      0.581      0.445\n"
          ]
        },
        {
          "output_type": "stream",
          "name": "stderr",
          "text": [
            "\n"
          ]
        },
        {
          "output_type": "stream",
          "name": "stdout",
          "text": [
            "\n",
            "      Epoch    GPU_mem   box_loss   cls_loss   dfl_loss  Instances       Size\n"
          ]
        },
        {
          "output_type": "stream",
          "name": "stderr",
          "text": [
            "    197/300      4.41G     0.6489     0.5613     0.9527        163        640: 100%|██████████| 8/8 [00:03<00:00,  2.01it/s]\n",
            "                 Class     Images  Instances      Box(P          R      mAP50  mAP50-95): 100%|██████████| 2/2 [00:01<00:00,  1.47it/s]"
          ]
        },
        {
          "output_type": "stream",
          "name": "stdout",
          "text": [
            "                   all         35        628        0.5       0.66      0.583      0.447\n"
          ]
        },
        {
          "output_type": "stream",
          "name": "stderr",
          "text": [
            "\n"
          ]
        },
        {
          "output_type": "stream",
          "name": "stdout",
          "text": [
            "\n",
            "      Epoch    GPU_mem   box_loss   cls_loss   dfl_loss  Instances       Size\n"
          ]
        },
        {
          "output_type": "stream",
          "name": "stderr",
          "text": [
            "    198/300      4.32G     0.6187     0.5248     0.9289        279        640: 100%|██████████| 8/8 [00:05<00:00,  1.37it/s]\n",
            "                 Class     Images  Instances      Box(P          R      mAP50  mAP50-95): 100%|██████████| 2/2 [00:01<00:00,  1.79it/s]"
          ]
        },
        {
          "output_type": "stream",
          "name": "stdout",
          "text": [
            "                   all         35        628      0.518      0.629      0.587      0.451\n"
          ]
        },
        {
          "output_type": "stream",
          "name": "stderr",
          "text": [
            "\n"
          ]
        },
        {
          "output_type": "stream",
          "name": "stdout",
          "text": [
            "\n",
            "      Epoch    GPU_mem   box_loss   cls_loss   dfl_loss  Instances       Size\n"
          ]
        },
        {
          "output_type": "stream",
          "name": "stderr",
          "text": [
            "    199/300      4.54G     0.6062     0.5086     0.9314        229        640: 100%|██████████| 8/8 [00:03<00:00,  2.23it/s]\n",
            "                 Class     Images  Instances      Box(P          R      mAP50  mAP50-95): 100%|██████████| 2/2 [00:01<00:00,  1.81it/s]"
          ]
        },
        {
          "output_type": "stream",
          "name": "stdout",
          "text": [
            "                   all         35        628      0.542      0.619      0.593      0.454\n"
          ]
        },
        {
          "output_type": "stream",
          "name": "stderr",
          "text": [
            "\n"
          ]
        },
        {
          "output_type": "stream",
          "name": "stdout",
          "text": [
            "\n",
            "      Epoch    GPU_mem   box_loss   cls_loss   dfl_loss  Instances       Size\n"
          ]
        },
        {
          "output_type": "stream",
          "name": "stderr",
          "text": [
            "    200/300      4.43G     0.6309     0.5333     0.9465        203        640: 100%|██████████| 8/8 [00:05<00:00,  1.39it/s]\n",
            "                 Class     Images  Instances      Box(P          R      mAP50  mAP50-95): 100%|██████████| 2/2 [00:01<00:00,  1.32it/s]\n"
          ]
        },
        {
          "output_type": "stream",
          "name": "stdout",
          "text": [
            "                   all         35        628      0.514      0.641      0.585      0.447\n",
            "\n",
            "      Epoch    GPU_mem   box_loss   cls_loss   dfl_loss  Instances       Size\n"
          ]
        },
        {
          "output_type": "stream",
          "name": "stderr",
          "text": [
            "    201/300      4.55G     0.6271     0.5267     0.9456        244        640: 100%|██████████| 8/8 [00:03<00:00,  2.21it/s]\n",
            "                 Class     Images  Instances      Box(P          R      mAP50  mAP50-95): 100%|██████████| 2/2 [00:01<00:00,  2.00it/s]"
          ]
        },
        {
          "output_type": "stream",
          "name": "stdout",
          "text": [
            "                   all         35        628      0.511      0.646      0.567      0.433\n"
          ]
        },
        {
          "output_type": "stream",
          "name": "stderr",
          "text": [
            "\n"
          ]
        },
        {
          "output_type": "stream",
          "name": "stdout",
          "text": [
            "\n",
            "      Epoch    GPU_mem   box_loss   cls_loss   dfl_loss  Instances       Size\n"
          ]
        },
        {
          "output_type": "stream",
          "name": "stderr",
          "text": [
            "    202/300      4.55G     0.6248     0.5245     0.9404        210        640: 100%|██████████| 8/8 [00:05<00:00,  1.48it/s]\n",
            "                 Class     Images  Instances      Box(P          R      mAP50  mAP50-95): 100%|██████████| 2/2 [00:01<00:00,  1.23it/s]\n"
          ]
        },
        {
          "output_type": "stream",
          "name": "stdout",
          "text": [
            "                   all         35        628      0.486      0.644      0.561      0.427\n",
            "\n",
            "      Epoch    GPU_mem   box_loss   cls_loss   dfl_loss  Instances       Size\n"
          ]
        },
        {
          "output_type": "stream",
          "name": "stderr",
          "text": [
            "    203/300      4.52G     0.6296     0.5425     0.9628        253        640: 100%|██████████| 8/8 [00:04<00:00,  1.97it/s]\n",
            "                 Class     Images  Instances      Box(P          R      mAP50  mAP50-95): 100%|██████████| 2/2 [00:01<00:00,  1.97it/s]"
          ]
        },
        {
          "output_type": "stream",
          "name": "stdout",
          "text": [
            "                   all         35        628      0.501      0.624       0.56      0.424\n"
          ]
        },
        {
          "output_type": "stream",
          "name": "stderr",
          "text": [
            "\n"
          ]
        },
        {
          "output_type": "stream",
          "name": "stdout",
          "text": [
            "\n",
            "      Epoch    GPU_mem   box_loss   cls_loss   dfl_loss  Instances       Size\n"
          ]
        },
        {
          "output_type": "stream",
          "name": "stderr",
          "text": [
            "    204/300      4.69G     0.6321      0.532     0.9412        307        640: 100%|██████████| 8/8 [00:03<00:00,  2.16it/s]\n",
            "                 Class     Images  Instances      Box(P          R      mAP50  mAP50-95): 100%|██████████| 2/2 [00:01<00:00,  1.42it/s]\n"
          ]
        },
        {
          "output_type": "stream",
          "name": "stdout",
          "text": [
            "                   all         35        628      0.506      0.612      0.559      0.426\n",
            "\n",
            "      Epoch    GPU_mem   box_loss   cls_loss   dfl_loss  Instances       Size\n"
          ]
        },
        {
          "output_type": "stream",
          "name": "stderr",
          "text": [
            "    205/300      4.41G     0.6189      0.514     0.9421        227        640: 100%|██████████| 8/8 [00:05<00:00,  1.46it/s]\n",
            "                 Class     Images  Instances      Box(P          R      mAP50  mAP50-95): 100%|██████████| 2/2 [00:00<00:00,  2.14it/s]"
          ]
        },
        {
          "output_type": "stream",
          "name": "stdout",
          "text": [
            "                   all         35        628      0.443      0.658      0.563      0.432\n"
          ]
        },
        {
          "output_type": "stream",
          "name": "stderr",
          "text": [
            "\n"
          ]
        },
        {
          "output_type": "stream",
          "name": "stdout",
          "text": [
            "\n",
            "      Epoch    GPU_mem   box_loss   cls_loss   dfl_loss  Instances       Size\n"
          ]
        },
        {
          "output_type": "stream",
          "name": "stderr",
          "text": [
            "    206/300      4.38G     0.6092     0.5138     0.9296        296        640: 100%|██████████| 8/8 [00:03<00:00,  2.25it/s]\n",
            "                 Class     Images  Instances      Box(P          R      mAP50  mAP50-95): 100%|██████████| 2/2 [00:00<00:00,  2.00it/s]"
          ]
        },
        {
          "output_type": "stream",
          "name": "stdout",
          "text": [
            "                   all         35        628      0.465      0.629      0.569      0.438\n"
          ]
        },
        {
          "output_type": "stream",
          "name": "stderr",
          "text": [
            "\n"
          ]
        },
        {
          "output_type": "stream",
          "name": "stdout",
          "text": [
            "\n",
            "      Epoch    GPU_mem   box_loss   cls_loss   dfl_loss  Instances       Size\n"
          ]
        },
        {
          "output_type": "stream",
          "name": "stderr",
          "text": [
            "    207/300      4.07G     0.6195     0.5186     0.9372        195        640: 100%|██████████| 8/8 [00:06<00:00,  1.29it/s]\n",
            "                 Class     Images  Instances      Box(P          R      mAP50  mAP50-95): 100%|██████████| 2/2 [00:01<00:00,  1.26it/s]\n"
          ]
        },
        {
          "output_type": "stream",
          "name": "stdout",
          "text": [
            "                   all         35        628       0.46      0.661      0.561      0.432\n",
            "\n",
            "      Epoch    GPU_mem   box_loss   cls_loss   dfl_loss  Instances       Size\n"
          ]
        },
        {
          "output_type": "stream",
          "name": "stderr",
          "text": [
            "    208/300      4.28G     0.6456      0.546     0.9648        210        640: 100%|██████████| 8/8 [00:03<00:00,  2.22it/s]\n",
            "                 Class     Images  Instances      Box(P          R      mAP50  mAP50-95): 100%|██████████| 2/2 [00:01<00:00,  1.94it/s]"
          ]
        },
        {
          "output_type": "stream",
          "name": "stdout",
          "text": [
            "                   all         35        628      0.464      0.671      0.561      0.429\n"
          ]
        },
        {
          "output_type": "stream",
          "name": "stderr",
          "text": [
            "\n"
          ]
        },
        {
          "output_type": "stream",
          "name": "stdout",
          "text": [
            "\n",
            "      Epoch    GPU_mem   box_loss   cls_loss   dfl_loss  Instances       Size\n"
          ]
        },
        {
          "output_type": "stream",
          "name": "stderr",
          "text": [
            "    209/300         4G      0.598      0.498     0.9229        205        640: 100%|██████████| 8/8 [00:05<00:00,  1.40it/s]\n",
            "                 Class     Images  Instances      Box(P          R      mAP50  mAP50-95): 100%|██████████| 2/2 [00:01<00:00,  1.27it/s]\n"
          ]
        },
        {
          "output_type": "stream",
          "name": "stdout",
          "text": [
            "                   all         35        628      0.473      0.664      0.557      0.425\n",
            "\n",
            "      Epoch    GPU_mem   box_loss   cls_loss   dfl_loss  Instances       Size\n"
          ]
        },
        {
          "output_type": "stream",
          "name": "stderr",
          "text": [
            "    210/300      4.62G     0.6123     0.5133     0.9288        249        640: 100%|██████████| 8/8 [00:04<00:00,  1.92it/s]\n",
            "                 Class     Images  Instances      Box(P          R      mAP50  mAP50-95): 100%|██████████| 2/2 [00:01<00:00,  1.86it/s]"
          ]
        },
        {
          "output_type": "stream",
          "name": "stdout",
          "text": [
            "                   all         35        628      0.494      0.633      0.561      0.425\n"
          ]
        },
        {
          "output_type": "stream",
          "name": "stderr",
          "text": [
            "\n"
          ]
        },
        {
          "output_type": "stream",
          "name": "stdout",
          "text": [
            "\n",
            "      Epoch    GPU_mem   box_loss   cls_loss   dfl_loss  Instances       Size\n"
          ]
        },
        {
          "output_type": "stream",
          "name": "stderr",
          "text": [
            "    211/300      4.02G     0.6373     0.5401     0.9491        224        640: 100%|██████████| 8/8 [00:03<00:00,  2.17it/s]\n",
            "                 Class     Images  Instances      Box(P          R      mAP50  mAP50-95): 100%|██████████| 2/2 [00:01<00:00,  1.39it/s]\n"
          ]
        },
        {
          "output_type": "stream",
          "name": "stdout",
          "text": [
            "                   all         35        628      0.535      0.587      0.563      0.425\n",
            "\n",
            "      Epoch    GPU_mem   box_loss   cls_loss   dfl_loss  Instances       Size\n"
          ]
        },
        {
          "output_type": "stream",
          "name": "stderr",
          "text": [
            "    212/300      4.06G     0.6173      0.511     0.9333        265        640: 100%|██████████| 8/8 [00:05<00:00,  1.47it/s]\n",
            "                 Class     Images  Instances      Box(P          R      mAP50  mAP50-95): 100%|██████████| 2/2 [00:01<00:00,  1.90it/s]"
          ]
        },
        {
          "output_type": "stream",
          "name": "stdout",
          "text": [
            "                   all         35        628      0.509       0.62      0.569      0.431\n"
          ]
        },
        {
          "output_type": "stream",
          "name": "stderr",
          "text": [
            "\n"
          ]
        },
        {
          "output_type": "stream",
          "name": "stdout",
          "text": [
            "\n",
            "      Epoch    GPU_mem   box_loss   cls_loss   dfl_loss  Instances       Size\n"
          ]
        },
        {
          "output_type": "stream",
          "name": "stderr",
          "text": [
            "    213/300      4.67G     0.6085     0.5048     0.9351        256        640: 100%|██████████| 8/8 [00:03<00:00,  2.10it/s]\n",
            "                 Class     Images  Instances      Box(P          R      mAP50  mAP50-95): 100%|██████████| 2/2 [00:01<00:00,  1.73it/s]"
          ]
        },
        {
          "output_type": "stream",
          "name": "stdout",
          "text": [
            "                   all         35        628      0.499      0.625      0.577      0.437\n"
          ]
        },
        {
          "output_type": "stream",
          "name": "stderr",
          "text": [
            "\n"
          ]
        },
        {
          "output_type": "stream",
          "name": "stdout",
          "text": [
            "\n",
            "      Epoch    GPU_mem   box_loss   cls_loss   dfl_loss  Instances       Size\n"
          ]
        },
        {
          "output_type": "stream",
          "name": "stderr",
          "text": [
            "    214/300      4.56G     0.6055     0.5178     0.9339        282        640: 100%|██████████| 8/8 [00:05<00:00,  1.34it/s]\n",
            "                 Class     Images  Instances      Box(P          R      mAP50  mAP50-95): 100%|██████████| 2/2 [00:01<00:00,  1.19it/s]\n"
          ]
        },
        {
          "output_type": "stream",
          "name": "stdout",
          "text": [
            "                   all         35        628      0.498      0.652      0.577      0.436\n",
            "\n",
            "      Epoch    GPU_mem   box_loss   cls_loss   dfl_loss  Instances       Size\n"
          ]
        },
        {
          "output_type": "stream",
          "name": "stderr",
          "text": [
            "    215/300      4.02G     0.6185     0.5213     0.9473        156        640: 100%|██████████| 8/8 [00:03<00:00,  2.06it/s]\n",
            "                 Class     Images  Instances      Box(P          R      mAP50  mAP50-95): 100%|██████████| 2/2 [00:01<00:00,  1.92it/s]"
          ]
        },
        {
          "output_type": "stream",
          "name": "stdout",
          "text": [
            "                   all         35        628      0.466      0.643       0.57      0.431\n"
          ]
        },
        {
          "output_type": "stream",
          "name": "stderr",
          "text": [
            "\n"
          ]
        },
        {
          "output_type": "stream",
          "name": "stdout",
          "text": [
            "\n",
            "      Epoch    GPU_mem   box_loss   cls_loss   dfl_loss  Instances       Size\n"
          ]
        },
        {
          "output_type": "stream",
          "name": "stderr",
          "text": [
            "    216/300      4.02G     0.6077     0.5014      0.938        161        640: 100%|██████████| 8/8 [00:05<00:00,  1.52it/s]\n",
            "                 Class     Images  Instances      Box(P          R      mAP50  mAP50-95): 100%|██████████| 2/2 [00:01<00:00,  1.21it/s]\n"
          ]
        },
        {
          "output_type": "stream",
          "name": "stdout",
          "text": [
            "                   all         35        628      0.519      0.603       0.58       0.44\n",
            "\n",
            "      Epoch    GPU_mem   box_loss   cls_loss   dfl_loss  Instances       Size\n"
          ]
        },
        {
          "output_type": "stream",
          "name": "stderr",
          "text": [
            "    217/300      4.76G     0.6061     0.5087     0.9371        277        640: 100%|██████████| 8/8 [00:04<00:00,  1.86it/s]\n",
            "                 Class     Images  Instances      Box(P          R      mAP50  mAP50-95): 100%|██████████| 2/2 [00:01<00:00,  1.86it/s]"
          ]
        },
        {
          "output_type": "stream",
          "name": "stdout",
          "text": [
            "                   all         35        628      0.516      0.611      0.583      0.443\n"
          ]
        },
        {
          "output_type": "stream",
          "name": "stderr",
          "text": [
            "\n"
          ]
        },
        {
          "output_type": "stream",
          "name": "stdout",
          "text": [
            "\n",
            "      Epoch    GPU_mem   box_loss   cls_loss   dfl_loss  Instances       Size\n"
          ]
        },
        {
          "output_type": "stream",
          "name": "stderr",
          "text": [
            "    218/300      4.28G      0.608     0.4988     0.9318        258        640: 100%|██████████| 8/8 [00:03<00:00,  2.22it/s]\n",
            "                 Class     Images  Instances      Box(P          R      mAP50  mAP50-95): 100%|██████████| 2/2 [00:01<00:00,  1.61it/s]\n"
          ]
        },
        {
          "output_type": "stream",
          "name": "stdout",
          "text": [
            "                   all         35        628        0.5      0.632      0.585      0.445\n",
            "\n",
            "      Epoch    GPU_mem   box_loss   cls_loss   dfl_loss  Instances       Size\n"
          ]
        },
        {
          "output_type": "stream",
          "name": "stderr",
          "text": [
            "    219/300      4.57G     0.6046     0.5096     0.9321        261        640: 100%|██████████| 8/8 [00:06<00:00,  1.28it/s]\n",
            "                 Class     Images  Instances      Box(P          R      mAP50  mAP50-95): 100%|██████████| 2/2 [00:00<00:00,  2.37it/s]"
          ]
        },
        {
          "output_type": "stream",
          "name": "stdout",
          "text": [
            "                   all         35        628      0.508      0.629      0.587      0.445\n"
          ]
        },
        {
          "output_type": "stream",
          "name": "stderr",
          "text": [
            "\n"
          ]
        },
        {
          "output_type": "stream",
          "name": "stdout",
          "text": [
            "\n",
            "      Epoch    GPU_mem   box_loss   cls_loss   dfl_loss  Instances       Size\n"
          ]
        },
        {
          "output_type": "stream",
          "name": "stderr",
          "text": [
            "    220/300      4.85G     0.6051     0.5045     0.9314        210        640: 100%|██████████| 8/8 [00:03<00:00,  2.16it/s]\n",
            "                 Class     Images  Instances      Box(P          R      mAP50  mAP50-95): 100%|██████████| 2/2 [00:00<00:00,  2.07it/s]"
          ]
        },
        {
          "output_type": "stream",
          "name": "stdout",
          "text": [
            "                   all         35        628      0.511      0.638      0.589      0.449\n"
          ]
        },
        {
          "output_type": "stream",
          "name": "stderr",
          "text": [
            "\n"
          ]
        },
        {
          "output_type": "stream",
          "name": "stdout",
          "text": [
            "\n",
            "      Epoch    GPU_mem   box_loss   cls_loss   dfl_loss  Instances       Size\n"
          ]
        },
        {
          "output_type": "stream",
          "name": "stderr",
          "text": [
            "    221/300      4.02G     0.6041     0.4927     0.9414        179        640: 100%|██████████| 8/8 [00:05<00:00,  1.46it/s]\n",
            "                 Class     Images  Instances      Box(P          R      mAP50  mAP50-95): 100%|██████████| 2/2 [00:01<00:00,  1.28it/s]\n"
          ]
        },
        {
          "output_type": "stream",
          "name": "stdout",
          "text": [
            "                   all         35        628      0.508      0.637      0.584      0.444\n",
            "\n",
            "      Epoch    GPU_mem   box_loss   cls_loss   dfl_loss  Instances       Size\n"
          ]
        },
        {
          "output_type": "stream",
          "name": "stderr",
          "text": [
            "    222/300      4.27G     0.6062     0.5009     0.9312        180        640: 100%|██████████| 8/8 [00:03<00:00,  2.14it/s]\n",
            "                 Class     Images  Instances      Box(P          R      mAP50  mAP50-95): 100%|██████████| 2/2 [00:00<00:00,  2.17it/s]"
          ]
        },
        {
          "output_type": "stream",
          "name": "stdout",
          "text": [
            "                   all         35        628      0.527      0.612      0.585      0.444\n"
          ]
        },
        {
          "output_type": "stream",
          "name": "stderr",
          "text": [
            "\n"
          ]
        },
        {
          "output_type": "stream",
          "name": "stdout",
          "text": [
            "\n",
            "      Epoch    GPU_mem   box_loss   cls_loss   dfl_loss  Instances       Size\n"
          ]
        },
        {
          "output_type": "stream",
          "name": "stderr",
          "text": [
            "    223/300       4.4G     0.5913     0.5023     0.9357        345        640: 100%|██████████| 8/8 [00:04<00:00,  1.99it/s]\n",
            "                 Class     Images  Instances      Box(P          R      mAP50  mAP50-95): 100%|██████████| 2/2 [00:01<00:00,  1.71it/s]\n"
          ]
        },
        {
          "output_type": "stream",
          "name": "stdout",
          "text": [
            "                   all         35        628      0.528      0.609      0.582      0.443\n",
            "\n",
            "      Epoch    GPU_mem   box_loss   cls_loss   dfl_loss  Instances       Size\n"
          ]
        },
        {
          "output_type": "stream",
          "name": "stderr",
          "text": [
            "    224/300      4.27G     0.6112     0.4996     0.9439        200        640: 100%|██████████| 8/8 [00:05<00:00,  1.45it/s]\n",
            "                 Class     Images  Instances      Box(P          R      mAP50  mAP50-95): 100%|██████████| 2/2 [00:01<00:00,  1.98it/s]"
          ]
        },
        {
          "output_type": "stream",
          "name": "stdout",
          "text": [
            "                   all         35        628      0.526      0.595      0.584      0.446\n"
          ]
        },
        {
          "output_type": "stream",
          "name": "stderr",
          "text": [
            "\n"
          ]
        },
        {
          "output_type": "stream",
          "name": "stdout",
          "text": [
            "\n",
            "      Epoch    GPU_mem   box_loss   cls_loss   dfl_loss  Instances       Size\n"
          ]
        },
        {
          "output_type": "stream",
          "name": "stderr",
          "text": [
            "    225/300      4.53G     0.5982     0.4869     0.9265        302        640: 100%|██████████| 8/8 [00:03<00:00,  2.10it/s]\n",
            "                 Class     Images  Instances      Box(P          R      mAP50  mAP50-95): 100%|██████████| 2/2 [00:01<00:00,  1.92it/s]"
          ]
        },
        {
          "output_type": "stream",
          "name": "stdout",
          "text": [
            "                   all         35        628      0.508      0.627      0.566      0.433\n"
          ]
        },
        {
          "output_type": "stream",
          "name": "stderr",
          "text": [
            "\n"
          ]
        },
        {
          "output_type": "stream",
          "name": "stdout",
          "text": [
            "\n",
            "      Epoch    GPU_mem   box_loss   cls_loss   dfl_loss  Instances       Size\n"
          ]
        },
        {
          "output_type": "stream",
          "name": "stderr",
          "text": [
            "    226/300      4.57G     0.5957     0.5072     0.9243        225        640: 100%|██████████| 8/8 [00:06<00:00,  1.30it/s]\n",
            "                 Class     Images  Instances      Box(P          R      mAP50  mAP50-95): 100%|██████████| 2/2 [00:01<00:00,  1.29it/s]"
          ]
        },
        {
          "output_type": "stream",
          "name": "stdout",
          "text": [
            "                   all         35        628      0.488      0.638      0.558      0.426\n"
          ]
        },
        {
          "output_type": "stream",
          "name": "stderr",
          "text": [
            "\n"
          ]
        },
        {
          "output_type": "stream",
          "name": "stdout",
          "text": [
            "\n",
            "      Epoch    GPU_mem   box_loss   cls_loss   dfl_loss  Instances       Size\n"
          ]
        },
        {
          "output_type": "stream",
          "name": "stderr",
          "text": [
            "    227/300      4.41G     0.6086     0.5035     0.9407        277        640: 100%|██████████| 8/8 [00:03<00:00,  2.16it/s]\n",
            "                 Class     Images  Instances      Box(P          R      mAP50  mAP50-95): 100%|██████████| 2/2 [00:01<00:00,  1.97it/s]\n"
          ]
        },
        {
          "output_type": "stream",
          "name": "stdout",
          "text": [
            "                   all         35        628      0.515       0.62      0.552      0.423\n",
            "\n",
            "      Epoch    GPU_mem   box_loss   cls_loss   dfl_loss  Instances       Size\n"
          ]
        },
        {
          "output_type": "stream",
          "name": "stderr",
          "text": [
            "    228/300      4.54G     0.6013     0.5027     0.9434        174        640: 100%|██████████| 8/8 [00:05<00:00,  1.40it/s]\n",
            "                 Class     Images  Instances      Box(P          R      mAP50  mAP50-95): 100%|██████████| 2/2 [00:01<00:00,  1.28it/s]\n"
          ]
        },
        {
          "output_type": "stream",
          "name": "stdout",
          "text": [
            "                   all         35        628      0.524       0.62      0.553      0.422\n",
            "\n",
            "      Epoch    GPU_mem   box_loss   cls_loss   dfl_loss  Instances       Size\n"
          ]
        },
        {
          "output_type": "stream",
          "name": "stderr",
          "text": [
            "    229/300      4.27G     0.5752     0.4945     0.9165        253        640: 100%|██████████| 8/8 [00:04<00:00,  1.92it/s]\n",
            "                 Class     Images  Instances      Box(P          R      mAP50  mAP50-95): 100%|██████████| 2/2 [00:01<00:00,  1.89it/s]\n"
          ]
        },
        {
          "output_type": "stream",
          "name": "stdout",
          "text": [
            "                   all         35        628      0.513      0.624      0.552      0.425\n",
            "\n",
            "      Epoch    GPU_mem   box_loss   cls_loss   dfl_loss  Instances       Size\n"
          ]
        },
        {
          "output_type": "stream",
          "name": "stderr",
          "text": [
            "    230/300      4.41G     0.5922     0.4892     0.9295        259        640: 100%|██████████| 8/8 [00:03<00:00,  2.20it/s]\n",
            "                 Class     Images  Instances      Box(P          R      mAP50  mAP50-95): 100%|██████████| 2/2 [00:01<00:00,  1.45it/s]"
          ]
        },
        {
          "output_type": "stream",
          "name": "stdout",
          "text": [
            "                   all         35        628        0.5      0.633      0.555      0.424\n"
          ]
        },
        {
          "output_type": "stream",
          "name": "stderr",
          "text": [
            "\n"
          ]
        },
        {
          "output_type": "stream",
          "name": "stdout",
          "text": [
            "\n",
            "      Epoch    GPU_mem   box_loss   cls_loss   dfl_loss  Instances       Size\n"
          ]
        },
        {
          "output_type": "stream",
          "name": "stderr",
          "text": [
            "    231/300      4.45G     0.5977     0.4904     0.9295        223        640: 100%|██████████| 8/8 [00:05<00:00,  1.46it/s]\n",
            "                 Class     Images  Instances      Box(P          R      mAP50  mAP50-95): 100%|██████████| 2/2 [00:00<00:00,  2.19it/s]\n"
          ]
        },
        {
          "output_type": "stream",
          "name": "stdout",
          "text": [
            "                   all         35        628      0.509      0.611      0.558      0.425\n",
            "\n",
            "      Epoch    GPU_mem   box_loss   cls_loss   dfl_loss  Instances       Size\n"
          ]
        },
        {
          "output_type": "stream",
          "name": "stderr",
          "text": [
            "    232/300       4.7G     0.5782     0.4864     0.9171        255        640: 100%|██████████| 8/8 [00:03<00:00,  2.14it/s]\n",
            "                 Class     Images  Instances      Box(P          R      mAP50  mAP50-95): 100%|██████████| 2/2 [00:00<00:00,  2.15it/s]\n"
          ]
        },
        {
          "output_type": "stream",
          "name": "stdout",
          "text": [
            "                   all         35        628      0.536      0.606      0.564      0.427\n",
            "\n",
            "      Epoch    GPU_mem   box_loss   cls_loss   dfl_loss  Instances       Size\n"
          ]
        },
        {
          "output_type": "stream",
          "name": "stderr",
          "text": [
            "    233/300      4.42G     0.6117     0.5015     0.9312        208        640: 100%|██████████| 8/8 [00:06<00:00,  1.29it/s]\n",
            "                 Class     Images  Instances      Box(P          R      mAP50  mAP50-95): 100%|██████████| 2/2 [00:01<00:00,  1.24it/s]\n"
          ]
        },
        {
          "output_type": "stream",
          "name": "stdout",
          "text": [
            "                   all         35        628      0.507      0.615      0.559      0.424\n",
            "\n",
            "      Epoch    GPU_mem   box_loss   cls_loss   dfl_loss  Instances       Size\n"
          ]
        },
        {
          "output_type": "stream",
          "name": "stderr",
          "text": [
            "    234/300      4.55G     0.5894     0.4989     0.9315        175        640: 100%|██████████| 8/8 [00:03<00:00,  2.13it/s]\n",
            "                 Class     Images  Instances      Box(P          R      mAP50  mAP50-95): 100%|██████████| 2/2 [00:00<00:00,  2.14it/s]\n"
          ]
        },
        {
          "output_type": "stream",
          "name": "stdout",
          "text": [
            "                   all         35        628      0.526      0.594      0.558      0.425\n",
            "\n",
            "      Epoch    GPU_mem   box_loss   cls_loss   dfl_loss  Instances       Size\n"
          ]
        },
        {
          "output_type": "stream",
          "name": "stderr",
          "text": [
            "    235/300      4.46G     0.5859     0.4865      0.913        241        640: 100%|██████████| 8/8 [00:04<00:00,  1.67it/s]\n",
            "                 Class     Images  Instances      Box(P          R      mAP50  mAP50-95): 100%|██████████| 2/2 [00:01<00:00,  1.39it/s]\n"
          ]
        },
        {
          "output_type": "stream",
          "name": "stdout",
          "text": [
            "                   all         35        628      0.483       0.63      0.562      0.427\n",
            "\n",
            "      Epoch    GPU_mem   box_loss   cls_loss   dfl_loss  Instances       Size\n"
          ]
        },
        {
          "output_type": "stream",
          "name": "stderr",
          "text": [
            "    236/300      4.35G     0.6006     0.4966      0.941        160        640: 100%|██████████| 8/8 [00:03<00:00,  2.03it/s]\n",
            "                 Class     Images  Instances      Box(P          R      mAP50  mAP50-95): 100%|██████████| 2/2 [00:01<00:00,  1.94it/s]\n"
          ]
        },
        {
          "output_type": "stream",
          "name": "stdout",
          "text": [
            "                   all         35        628      0.496      0.632      0.555      0.424\n",
            "\n",
            "      Epoch    GPU_mem   box_loss   cls_loss   dfl_loss  Instances       Size\n"
          ]
        },
        {
          "output_type": "stream",
          "name": "stderr",
          "text": [
            "    237/300      4.62G     0.5952     0.4978      0.942        277        640: 100%|██████████| 8/8 [00:04<00:00,  1.84it/s]\n",
            "                 Class     Images  Instances      Box(P          R      mAP50  mAP50-95): 100%|██████████| 2/2 [00:01<00:00,  1.51it/s]\n"
          ]
        },
        {
          "output_type": "stream",
          "name": "stdout",
          "text": [
            "                   all         35        628      0.485      0.648      0.553      0.423\n",
            "\n",
            "      Epoch    GPU_mem   box_loss   cls_loss   dfl_loss  Instances       Size\n"
          ]
        },
        {
          "output_type": "stream",
          "name": "stderr",
          "text": [
            "    238/300      4.51G     0.5825     0.4786     0.9355        182        640: 100%|██████████| 8/8 [00:05<00:00,  1.41it/s]\n",
            "                 Class     Images  Instances      Box(P          R      mAP50  mAP50-95): 100%|██████████| 2/2 [00:01<00:00,  1.72it/s]"
          ]
        },
        {
          "output_type": "stream",
          "name": "stdout",
          "text": [
            "                   all         35        628      0.492      0.656      0.547      0.418\n"
          ]
        },
        {
          "output_type": "stream",
          "name": "stderr",
          "text": [
            "\n"
          ]
        },
        {
          "output_type": "stream",
          "name": "stdout",
          "text": [
            "\n",
            "      Epoch    GPU_mem   box_loss   cls_loss   dfl_loss  Instances       Size\n"
          ]
        },
        {
          "output_type": "stream",
          "name": "stderr",
          "text": [
            "    239/300      4.02G     0.5907     0.4831     0.9202        308        640: 100%|██████████| 8/8 [00:03<00:00,  2.27it/s]\n",
            "                 Class     Images  Instances      Box(P          R      mAP50  mAP50-95): 100%|██████████| 2/2 [00:01<00:00,  1.87it/s]"
          ]
        },
        {
          "output_type": "stream",
          "name": "stdout",
          "text": [
            "                   all         35        628      0.485      0.658      0.551       0.42\n"
          ]
        },
        {
          "output_type": "stream",
          "name": "stderr",
          "text": [
            "\n"
          ]
        },
        {
          "output_type": "stream",
          "name": "stdout",
          "text": [
            "\n",
            "      Epoch    GPU_mem   box_loss   cls_loss   dfl_loss  Instances       Size\n"
          ]
        },
        {
          "output_type": "stream",
          "name": "stderr",
          "text": [
            "    240/300      4.52G     0.5975     0.5025     0.9395        349        640: 100%|██████████| 8/8 [00:06<00:00,  1.33it/s]\n",
            "                 Class     Images  Instances      Box(P          R      mAP50  mAP50-95): 100%|██████████| 2/2 [00:01<00:00,  1.27it/s]\n"
          ]
        },
        {
          "output_type": "stream",
          "name": "stdout",
          "text": [
            "                   all         35        628       0.48      0.654      0.556      0.425\n",
            "\n",
            "      Epoch    GPU_mem   box_loss   cls_loss   dfl_loss  Instances       Size\n"
          ]
        },
        {
          "output_type": "stream",
          "name": "stderr",
          "text": [
            "    241/300      4.62G     0.5789     0.4856      0.925        258        640: 100%|██████████| 8/8 [00:03<00:00,  2.35it/s]\n",
            "                 Class     Images  Instances      Box(P          R      mAP50  mAP50-95): 100%|██████████| 2/2 [00:00<00:00,  2.04it/s]\n"
          ]
        },
        {
          "output_type": "stream",
          "name": "stdout",
          "text": [
            "                   all         35        628      0.479      0.644      0.562      0.432\n",
            "\n",
            "      Epoch    GPU_mem   box_loss   cls_loss   dfl_loss  Instances       Size\n"
          ]
        },
        {
          "output_type": "stream",
          "name": "stderr",
          "text": [
            "    242/300      4.43G     0.5667     0.4666     0.9128        254        640: 100%|██████████| 8/8 [00:04<00:00,  1.71it/s]\n",
            "                 Class     Images  Instances      Box(P          R      mAP50  mAP50-95): 100%|██████████| 2/2 [00:01<00:00,  1.46it/s]\n"
          ]
        },
        {
          "output_type": "stream",
          "name": "stdout",
          "text": [
            "                   all         35        628      0.491      0.658      0.561      0.432\n",
            "\n",
            "      Epoch    GPU_mem   box_loss   cls_loss   dfl_loss  Instances       Size\n"
          ]
        },
        {
          "output_type": "stream",
          "name": "stderr",
          "text": [
            "    243/300      4.53G      0.584      0.483     0.9248        270        640: 100%|██████████| 8/8 [00:04<00:00,  1.71it/s]\n",
            "                 Class     Images  Instances      Box(P          R      mAP50  mAP50-95): 100%|██████████| 2/2 [00:01<00:00,  1.85it/s]"
          ]
        },
        {
          "output_type": "stream",
          "name": "stdout",
          "text": [
            "                   all         35        628      0.523      0.614       0.57       0.44\n"
          ]
        },
        {
          "output_type": "stream",
          "name": "stderr",
          "text": [
            "\n"
          ]
        },
        {
          "output_type": "stream",
          "name": "stdout",
          "text": [
            "\n",
            "      Epoch    GPU_mem   box_loss   cls_loss   dfl_loss  Instances       Size\n"
          ]
        },
        {
          "output_type": "stream",
          "name": "stderr",
          "text": [
            "    244/300      4.78G     0.5813     0.4882     0.9229        196        640: 100%|██████████| 8/8 [00:03<00:00,  2.15it/s]\n",
            "                 Class     Images  Instances      Box(P          R      mAP50  mAP50-95): 100%|██████████| 2/2 [00:00<00:00,  2.02it/s]\n"
          ]
        },
        {
          "output_type": "stream",
          "name": "stdout",
          "text": [
            "                   all         35        628      0.526      0.608      0.563      0.433\n",
            "\n",
            "      Epoch    GPU_mem   box_loss   cls_loss   dfl_loss  Instances       Size\n"
          ]
        },
        {
          "output_type": "stream",
          "name": "stderr",
          "text": [
            "    245/300      3.88G      0.573     0.4698     0.9227        301        640: 100%|██████████| 8/8 [00:05<00:00,  1.34it/s]\n",
            "                 Class     Images  Instances      Box(P          R      mAP50  mAP50-95): 100%|██████████| 2/2 [00:01<00:00,  1.92it/s]\n"
          ]
        },
        {
          "output_type": "stream",
          "name": "stdout",
          "text": [
            "                   all         35        628      0.519      0.598      0.561      0.432\n",
            "\n",
            "      Epoch    GPU_mem   box_loss   cls_loss   dfl_loss  Instances       Size\n"
          ]
        },
        {
          "output_type": "stream",
          "name": "stderr",
          "text": [
            "    246/300      4.61G     0.5764     0.4728     0.9225        284        640: 100%|██████████| 8/8 [00:03<00:00,  2.30it/s]\n",
            "                 Class     Images  Instances      Box(P          R      mAP50  mAP50-95): 100%|██████████| 2/2 [00:00<00:00,  2.07it/s]\n"
          ]
        },
        {
          "output_type": "stream",
          "name": "stdout",
          "text": [
            "                   all         35        628      0.537      0.581      0.561      0.434\n",
            "\n",
            "      Epoch    GPU_mem   box_loss   cls_loss   dfl_loss  Instances       Size\n"
          ]
        },
        {
          "output_type": "stream",
          "name": "stderr",
          "text": [
            "    247/300      4.45G     0.5798     0.4737     0.9185        317        640: 100%|██████████| 8/8 [00:05<00:00,  1.41it/s]\n",
            "                 Class     Images  Instances      Box(P          R      mAP50  mAP50-95): 100%|██████████| 2/2 [00:01<00:00,  1.27it/s]\n"
          ]
        },
        {
          "output_type": "stream",
          "name": "stdout",
          "text": [
            "                   all         35        628      0.536      0.594      0.566      0.438\n",
            "\n",
            "      Epoch    GPU_mem   box_loss   cls_loss   dfl_loss  Instances       Size\n"
          ]
        },
        {
          "output_type": "stream",
          "name": "stderr",
          "text": [
            "    248/300      4.52G     0.5784     0.4853     0.9197        282        640: 100%|██████████| 8/8 [00:03<00:00,  2.12it/s]\n",
            "                 Class     Images  Instances      Box(P          R      mAP50  mAP50-95): 100%|██████████| 2/2 [00:00<00:00,  2.32it/s]"
          ]
        },
        {
          "output_type": "stream",
          "name": "stdout",
          "text": [
            "                   all         35        628      0.515      0.614      0.563      0.437\n"
          ]
        },
        {
          "output_type": "stream",
          "name": "stderr",
          "text": [
            "\n"
          ]
        },
        {
          "output_type": "stream",
          "name": "stdout",
          "text": [
            "\n",
            "      Epoch    GPU_mem   box_loss   cls_loss   dfl_loss  Instances       Size\n"
          ]
        },
        {
          "output_type": "stream",
          "name": "stderr",
          "text": [
            "    249/300      4.61G     0.5911     0.4936     0.9276        168        640: 100%|██████████| 8/8 [00:04<00:00,  1.86it/s]\n",
            "                 Class     Images  Instances      Box(P          R      mAP50  mAP50-95): 100%|██████████| 2/2 [00:01<00:00,  1.56it/s]\n"
          ]
        },
        {
          "output_type": "stream",
          "name": "stdout",
          "text": [
            "                   all         35        628      0.513       0.61      0.569      0.442\n",
            "\n",
            "      Epoch    GPU_mem   box_loss   cls_loss   dfl_loss  Instances       Size\n"
          ]
        },
        {
          "output_type": "stream",
          "name": "stderr",
          "text": [
            "    250/300       4.6G     0.5622     0.4657     0.9166        250        640: 100%|██████████| 8/8 [00:05<00:00,  1.42it/s]\n",
            "                 Class     Images  Instances      Box(P          R      mAP50  mAP50-95): 100%|██████████| 2/2 [00:00<00:00,  2.16it/s]\n"
          ]
        },
        {
          "output_type": "stream",
          "name": "stdout",
          "text": [
            "                   all         35        628       0.52      0.616      0.574      0.441\n",
            "\n",
            "      Epoch    GPU_mem   box_loss   cls_loss   dfl_loss  Instances       Size\n"
          ]
        },
        {
          "output_type": "stream",
          "name": "stderr",
          "text": [
            "    251/300      4.35G     0.5905     0.4883     0.9317        279        640: 100%|██████████| 8/8 [00:03<00:00,  2.16it/s]\n",
            "                 Class     Images  Instances      Box(P          R      mAP50  mAP50-95): 100%|██████████| 2/2 [00:00<00:00,  2.01it/s]\n"
          ]
        },
        {
          "output_type": "stream",
          "name": "stdout",
          "text": [
            "                   all         35        628      0.505      0.624      0.571      0.438\n",
            "\n",
            "      Epoch    GPU_mem   box_loss   cls_loss   dfl_loss  Instances       Size\n"
          ]
        },
        {
          "output_type": "stream",
          "name": "stderr",
          "text": [
            "    252/300      4.71G     0.5784     0.4774     0.9349        175        640: 100%|██████████| 8/8 [00:06<00:00,  1.33it/s]\n",
            "                 Class     Images  Instances      Box(P          R      mAP50  mAP50-95): 100%|██████████| 2/2 [00:01<00:00,  1.25it/s]\n"
          ]
        },
        {
          "output_type": "stream",
          "name": "stdout",
          "text": [
            "                   all         35        628      0.492      0.648      0.572      0.439\n",
            "\n",
            "      Epoch    GPU_mem   box_loss   cls_loss   dfl_loss  Instances       Size\n"
          ]
        },
        {
          "output_type": "stream",
          "name": "stderr",
          "text": [
            "    253/300      4.42G     0.5887     0.4932     0.9275        332        640: 100%|██████████| 8/8 [00:03<00:00,  2.14it/s]\n",
            "                 Class     Images  Instances      Box(P          R      mAP50  mAP50-95): 100%|██████████| 2/2 [00:00<00:00,  2.43it/s]"
          ]
        },
        {
          "output_type": "stream",
          "name": "stdout",
          "text": [
            "                   all         35        628      0.492      0.667      0.566      0.434\n"
          ]
        },
        {
          "output_type": "stream",
          "name": "stderr",
          "text": [
            "\n"
          ]
        },
        {
          "output_type": "stream",
          "name": "stdout",
          "text": [
            "\n",
            "      Epoch    GPU_mem   box_loss   cls_loss   dfl_loss  Instances       Size\n"
          ]
        },
        {
          "output_type": "stream",
          "name": "stderr",
          "text": [
            "    254/300      4.52G     0.5675     0.4808     0.9179        251        640: 100%|██████████| 8/8 [00:04<00:00,  1.81it/s]\n",
            "                 Class     Images  Instances      Box(P          R      mAP50  mAP50-95): 100%|██████████| 2/2 [00:01<00:00,  1.44it/s]\n"
          ]
        },
        {
          "output_type": "stream",
          "name": "stdout",
          "text": [
            "                   all         35        628       0.49      0.663      0.565      0.434\n",
            "\n",
            "      Epoch    GPU_mem   box_loss   cls_loss   dfl_loss  Instances       Size\n"
          ]
        },
        {
          "output_type": "stream",
          "name": "stderr",
          "text": [
            "    255/300      4.32G     0.5934     0.4926     0.9341        287        640: 100%|██████████| 8/8 [00:04<00:00,  1.67it/s]\n",
            "                 Class     Images  Instances      Box(P          R      mAP50  mAP50-95): 100%|██████████| 2/2 [00:01<00:00,  1.96it/s]"
          ]
        },
        {
          "output_type": "stream",
          "name": "stdout",
          "text": [
            "                   all         35        628      0.494      0.656      0.567      0.435\n"
          ]
        },
        {
          "output_type": "stream",
          "name": "stderr",
          "text": [
            "\n"
          ]
        },
        {
          "output_type": "stream",
          "name": "stdout",
          "text": [
            "\n",
            "      Epoch    GPU_mem   box_loss   cls_loss   dfl_loss  Instances       Size\n"
          ]
        },
        {
          "output_type": "stream",
          "name": "stderr",
          "text": [
            "    256/300      4.37G     0.5676     0.4785     0.9171        195        640: 100%|██████████| 8/8 [00:03<00:00,  2.19it/s]\n",
            "                 Class     Images  Instances      Box(P          R      mAP50  mAP50-95): 100%|██████████| 2/2 [00:01<00:00,  1.64it/s]\n"
          ]
        },
        {
          "output_type": "stream",
          "name": "stdout",
          "text": [
            "                   all         35        628      0.493      0.655       0.57      0.437\n",
            "\n",
            "      Epoch    GPU_mem   box_loss   cls_loss   dfl_loss  Instances       Size\n"
          ]
        },
        {
          "output_type": "stream",
          "name": "stderr",
          "text": [
            "    257/300      4.44G     0.5847     0.4806      0.937        208        640: 100%|██████████| 8/8 [00:06<00:00,  1.26it/s]\n",
            "                 Class     Images  Instances      Box(P          R      mAP50  mAP50-95): 100%|██████████| 2/2 [00:00<00:00,  2.08it/s]"
          ]
        },
        {
          "output_type": "stream",
          "name": "stdout",
          "text": [
            "                   all         35        628      0.493      0.651      0.572      0.439\n"
          ]
        },
        {
          "output_type": "stream",
          "name": "stderr",
          "text": [
            "\n"
          ]
        },
        {
          "output_type": "stream",
          "name": "stdout",
          "text": [
            "\n",
            "      Epoch    GPU_mem   box_loss   cls_loss   dfl_loss  Instances       Size\n"
          ]
        },
        {
          "output_type": "stream",
          "name": "stderr",
          "text": [
            "    258/300      4.44G      0.589     0.4884     0.9172        342        640: 100%|██████████| 8/8 [00:03<00:00,  2.12it/s]\n",
            "                 Class     Images  Instances      Box(P          R      mAP50  mAP50-95): 100%|██████████| 2/2 [00:01<00:00,  1.77it/s]"
          ]
        },
        {
          "output_type": "stream",
          "name": "stdout",
          "text": [
            "                   all         35        628        0.5      0.643       0.57      0.438\n"
          ]
        },
        {
          "output_type": "stream",
          "name": "stderr",
          "text": [
            "\n"
          ]
        },
        {
          "output_type": "stream",
          "name": "stdout",
          "text": [
            "\n",
            "      Epoch    GPU_mem   box_loss   cls_loss   dfl_loss  Instances       Size\n"
          ]
        },
        {
          "output_type": "stream",
          "name": "stderr",
          "text": [
            "    259/300      4.03G     0.5798     0.4709      0.921        187        640: 100%|██████████| 8/8 [00:06<00:00,  1.30it/s]\n",
            "                 Class     Images  Instances      Box(P          R      mAP50  mAP50-95): 100%|██████████| 2/2 [00:01<00:00,  1.42it/s]\n"
          ]
        },
        {
          "output_type": "stream",
          "name": "stdout",
          "text": [
            "                   all         35        628      0.491      0.638      0.564      0.434\n",
            "\n",
            "      Epoch    GPU_mem   box_loss   cls_loss   dfl_loss  Instances       Size\n"
          ]
        },
        {
          "output_type": "stream",
          "name": "stderr",
          "text": [
            "    260/300       4.7G     0.5907     0.4892     0.9336        185        640: 100%|██████████| 8/8 [00:03<00:00,  2.05it/s]\n",
            "                 Class     Images  Instances      Box(P          R      mAP50  mAP50-95): 100%|██████████| 2/2 [00:01<00:00,  1.54it/s]\n"
          ]
        },
        {
          "output_type": "stream",
          "name": "stdout",
          "text": [
            "                   all         35        628      0.484      0.618      0.562      0.433\n",
            "\n",
            "      Epoch    GPU_mem   box_loss   cls_loss   dfl_loss  Instances       Size\n"
          ]
        },
        {
          "output_type": "stream",
          "name": "stderr",
          "text": [
            "    261/300      4.21G     0.5618     0.4616     0.9123        273        640: 100%|██████████| 8/8 [00:04<00:00,  1.92it/s]\n",
            "                 Class     Images  Instances      Box(P          R      mAP50  mAP50-95): 100%|██████████| 2/2 [00:01<00:00,  1.20it/s]\n"
          ]
        },
        {
          "output_type": "stream",
          "name": "stdout",
          "text": [
            "                   all         35        628      0.488      0.636      0.563      0.433\n",
            "\n",
            "      Epoch    GPU_mem   box_loss   cls_loss   dfl_loss  Instances       Size\n"
          ]
        },
        {
          "output_type": "stream",
          "name": "stderr",
          "text": [
            "    262/300       4.7G     0.5571     0.4672     0.9146        240        640: 100%|██████████| 8/8 [00:05<00:00,  1.43it/s]\n",
            "                 Class     Images  Instances      Box(P          R      mAP50  mAP50-95): 100%|██████████| 2/2 [00:01<00:00,  1.95it/s]\n"
          ]
        },
        {
          "output_type": "stream",
          "name": "stdout",
          "text": [
            "                   all         35        628      0.477      0.648      0.562      0.433\n",
            "\n",
            "      Epoch    GPU_mem   box_loss   cls_loss   dfl_loss  Instances       Size\n"
          ]
        },
        {
          "output_type": "stream",
          "name": "stderr",
          "text": [
            "    263/300       4.7G     0.5526     0.4571     0.8944        242        640: 100%|██████████| 8/8 [00:03<00:00,  2.13it/s]\n",
            "                 Class     Images  Instances      Box(P          R      mAP50  mAP50-95): 100%|██████████| 2/2 [00:01<00:00,  1.90it/s]"
          ]
        },
        {
          "output_type": "stream",
          "name": "stdout",
          "text": [
            "                   all         35        628      0.464       0.67       0.56      0.431\n"
          ]
        },
        {
          "output_type": "stream",
          "name": "stderr",
          "text": [
            "\n"
          ]
        },
        {
          "output_type": "stream",
          "name": "stdout",
          "text": [
            "\n",
            "      Epoch    GPU_mem   box_loss   cls_loss   dfl_loss  Instances       Size\n"
          ]
        },
        {
          "output_type": "stream",
          "name": "stderr",
          "text": [
            "    264/300       4.5G     0.5718     0.4707     0.9154        319        640: 100%|██████████| 8/8 [00:06<00:00,  1.21it/s]\n",
            "                 Class     Images  Instances      Box(P          R      mAP50  mAP50-95): 100%|██████████| 2/2 [00:01<00:00,  1.31it/s]\n"
          ]
        },
        {
          "output_type": "stream",
          "name": "stdout",
          "text": [
            "                   all         35        628      0.468       0.66      0.565      0.435\n",
            "\n",
            "      Epoch    GPU_mem   box_loss   cls_loss   dfl_loss  Instances       Size\n"
          ]
        },
        {
          "output_type": "stream",
          "name": "stderr",
          "text": [
            "    265/300      4.71G     0.5852     0.4858     0.9262        279        640: 100%|██████████| 8/8 [00:03<00:00,  2.07it/s]\n",
            "                 Class     Images  Instances      Box(P          R      mAP50  mAP50-95): 100%|██████████| 2/2 [00:00<00:00,  2.18it/s]\n"
          ]
        },
        {
          "output_type": "stream",
          "name": "stdout",
          "text": [
            "                   all         35        628      0.484      0.647      0.567      0.436\n",
            "\n",
            "      Epoch    GPU_mem   box_loss   cls_loss   dfl_loss  Instances       Size\n"
          ]
        },
        {
          "output_type": "stream",
          "name": "stderr",
          "text": [
            "    266/300      4.59G     0.5893     0.4866     0.9274        266        640: 100%|██████████| 8/8 [00:04<00:00,  1.70it/s]\n",
            "                 Class     Images  Instances      Box(P          R      mAP50  mAP50-95): 100%|██████████| 2/2 [00:01<00:00,  1.57it/s]\n"
          ]
        },
        {
          "output_type": "stream",
          "name": "stdout",
          "text": [
            "                   all         35        628      0.489      0.645      0.568      0.434\n",
            "\n",
            "      Epoch    GPU_mem   box_loss   cls_loss   dfl_loss  Instances       Size\n"
          ]
        },
        {
          "output_type": "stream",
          "name": "stderr",
          "text": [
            "    267/300      4.45G     0.5595     0.4693     0.9262        227        640: 100%|██████████| 8/8 [00:05<00:00,  1.52it/s]\n",
            "                 Class     Images  Instances      Box(P          R      mAP50  mAP50-95): 100%|██████████| 2/2 [00:01<00:00,  1.88it/s]\n"
          ]
        },
        {
          "output_type": "stream",
          "name": "stdout",
          "text": [
            "                   all         35        628      0.485      0.663      0.563      0.435\n",
            "\n",
            "      Epoch    GPU_mem   box_loss   cls_loss   dfl_loss  Instances       Size\n"
          ]
        },
        {
          "output_type": "stream",
          "name": "stderr",
          "text": [
            "    268/300      4.56G     0.5706     0.4581     0.9227        232        640: 100%|██████████| 8/8 [00:03<00:00,  2.17it/s]\n",
            "                 Class     Images  Instances      Box(P          R      mAP50  mAP50-95): 100%|██████████| 2/2 [00:01<00:00,  1.59it/s]\n"
          ]
        },
        {
          "output_type": "stream",
          "name": "stdout",
          "text": [
            "                   all         35        628      0.491      0.658      0.566      0.438\n",
            "\n",
            "      Epoch    GPU_mem   box_loss   cls_loss   dfl_loss  Instances       Size\n"
          ]
        },
        {
          "output_type": "stream",
          "name": "stderr",
          "text": [
            "    269/300      4.27G     0.5715     0.4811     0.9217        206        640: 100%|██████████| 8/8 [00:06<00:00,  1.25it/s]\n",
            "                 Class     Images  Instances      Box(P          R      mAP50  mAP50-95): 100%|██████████| 2/2 [00:01<00:00,  1.90it/s]"
          ]
        },
        {
          "output_type": "stream",
          "name": "stdout",
          "text": [
            "                   all         35        628      0.496      0.667      0.572      0.443\n"
          ]
        },
        {
          "output_type": "stream",
          "name": "stderr",
          "text": [
            "\n"
          ]
        },
        {
          "output_type": "stream",
          "name": "stdout",
          "text": [
            "\n",
            "      Epoch    GPU_mem   box_loss   cls_loss   dfl_loss  Instances       Size\n"
          ]
        },
        {
          "output_type": "stream",
          "name": "stderr",
          "text": [
            "    270/300       4.5G      0.581     0.4851     0.9407        183        640: 100%|██████████| 8/8 [00:03<00:00,  2.09it/s]\n",
            "                 Class     Images  Instances      Box(P          R      mAP50  mAP50-95): 100%|██████████| 2/2 [00:01<00:00,  1.97it/s]"
          ]
        },
        {
          "output_type": "stream",
          "name": "stdout",
          "text": [
            "                   all         35        628      0.483       0.68      0.571       0.44\n"
          ]
        },
        {
          "output_type": "stream",
          "name": "stderr",
          "text": [
            "\n"
          ]
        },
        {
          "output_type": "stream",
          "name": "stdout",
          "text": [
            "\n",
            "      Epoch    GPU_mem   box_loss   cls_loss   dfl_loss  Instances       Size\n"
          ]
        },
        {
          "output_type": "stream",
          "name": "stderr",
          "text": [
            "    271/300      4.51G      0.563     0.4691     0.9161        157        640: 100%|██████████| 8/8 [00:06<00:00,  1.30it/s]\n",
            "                 Class     Images  Instances      Box(P          R      mAP50  mAP50-95): 100%|██████████| 2/2 [00:01<00:00,  1.36it/s]\n"
          ]
        },
        {
          "output_type": "stream",
          "name": "stdout",
          "text": [
            "                   all         35        628      0.487      0.676      0.572      0.442\n",
            "\n",
            "      Epoch    GPU_mem   box_loss   cls_loss   dfl_loss  Instances       Size\n"
          ]
        },
        {
          "output_type": "stream",
          "name": "stderr",
          "text": [
            "    272/300      4.42G     0.5952      0.502     0.9388        188        640: 100%|██████████| 8/8 [00:03<00:00,  2.31it/s]\n",
            "                 Class     Images  Instances      Box(P          R      mAP50  mAP50-95): 100%|██████████| 2/2 [00:01<00:00,  1.87it/s]"
          ]
        },
        {
          "output_type": "stream",
          "name": "stdout",
          "text": [
            "                   all         35        628      0.489      0.669      0.577      0.447\n"
          ]
        },
        {
          "output_type": "stream",
          "name": "stderr",
          "text": [
            "\n"
          ]
        },
        {
          "output_type": "stream",
          "name": "stdout",
          "text": [
            "\n",
            "      Epoch    GPU_mem   box_loss   cls_loss   dfl_loss  Instances       Size\n"
          ]
        },
        {
          "output_type": "stream",
          "name": "stderr",
          "text": [
            "    273/300      4.02G      0.553     0.4562     0.9102        190        640: 100%|██████████| 8/8 [00:04<00:00,  1.98it/s]\n",
            "                 Class     Images  Instances      Box(P          R      mAP50  mAP50-95): 100%|██████████| 2/2 [00:01<00:00,  1.44it/s]\n"
          ]
        },
        {
          "output_type": "stream",
          "name": "stdout",
          "text": [
            "                   all         35        628      0.491      0.655      0.575      0.447\n",
            "\n",
            "      Epoch    GPU_mem   box_loss   cls_loss   dfl_loss  Instances       Size\n"
          ]
        },
        {
          "output_type": "stream",
          "name": "stderr",
          "text": [
            "    274/300      4.39G     0.5496      0.456     0.9157        167        640: 100%|██████████| 8/8 [00:05<00:00,  1.44it/s]\n",
            "                 Class     Images  Instances      Box(P          R      mAP50  mAP50-95): 100%|██████████| 2/2 [00:01<00:00,  1.87it/s]"
          ]
        },
        {
          "output_type": "stream",
          "name": "stdout",
          "text": [
            "                   all         35        628      0.489      0.651      0.573      0.444\n"
          ]
        },
        {
          "output_type": "stream",
          "name": "stderr",
          "text": [
            "\n"
          ]
        },
        {
          "output_type": "stream",
          "name": "stdout",
          "text": [
            "\n",
            "      Epoch    GPU_mem   box_loss   cls_loss   dfl_loss  Instances       Size\n"
          ]
        },
        {
          "output_type": "stream",
          "name": "stderr",
          "text": [
            "    275/300      4.53G     0.5853     0.4892     0.9345        174        640: 100%|██████████| 8/8 [00:03<00:00,  2.16it/s]\n",
            "                 Class     Images  Instances      Box(P          R      mAP50  mAP50-95): 100%|██████████| 2/2 [00:01<00:00,  1.83it/s]\n"
          ]
        },
        {
          "output_type": "stream",
          "name": "stdout",
          "text": [
            "                   all         35        628      0.486      0.653      0.572      0.441\n",
            "\n",
            "      Epoch    GPU_mem   box_loss   cls_loss   dfl_loss  Instances       Size\n"
          ]
        },
        {
          "output_type": "stream",
          "name": "stderr",
          "text": [
            "    276/300      4.35G      0.563     0.4577     0.9083        286        640: 100%|██████████| 8/8 [00:05<00:00,  1.35it/s]\n",
            "                 Class     Images  Instances      Box(P          R      mAP50  mAP50-95): 100%|██████████| 2/2 [00:01<00:00,  1.30it/s]\n"
          ]
        },
        {
          "output_type": "stream",
          "name": "stdout",
          "text": [
            "                   all         35        628      0.486      0.658      0.566      0.439\n",
            "\n",
            "      Epoch    GPU_mem   box_loss   cls_loss   dfl_loss  Instances       Size\n"
          ]
        },
        {
          "output_type": "stream",
          "name": "stderr",
          "text": [
            "    277/300      4.59G     0.5435     0.4563     0.9157        202        640: 100%|██████████| 8/8 [00:03<00:00,  2.21it/s]\n",
            "                 Class     Images  Instances      Box(P          R      mAP50  mAP50-95): 100%|██████████| 2/2 [00:00<00:00,  2.37it/s]\n"
          ]
        },
        {
          "output_type": "stream",
          "name": "stdout",
          "text": [
            "                   all         35        628      0.483       0.65      0.565      0.436\n",
            "\n",
            "      Epoch    GPU_mem   box_loss   cls_loss   dfl_loss  Instances       Size\n"
          ]
        },
        {
          "output_type": "stream",
          "name": "stderr",
          "text": [
            "    278/300      4.63G     0.5675     0.4791     0.9232        273        640: 100%|██████████| 8/8 [00:05<00:00,  1.42it/s]\n",
            "                 Class     Images  Instances      Box(P          R      mAP50  mAP50-95): 100%|██████████| 2/2 [00:01<00:00,  1.31it/s]\n"
          ]
        },
        {
          "output_type": "stream",
          "name": "stdout",
          "text": [
            "                   all         35        628      0.493      0.664      0.569      0.438\n",
            "\n",
            "      Epoch    GPU_mem   box_loss   cls_loss   dfl_loss  Instances       Size\n"
          ]
        },
        {
          "output_type": "stream",
          "name": "stderr",
          "text": [
            "    279/300      4.37G     0.5448     0.4562      0.914        166        640: 100%|██████████| 8/8 [00:04<00:00,  1.86it/s]\n",
            "                 Class     Images  Instances      Box(P          R      mAP50  mAP50-95): 100%|██████████| 2/2 [00:01<00:00,  1.98it/s]"
          ]
        },
        {
          "output_type": "stream",
          "name": "stdout",
          "text": [
            "                   all         35        628      0.498      0.657      0.574      0.439\n"
          ]
        },
        {
          "output_type": "stream",
          "name": "stderr",
          "text": [
            "\n"
          ]
        },
        {
          "output_type": "stream",
          "name": "stdout",
          "text": [
            "\n",
            "      Epoch    GPU_mem   box_loss   cls_loss   dfl_loss  Instances       Size\n"
          ]
        },
        {
          "output_type": "stream",
          "name": "stderr",
          "text": [
            "    280/300      4.35G     0.5534     0.4588     0.9042        322        640: 100%|██████████| 8/8 [00:03<00:00,  2.06it/s]\n",
            "                 Class     Images  Instances      Box(P          R      mAP50  mAP50-95): 100%|██████████| 2/2 [00:01<00:00,  1.41it/s]\n"
          ]
        },
        {
          "output_type": "stream",
          "name": "stdout",
          "text": [
            "                   all         35        628      0.501      0.653      0.579      0.446\n",
            "\n",
            "      Epoch    GPU_mem   box_loss   cls_loss   dfl_loss  Instances       Size\n"
          ]
        },
        {
          "output_type": "stream",
          "name": "stderr",
          "text": [
            "    281/300      4.35G     0.5709     0.4681     0.9234        207        640: 100%|██████████| 8/8 [00:06<00:00,  1.32it/s]\n",
            "                 Class     Images  Instances      Box(P          R      mAP50  mAP50-95): 100%|██████████| 2/2 [00:00<00:00,  2.02it/s]"
          ]
        },
        {
          "output_type": "stream",
          "name": "stdout",
          "text": [
            "                   all         35        628      0.502      0.648      0.578      0.448\n"
          ]
        },
        {
          "output_type": "stream",
          "name": "stderr",
          "text": [
            "\n"
          ]
        },
        {
          "output_type": "stream",
          "name": "stdout",
          "text": [
            "\n",
            "      Epoch    GPU_mem   box_loss   cls_loss   dfl_loss  Instances       Size\n"
          ]
        },
        {
          "output_type": "stream",
          "name": "stderr",
          "text": [
            "    282/300      4.16G      0.559     0.4612     0.9163        254        640: 100%|██████████| 8/8 [00:03<00:00,  2.49it/s]\n",
            "                 Class     Images  Instances      Box(P          R      mAP50  mAP50-95): 100%|██████████| 2/2 [00:00<00:00,  2.03it/s]"
          ]
        },
        {
          "output_type": "stream",
          "name": "stdout",
          "text": [
            "                   all         35        628        0.5      0.643      0.582       0.45\n"
          ]
        },
        {
          "output_type": "stream",
          "name": "stderr",
          "text": [
            "\n"
          ]
        },
        {
          "output_type": "stream",
          "name": "stdout",
          "text": [
            "\n",
            "      Epoch    GPU_mem   box_loss   cls_loss   dfl_loss  Instances       Size\n"
          ]
        },
        {
          "output_type": "stream",
          "name": "stderr",
          "text": [
            "    283/300      4.56G     0.5606     0.4739     0.9199        150        640: 100%|██████████| 8/8 [00:05<00:00,  1.42it/s]\n",
            "                 Class     Images  Instances      Box(P          R      mAP50  mAP50-95): 100%|██████████| 2/2 [00:01<00:00,  1.34it/s]\n"
          ]
        },
        {
          "output_type": "stream",
          "name": "stdout",
          "text": [
            "                   all         35        628      0.495      0.654      0.594      0.457\n",
            "\n",
            "      Epoch    GPU_mem   box_loss   cls_loss   dfl_loss  Instances       Size\n"
          ]
        },
        {
          "output_type": "stream",
          "name": "stderr",
          "text": [
            "    284/300      4.61G     0.5492      0.449     0.9109        201        640: 100%|██████████| 8/8 [00:03<00:00,  2.34it/s]\n",
            "                 Class     Images  Instances      Box(P          R      mAP50  mAP50-95): 100%|██████████| 2/2 [00:00<00:00,  2.02it/s]"
          ]
        },
        {
          "output_type": "stream",
          "name": "stdout",
          "text": [
            "                   all         35        628       0.49      0.647       0.59      0.455\n"
          ]
        },
        {
          "output_type": "stream",
          "name": "stderr",
          "text": [
            "\n"
          ]
        },
        {
          "output_type": "stream",
          "name": "stdout",
          "text": [
            "\n",
            "      Epoch    GPU_mem   box_loss   cls_loss   dfl_loss  Instances       Size\n"
          ]
        },
        {
          "output_type": "stream",
          "name": "stderr",
          "text": [
            "    285/300      4.32G     0.5726     0.4777     0.9264        284        640: 100%|██████████| 8/8 [00:03<00:00,  2.00it/s]\n",
            "                 Class     Images  Instances      Box(P          R      mAP50  mAP50-95): 100%|██████████| 2/2 [00:01<00:00,  1.39it/s]\n"
          ]
        },
        {
          "output_type": "stream",
          "name": "stdout",
          "text": [
            "                   all         35        628      0.493      0.655      0.574      0.442\n",
            "\n",
            "      Epoch    GPU_mem   box_loss   cls_loss   dfl_loss  Instances       Size\n"
          ]
        },
        {
          "output_type": "stream",
          "name": "stderr",
          "text": [
            "    286/300       4.4G      0.552     0.4633     0.9134        261        640: 100%|██████████| 8/8 [00:05<00:00,  1.37it/s]\n",
            "                 Class     Images  Instances      Box(P          R      mAP50  mAP50-95): 100%|██████████| 2/2 [00:01<00:00,  1.98it/s]"
          ]
        },
        {
          "output_type": "stream",
          "name": "stdout",
          "text": [
            "                   all         35        628      0.497      0.656       0.58      0.446\n"
          ]
        },
        {
          "output_type": "stream",
          "name": "stderr",
          "text": [
            "\n"
          ]
        },
        {
          "output_type": "stream",
          "name": "stdout",
          "text": [
            "\n",
            "      Epoch    GPU_mem   box_loss   cls_loss   dfl_loss  Instances       Size\n"
          ]
        },
        {
          "output_type": "stream",
          "name": "stderr",
          "text": [
            "    287/300      4.27G     0.5439     0.4533     0.9098        252        640: 100%|██████████| 8/8 [00:03<00:00,  2.20it/s]\n",
            "                 Class     Images  Instances      Box(P          R      mAP50  mAP50-95): 100%|██████████| 2/2 [00:01<00:00,  1.82it/s]"
          ]
        },
        {
          "output_type": "stream",
          "name": "stdout",
          "text": [
            "                   all         35        628      0.498      0.652      0.582      0.446\n"
          ]
        },
        {
          "output_type": "stream",
          "name": "stderr",
          "text": [
            "\n"
          ]
        },
        {
          "output_type": "stream",
          "name": "stdout",
          "text": [
            "\n",
            "      Epoch    GPU_mem   box_loss   cls_loss   dfl_loss  Instances       Size\n"
          ]
        },
        {
          "output_type": "stream",
          "name": "stderr",
          "text": [
            "    288/300      4.66G     0.5782     0.4782     0.9266        211        640: 100%|██████████| 8/8 [00:05<00:00,  1.39it/s]\n",
            "                 Class     Images  Instances      Box(P          R      mAP50  mAP50-95): 100%|██████████| 2/2 [00:01<00:00,  1.30it/s]\n"
          ]
        },
        {
          "output_type": "stream",
          "name": "stdout",
          "text": [
            "                   all         35        628      0.495       0.66      0.578      0.443\n",
            "\n",
            "      Epoch    GPU_mem   box_loss   cls_loss   dfl_loss  Instances       Size\n"
          ]
        },
        {
          "output_type": "stream",
          "name": "stderr",
          "text": [
            "    289/300      4.32G     0.5481      0.458     0.9157        274        640: 100%|██████████| 8/8 [00:03<00:00,  2.20it/s]\n",
            "                 Class     Images  Instances      Box(P          R      mAP50  mAP50-95): 100%|██████████| 2/2 [00:01<00:00,  1.80it/s]\n"
          ]
        },
        {
          "output_type": "stream",
          "name": "stdout",
          "text": [
            "                   all         35        628      0.494      0.666      0.581      0.447\n",
            "\n",
            "      Epoch    GPU_mem   box_loss   cls_loss   dfl_loss  Instances       Size\n"
          ]
        },
        {
          "output_type": "stream",
          "name": "stderr",
          "text": [
            "    290/300      4.27G     0.5482     0.4519     0.9188        264        640: 100%|██████████| 8/8 [00:04<00:00,  1.79it/s]\n",
            "                 Class     Images  Instances      Box(P          R      mAP50  mAP50-95): 100%|██████████| 2/2 [00:01<00:00,  1.44it/s]\n"
          ]
        },
        {
          "output_type": "stream",
          "name": "stdout",
          "text": [
            "                   all         35        628      0.489      0.665      0.579      0.445\n",
            "Closing dataloader mosaic\n",
            "\u001b[34m\u001b[1malbumentations: \u001b[0mBlur(p=0.01, blur_limit=(3, 7)), MedianBlur(p=0.01, blur_limit=(3, 7)), ToGray(p=0.01), CLAHE(p=0.01, clip_limit=(1, 4.0), tile_grid_size=(8, 8))\n"
          ]
        },
        {
          "output_type": "stream",
          "name": "stderr",
          "text": [
            "/usr/lib/python3.10/multiprocessing/popen_fork.py:66: RuntimeWarning: os.fork() was called. os.fork() is incompatible with multithreaded code, and JAX is multithreaded, so this will likely lead to a deadlock.\n",
            "  self.pid = os.fork()\n",
            "/usr/lib/python3.10/multiprocessing/popen_fork.py:66: RuntimeWarning: os.fork() was called. os.fork() is incompatible with multithreaded code, and JAX is multithreaded, so this will likely lead to a deadlock.\n",
            "  self.pid = os.fork()\n"
          ]
        },
        {
          "output_type": "stream",
          "name": "stdout",
          "text": [
            "\n",
            "      Epoch    GPU_mem   box_loss   cls_loss   dfl_loss  Instances       Size\n"
          ]
        },
        {
          "output_type": "stream",
          "name": "stderr",
          "text": [
            "    291/300      4.28G     0.5521     0.4329     0.9271        206        640: 100%|██████████| 8/8 [00:10<00:00,  1.26s/it]\n",
            "                 Class     Images  Instances      Box(P          R      mAP50  mAP50-95): 100%|██████████| 2/2 [00:00<00:00,  3.73it/s]"
          ]
        },
        {
          "output_type": "stream",
          "name": "stdout",
          "text": [
            "                   all         35        628       0.47      0.663      0.576      0.445\n"
          ]
        },
        {
          "output_type": "stream",
          "name": "stderr",
          "text": [
            "\n"
          ]
        },
        {
          "output_type": "stream",
          "name": "stdout",
          "text": [
            "\n",
            "      Epoch    GPU_mem   box_loss   cls_loss   dfl_loss  Instances       Size\n"
          ]
        },
        {
          "output_type": "stream",
          "name": "stderr",
          "text": [
            "    292/300      4.28G     0.5386     0.4229     0.9271        145        640: 100%|██████████| 8/8 [00:02<00:00,  2.67it/s]\n",
            "                 Class     Images  Instances      Box(P          R      mAP50  mAP50-95): 100%|██████████| 2/2 [00:01<00:00,  1.72it/s]\n"
          ]
        },
        {
          "output_type": "stream",
          "name": "stdout",
          "text": [
            "                   all         35        628       0.44      0.665      0.577      0.445\n",
            "\n",
            "      Epoch    GPU_mem   box_loss   cls_loss   dfl_loss  Instances       Size\n"
          ]
        },
        {
          "output_type": "stream",
          "name": "stderr",
          "text": [
            "    293/300      4.28G     0.5265     0.4118     0.9249        143        640: 100%|██████████| 8/8 [00:03<00:00,  2.44it/s]\n",
            "                 Class     Images  Instances      Box(P          R      mAP50  mAP50-95): 100%|██████████| 2/2 [00:01<00:00,  1.48it/s]\n"
          ]
        },
        {
          "output_type": "stream",
          "name": "stdout",
          "text": [
            "                   all         35        628       0.53      0.592      0.575      0.443\n",
            "\n",
            "      Epoch    GPU_mem   box_loss   cls_loss   dfl_loss  Instances       Size\n"
          ]
        },
        {
          "output_type": "stream",
          "name": "stderr",
          "text": [
            "    294/300      4.28G     0.5268     0.4162     0.9109        156        640: 100%|██████████| 8/8 [00:02<00:00,  3.43it/s]\n",
            "                 Class     Images  Instances      Box(P          R      mAP50  mAP50-95): 100%|██████████| 2/2 [00:00<00:00,  2.78it/s]\n"
          ]
        },
        {
          "output_type": "stream",
          "name": "stdout",
          "text": [
            "                   all         35        628      0.573      0.546      0.575      0.442\n",
            "\n",
            "      Epoch    GPU_mem   box_loss   cls_loss   dfl_loss  Instances       Size\n"
          ]
        },
        {
          "output_type": "stream",
          "name": "stderr",
          "text": [
            "    295/300      4.28G      0.521     0.4053     0.9088        156        640: 100%|██████████| 8/8 [00:02<00:00,  3.51it/s]\n",
            "                 Class     Images  Instances      Box(P          R      mAP50  mAP50-95): 100%|██████████| 2/2 [00:00<00:00,  2.54it/s]\n"
          ]
        },
        {
          "output_type": "stream",
          "name": "stdout",
          "text": [
            "                   all         35        628      0.595      0.527      0.568      0.436\n",
            "\n",
            "      Epoch    GPU_mem   box_loss   cls_loss   dfl_loss  Instances       Size\n"
          ]
        },
        {
          "output_type": "stream",
          "name": "stderr",
          "text": [
            "    296/300      4.28G     0.5272     0.4169     0.9134        162        640: 100%|██████████| 8/8 [00:02<00:00,  2.81it/s]\n",
            "                 Class     Images  Instances      Box(P          R      mAP50  mAP50-95): 100%|██████████| 2/2 [00:01<00:00,  1.72it/s]\n"
          ]
        },
        {
          "output_type": "stream",
          "name": "stdout",
          "text": [
            "                   all         35        628      0.593      0.532      0.572       0.44\n",
            "\n",
            "      Epoch    GPU_mem   box_loss   cls_loss   dfl_loss  Instances       Size\n"
          ]
        },
        {
          "output_type": "stream",
          "name": "stderr",
          "text": [
            "    297/300      4.26G     0.5128     0.4081     0.9225        146        640: 100%|██████████| 8/8 [00:03<00:00,  2.41it/s]\n",
            "                 Class     Images  Instances      Box(P          R      mAP50  mAP50-95): 100%|██████████| 2/2 [00:01<00:00,  1.42it/s]"
          ]
        },
        {
          "output_type": "stream",
          "name": "stdout",
          "text": [
            "                   all         35        628      0.516      0.584      0.568      0.438\n"
          ]
        },
        {
          "output_type": "stream",
          "name": "stderr",
          "text": [
            "\n"
          ]
        },
        {
          "output_type": "stream",
          "name": "stdout",
          "text": [
            "\n",
            "      Epoch    GPU_mem   box_loss   cls_loss   dfl_loss  Instances       Size\n"
          ]
        },
        {
          "output_type": "stream",
          "name": "stderr",
          "text": [
            "    298/300      4.26G     0.5035     0.4025     0.9064        144        640: 100%|██████████| 8/8 [00:02<00:00,  3.37it/s]\n",
            "                 Class     Images  Instances      Box(P          R      mAP50  mAP50-95): 100%|██████████| 2/2 [00:00<00:00,  2.95it/s]\n"
          ]
        },
        {
          "output_type": "stream",
          "name": "stdout",
          "text": [
            "                   all         35        628      0.508      0.587      0.567      0.437\n",
            "\n",
            "      Epoch    GPU_mem   box_loss   cls_loss   dfl_loss  Instances       Size\n"
          ]
        },
        {
          "output_type": "stream",
          "name": "stderr",
          "text": [
            "    299/300      4.26G     0.5292     0.4546     0.9305         97        640: 100%|██████████| 8/8 [00:02<00:00,  3.36it/s]\n",
            "                 Class     Images  Instances      Box(P          R      mAP50  mAP50-95): 100%|██████████| 2/2 [00:00<00:00,  3.29it/s]"
          ]
        },
        {
          "output_type": "stream",
          "name": "stdout",
          "text": [
            "                   all         35        628      0.507      0.585      0.565      0.437\n"
          ]
        },
        {
          "output_type": "stream",
          "name": "stderr",
          "text": [
            "\n"
          ]
        },
        {
          "output_type": "stream",
          "name": "stdout",
          "text": [
            "\n",
            "      Epoch    GPU_mem   box_loss   cls_loss   dfl_loss  Instances       Size\n"
          ]
        },
        {
          "output_type": "stream",
          "name": "stderr",
          "text": [
            "    300/300      4.28G     0.5125     0.4038     0.9014        124        640: 100%|██████████| 8/8 [00:02<00:00,  3.00it/s]\n",
            "                 Class     Images  Instances      Box(P          R      mAP50  mAP50-95): 100%|██████████| 2/2 [00:00<00:00,  2.08it/s]\n"
          ]
        },
        {
          "output_type": "stream",
          "name": "stdout",
          "text": [
            "                   all         35        628      0.556      0.549      0.562      0.435\n",
            "\n",
            "300 epochs completed in 0.723 hours.\n",
            "Optimizer stripped from runs/detect/train8/weights/last.pt, 22.6MB\n",
            "Optimizer stripped from runs/detect/train8/weights/best.pt, 22.6MB\n",
            "\n",
            "Validating runs/detect/train8/weights/best.pt...\n",
            "Ultralytics YOLOv8.2.18 🚀 Python-3.10.12 torch-2.2.1+cu121 CUDA:0 (Tesla T4, 15102MiB)\n",
            "Model summary (fused): 168 layers, 11142612 parameters, 0 gradients, 28.5 GFLOPs\n"
          ]
        },
        {
          "output_type": "stream",
          "name": "stderr",
          "text": [
            "                 Class     Images  Instances      Box(P          R      mAP50  mAP50-95): 100%|██████████| 2/2 [00:05<00:00,  2.59s/it]\n"
          ]
        },
        {
          "output_type": "stream",
          "name": "stdout",
          "text": [
            "                   all         35        628      0.491      0.678      0.608       0.47\n",
            "                    11         35         16       0.62      0.875      0.831      0.728\n",
            "                    12         35         16       0.52      0.875      0.817      0.654\n",
            "                    13         35         16      0.517       0.75      0.823      0.708\n",
            "                    14         35         16       0.57      0.812      0.719      0.627\n",
            "                    15         35         14      0.564      0.739      0.733       0.67\n",
            "                    16         35         12      0.468      0.583      0.512      0.442\n",
            "                    17         35          7      0.412      0.857      0.689      0.572\n",
            "                    18         35          1      0.388          1      0.995      0.796\n",
            "                    21         35         17      0.607      0.706      0.711      0.624\n",
            "                    22         35         15      0.524      0.867      0.871      0.692\n",
            "                    23         35         12      0.514      0.833      0.676      0.601\n",
            "                    24         35         15      0.599        0.8       0.74       0.63\n",
            "                    25         35         15      0.577      0.819      0.779      0.652\n",
            "                    26         35         14      0.596      0.738       0.75      0.691\n",
            "                    27         35          7      0.362      0.569      0.397      0.343\n",
            "                    28         35          2      0.757          1      0.995      0.697\n",
            "                    31         35          9      0.442      0.618      0.642      0.551\n",
            "                    32         35          8      0.358          1       0.43      0.356\n",
            "                    33         35          9      0.706      0.536      0.739      0.556\n",
            "                    34         35          9      0.547          1      0.716      0.634\n",
            "                    35         35         10      0.373        0.8      0.641      0.478\n",
            "                    36         35          7      0.399      0.714      0.649      0.475\n",
            "                    37         35          6      0.325      0.833      0.398      0.308\n",
            "                    38         35          4      0.304      0.552      0.455      0.366\n",
            "                    41         35          9      0.379      0.556      0.476      0.376\n",
            "                    42         35          9       0.33      0.778      0.519      0.413\n",
            "                    43         35          9      0.409      0.667      0.703      0.583\n",
            "                    44         35         10      0.523        0.5      0.561       0.46\n",
            "                    45         35         10      0.479      0.463      0.473      0.396\n",
            "                    46         35          9      0.294      0.333      0.382      0.346\n",
            "                    47         35          4      0.389        0.5      0.288      0.268\n",
            "                    48         35          2      0.526          1      0.828      0.763\n",
            "       amalgam filling         35         11      0.596      0.806      0.772      0.506\n",
            "              calculus         35         12      0.269      0.167      0.185     0.0943\n",
            "      fixed prosthesis         35         11      0.306      0.364      0.275      0.209\n",
            "      incisive papilla         35         15      0.745      0.733      0.746      0.241\n",
            "    non-carious lesion         35         56      0.411      0.268      0.306      0.137\n",
            "        palatine raphe         35         15      0.716      0.933      0.938      0.365\n",
            "staining or visible changes without cavitation         35        120       0.23      0.108     0.0751     0.0215\n",
            "                tongue         35         12      0.789          1      0.944       0.83\n",
            "tooth coloured filling         35          3      0.873      0.333      0.337      0.135\n",
            "visible changes with cavitation         35         21      0.683      0.571      0.563        0.2\n",
            "visible changes with microcavitation         35         33      0.124      0.212     0.0713     0.0235\n",
            "Speed: 0.2ms preprocess, 100.3ms inference, 0.0ms loss, 4.7ms postprocess per image\n",
            "Results saved to \u001b[1mruns/detect/train8\u001b[0m\n"
          ]
        }
      ]
    },
    {
      "cell_type": "code",
      "source": [
        "import locale\n",
        "locale.getpreferredencoding = lambda: \"UTF-8\"\n",
        "\n",
        "!scp -r /content/runs '/content/drive/MyDrive/testrun'"
      ],
      "metadata": {
        "id": "pPKPfUGNCQfy"
      },
      "execution_count": null,
      "outputs": []
    },
    {
      "cell_type": "code",
      "source": [
        "!nvidia-smi\n",
        "\n",
        "import torch\n",
        "torch.cuda.is_available()\n",
        "\n",
        "!nvcc --version\n",
        "\n",
        "type(results)"
      ],
      "metadata": {
        "id": "HIRFl4lT6f1y",
        "colab": {
          "base_uri": "https://localhost:8080/",
          "height": 603
        },
        "outputId": "2d23613f-63bb-4de2-dd5d-6e86964f4a8a"
      },
      "execution_count": null,
      "outputs": [
        {
          "output_type": "stream",
          "name": "stdout",
          "text": [
            "Sat May 18 21:33:27 2024       \n",
            "+---------------------------------------------------------------------------------------+\n",
            "| NVIDIA-SMI 535.104.05             Driver Version: 535.104.05   CUDA Version: 12.2     |\n",
            "|-----------------------------------------+----------------------+----------------------+\n",
            "| GPU  Name                 Persistence-M | Bus-Id        Disp.A | Volatile Uncorr. ECC |\n",
            "| Fan  Temp   Perf          Pwr:Usage/Cap |         Memory-Usage | GPU-Util  Compute M. |\n",
            "|                                         |                      |               MIG M. |\n",
            "|=========================================+======================+======================|\n",
            "|   0  Tesla T4                       Off | 00000000:00:04.0 Off |                    0 |\n",
            "| N/A   53C    P0              27W /  70W |    683MiB / 15360MiB |      0%      Default |\n",
            "|                                         |                      |                  N/A |\n",
            "+-----------------------------------------+----------------------+----------------------+\n",
            "                                                                                         \n",
            "+---------------------------------------------------------------------------------------+\n",
            "| Processes:                                                                            |\n",
            "|  GPU   GI   CI        PID   Type   Process name                            GPU Memory |\n",
            "|        ID   ID                                                             Usage      |\n",
            "|=======================================================================================|\n",
            "+---------------------------------------------------------------------------------------+\n",
            "nvcc: NVIDIA (R) Cuda compiler driver\n",
            "Copyright (c) 2005-2023 NVIDIA Corporation\n",
            "Built on Tue_Aug_15_22:02:13_PDT_2023\n",
            "Cuda compilation tools, release 12.2, V12.2.140\n",
            "Build cuda_12.2.r12.2/compiler.33191640_0\n"
          ]
        },
        {
          "output_type": "execute_result",
          "data": {
            "text/plain": [
              "ultralytics.utils.metrics.DetMetrics"
            ],
            "text/html": [
              "<div style=\"max-width:800px; border: 1px solid var(--colab-border-color);\"><style>\n",
              "      pre.function-repr-contents {\n",
              "        overflow-x: auto;\n",
              "        padding: 8px 12px;\n",
              "        max-height: 500px;\n",
              "      }\n",
              "\n",
              "      pre.function-repr-contents.function-repr-contents-collapsed {\n",
              "        cursor: pointer;\n",
              "        max-height: 100px;\n",
              "      }\n",
              "    </style>\n",
              "    <pre style=\"white-space: initial; background:\n",
              "         var(--colab-secondary-surface-color); padding: 8px 12px;\n",
              "         border-bottom: 1px solid var(--colab-border-color);\"><b>ultralytics.utils.metrics.DetMetrics</b><br/>def __init__(save_dir=Path(&#x27;.&#x27;), plot=False, on_plot=None, names=()) -&gt; None</pre><pre class=\"function-repr-contents function-repr-contents-collapsed\" style=\"\"><a class=\"filepath\" style=\"display:none\" href=\"#\">/usr/local/lib/python3.10/dist-packages/ultralytics/utils/metrics.py</a>This class is a utility class for computing detection metrics such as precision, recall, and mean average precision\n",
              "(mAP) of an object detection model.\n",
              "\n",
              "Args:\n",
              "    save_dir (Path): A path to the directory where the output plots will be saved. Defaults to current directory.\n",
              "    plot (bool): A flag that indicates whether to plot precision-recall curves for each class. Defaults to False.\n",
              "    on_plot (func): An optional callback to pass plots path and data when they are rendered. Defaults to None.\n",
              "    names (tuple of str): A tuple of strings that represents the names of the classes. Defaults to an empty tuple.\n",
              "\n",
              "Attributes:\n",
              "    save_dir (Path): A path to the directory where the output plots will be saved.\n",
              "    plot (bool): A flag that indicates whether to plot the precision-recall curves for each class.\n",
              "    on_plot (func): An optional callback to pass plots path and data when they are rendered.\n",
              "    names (tuple of str): A tuple of strings that represents the names of the classes.\n",
              "    box (Metric): An instance of the Metric class for storing the results of the detection metrics.\n",
              "    speed (dict): A dictionary for storing the execution time of different parts of the detection process.\n",
              "\n",
              "Methods:\n",
              "    process(tp, conf, pred_cls, target_cls): Updates the metric results with the latest batch of predictions.\n",
              "    keys: Returns a list of keys for accessing the computed detection metrics.\n",
              "    mean_results: Returns a list of mean values for the computed detection metrics.\n",
              "    class_result(i): Returns a list of values for the computed detection metrics for a specific class.\n",
              "    maps: Returns a dictionary of mean average precision (mAP) values for different IoU thresholds.\n",
              "    fitness: Computes the fitness score based on the computed detection metrics.\n",
              "    ap_class_index: Returns a list of class indices sorted by their average precision (AP) values.\n",
              "    results_dict: Returns a dictionary that maps detection metric keys to their computed values.\n",
              "    curves: TODO\n",
              "    curves_results: TODO</pre>\n",
              "      <script>\n",
              "      if (google.colab.kernel.accessAllowed && google.colab.files && google.colab.files.view) {\n",
              "        for (const element of document.querySelectorAll('.filepath')) {\n",
              "          element.style.display = 'block'\n",
              "          element.onclick = (event) => {\n",
              "            event.preventDefault();\n",
              "            event.stopPropagation();\n",
              "            google.colab.files.view(element.textContent, 792);\n",
              "          };\n",
              "        }\n",
              "      }\n",
              "      for (const element of document.querySelectorAll('.function-repr-contents')) {\n",
              "        element.onclick = (event) => {\n",
              "          event.preventDefault();\n",
              "          event.stopPropagation();\n",
              "          element.classList.toggle('function-repr-contents-collapsed');\n",
              "        };\n",
              "      }\n",
              "      </script>\n",
              "      </div>"
            ]
          },
          "metadata": {},
          "execution_count": 6
        }
      ]
    },
    {
      "cell_type": "code",
      "source": [
        "results"
      ],
      "metadata": {
        "id": "u4CEdifazNnF",
        "colab": {
          "base_uri": "https://localhost:8080/"
        },
        "outputId": "2fc1e816-642d-449f-a65f-ea9671fd32ee"
      },
      "execution_count": null,
      "outputs": [
        {
          "output_type": "execute_result",
          "data": {
            "text/plain": [
              "ultralytics.utils.metrics.DetMetrics object with attributes:\n",
              "\n",
              "ap_class_index: array([ 0,  1,  2,  3,  4,  5,  6,  7,  8,  9, 10, 11, 12, 13, 14, 15, 16, 17, 18, 19, 20, 21, 22, 23, 24, 25, 26, 27, 28, 29, 30, 31, 32, 33, 34, 35, 36, 37, 38, 40, 41, 42, 43])\n",
              "box: ultralytics.utils.metrics.Metric object\n",
              "confusion_matrix: <ultralytics.utils.metrics.ConfusionMatrix object at 0x7e4faacae530>\n",
              "curves: ['Precision-Recall(B)', 'F1-Confidence(B)', 'Precision-Confidence(B)', 'Recall-Confidence(B)']\n",
              "curves_results: [[array([          0,    0.001001,    0.002002,    0.003003,    0.004004,    0.005005,    0.006006,    0.007007,    0.008008,    0.009009,     0.01001,    0.011011,    0.012012,    0.013013,    0.014014,    0.015015,    0.016016,    0.017017,    0.018018,    0.019019,     0.02002,    0.021021,    0.022022,    0.023023,\n",
              "          0.024024,    0.025025,    0.026026,    0.027027,    0.028028,    0.029029,     0.03003,    0.031031,    0.032032,    0.033033,    0.034034,    0.035035,    0.036036,    0.037037,    0.038038,    0.039039,     0.04004,    0.041041,    0.042042,    0.043043,    0.044044,    0.045045,    0.046046,    0.047047,\n",
              "          0.048048,    0.049049,     0.05005,    0.051051,    0.052052,    0.053053,    0.054054,    0.055055,    0.056056,    0.057057,    0.058058,    0.059059,     0.06006,    0.061061,    0.062062,    0.063063,    0.064064,    0.065065,    0.066066,    0.067067,    0.068068,    0.069069,     0.07007,    0.071071,\n",
              "          0.072072,    0.073073,    0.074074,    0.075075,    0.076076,    0.077077,    0.078078,    0.079079,     0.08008,    0.081081,    0.082082,    0.083083,    0.084084,    0.085085,    0.086086,    0.087087,    0.088088,    0.089089,     0.09009,    0.091091,    0.092092,    0.093093,    0.094094,    0.095095,\n",
              "          0.096096,    0.097097,    0.098098,    0.099099,      0.1001,      0.1011,      0.1021,      0.1031,      0.1041,     0.10511,     0.10611,     0.10711,     0.10811,     0.10911,     0.11011,     0.11111,     0.11211,     0.11311,     0.11411,     0.11512,     0.11612,     0.11712,     0.11812,     0.11912,\n",
              "           0.12012,     0.12112,     0.12212,     0.12312,     0.12412,     0.12513,     0.12613,     0.12713,     0.12813,     0.12913,     0.13013,     0.13113,     0.13213,     0.13313,     0.13413,     0.13514,     0.13614,     0.13714,     0.13814,     0.13914,     0.14014,     0.14114,     0.14214,     0.14314,\n",
              "           0.14414,     0.14515,     0.14615,     0.14715,     0.14815,     0.14915,     0.15015,     0.15115,     0.15215,     0.15315,     0.15415,     0.15516,     0.15616,     0.15716,     0.15816,     0.15916,     0.16016,     0.16116,     0.16216,     0.16316,     0.16416,     0.16517,     0.16617,     0.16717,\n",
              "           0.16817,     0.16917,     0.17017,     0.17117,     0.17217,     0.17317,     0.17417,     0.17518,     0.17618,     0.17718,     0.17818,     0.17918,     0.18018,     0.18118,     0.18218,     0.18318,     0.18418,     0.18519,     0.18619,     0.18719,     0.18819,     0.18919,     0.19019,     0.19119,\n",
              "           0.19219,     0.19319,     0.19419,      0.1952,      0.1962,      0.1972,      0.1982,      0.1992,      0.2002,      0.2012,      0.2022,      0.2032,      0.2042,     0.20521,     0.20621,     0.20721,     0.20821,     0.20921,     0.21021,     0.21121,     0.21221,     0.21321,     0.21421,     0.21522,\n",
              "           0.21622,     0.21722,     0.21822,     0.21922,     0.22022,     0.22122,     0.22222,     0.22322,     0.22422,     0.22523,     0.22623,     0.22723,     0.22823,     0.22923,     0.23023,     0.23123,     0.23223,     0.23323,     0.23423,     0.23524,     0.23624,     0.23724,     0.23824,     0.23924,\n",
              "           0.24024,     0.24124,     0.24224,     0.24324,     0.24424,     0.24525,     0.24625,     0.24725,     0.24825,     0.24925,     0.25025,     0.25125,     0.25225,     0.25325,     0.25425,     0.25526,     0.25626,     0.25726,     0.25826,     0.25926,     0.26026,     0.26126,     0.26226,     0.26326,\n",
              "           0.26426,     0.26527,     0.26627,     0.26727,     0.26827,     0.26927,     0.27027,     0.27127,     0.27227,     0.27327,     0.27427,     0.27528,     0.27628,     0.27728,     0.27828,     0.27928,     0.28028,     0.28128,     0.28228,     0.28328,     0.28428,     0.28529,     0.28629,     0.28729,\n",
              "           0.28829,     0.28929,     0.29029,     0.29129,     0.29229,     0.29329,     0.29429,      0.2953,      0.2963,      0.2973,      0.2983,      0.2993,      0.3003,      0.3013,      0.3023,      0.3033,      0.3043,     0.30531,     0.30631,     0.30731,     0.30831,     0.30931,     0.31031,     0.31131,\n",
              "           0.31231,     0.31331,     0.31431,     0.31532,     0.31632,     0.31732,     0.31832,     0.31932,     0.32032,     0.32132,     0.32232,     0.32332,     0.32432,     0.32533,     0.32633,     0.32733,     0.32833,     0.32933,     0.33033,     0.33133,     0.33233,     0.33333,     0.33433,     0.33534,\n",
              "           0.33634,     0.33734,     0.33834,     0.33934,     0.34034,     0.34134,     0.34234,     0.34334,     0.34434,     0.34535,     0.34635,     0.34735,     0.34835,     0.34935,     0.35035,     0.35135,     0.35235,     0.35335,     0.35435,     0.35536,     0.35636,     0.35736,     0.35836,     0.35936,\n",
              "           0.36036,     0.36136,     0.36236,     0.36336,     0.36436,     0.36537,     0.36637,     0.36737,     0.36837,     0.36937,     0.37037,     0.37137,     0.37237,     0.37337,     0.37437,     0.37538,     0.37638,     0.37738,     0.37838,     0.37938,     0.38038,     0.38138,     0.38238,     0.38338,\n",
              "           0.38438,     0.38539,     0.38639,     0.38739,     0.38839,     0.38939,     0.39039,     0.39139,     0.39239,     0.39339,     0.39439,      0.3954,      0.3964,      0.3974,      0.3984,      0.3994,      0.4004,      0.4014,      0.4024,      0.4034,      0.4044,     0.40541,     0.40641,     0.40741,\n",
              "           0.40841,     0.40941,     0.41041,     0.41141,     0.41241,     0.41341,     0.41441,     0.41542,     0.41642,     0.41742,     0.41842,     0.41942,     0.42042,     0.42142,     0.42242,     0.42342,     0.42442,     0.42543,     0.42643,     0.42743,     0.42843,     0.42943,     0.43043,     0.43143,\n",
              "           0.43243,     0.43343,     0.43443,     0.43544,     0.43644,     0.43744,     0.43844,     0.43944,     0.44044,     0.44144,     0.44244,     0.44344,     0.44444,     0.44545,     0.44645,     0.44745,     0.44845,     0.44945,     0.45045,     0.45145,     0.45245,     0.45345,     0.45445,     0.45546,\n",
              "           0.45646,     0.45746,     0.45846,     0.45946,     0.46046,     0.46146,     0.46246,     0.46346,     0.46446,     0.46547,     0.46647,     0.46747,     0.46847,     0.46947,     0.47047,     0.47147,     0.47247,     0.47347,     0.47447,     0.47548,     0.47648,     0.47748,     0.47848,     0.47948,\n",
              "           0.48048,     0.48148,     0.48248,     0.48348,     0.48448,     0.48549,     0.48649,     0.48749,     0.48849,     0.48949,     0.49049,     0.49149,     0.49249,     0.49349,     0.49449,      0.4955,      0.4965,      0.4975,      0.4985,      0.4995,      0.5005,      0.5015,      0.5025,      0.5035,\n",
              "            0.5045,     0.50551,     0.50651,     0.50751,     0.50851,     0.50951,     0.51051,     0.51151,     0.51251,     0.51351,     0.51451,     0.51552,     0.51652,     0.51752,     0.51852,     0.51952,     0.52052,     0.52152,     0.52252,     0.52352,     0.52452,     0.52553,     0.52653,     0.52753,\n",
              "           0.52853,     0.52953,     0.53053,     0.53153,     0.53253,     0.53353,     0.53453,     0.53554,     0.53654,     0.53754,     0.53854,     0.53954,     0.54054,     0.54154,     0.54254,     0.54354,     0.54454,     0.54555,     0.54655,     0.54755,     0.54855,     0.54955,     0.55055,     0.55155,\n",
              "           0.55255,     0.55355,     0.55455,     0.55556,     0.55656,     0.55756,     0.55856,     0.55956,     0.56056,     0.56156,     0.56256,     0.56356,     0.56456,     0.56557,     0.56657,     0.56757,     0.56857,     0.56957,     0.57057,     0.57157,     0.57257,     0.57357,     0.57457,     0.57558,\n",
              "           0.57658,     0.57758,     0.57858,     0.57958,     0.58058,     0.58158,     0.58258,     0.58358,     0.58458,     0.58559,     0.58659,     0.58759,     0.58859,     0.58959,     0.59059,     0.59159,     0.59259,     0.59359,     0.59459,      0.5956,      0.5966,      0.5976,      0.5986,      0.5996,\n",
              "            0.6006,      0.6016,      0.6026,      0.6036,      0.6046,     0.60561,     0.60661,     0.60761,     0.60861,     0.60961,     0.61061,     0.61161,     0.61261,     0.61361,     0.61461,     0.61562,     0.61662,     0.61762,     0.61862,     0.61962,     0.62062,     0.62162,     0.62262,     0.62362,\n",
              "           0.62462,     0.62563,     0.62663,     0.62763,     0.62863,     0.62963,     0.63063,     0.63163,     0.63263,     0.63363,     0.63463,     0.63564,     0.63664,     0.63764,     0.63864,     0.63964,     0.64064,     0.64164,     0.64264,     0.64364,     0.64464,     0.64565,     0.64665,     0.64765,\n",
              "           0.64865,     0.64965,     0.65065,     0.65165,     0.65265,     0.65365,     0.65465,     0.65566,     0.65666,     0.65766,     0.65866,     0.65966,     0.66066,     0.66166,     0.66266,     0.66366,     0.66466,     0.66567,     0.66667,     0.66767,     0.66867,     0.66967,     0.67067,     0.67167,\n",
              "           0.67267,     0.67367,     0.67467,     0.67568,     0.67668,     0.67768,     0.67868,     0.67968,     0.68068,     0.68168,     0.68268,     0.68368,     0.68468,     0.68569,     0.68669,     0.68769,     0.68869,     0.68969,     0.69069,     0.69169,     0.69269,     0.69369,     0.69469,      0.6957,\n",
              "            0.6967,      0.6977,      0.6987,      0.6997,      0.7007,      0.7017,      0.7027,      0.7037,      0.7047,     0.70571,     0.70671,     0.70771,     0.70871,     0.70971,     0.71071,     0.71171,     0.71271,     0.71371,     0.71471,     0.71572,     0.71672,     0.71772,     0.71872,     0.71972,\n",
              "           0.72072,     0.72172,     0.72272,     0.72372,     0.72472,     0.72573,     0.72673,     0.72773,     0.72873,     0.72973,     0.73073,     0.73173,     0.73273,     0.73373,     0.73473,     0.73574,     0.73674,     0.73774,     0.73874,     0.73974,     0.74074,     0.74174,     0.74274,     0.74374,\n",
              "           0.74474,     0.74575,     0.74675,     0.74775,     0.74875,     0.74975,     0.75075,     0.75175,     0.75275,     0.75375,     0.75475,     0.75576,     0.75676,     0.75776,     0.75876,     0.75976,     0.76076,     0.76176,     0.76276,     0.76376,     0.76476,     0.76577,     0.76677,     0.76777,\n",
              "           0.76877,     0.76977,     0.77077,     0.77177,     0.77277,     0.77377,     0.77477,     0.77578,     0.77678,     0.77778,     0.77878,     0.77978,     0.78078,     0.78178,     0.78278,     0.78378,     0.78478,     0.78579,     0.78679,     0.78779,     0.78879,     0.78979,     0.79079,     0.79179,\n",
              "           0.79279,     0.79379,     0.79479,      0.7958,      0.7968,      0.7978,      0.7988,      0.7998,      0.8008,      0.8018,      0.8028,      0.8038,      0.8048,     0.80581,     0.80681,     0.80781,     0.80881,     0.80981,     0.81081,     0.81181,     0.81281,     0.81381,     0.81481,     0.81582,\n",
              "           0.81682,     0.81782,     0.81882,     0.81982,     0.82082,     0.82182,     0.82282,     0.82382,     0.82482,     0.82583,     0.82683,     0.82783,     0.82883,     0.82983,     0.83083,     0.83183,     0.83283,     0.83383,     0.83483,     0.83584,     0.83684,     0.83784,     0.83884,     0.83984,\n",
              "           0.84084,     0.84184,     0.84284,     0.84384,     0.84484,     0.84585,     0.84685,     0.84785,     0.84885,     0.84985,     0.85085,     0.85185,     0.85285,     0.85385,     0.85485,     0.85586,     0.85686,     0.85786,     0.85886,     0.85986,     0.86086,     0.86186,     0.86286,     0.86386,\n",
              "           0.86486,     0.86587,     0.86687,     0.86787,     0.86887,     0.86987,     0.87087,     0.87187,     0.87287,     0.87387,     0.87487,     0.87588,     0.87688,     0.87788,     0.87888,     0.87988,     0.88088,     0.88188,     0.88288,     0.88388,     0.88488,     0.88589,     0.88689,     0.88789,\n",
              "           0.88889,     0.88989,     0.89089,     0.89189,     0.89289,     0.89389,     0.89489,      0.8959,      0.8969,      0.8979,      0.8989,      0.8999,      0.9009,      0.9019,      0.9029,      0.9039,      0.9049,     0.90591,     0.90691,     0.90791,     0.90891,     0.90991,     0.91091,     0.91191,\n",
              "           0.91291,     0.91391,     0.91491,     0.91592,     0.91692,     0.91792,     0.91892,     0.91992,     0.92092,     0.92192,     0.92292,     0.92392,     0.92492,     0.92593,     0.92693,     0.92793,     0.92893,     0.92993,     0.93093,     0.93193,     0.93293,     0.93393,     0.93493,     0.93594,\n",
              "           0.93694,     0.93794,     0.93894,     0.93994,     0.94094,     0.94194,     0.94294,     0.94394,     0.94494,     0.94595,     0.94695,     0.94795,     0.94895,     0.94995,     0.95095,     0.95195,     0.95295,     0.95395,     0.95495,     0.95596,     0.95696,     0.95796,     0.95896,     0.95996,\n",
              "           0.96096,     0.96196,     0.96296,     0.96396,     0.96496,     0.96597,     0.96697,     0.96797,     0.96897,     0.96997,     0.97097,     0.97197,     0.97297,     0.97397,     0.97497,     0.97598,     0.97698,     0.97798,     0.97898,     0.97998,     0.98098,     0.98198,     0.98298,     0.98398,\n",
              "           0.98498,     0.98599,     0.98699,     0.98799,     0.98899,     0.98999,     0.99099,     0.99199,     0.99299,     0.99399,     0.99499,       0.996,       0.997,       0.998,       0.999,           1]), array([[          1,           1,           1, ...,     0.55172,     0.55172,           0],\n",
              "       [          1,           1,           1, ...,     0.31373,     0.31373,           0],\n",
              "       [          1,           1,           1, ...,     0.36364,     0.36364,           0],\n",
              "       ...,\n",
              "       [          1,           1,           1, ...,   1.809e-05,  9.0452e-06,           0],\n",
              "       [          1,           1,           1, ...,  0.00032845,  0.00016423,           0],\n",
              "       [       0.25,        0.25,        0.25, ...,  0.00013335,  6.6676e-05,           0]]), 'Recall', 'Precision'], [array([          0,    0.001001,    0.002002,    0.003003,    0.004004,    0.005005,    0.006006,    0.007007,    0.008008,    0.009009,     0.01001,    0.011011,    0.012012,    0.013013,    0.014014,    0.015015,    0.016016,    0.017017,    0.018018,    0.019019,     0.02002,    0.021021,    0.022022,    0.023023,\n",
              "          0.024024,    0.025025,    0.026026,    0.027027,    0.028028,    0.029029,     0.03003,    0.031031,    0.032032,    0.033033,    0.034034,    0.035035,    0.036036,    0.037037,    0.038038,    0.039039,     0.04004,    0.041041,    0.042042,    0.043043,    0.044044,    0.045045,    0.046046,    0.047047,\n",
              "          0.048048,    0.049049,     0.05005,    0.051051,    0.052052,    0.053053,    0.054054,    0.055055,    0.056056,    0.057057,    0.058058,    0.059059,     0.06006,    0.061061,    0.062062,    0.063063,    0.064064,    0.065065,    0.066066,    0.067067,    0.068068,    0.069069,     0.07007,    0.071071,\n",
              "          0.072072,    0.073073,    0.074074,    0.075075,    0.076076,    0.077077,    0.078078,    0.079079,     0.08008,    0.081081,    0.082082,    0.083083,    0.084084,    0.085085,    0.086086,    0.087087,    0.088088,    0.089089,     0.09009,    0.091091,    0.092092,    0.093093,    0.094094,    0.095095,\n",
              "          0.096096,    0.097097,    0.098098,    0.099099,      0.1001,      0.1011,      0.1021,      0.1031,      0.1041,     0.10511,     0.10611,     0.10711,     0.10811,     0.10911,     0.11011,     0.11111,     0.11211,     0.11311,     0.11411,     0.11512,     0.11612,     0.11712,     0.11812,     0.11912,\n",
              "           0.12012,     0.12112,     0.12212,     0.12312,     0.12412,     0.12513,     0.12613,     0.12713,     0.12813,     0.12913,     0.13013,     0.13113,     0.13213,     0.13313,     0.13413,     0.13514,     0.13614,     0.13714,     0.13814,     0.13914,     0.14014,     0.14114,     0.14214,     0.14314,\n",
              "           0.14414,     0.14515,     0.14615,     0.14715,     0.14815,     0.14915,     0.15015,     0.15115,     0.15215,     0.15315,     0.15415,     0.15516,     0.15616,     0.15716,     0.15816,     0.15916,     0.16016,     0.16116,     0.16216,     0.16316,     0.16416,     0.16517,     0.16617,     0.16717,\n",
              "           0.16817,     0.16917,     0.17017,     0.17117,     0.17217,     0.17317,     0.17417,     0.17518,     0.17618,     0.17718,     0.17818,     0.17918,     0.18018,     0.18118,     0.18218,     0.18318,     0.18418,     0.18519,     0.18619,     0.18719,     0.18819,     0.18919,     0.19019,     0.19119,\n",
              "           0.19219,     0.19319,     0.19419,      0.1952,      0.1962,      0.1972,      0.1982,      0.1992,      0.2002,      0.2012,      0.2022,      0.2032,      0.2042,     0.20521,     0.20621,     0.20721,     0.20821,     0.20921,     0.21021,     0.21121,     0.21221,     0.21321,     0.21421,     0.21522,\n",
              "           0.21622,     0.21722,     0.21822,     0.21922,     0.22022,     0.22122,     0.22222,     0.22322,     0.22422,     0.22523,     0.22623,     0.22723,     0.22823,     0.22923,     0.23023,     0.23123,     0.23223,     0.23323,     0.23423,     0.23524,     0.23624,     0.23724,     0.23824,     0.23924,\n",
              "           0.24024,     0.24124,     0.24224,     0.24324,     0.24424,     0.24525,     0.24625,     0.24725,     0.24825,     0.24925,     0.25025,     0.25125,     0.25225,     0.25325,     0.25425,     0.25526,     0.25626,     0.25726,     0.25826,     0.25926,     0.26026,     0.26126,     0.26226,     0.26326,\n",
              "           0.26426,     0.26527,     0.26627,     0.26727,     0.26827,     0.26927,     0.27027,     0.27127,     0.27227,     0.27327,     0.27427,     0.27528,     0.27628,     0.27728,     0.27828,     0.27928,     0.28028,     0.28128,     0.28228,     0.28328,     0.28428,     0.28529,     0.28629,     0.28729,\n",
              "           0.28829,     0.28929,     0.29029,     0.29129,     0.29229,     0.29329,     0.29429,      0.2953,      0.2963,      0.2973,      0.2983,      0.2993,      0.3003,      0.3013,      0.3023,      0.3033,      0.3043,     0.30531,     0.30631,     0.30731,     0.30831,     0.30931,     0.31031,     0.31131,\n",
              "           0.31231,     0.31331,     0.31431,     0.31532,     0.31632,     0.31732,     0.31832,     0.31932,     0.32032,     0.32132,     0.32232,     0.32332,     0.32432,     0.32533,     0.32633,     0.32733,     0.32833,     0.32933,     0.33033,     0.33133,     0.33233,     0.33333,     0.33433,     0.33534,\n",
              "           0.33634,     0.33734,     0.33834,     0.33934,     0.34034,     0.34134,     0.34234,     0.34334,     0.34434,     0.34535,     0.34635,     0.34735,     0.34835,     0.34935,     0.35035,     0.35135,     0.35235,     0.35335,     0.35435,     0.35536,     0.35636,     0.35736,     0.35836,     0.35936,\n",
              "           0.36036,     0.36136,     0.36236,     0.36336,     0.36436,     0.36537,     0.36637,     0.36737,     0.36837,     0.36937,     0.37037,     0.37137,     0.37237,     0.37337,     0.37437,     0.37538,     0.37638,     0.37738,     0.37838,     0.37938,     0.38038,     0.38138,     0.38238,     0.38338,\n",
              "           0.38438,     0.38539,     0.38639,     0.38739,     0.38839,     0.38939,     0.39039,     0.39139,     0.39239,     0.39339,     0.39439,      0.3954,      0.3964,      0.3974,      0.3984,      0.3994,      0.4004,      0.4014,      0.4024,      0.4034,      0.4044,     0.40541,     0.40641,     0.40741,\n",
              "           0.40841,     0.40941,     0.41041,     0.41141,     0.41241,     0.41341,     0.41441,     0.41542,     0.41642,     0.41742,     0.41842,     0.41942,     0.42042,     0.42142,     0.42242,     0.42342,     0.42442,     0.42543,     0.42643,     0.42743,     0.42843,     0.42943,     0.43043,     0.43143,\n",
              "           0.43243,     0.43343,     0.43443,     0.43544,     0.43644,     0.43744,     0.43844,     0.43944,     0.44044,     0.44144,     0.44244,     0.44344,     0.44444,     0.44545,     0.44645,     0.44745,     0.44845,     0.44945,     0.45045,     0.45145,     0.45245,     0.45345,     0.45445,     0.45546,\n",
              "           0.45646,     0.45746,     0.45846,     0.45946,     0.46046,     0.46146,     0.46246,     0.46346,     0.46446,     0.46547,     0.46647,     0.46747,     0.46847,     0.46947,     0.47047,     0.47147,     0.47247,     0.47347,     0.47447,     0.47548,     0.47648,     0.47748,     0.47848,     0.47948,\n",
              "           0.48048,     0.48148,     0.48248,     0.48348,     0.48448,     0.48549,     0.48649,     0.48749,     0.48849,     0.48949,     0.49049,     0.49149,     0.49249,     0.49349,     0.49449,      0.4955,      0.4965,      0.4975,      0.4985,      0.4995,      0.5005,      0.5015,      0.5025,      0.5035,\n",
              "            0.5045,     0.50551,     0.50651,     0.50751,     0.50851,     0.50951,     0.51051,     0.51151,     0.51251,     0.51351,     0.51451,     0.51552,     0.51652,     0.51752,     0.51852,     0.51952,     0.52052,     0.52152,     0.52252,     0.52352,     0.52452,     0.52553,     0.52653,     0.52753,\n",
              "           0.52853,     0.52953,     0.53053,     0.53153,     0.53253,     0.53353,     0.53453,     0.53554,     0.53654,     0.53754,     0.53854,     0.53954,     0.54054,     0.54154,     0.54254,     0.54354,     0.54454,     0.54555,     0.54655,     0.54755,     0.54855,     0.54955,     0.55055,     0.55155,\n",
              "           0.55255,     0.55355,     0.55455,     0.55556,     0.55656,     0.55756,     0.55856,     0.55956,     0.56056,     0.56156,     0.56256,     0.56356,     0.56456,     0.56557,     0.56657,     0.56757,     0.56857,     0.56957,     0.57057,     0.57157,     0.57257,     0.57357,     0.57457,     0.57558,\n",
              "           0.57658,     0.57758,     0.57858,     0.57958,     0.58058,     0.58158,     0.58258,     0.58358,     0.58458,     0.58559,     0.58659,     0.58759,     0.58859,     0.58959,     0.59059,     0.59159,     0.59259,     0.59359,     0.59459,      0.5956,      0.5966,      0.5976,      0.5986,      0.5996,\n",
              "            0.6006,      0.6016,      0.6026,      0.6036,      0.6046,     0.60561,     0.60661,     0.60761,     0.60861,     0.60961,     0.61061,     0.61161,     0.61261,     0.61361,     0.61461,     0.61562,     0.61662,     0.61762,     0.61862,     0.61962,     0.62062,     0.62162,     0.62262,     0.62362,\n",
              "           0.62462,     0.62563,     0.62663,     0.62763,     0.62863,     0.62963,     0.63063,     0.63163,     0.63263,     0.63363,     0.63463,     0.63564,     0.63664,     0.63764,     0.63864,     0.63964,     0.64064,     0.64164,     0.64264,     0.64364,     0.64464,     0.64565,     0.64665,     0.64765,\n",
              "           0.64865,     0.64965,     0.65065,     0.65165,     0.65265,     0.65365,     0.65465,     0.65566,     0.65666,     0.65766,     0.65866,     0.65966,     0.66066,     0.66166,     0.66266,     0.66366,     0.66466,     0.66567,     0.66667,     0.66767,     0.66867,     0.66967,     0.67067,     0.67167,\n",
              "           0.67267,     0.67367,     0.67467,     0.67568,     0.67668,     0.67768,     0.67868,     0.67968,     0.68068,     0.68168,     0.68268,     0.68368,     0.68468,     0.68569,     0.68669,     0.68769,     0.68869,     0.68969,     0.69069,     0.69169,     0.69269,     0.69369,     0.69469,      0.6957,\n",
              "            0.6967,      0.6977,      0.6987,      0.6997,      0.7007,      0.7017,      0.7027,      0.7037,      0.7047,     0.70571,     0.70671,     0.70771,     0.70871,     0.70971,     0.71071,     0.71171,     0.71271,     0.71371,     0.71471,     0.71572,     0.71672,     0.71772,     0.71872,     0.71972,\n",
              "           0.72072,     0.72172,     0.72272,     0.72372,     0.72472,     0.72573,     0.72673,     0.72773,     0.72873,     0.72973,     0.73073,     0.73173,     0.73273,     0.73373,     0.73473,     0.73574,     0.73674,     0.73774,     0.73874,     0.73974,     0.74074,     0.74174,     0.74274,     0.74374,\n",
              "           0.74474,     0.74575,     0.74675,     0.74775,     0.74875,     0.74975,     0.75075,     0.75175,     0.75275,     0.75375,     0.75475,     0.75576,     0.75676,     0.75776,     0.75876,     0.75976,     0.76076,     0.76176,     0.76276,     0.76376,     0.76476,     0.76577,     0.76677,     0.76777,\n",
              "           0.76877,     0.76977,     0.77077,     0.77177,     0.77277,     0.77377,     0.77477,     0.77578,     0.77678,     0.77778,     0.77878,     0.77978,     0.78078,     0.78178,     0.78278,     0.78378,     0.78478,     0.78579,     0.78679,     0.78779,     0.78879,     0.78979,     0.79079,     0.79179,\n",
              "           0.79279,     0.79379,     0.79479,      0.7958,      0.7968,      0.7978,      0.7988,      0.7998,      0.8008,      0.8018,      0.8028,      0.8038,      0.8048,     0.80581,     0.80681,     0.80781,     0.80881,     0.80981,     0.81081,     0.81181,     0.81281,     0.81381,     0.81481,     0.81582,\n",
              "           0.81682,     0.81782,     0.81882,     0.81982,     0.82082,     0.82182,     0.82282,     0.82382,     0.82482,     0.82583,     0.82683,     0.82783,     0.82883,     0.82983,     0.83083,     0.83183,     0.83283,     0.83383,     0.83483,     0.83584,     0.83684,     0.83784,     0.83884,     0.83984,\n",
              "           0.84084,     0.84184,     0.84284,     0.84384,     0.84484,     0.84585,     0.84685,     0.84785,     0.84885,     0.84985,     0.85085,     0.85185,     0.85285,     0.85385,     0.85485,     0.85586,     0.85686,     0.85786,     0.85886,     0.85986,     0.86086,     0.86186,     0.86286,     0.86386,\n",
              "           0.86486,     0.86587,     0.86687,     0.86787,     0.86887,     0.86987,     0.87087,     0.87187,     0.87287,     0.87387,     0.87487,     0.87588,     0.87688,     0.87788,     0.87888,     0.87988,     0.88088,     0.88188,     0.88288,     0.88388,     0.88488,     0.88589,     0.88689,     0.88789,\n",
              "           0.88889,     0.88989,     0.89089,     0.89189,     0.89289,     0.89389,     0.89489,      0.8959,      0.8969,      0.8979,      0.8989,      0.8999,      0.9009,      0.9019,      0.9029,      0.9039,      0.9049,     0.90591,     0.90691,     0.90791,     0.90891,     0.90991,     0.91091,     0.91191,\n",
              "           0.91291,     0.91391,     0.91491,     0.91592,     0.91692,     0.91792,     0.91892,     0.91992,     0.92092,     0.92192,     0.92292,     0.92392,     0.92492,     0.92593,     0.92693,     0.92793,     0.92893,     0.92993,     0.93093,     0.93193,     0.93293,     0.93393,     0.93493,     0.93594,\n",
              "           0.93694,     0.93794,     0.93894,     0.93994,     0.94094,     0.94194,     0.94294,     0.94394,     0.94494,     0.94595,     0.94695,     0.94795,     0.94895,     0.94995,     0.95095,     0.95195,     0.95295,     0.95395,     0.95495,     0.95596,     0.95696,     0.95796,     0.95896,     0.95996,\n",
              "           0.96096,     0.96196,     0.96296,     0.96396,     0.96496,     0.96597,     0.96697,     0.96797,     0.96897,     0.96997,     0.97097,     0.97197,     0.97297,     0.97397,     0.97497,     0.97598,     0.97698,     0.97798,     0.97898,     0.97998,     0.98098,     0.98198,     0.98298,     0.98398,\n",
              "           0.98498,     0.98599,     0.98699,     0.98799,     0.98899,     0.98999,     0.99099,     0.99199,     0.99299,     0.99399,     0.99499,       0.996,       0.997,       0.998,       0.999,           1]), array([[    0.32653,     0.32653,     0.41933, ...,           0,           0,           0],\n",
              "       [    0.28571,     0.28571,      0.3409, ...,           0,           0,           0],\n",
              "       [    0.28829,     0.28829,     0.32904, ...,           0,           0,           0],\n",
              "       ...,\n",
              "       [   0.011834,    0.011834,     0.01785, ...,           0,           0,           0],\n",
              "       [   0.087977,    0.087977,     0.11974, ...,           0,           0,           0],\n",
              "       [   0.046667,    0.046667,    0.055703, ...,           0,           0,           0]]), 'Confidence', 'F1'], [array([          0,    0.001001,    0.002002,    0.003003,    0.004004,    0.005005,    0.006006,    0.007007,    0.008008,    0.009009,     0.01001,    0.011011,    0.012012,    0.013013,    0.014014,    0.015015,    0.016016,    0.017017,    0.018018,    0.019019,     0.02002,    0.021021,    0.022022,    0.023023,\n",
              "          0.024024,    0.025025,    0.026026,    0.027027,    0.028028,    0.029029,     0.03003,    0.031031,    0.032032,    0.033033,    0.034034,    0.035035,    0.036036,    0.037037,    0.038038,    0.039039,     0.04004,    0.041041,    0.042042,    0.043043,    0.044044,    0.045045,    0.046046,    0.047047,\n",
              "          0.048048,    0.049049,     0.05005,    0.051051,    0.052052,    0.053053,    0.054054,    0.055055,    0.056056,    0.057057,    0.058058,    0.059059,     0.06006,    0.061061,    0.062062,    0.063063,    0.064064,    0.065065,    0.066066,    0.067067,    0.068068,    0.069069,     0.07007,    0.071071,\n",
              "          0.072072,    0.073073,    0.074074,    0.075075,    0.076076,    0.077077,    0.078078,    0.079079,     0.08008,    0.081081,    0.082082,    0.083083,    0.084084,    0.085085,    0.086086,    0.087087,    0.088088,    0.089089,     0.09009,    0.091091,    0.092092,    0.093093,    0.094094,    0.095095,\n",
              "          0.096096,    0.097097,    0.098098,    0.099099,      0.1001,      0.1011,      0.1021,      0.1031,      0.1041,     0.10511,     0.10611,     0.10711,     0.10811,     0.10911,     0.11011,     0.11111,     0.11211,     0.11311,     0.11411,     0.11512,     0.11612,     0.11712,     0.11812,     0.11912,\n",
              "           0.12012,     0.12112,     0.12212,     0.12312,     0.12412,     0.12513,     0.12613,     0.12713,     0.12813,     0.12913,     0.13013,     0.13113,     0.13213,     0.13313,     0.13413,     0.13514,     0.13614,     0.13714,     0.13814,     0.13914,     0.14014,     0.14114,     0.14214,     0.14314,\n",
              "           0.14414,     0.14515,     0.14615,     0.14715,     0.14815,     0.14915,     0.15015,     0.15115,     0.15215,     0.15315,     0.15415,     0.15516,     0.15616,     0.15716,     0.15816,     0.15916,     0.16016,     0.16116,     0.16216,     0.16316,     0.16416,     0.16517,     0.16617,     0.16717,\n",
              "           0.16817,     0.16917,     0.17017,     0.17117,     0.17217,     0.17317,     0.17417,     0.17518,     0.17618,     0.17718,     0.17818,     0.17918,     0.18018,     0.18118,     0.18218,     0.18318,     0.18418,     0.18519,     0.18619,     0.18719,     0.18819,     0.18919,     0.19019,     0.19119,\n",
              "           0.19219,     0.19319,     0.19419,      0.1952,      0.1962,      0.1972,      0.1982,      0.1992,      0.2002,      0.2012,      0.2022,      0.2032,      0.2042,     0.20521,     0.20621,     0.20721,     0.20821,     0.20921,     0.21021,     0.21121,     0.21221,     0.21321,     0.21421,     0.21522,\n",
              "           0.21622,     0.21722,     0.21822,     0.21922,     0.22022,     0.22122,     0.22222,     0.22322,     0.22422,     0.22523,     0.22623,     0.22723,     0.22823,     0.22923,     0.23023,     0.23123,     0.23223,     0.23323,     0.23423,     0.23524,     0.23624,     0.23724,     0.23824,     0.23924,\n",
              "           0.24024,     0.24124,     0.24224,     0.24324,     0.24424,     0.24525,     0.24625,     0.24725,     0.24825,     0.24925,     0.25025,     0.25125,     0.25225,     0.25325,     0.25425,     0.25526,     0.25626,     0.25726,     0.25826,     0.25926,     0.26026,     0.26126,     0.26226,     0.26326,\n",
              "           0.26426,     0.26527,     0.26627,     0.26727,     0.26827,     0.26927,     0.27027,     0.27127,     0.27227,     0.27327,     0.27427,     0.27528,     0.27628,     0.27728,     0.27828,     0.27928,     0.28028,     0.28128,     0.28228,     0.28328,     0.28428,     0.28529,     0.28629,     0.28729,\n",
              "           0.28829,     0.28929,     0.29029,     0.29129,     0.29229,     0.29329,     0.29429,      0.2953,      0.2963,      0.2973,      0.2983,      0.2993,      0.3003,      0.3013,      0.3023,      0.3033,      0.3043,     0.30531,     0.30631,     0.30731,     0.30831,     0.30931,     0.31031,     0.31131,\n",
              "           0.31231,     0.31331,     0.31431,     0.31532,     0.31632,     0.31732,     0.31832,     0.31932,     0.32032,     0.32132,     0.32232,     0.32332,     0.32432,     0.32533,     0.32633,     0.32733,     0.32833,     0.32933,     0.33033,     0.33133,     0.33233,     0.33333,     0.33433,     0.33534,\n",
              "           0.33634,     0.33734,     0.33834,     0.33934,     0.34034,     0.34134,     0.34234,     0.34334,     0.34434,     0.34535,     0.34635,     0.34735,     0.34835,     0.34935,     0.35035,     0.35135,     0.35235,     0.35335,     0.35435,     0.35536,     0.35636,     0.35736,     0.35836,     0.35936,\n",
              "           0.36036,     0.36136,     0.36236,     0.36336,     0.36436,     0.36537,     0.36637,     0.36737,     0.36837,     0.36937,     0.37037,     0.37137,     0.37237,     0.37337,     0.37437,     0.37538,     0.37638,     0.37738,     0.37838,     0.37938,     0.38038,     0.38138,     0.38238,     0.38338,\n",
              "           0.38438,     0.38539,     0.38639,     0.38739,     0.38839,     0.38939,     0.39039,     0.39139,     0.39239,     0.39339,     0.39439,      0.3954,      0.3964,      0.3974,      0.3984,      0.3994,      0.4004,      0.4014,      0.4024,      0.4034,      0.4044,     0.40541,     0.40641,     0.40741,\n",
              "           0.40841,     0.40941,     0.41041,     0.41141,     0.41241,     0.41341,     0.41441,     0.41542,     0.41642,     0.41742,     0.41842,     0.41942,     0.42042,     0.42142,     0.42242,     0.42342,     0.42442,     0.42543,     0.42643,     0.42743,     0.42843,     0.42943,     0.43043,     0.43143,\n",
              "           0.43243,     0.43343,     0.43443,     0.43544,     0.43644,     0.43744,     0.43844,     0.43944,     0.44044,     0.44144,     0.44244,     0.44344,     0.44444,     0.44545,     0.44645,     0.44745,     0.44845,     0.44945,     0.45045,     0.45145,     0.45245,     0.45345,     0.45445,     0.45546,\n",
              "           0.45646,     0.45746,     0.45846,     0.45946,     0.46046,     0.46146,     0.46246,     0.46346,     0.46446,     0.46547,     0.46647,     0.46747,     0.46847,     0.46947,     0.47047,     0.47147,     0.47247,     0.47347,     0.47447,     0.47548,     0.47648,     0.47748,     0.47848,     0.47948,\n",
              "           0.48048,     0.48148,     0.48248,     0.48348,     0.48448,     0.48549,     0.48649,     0.48749,     0.48849,     0.48949,     0.49049,     0.49149,     0.49249,     0.49349,     0.49449,      0.4955,      0.4965,      0.4975,      0.4985,      0.4995,      0.5005,      0.5015,      0.5025,      0.5035,\n",
              "            0.5045,     0.50551,     0.50651,     0.50751,     0.50851,     0.50951,     0.51051,     0.51151,     0.51251,     0.51351,     0.51451,     0.51552,     0.51652,     0.51752,     0.51852,     0.51952,     0.52052,     0.52152,     0.52252,     0.52352,     0.52452,     0.52553,     0.52653,     0.52753,\n",
              "           0.52853,     0.52953,     0.53053,     0.53153,     0.53253,     0.53353,     0.53453,     0.53554,     0.53654,     0.53754,     0.53854,     0.53954,     0.54054,     0.54154,     0.54254,     0.54354,     0.54454,     0.54555,     0.54655,     0.54755,     0.54855,     0.54955,     0.55055,     0.55155,\n",
              "           0.55255,     0.55355,     0.55455,     0.55556,     0.55656,     0.55756,     0.55856,     0.55956,     0.56056,     0.56156,     0.56256,     0.56356,     0.56456,     0.56557,     0.56657,     0.56757,     0.56857,     0.56957,     0.57057,     0.57157,     0.57257,     0.57357,     0.57457,     0.57558,\n",
              "           0.57658,     0.57758,     0.57858,     0.57958,     0.58058,     0.58158,     0.58258,     0.58358,     0.58458,     0.58559,     0.58659,     0.58759,     0.58859,     0.58959,     0.59059,     0.59159,     0.59259,     0.59359,     0.59459,      0.5956,      0.5966,      0.5976,      0.5986,      0.5996,\n",
              "            0.6006,      0.6016,      0.6026,      0.6036,      0.6046,     0.60561,     0.60661,     0.60761,     0.60861,     0.60961,     0.61061,     0.61161,     0.61261,     0.61361,     0.61461,     0.61562,     0.61662,     0.61762,     0.61862,     0.61962,     0.62062,     0.62162,     0.62262,     0.62362,\n",
              "           0.62462,     0.62563,     0.62663,     0.62763,     0.62863,     0.62963,     0.63063,     0.63163,     0.63263,     0.63363,     0.63463,     0.63564,     0.63664,     0.63764,     0.63864,     0.63964,     0.64064,     0.64164,     0.64264,     0.64364,     0.64464,     0.64565,     0.64665,     0.64765,\n",
              "           0.64865,     0.64965,     0.65065,     0.65165,     0.65265,     0.65365,     0.65465,     0.65566,     0.65666,     0.65766,     0.65866,     0.65966,     0.66066,     0.66166,     0.66266,     0.66366,     0.66466,     0.66567,     0.66667,     0.66767,     0.66867,     0.66967,     0.67067,     0.67167,\n",
              "           0.67267,     0.67367,     0.67467,     0.67568,     0.67668,     0.67768,     0.67868,     0.67968,     0.68068,     0.68168,     0.68268,     0.68368,     0.68468,     0.68569,     0.68669,     0.68769,     0.68869,     0.68969,     0.69069,     0.69169,     0.69269,     0.69369,     0.69469,      0.6957,\n",
              "            0.6967,      0.6977,      0.6987,      0.6997,      0.7007,      0.7017,      0.7027,      0.7037,      0.7047,     0.70571,     0.70671,     0.70771,     0.70871,     0.70971,     0.71071,     0.71171,     0.71271,     0.71371,     0.71471,     0.71572,     0.71672,     0.71772,     0.71872,     0.71972,\n",
              "           0.72072,     0.72172,     0.72272,     0.72372,     0.72472,     0.72573,     0.72673,     0.72773,     0.72873,     0.72973,     0.73073,     0.73173,     0.73273,     0.73373,     0.73473,     0.73574,     0.73674,     0.73774,     0.73874,     0.73974,     0.74074,     0.74174,     0.74274,     0.74374,\n",
              "           0.74474,     0.74575,     0.74675,     0.74775,     0.74875,     0.74975,     0.75075,     0.75175,     0.75275,     0.75375,     0.75475,     0.75576,     0.75676,     0.75776,     0.75876,     0.75976,     0.76076,     0.76176,     0.76276,     0.76376,     0.76476,     0.76577,     0.76677,     0.76777,\n",
              "           0.76877,     0.76977,     0.77077,     0.77177,     0.77277,     0.77377,     0.77477,     0.77578,     0.77678,     0.77778,     0.77878,     0.77978,     0.78078,     0.78178,     0.78278,     0.78378,     0.78478,     0.78579,     0.78679,     0.78779,     0.78879,     0.78979,     0.79079,     0.79179,\n",
              "           0.79279,     0.79379,     0.79479,      0.7958,      0.7968,      0.7978,      0.7988,      0.7998,      0.8008,      0.8018,      0.8028,      0.8038,      0.8048,     0.80581,     0.80681,     0.80781,     0.80881,     0.80981,     0.81081,     0.81181,     0.81281,     0.81381,     0.81481,     0.81582,\n",
              "           0.81682,     0.81782,     0.81882,     0.81982,     0.82082,     0.82182,     0.82282,     0.82382,     0.82482,     0.82583,     0.82683,     0.82783,     0.82883,     0.82983,     0.83083,     0.83183,     0.83283,     0.83383,     0.83483,     0.83584,     0.83684,     0.83784,     0.83884,     0.83984,\n",
              "           0.84084,     0.84184,     0.84284,     0.84384,     0.84484,     0.84585,     0.84685,     0.84785,     0.84885,     0.84985,     0.85085,     0.85185,     0.85285,     0.85385,     0.85485,     0.85586,     0.85686,     0.85786,     0.85886,     0.85986,     0.86086,     0.86186,     0.86286,     0.86386,\n",
              "           0.86486,     0.86587,     0.86687,     0.86787,     0.86887,     0.86987,     0.87087,     0.87187,     0.87287,     0.87387,     0.87487,     0.87588,     0.87688,     0.87788,     0.87888,     0.87988,     0.88088,     0.88188,     0.88288,     0.88388,     0.88488,     0.88589,     0.88689,     0.88789,\n",
              "           0.88889,     0.88989,     0.89089,     0.89189,     0.89289,     0.89389,     0.89489,      0.8959,      0.8969,      0.8979,      0.8989,      0.8999,      0.9009,      0.9019,      0.9029,      0.9039,      0.9049,     0.90591,     0.90691,     0.90791,     0.90891,     0.90991,     0.91091,     0.91191,\n",
              "           0.91291,     0.91391,     0.91491,     0.91592,     0.91692,     0.91792,     0.91892,     0.91992,     0.92092,     0.92192,     0.92292,     0.92392,     0.92492,     0.92593,     0.92693,     0.92793,     0.92893,     0.92993,     0.93093,     0.93193,     0.93293,     0.93393,     0.93493,     0.93594,\n",
              "           0.93694,     0.93794,     0.93894,     0.93994,     0.94094,     0.94194,     0.94294,     0.94394,     0.94494,     0.94595,     0.94695,     0.94795,     0.94895,     0.94995,     0.95095,     0.95195,     0.95295,     0.95395,     0.95495,     0.95596,     0.95696,     0.95796,     0.95896,     0.95996,\n",
              "           0.96096,     0.96196,     0.96296,     0.96396,     0.96496,     0.96597,     0.96697,     0.96797,     0.96897,     0.96997,     0.97097,     0.97197,     0.97297,     0.97397,     0.97497,     0.97598,     0.97698,     0.97798,     0.97898,     0.97998,     0.98098,     0.98198,     0.98298,     0.98398,\n",
              "           0.98498,     0.98599,     0.98699,     0.98799,     0.98899,     0.98999,     0.99099,     0.99199,     0.99299,     0.99399,     0.99499,       0.996,       0.997,       0.998,       0.999,           1]), array([[    0.19512,     0.19512,     0.26529, ...,           1,           1,           1],\n",
              "       [    0.16667,     0.16667,     0.20548, ...,           1,           1,           1],\n",
              "       [    0.16842,     0.16842,     0.19692, ...,           1,           1,           1],\n",
              "       ...,\n",
              "       [  0.0060241,   0.0060241,   0.0091704, ...,           1,           1,           1],\n",
              "       [   0.046875,    0.046875,    0.065346, ...,           1,           1,           1],\n",
              "       [   0.024221,    0.024221,    0.029193, ...,           1,           1,           1]]), 'Confidence', 'Precision'], [array([          0,    0.001001,    0.002002,    0.003003,    0.004004,    0.005005,    0.006006,    0.007007,    0.008008,    0.009009,     0.01001,    0.011011,    0.012012,    0.013013,    0.014014,    0.015015,    0.016016,    0.017017,    0.018018,    0.019019,     0.02002,    0.021021,    0.022022,    0.023023,\n",
              "          0.024024,    0.025025,    0.026026,    0.027027,    0.028028,    0.029029,     0.03003,    0.031031,    0.032032,    0.033033,    0.034034,    0.035035,    0.036036,    0.037037,    0.038038,    0.039039,     0.04004,    0.041041,    0.042042,    0.043043,    0.044044,    0.045045,    0.046046,    0.047047,\n",
              "          0.048048,    0.049049,     0.05005,    0.051051,    0.052052,    0.053053,    0.054054,    0.055055,    0.056056,    0.057057,    0.058058,    0.059059,     0.06006,    0.061061,    0.062062,    0.063063,    0.064064,    0.065065,    0.066066,    0.067067,    0.068068,    0.069069,     0.07007,    0.071071,\n",
              "          0.072072,    0.073073,    0.074074,    0.075075,    0.076076,    0.077077,    0.078078,    0.079079,     0.08008,    0.081081,    0.082082,    0.083083,    0.084084,    0.085085,    0.086086,    0.087087,    0.088088,    0.089089,     0.09009,    0.091091,    0.092092,    0.093093,    0.094094,    0.095095,\n",
              "          0.096096,    0.097097,    0.098098,    0.099099,      0.1001,      0.1011,      0.1021,      0.1031,      0.1041,     0.10511,     0.10611,     0.10711,     0.10811,     0.10911,     0.11011,     0.11111,     0.11211,     0.11311,     0.11411,     0.11512,     0.11612,     0.11712,     0.11812,     0.11912,\n",
              "           0.12012,     0.12112,     0.12212,     0.12312,     0.12412,     0.12513,     0.12613,     0.12713,     0.12813,     0.12913,     0.13013,     0.13113,     0.13213,     0.13313,     0.13413,     0.13514,     0.13614,     0.13714,     0.13814,     0.13914,     0.14014,     0.14114,     0.14214,     0.14314,\n",
              "           0.14414,     0.14515,     0.14615,     0.14715,     0.14815,     0.14915,     0.15015,     0.15115,     0.15215,     0.15315,     0.15415,     0.15516,     0.15616,     0.15716,     0.15816,     0.15916,     0.16016,     0.16116,     0.16216,     0.16316,     0.16416,     0.16517,     0.16617,     0.16717,\n",
              "           0.16817,     0.16917,     0.17017,     0.17117,     0.17217,     0.17317,     0.17417,     0.17518,     0.17618,     0.17718,     0.17818,     0.17918,     0.18018,     0.18118,     0.18218,     0.18318,     0.18418,     0.18519,     0.18619,     0.18719,     0.18819,     0.18919,     0.19019,     0.19119,\n",
              "           0.19219,     0.19319,     0.19419,      0.1952,      0.1962,      0.1972,      0.1982,      0.1992,      0.2002,      0.2012,      0.2022,      0.2032,      0.2042,     0.20521,     0.20621,     0.20721,     0.20821,     0.20921,     0.21021,     0.21121,     0.21221,     0.21321,     0.21421,     0.21522,\n",
              "           0.21622,     0.21722,     0.21822,     0.21922,     0.22022,     0.22122,     0.22222,     0.22322,     0.22422,     0.22523,     0.22623,     0.22723,     0.22823,     0.22923,     0.23023,     0.23123,     0.23223,     0.23323,     0.23423,     0.23524,     0.23624,     0.23724,     0.23824,     0.23924,\n",
              "           0.24024,     0.24124,     0.24224,     0.24324,     0.24424,     0.24525,     0.24625,     0.24725,     0.24825,     0.24925,     0.25025,     0.25125,     0.25225,     0.25325,     0.25425,     0.25526,     0.25626,     0.25726,     0.25826,     0.25926,     0.26026,     0.26126,     0.26226,     0.26326,\n",
              "           0.26426,     0.26527,     0.26627,     0.26727,     0.26827,     0.26927,     0.27027,     0.27127,     0.27227,     0.27327,     0.27427,     0.27528,     0.27628,     0.27728,     0.27828,     0.27928,     0.28028,     0.28128,     0.28228,     0.28328,     0.28428,     0.28529,     0.28629,     0.28729,\n",
              "           0.28829,     0.28929,     0.29029,     0.29129,     0.29229,     0.29329,     0.29429,      0.2953,      0.2963,      0.2973,      0.2983,      0.2993,      0.3003,      0.3013,      0.3023,      0.3033,      0.3043,     0.30531,     0.30631,     0.30731,     0.30831,     0.30931,     0.31031,     0.31131,\n",
              "           0.31231,     0.31331,     0.31431,     0.31532,     0.31632,     0.31732,     0.31832,     0.31932,     0.32032,     0.32132,     0.32232,     0.32332,     0.32432,     0.32533,     0.32633,     0.32733,     0.32833,     0.32933,     0.33033,     0.33133,     0.33233,     0.33333,     0.33433,     0.33534,\n",
              "           0.33634,     0.33734,     0.33834,     0.33934,     0.34034,     0.34134,     0.34234,     0.34334,     0.34434,     0.34535,     0.34635,     0.34735,     0.34835,     0.34935,     0.35035,     0.35135,     0.35235,     0.35335,     0.35435,     0.35536,     0.35636,     0.35736,     0.35836,     0.35936,\n",
              "           0.36036,     0.36136,     0.36236,     0.36336,     0.36436,     0.36537,     0.36637,     0.36737,     0.36837,     0.36937,     0.37037,     0.37137,     0.37237,     0.37337,     0.37437,     0.37538,     0.37638,     0.37738,     0.37838,     0.37938,     0.38038,     0.38138,     0.38238,     0.38338,\n",
              "           0.38438,     0.38539,     0.38639,     0.38739,     0.38839,     0.38939,     0.39039,     0.39139,     0.39239,     0.39339,     0.39439,      0.3954,      0.3964,      0.3974,      0.3984,      0.3994,      0.4004,      0.4014,      0.4024,      0.4034,      0.4044,     0.40541,     0.40641,     0.40741,\n",
              "           0.40841,     0.40941,     0.41041,     0.41141,     0.41241,     0.41341,     0.41441,     0.41542,     0.41642,     0.41742,     0.41842,     0.41942,     0.42042,     0.42142,     0.42242,     0.42342,     0.42442,     0.42543,     0.42643,     0.42743,     0.42843,     0.42943,     0.43043,     0.43143,\n",
              "           0.43243,     0.43343,     0.43443,     0.43544,     0.43644,     0.43744,     0.43844,     0.43944,     0.44044,     0.44144,     0.44244,     0.44344,     0.44444,     0.44545,     0.44645,     0.44745,     0.44845,     0.44945,     0.45045,     0.45145,     0.45245,     0.45345,     0.45445,     0.45546,\n",
              "           0.45646,     0.45746,     0.45846,     0.45946,     0.46046,     0.46146,     0.46246,     0.46346,     0.46446,     0.46547,     0.46647,     0.46747,     0.46847,     0.46947,     0.47047,     0.47147,     0.47247,     0.47347,     0.47447,     0.47548,     0.47648,     0.47748,     0.47848,     0.47948,\n",
              "           0.48048,     0.48148,     0.48248,     0.48348,     0.48448,     0.48549,     0.48649,     0.48749,     0.48849,     0.48949,     0.49049,     0.49149,     0.49249,     0.49349,     0.49449,      0.4955,      0.4965,      0.4975,      0.4985,      0.4995,      0.5005,      0.5015,      0.5025,      0.5035,\n",
              "            0.5045,     0.50551,     0.50651,     0.50751,     0.50851,     0.50951,     0.51051,     0.51151,     0.51251,     0.51351,     0.51451,     0.51552,     0.51652,     0.51752,     0.51852,     0.51952,     0.52052,     0.52152,     0.52252,     0.52352,     0.52452,     0.52553,     0.52653,     0.52753,\n",
              "           0.52853,     0.52953,     0.53053,     0.53153,     0.53253,     0.53353,     0.53453,     0.53554,     0.53654,     0.53754,     0.53854,     0.53954,     0.54054,     0.54154,     0.54254,     0.54354,     0.54454,     0.54555,     0.54655,     0.54755,     0.54855,     0.54955,     0.55055,     0.55155,\n",
              "           0.55255,     0.55355,     0.55455,     0.55556,     0.55656,     0.55756,     0.55856,     0.55956,     0.56056,     0.56156,     0.56256,     0.56356,     0.56456,     0.56557,     0.56657,     0.56757,     0.56857,     0.56957,     0.57057,     0.57157,     0.57257,     0.57357,     0.57457,     0.57558,\n",
              "           0.57658,     0.57758,     0.57858,     0.57958,     0.58058,     0.58158,     0.58258,     0.58358,     0.58458,     0.58559,     0.58659,     0.58759,     0.58859,     0.58959,     0.59059,     0.59159,     0.59259,     0.59359,     0.59459,      0.5956,      0.5966,      0.5976,      0.5986,      0.5996,\n",
              "            0.6006,      0.6016,      0.6026,      0.6036,      0.6046,     0.60561,     0.60661,     0.60761,     0.60861,     0.60961,     0.61061,     0.61161,     0.61261,     0.61361,     0.61461,     0.61562,     0.61662,     0.61762,     0.61862,     0.61962,     0.62062,     0.62162,     0.62262,     0.62362,\n",
              "           0.62462,     0.62563,     0.62663,     0.62763,     0.62863,     0.62963,     0.63063,     0.63163,     0.63263,     0.63363,     0.63463,     0.63564,     0.63664,     0.63764,     0.63864,     0.63964,     0.64064,     0.64164,     0.64264,     0.64364,     0.64464,     0.64565,     0.64665,     0.64765,\n",
              "           0.64865,     0.64965,     0.65065,     0.65165,     0.65265,     0.65365,     0.65465,     0.65566,     0.65666,     0.65766,     0.65866,     0.65966,     0.66066,     0.66166,     0.66266,     0.66366,     0.66466,     0.66567,     0.66667,     0.66767,     0.66867,     0.66967,     0.67067,     0.67167,\n",
              "           0.67267,     0.67367,     0.67467,     0.67568,     0.67668,     0.67768,     0.67868,     0.67968,     0.68068,     0.68168,     0.68268,     0.68368,     0.68468,     0.68569,     0.68669,     0.68769,     0.68869,     0.68969,     0.69069,     0.69169,     0.69269,     0.69369,     0.69469,      0.6957,\n",
              "            0.6967,      0.6977,      0.6987,      0.6997,      0.7007,      0.7017,      0.7027,      0.7037,      0.7047,     0.70571,     0.70671,     0.70771,     0.70871,     0.70971,     0.71071,     0.71171,     0.71271,     0.71371,     0.71471,     0.71572,     0.71672,     0.71772,     0.71872,     0.71972,\n",
              "           0.72072,     0.72172,     0.72272,     0.72372,     0.72472,     0.72573,     0.72673,     0.72773,     0.72873,     0.72973,     0.73073,     0.73173,     0.73273,     0.73373,     0.73473,     0.73574,     0.73674,     0.73774,     0.73874,     0.73974,     0.74074,     0.74174,     0.74274,     0.74374,\n",
              "           0.74474,     0.74575,     0.74675,     0.74775,     0.74875,     0.74975,     0.75075,     0.75175,     0.75275,     0.75375,     0.75475,     0.75576,     0.75676,     0.75776,     0.75876,     0.75976,     0.76076,     0.76176,     0.76276,     0.76376,     0.76476,     0.76577,     0.76677,     0.76777,\n",
              "           0.76877,     0.76977,     0.77077,     0.77177,     0.77277,     0.77377,     0.77477,     0.77578,     0.77678,     0.77778,     0.77878,     0.77978,     0.78078,     0.78178,     0.78278,     0.78378,     0.78478,     0.78579,     0.78679,     0.78779,     0.78879,     0.78979,     0.79079,     0.79179,\n",
              "           0.79279,     0.79379,     0.79479,      0.7958,      0.7968,      0.7978,      0.7988,      0.7998,      0.8008,      0.8018,      0.8028,      0.8038,      0.8048,     0.80581,     0.80681,     0.80781,     0.80881,     0.80981,     0.81081,     0.81181,     0.81281,     0.81381,     0.81481,     0.81582,\n",
              "           0.81682,     0.81782,     0.81882,     0.81982,     0.82082,     0.82182,     0.82282,     0.82382,     0.82482,     0.82583,     0.82683,     0.82783,     0.82883,     0.82983,     0.83083,     0.83183,     0.83283,     0.83383,     0.83483,     0.83584,     0.83684,     0.83784,     0.83884,     0.83984,\n",
              "           0.84084,     0.84184,     0.84284,     0.84384,     0.84484,     0.84585,     0.84685,     0.84785,     0.84885,     0.84985,     0.85085,     0.85185,     0.85285,     0.85385,     0.85485,     0.85586,     0.85686,     0.85786,     0.85886,     0.85986,     0.86086,     0.86186,     0.86286,     0.86386,\n",
              "           0.86486,     0.86587,     0.86687,     0.86787,     0.86887,     0.86987,     0.87087,     0.87187,     0.87287,     0.87387,     0.87487,     0.87588,     0.87688,     0.87788,     0.87888,     0.87988,     0.88088,     0.88188,     0.88288,     0.88388,     0.88488,     0.88589,     0.88689,     0.88789,\n",
              "           0.88889,     0.88989,     0.89089,     0.89189,     0.89289,     0.89389,     0.89489,      0.8959,      0.8969,      0.8979,      0.8989,      0.8999,      0.9009,      0.9019,      0.9029,      0.9039,      0.9049,     0.90591,     0.90691,     0.90791,     0.90891,     0.90991,     0.91091,     0.91191,\n",
              "           0.91291,     0.91391,     0.91491,     0.91592,     0.91692,     0.91792,     0.91892,     0.91992,     0.92092,     0.92192,     0.92292,     0.92392,     0.92492,     0.92593,     0.92693,     0.92793,     0.92893,     0.92993,     0.93093,     0.93193,     0.93293,     0.93393,     0.93493,     0.93594,\n",
              "           0.93694,     0.93794,     0.93894,     0.93994,     0.94094,     0.94194,     0.94294,     0.94394,     0.94494,     0.94595,     0.94695,     0.94795,     0.94895,     0.94995,     0.95095,     0.95195,     0.95295,     0.95395,     0.95495,     0.95596,     0.95696,     0.95796,     0.95896,     0.95996,\n",
              "           0.96096,     0.96196,     0.96296,     0.96396,     0.96496,     0.96597,     0.96697,     0.96797,     0.96897,     0.96997,     0.97097,     0.97197,     0.97297,     0.97397,     0.97497,     0.97598,     0.97698,     0.97798,     0.97898,     0.97998,     0.98098,     0.98198,     0.98298,     0.98398,\n",
              "           0.98498,     0.98599,     0.98699,     0.98799,     0.98899,     0.98999,     0.99099,     0.99199,     0.99299,     0.99399,     0.99499,       0.996,       0.997,       0.998,       0.999,           1]), array([[          1,           1,           1, ...,           0,           0,           0],\n",
              "       [          1,           1,           1, ...,           0,           0,           0],\n",
              "       [          1,           1,           1, ...,           0,           0,           0],\n",
              "       ...,\n",
              "       [    0.33333,     0.33333,     0.33333, ...,           0,           0,           0],\n",
              "       [    0.71429,     0.71429,     0.71429, ...,           0,           0,           0],\n",
              "       [    0.63636,     0.63636,     0.60606, ...,           0,           0,           0]]), 'Confidence', 'Recall']]\n",
              "fitness: 0.48398530246831156\n",
              "keys: ['metrics/precision(B)', 'metrics/recall(B)', 'metrics/mAP50(B)', 'metrics/mAP50-95(B)']\n",
              "maps: array([    0.72839,     0.65377,     0.70771,     0.62668,     0.67023,     0.44202,       0.572,       0.796,     0.62437,     0.69241,     0.60064,     0.62952,     0.65158,     0.69122,     0.34306,     0.69711,     0.55141,     0.35597,     0.55561,      0.6338,     0.47834,     0.47496,     0.30799,     0.36642,\n",
              "           0.37613,     0.41282,     0.58307,     0.46022,     0.39632,     0.34553,     0.26828,     0.76277,     0.50599,    0.094255,     0.20908,     0.24068,     0.13731,     0.36467,    0.021504,     0.47019,     0.82989,      0.1348,     0.20018,    0.023451])\n",
              "names: {0: '11', 1: '12', 2: '13', 3: '14', 4: '15', 5: '16', 6: '17', 7: '18', 8: '21', 9: '22', 10: '23', 11: '24', 12: '25', 13: '26', 14: '27', 15: '28', 16: '31', 17: '32', 18: '33', 19: '34', 20: '35', 21: '36', 22: '37', 23: '38', 24: '41', 25: '42', 26: '43', 27: '44', 28: '45', 29: '46', 30: '47', 31: '48', 32: 'amalgam filling', 33: 'calculus', 34: 'fixed prosthesis', 35: 'incisive papilla', 36: 'non-carious lesion', 37: 'palatine raphe', 38: 'staining or visible changes without cavitation', 39: 'temporary restoration', 40: 'tongue', 41: 'tooth coloured filling', 42: 'visible changes with cavitation', 43: 'visible changes with microcavitation'}\n",
              "plot: True\n",
              "results_dict: {'metrics/precision(B)': 0.4911396310583074, 'metrics/recall(B)': 0.67835986129838, 'metrics/mAP50(B)': 0.6081445847915404, 'metrics/mAP50-95(B)': 0.47018982665461945, 'fitness': 0.48398530246831156}\n",
              "save_dir: PosixPath('runs/detect/train8')\n",
              "speed: {'preprocess': 0.2308028084891183, 'inference': 100.31813893999372, 'loss': 0.0009400503976004465, 'postprocess': 4.663140433175224}\n",
              "task: 'detect'"
            ]
          },
          "metadata": {},
          "execution_count": 26
        }
      ]
    },
    {
      "cell_type": "code",
      "source": [
        "from ultralytics import SAM\n",
        "\n",
        "model = SAM('sam_b.pt')\n",
        "\n",
        "model.info()"
      ],
      "metadata": {
        "id": "gdREiJ-wzS69",
        "colab": {
          "base_uri": "https://localhost:8080/"
        },
        "outputId": "6e0c01c6-3050-4a7c-9298-111a72049340"
      },
      "execution_count": null,
      "outputs": [
        {
          "output_type": "stream",
          "name": "stdout",
          "text": [
            "Model summary: 238 layers, 93735472 parameters, 93735472 gradients\n"
          ]
        },
        {
          "output_type": "execute_result",
          "data": {
            "text/plain": [
              "(238, 93735472, 93735472, 0.0)"
            ]
          },
          "metadata": {},
          "execution_count": 27
        }
      ]
    },
    {
      "cell_type": "code",
      "source": [
        "from ultralytics.data.annotator import auto_annotate\n",
        "\n",
        "auto_annotate(data='/content/drive/MyDrive/testrun/data/images/train', det_model='/content/drive/MyDrive/testrun/runs/detect/train8/weights/best.pt', sam_model='sam_b.pt', output_dir='/content/drive/MyDrive/testrun/autoannotation_sam_yolov8')"
      ],
      "metadata": {
        "id": "rEKopM2wzfKY",
        "colab": {
          "base_uri": "https://localhost:8080/"
        },
        "outputId": "5000dfa0-bc15-4496-f14f-21df733366d0"
      },
      "execution_count": null,
      "outputs": [
        {
          "output_type": "stream",
          "name": "stdout",
          "text": [
            "\n",
            "image 1/121 /content/drive/MyDrive/testrun/data/images/train/intraoral_lower-1-_JPEG.rf.fadeffb885cc6520edf1f294bb9687fb.jpg: 640x640 1 31, 1 32, 1 33, 1 34, 1 35, 1 36, 1 37, 1 41, 1 42, 1 43, 1 44, 1 45, 1 46, 1 staining or visible changes without cavitation, 1 tongue, 18.0ms\n",
            "image 2/121 /content/drive/MyDrive/testrun/data/images/train/intraoral_lower-11-_JPEG.rf.8ae89e76435efd2c2b585c2d4f150f61.jpg: 640x640 1 31, 1 32, 1 33, 1 34, 1 41, 1 42, 1 43, 1 44, 2 calculuss, 6 staining or visible changes without cavitations, 11.2ms\n",
            "image 3/121 /content/drive/MyDrive/testrun/data/images/train/intraoral_lower-12-_JPEG.rf.fcae2e270678b3d9a4606232ac74e4fb.jpg: 640x640 1 31, 1 32, 1 33, 2 34s, 1 41, 1 42, 1 43, 1 44, 1 calculus, 1 non-carious lesion, 8 staining or visible changes without cavitations, 15.9ms\n",
            "image 4/121 /content/drive/MyDrive/testrun/data/images/train/intraoral_lower-13-_JPEG.rf.316f868c7239cbe4ce1de69244215693.jpg: 640x640 1 15, 1 31, 1 32, 1 33, 1 34, 2 35s, 1 41, 1 42, 1 43, 1 44, 1 45, 2 calculuss, 1 staining or visible changes without cavitation, 16.9ms\n",
            "image 5/121 /content/drive/MyDrive/testrun/data/images/train/intraoral_lower-14-_JPEG.rf.57811f150ca182b6708d148858ecf0d5.jpg: 640x640 1 31, 1 32, 1 33, 1 41, 1 42, 1 43, 1 calculus, 4 staining or visible changes without cavitations, 17.4ms\n",
            "image 6/121 /content/drive/MyDrive/testrun/data/images/train/intraoral_lower-15-_JPEG.rf.5b0d6c734b6a10231f4eb686c3242779.jpg: 640x640 1 36, 1 temporary restoration, 1 visible changes with cavitation, 5 visible changes with microcavitations, 16.8ms\n",
            "image 7/121 /content/drive/MyDrive/testrun/data/images/train/intraoral_lower-16-_JPEG.rf.5eb0735eac86f741234b3ca6ce2ebd7a.jpg: 640x640 1 34, 1 35, 1 36, 1 37, 1 38, 1 amalgam filling, 1 tongue, 2 visible changes with microcavitations, 12.8ms\n",
            "image 8/121 /content/drive/MyDrive/testrun/data/images/train/intraoral_lower-18-_JPEG.rf.91985dbf759d80851b8725e932342279.jpg: 640x640 1 44, 1 45, 1 46, 1 47, 1 non-carious lesion, 1 tongue, 2 visible changes with microcavitations, 13.2ms\n",
            "image 9/121 /content/drive/MyDrive/testrun/data/images/train/intraoral_lower-19-_JPEG.rf.28a6f4a7909cd39be1174a3cd3274b70.jpg: 640x640 1 43, 2 44s, 1 45, 1 46, 1 47, 3 calculuss, 1 non-carious lesion, 1 staining or visible changes without cavitation, 1 visible changes with cavitation, 1 visible changes with microcavitation, 17.4ms\n",
            "image 10/121 /content/drive/MyDrive/testrun/data/images/train/intraoral_lower-2-_JPEG.rf.a8c9b001f71ca770973edf80da8fa93f.jpg: 640x640 2 31s, 1 32, 1 33, 1 34, 1 35, 1 36, 1 37, 1 38, 1 non-carious lesion, 1 tongue, 2 visible changes with cavitations, 1 visible changes with microcavitation, 22.8ms\n",
            "image 11/121 /content/drive/MyDrive/testrun/data/images/train/intraoral_lower-20-_JPEG.rf.86c4cab5fc4ed2baf2ed6071311f63c4.jpg: 640x640 1 33, 1 34, 1 35, 1 36, 1 37, 1 38, 1 tongue, 2 visible changes with cavitations, 2 visible changes with microcavitations, 22.9ms\n",
            "image 12/121 /content/drive/MyDrive/testrun/data/images/train/intraoral_lower-21-_JPEG.rf.2a5bfcc1875f724aba022b6ff58d511a.jpg: 640x640 1 44, 1 45, 1 46, 1 47, 1 48, 1 amalgam filling, 1 tongue, 3 visible changes with microcavitations, 12.5ms\n",
            "image 13/121 /content/drive/MyDrive/testrun/data/images/train/intraoral_lower-22-_JPEG.rf.f735d3152c55aae19128178cee1945b2.jpg: 640x640 1 34, 1 35, 1 36, 1 37, 1 amalgam filling, 1 fixed prosthesis, 1 tongue, 12.0ms\n",
            "image 14/121 /content/drive/MyDrive/testrun/data/images/train/intraoral_lower-23-_JPEG.rf.ee69efca22996326dc839a1304bfdff6.jpg: 640x640 1 31, 2 41s, 2 42s, 1 43, 1 44, 1 45, 1 46, 1 47, 1 48, 1 calculus, 3 non-carious lesions, 1 staining or visible changes without cavitation, 1 tongue, 4 visible changes with microcavitations, 11.2ms\n",
            "image 15/121 /content/drive/MyDrive/testrun/data/images/train/intraoral_lower-24-_JPEG.rf.cc5915cc21058c5697f9ac161d09633d.jpg: 640x640 1 33, 1 34, 1 35, 1 36, 1 37, 2 amalgam fillings, 1 calculus, 1 tongue, 1 visible changes with microcavitation, 11.4ms\n",
            "image 16/121 /content/drive/MyDrive/testrun/data/images/train/intraoral_lower-25-_JPEG.rf.bf9e5fa4a0cad3c4de43cf2103a5f87e.jpg: 640x640 1 43, 1 44, 1 45, 1 46, 1 47, 1 amalgam filling, 2 fixed prosthesiss, 1 tongue, 11.6ms\n",
            "image 17/121 /content/drive/MyDrive/testrun/data/images/train/intraoral_lower-28-_JPEG.rf.758bbcf7e33b6e31a536c82185e81d8d.jpg: 640x640 1 43, 1 44, 1 45, 1 46, 1 47, 1 48, 2 staining or visible changes without cavitations, 1 tongue, 4 visible changes with microcavitations, 13.2ms\n",
            "image 18/121 /content/drive/MyDrive/testrun/data/images/train/intraoral_lower-31-_JPEG.rf.7a427373e27fa51df32b9eccb8223184.jpg: 640x640 1 31, 1 32, 1 33, 1 34, 1 35, 1 36, 1 37, 1 41, 1 42, 3 fixed prosthesiss, 2 non-carious lesions, 1 staining or visible changes without cavitation, 1 tongue, 1 visible changes with cavitation, 5 visible changes with microcavitations, 11.5ms\n",
            "image 19/121 /content/drive/MyDrive/testrun/data/images/train/intraoral_lower-36-_JPEG.rf.9fc83284b5a3502674f39e38cf16282b.jpg: 640x640 1 31, 1 32, 1 33, 1 34, 1 35, 1 36, 1 37, 2 41s, 1 amalgam filling, 1 calculus, 1 staining or visible changes without cavitation, 1 tongue, 11.8ms\n",
            "image 20/121 /content/drive/MyDrive/testrun/data/images/train/intraoral_lower-37-_JPEG.rf.7254af6ef66b9c85d2ffcab71e5d6208.jpg: 640x640 1 34, 1 35, 1 36, 1 37, 1 38, 1 amalgam filling, 1 tongue, 1 visible changes with microcavitation, 11.2ms\n",
            "image 21/121 /content/drive/MyDrive/testrun/data/images/train/intraoral_lower-38-_JPEG.rf.4696bb0d3a7393cde00b6d5511876f05.jpg: 640x640 1 31, 1 32, 1 33, 1 34, 1 35, 1 41, 1 42, 1 43, 1 44, 2 calculuss, 4 staining or visible changes without cavitations, 10.9ms\n",
            "image 22/121 /content/drive/MyDrive/testrun/data/images/train/intraoral_lower-39-_JPEG.rf.e5f98fb5e226cdcd6e32228661b84d53.jpg: 640x640 1 31, 1 32, 1 33, 1 34, 1 35, 1 36, 1 41, 1 42, 1 amalgam filling, 1 fixed prosthesis, 2 non-carious lesions, 1 tongue, 13.6ms\n",
            "image 23/121 /content/drive/MyDrive/testrun/data/images/train/intraoral_lower-4-_JPEG.rf.5f16127e938f4efef038173bec23a7a6.jpg: 640x640 1 31, 1 32, 1 33, 1 34, 1 41, 1 42, 1 43, 1 44, 1 calculus, 2 staining or visible changes without cavitations, 11.2ms\n",
            "image 24/121 /content/drive/MyDrive/testrun/data/images/train/intraoral_lower-41-_JPEG.rf.fbdb28bbfceaa2a82be6d7fa8355eff8.jpg: 640x640 1 44, 1 45, 1 46, 1 47, 1 48, 5 staining or visible changes without cavitations, 1 tongue, 2 tooth coloured fillings, 1 visible changes with cavitation, 11.6ms\n",
            "image 25/121 /content/drive/MyDrive/testrun/data/images/train/intraoral_lower-44-_JPEG.rf.ac4f416c36b020147d6c054d86bc4cb4.jpg: 640x640 1 32, 1 33, 1 34, 1 35, 1 36, 1 37, 1 41, 1 42, 1 43, 1 44, 1 45, 1 46, 1 tongue, 12.0ms\n",
            "image 26/121 /content/drive/MyDrive/testrun/data/images/train/intraoral_lower-45-_JPEG.rf.95f42d2b50a40c1f456751acddaa9651.jpg: 640x640 2 34s, 1 35, 1 36, 1 38, 3 staining or visible changes without cavitations, 1 tongue, 2 visible changes with cavitations, 11.6ms\n",
            "image 27/121 /content/drive/MyDrive/testrun/data/images/train/intraoral_lower-46-_JPEG.rf.3e5881cd40ca81d712278091f61b74e2.jpg: 640x640 1 31, 1 32, 1 33, 1 41, 1 42, 1 43, 1 calculus, 5 staining or visible changes without cavitations, 13.1ms\n",
            "image 28/121 /content/drive/MyDrive/testrun/data/images/train/intraoral_lower-47-_JPEG.rf.d13ae13f59d3b7361b2d040242a08f8f.jpg: 640x640 1 31, 1 32, 1 33, 1 34, 1 41, 1 42, 1 43, 2 44s, 6 staining or visible changes without cavitations, 11.9ms\n",
            "image 29/121 /content/drive/MyDrive/testrun/data/images/train/intraoral_lower-48-_JPEG.rf.20eff088ff7b5798078205aec194d63a.jpg: 640x640 1 34, 1 35, 1 36, 1 37, 2 calculuss, 3 staining or visible changes without cavitations, 1 tongue, 1 tooth coloured filling, 1 visible changes with cavitation, 4 visible changes with microcavitations, 11.3ms\n",
            "image 30/121 /content/drive/MyDrive/testrun/data/images/train/intraoral_lower-5-_JPEG.rf.5159f4d19f3a22573cc5ff671077830b.jpg: 640x640 1 31, 1 32, 1 33, 1 41, 1 42, 1 43, 1 44, 2 calculuss, 5 staining or visible changes without cavitations, 1 tongue, 11.8ms\n",
            "image 31/121 /content/drive/MyDrive/testrun/data/images/train/intraoral_lower-50-_JPEG.rf.46e2a4433d4c6d4803e647b4de169277.jpg: 640x640 1 46, 1 47, 1 48, 2 staining or visible changes without cavitations, 1 tongue, 3 visible changes with microcavitations, 11.3ms\n",
            "image 32/121 /content/drive/MyDrive/testrun/data/images/train/intraoral_lower-51-_JPEG.rf.2647b2213607aa85f8e5c06f9feb95d6.jpg: 640x640 1 31, 1 32, 1 33, 1 34, 1 35, 1 41, 1 42, 1 43, 1 44, 1 45, 2 calculuss, 10 staining or visible changes without cavitations, 4 visible changes with microcavitations, 11.3ms\n",
            "image 33/121 /content/drive/MyDrive/testrun/data/images/train/intraoral_lower-52-_JPEG.rf.68c2fbb558ccefaf4dc4c9f749c3c907.jpg: 640x640 1 34, 1 35, 1 36, 1 37, 1 amalgam filling, 3 staining or visible changes without cavitations, 1 tongue, 3 visible changes with microcavitations, 15.5ms\n",
            "image 34/121 /content/drive/MyDrive/testrun/data/images/train/intraoral_lower-55-_JPEG.rf.b2c27d3a3d6b0dbd03255cf99ccf49d9.jpg: 640x640 1 44, 1 45, 1 46, 1 47, 1 fixed prosthesis, 1 tongue, 2 visible changes with microcavitations, 15.4ms\n",
            "image 35/121 /content/drive/MyDrive/testrun/data/images/train/intraoral_lower-56-_JPEG.rf.a00e329812938a7496d45af031c37d07.jpg: 640x640 1 46, 1 47, 1 tongue, 1 visible changes with microcavitation, 15.2ms\n",
            "image 36/121 /content/drive/MyDrive/testrun/data/images/train/intraoral_lower-57-_JPEG.rf.e9da68152a48ea98e56b2e5801c48d03.jpg: 640x640 2 31s, 1 32, 2 41s, 1 42, 1 43, 2 44s, 1 45, 1 46, 1 47, 1 48, 1 amalgam filling, 2 calculuss, 6 non-carious lesions, 1 staining or visible changes without cavitation, 1 tongue, 6 visible changes with microcavitations, 16.9ms\n",
            "image 37/121 /content/drive/MyDrive/testrun/data/images/train/intraoral_lower-58-_JPEG.rf.1fe5fd8b0368ee05faad99b5a24a442e.jpg: 640x640 1 31, 1 32, 1 33, 1 35, 1 41, 1 42, 1 43, 2 calculuss, 13.6ms\n",
            "image 38/121 /content/drive/MyDrive/testrun/data/images/train/intraoral_lower-59-_JPEG.rf.325f893ea419222e7677eddf73667f79.jpg: 640x640 1 34, 1 35, 1 36, 1 37, 1 amalgam filling, 1 calculus, 2 non-carious lesions, 1 staining or visible changes without cavitation, 1 tongue, 1 visible changes with cavitation, 2 visible changes with microcavitations, 15.1ms\n",
            "image 39/121 /content/drive/MyDrive/testrun/data/images/train/intraoral_lower-6-_JPEG.rf.94c238e464afeadf81a8d9f582fae72a.jpg: 640x640 1 31, 1 32, 1 33, 1 34, 1 35, 1 41, 1 42, 1 43, 1 44, 1 45, 1 calculus, 17.8ms\n",
            "image 40/121 /content/drive/MyDrive/testrun/data/images/train/intraoral_lower-62-_JPEG.rf.5bf417ff83eff0adcc8183ce047a6017.jpg: 640x640 1 31, 1 32, 1 33, 1 34, 1 35, 1 36, 1 37, 1 38, 1 41, 1 42, 1 43, 1 45, 1 46, 2 amalgam fillings, 3 staining or visible changes without cavitations, 1 tongue, 2 visible changes with microcavitations, 25.9ms\n",
            "image 41/121 /content/drive/MyDrive/testrun/data/images/train/intraoral_lower-63-_JPEG.rf.5b2605d4f5361c5344fee99ca8761ab2.jpg: 640x640 1 45, 1 46, 1 47, 1 48, 3 amalgam fillings, 1 calculus, 5 staining or visible changes without cavitations, 1 tongue, 3 visible changes with microcavitations, 17.2ms\n",
            "image 42/121 /content/drive/MyDrive/testrun/data/images/train/intraoral_lower-64-_JPEG.rf.7db46645f621353c8be8cbf1f5c41c48.jpg: 640x640 1 31, 1 32, 1 33, 1 34, 1 35, 1 41, 1 42, 1 43, 1 44, 5 staining or visible changes without cavitations, 13.8ms\n",
            "image 43/121 /content/drive/MyDrive/testrun/data/images/train/intraoral_lower-65-_JPEG.rf.3b16632225a137c3ff1173687d462d78.jpg: 640x640 1 44, 1 45, 1 46, 1 tongue, 1 visible changes with cavitation, 1 visible changes with microcavitation, 14.8ms\n",
            "image 44/121 /content/drive/MyDrive/testrun/data/images/train/intraoral_lower-67-_JPEG.rf.d890dabb97e683266217f668e510c98b.jpg: 640x640 1 31, 1 32, 2 33s, 1 41, 1 42, 1 43, 1 44, 1 45, 1 46, 4 calculuss, 2 fixed prosthesiss, 7 staining or visible changes without cavitations, 1 visible changes with cavitation, 1 visible changes with microcavitation, 11.5ms\n",
            "image 45/121 /content/drive/MyDrive/testrun/data/images/train/intraoral_lower-68-_JPEG.rf.544e05b3d6803c8f6d2d2eb3794f6c7e.jpg: 640x640 1 35, 1 36, 1 37, 1 38, 5 staining or visible changes without cavitations, 1 tongue, 2 visible changes with microcavitations, 12.2ms\n",
            "image 46/121 /content/drive/MyDrive/testrun/data/images/train/intraoral_lower-69-_JPEG.rf.36d31aae57a21a0b8460a99eb134abe8.jpg: 640x640 1 31, 1 32, 1 33, 1 34, 1 35, 1 41, 1 42, 1 43, 1 44, 5 non-carious lesions, 8 staining or visible changes without cavitations, 1 tongue, 12.7ms\n",
            "image 47/121 /content/drive/MyDrive/testrun/data/images/train/intraoral_lower-7-_JPEG.rf.48377f11c44602fcdc5435bf2adcd533.jpg: 640x640 1 31, 1 32, 1 33, 1 34, 1 35, 1 37, 1 38, 1 41, 2 42s, 1 43, 1 44, 2 45s, 2 46s, 2 amalgam fillings, 1 tongue, 1 tooth coloured filling, 2 visible changes with microcavitations, 15.6ms\n",
            "image 48/121 /content/drive/MyDrive/testrun/data/images/train/intraoral_lower-70-_JPEG.rf.6bef9faccb9496bc203413327aacd2ed.jpg: 640x640 2 34s, 1 35, 1 36, 1 37, 2 fixed prosthesiss, 1 tongue, 12.2ms\n",
            "image 49/121 /content/drive/MyDrive/testrun/data/images/train/intraoral_lower-71-_JPEG.rf.d8d5d86523c839926a40b170c90995f5.jpg: 640x640 1 42, 1 43, 1 44, 1 45, 1 46, 1 47, 1 48, 1 tongue, 11.7ms\n",
            "image 50/121 /content/drive/MyDrive/testrun/data/images/train/intraoral_lower-74-_JPEG.rf.bd0434380c2f45c4d135a79186decc34.jpg: 640x640 1 35, 1 44, 1 46, 1 47, 1 48, 1 amalgam filling, 1 staining or visible changes without cavitation, 1 tongue, 1 visible changes with cavitation, 2 visible changes with microcavitations, 11.6ms\n",
            "image 51/121 /content/drive/MyDrive/testrun/data/images/train/intraoral_lower-75-_JPEG.rf.4c4fec1ab48712f354777bbda41a9dd8.jpg: 640x640 1 31, 1 32, 1 33, 1 34, 1 35, 1 36, 1 37, 1 38, 1 41, 1 42, 1 43, 1 44, 1 45, 1 amalgam filling, 2 fixed prosthesiss, 1 staining or visible changes without cavitation, 1 tongue, 2 visible changes with cavitations, 11.9ms\n",
            "image 52/121 /content/drive/MyDrive/testrun/data/images/train/intraoral_lower-77-_JPEG.rf.bf6417023ec0e07fcc9e4a37fdc91275.jpg: 640x640 1 35, 1 44, 1 45, 1 46, 1 47, 1 48, 3 amalgam fillings, 4 staining or visible changes without cavitations, 1 tongue, 1 visible changes with microcavitation, 11.0ms\n",
            "image 53/121 /content/drive/MyDrive/testrun/data/images/train/intraoral_lower-78-_JPEG.rf.a5ede796331294527bc4cbdec65931b1.jpg: 640x640 2 41s, 1 42, 1 43, 1 44, 1 45, 1 46, 1 47, 1 48, 1 calculus, 1 staining or visible changes without cavitation, 1 tongue, 3 visible changes with microcavitations, 11.2ms\n",
            "image 54/121 /content/drive/MyDrive/testrun/data/images/train/intraoral_lower-79-_JPEG.rf.676e363ef4b677c346e090560878d0ed.jpg: 640x640 1 31, 1 32, 1 33, 1 34, 1 35, 1 36, 1 41, 1 42, 1 43, 1 44, 1 45, 1 46, 1 47, 1 48, 2 amalgam fillings, 1 fixed prosthesis, 2 non-carious lesions, 1 tongue, 10.9ms\n",
            "image 55/121 /content/drive/MyDrive/testrun/data/images/train/intraoral_lower-83-_JPEG.rf.8dfa3cefe2c9be4255ef4295112a031a.jpg: 640x640 1 31, 1 32, 1 33, 1 34, 1 35, 1 36, 1 37, 1 41, 1 tongue, 2 visible changes with microcavitations, 11.1ms\n",
            "image 56/121 /content/drive/MyDrive/testrun/data/images/train/intraoral_lower-86-_JPEG.rf.c44c16a8809a5e0c72bc5d3cdd065a7e.jpg: 640x640 1 31, 1 32, 1 33, 1 34, 1 35, 1 36, 1 37, 1 38, 3 fixed prosthesiss, 1 non-carious lesion, 3 staining or visible changes without cavitations, 1 tongue, 1 visible changes with cavitation, 11.1ms\n",
            "image 57/121 /content/drive/MyDrive/testrun/data/images/train/intraoral_lower-87-_JPEG.rf.2331b87f9b89872fde160cd249f0deca.jpg: 640x640 1 31, 1 32, 1 33, 1 34, 1 35, 1 36, 1 37, 1 38, 1 41, 1 non-carious lesion, 1 tongue, 11.3ms\n",
            "image 58/121 /content/drive/MyDrive/testrun/data/images/train/intraoral_lower-9-_JPEG.rf.71ef119a334c537cefbbd7271b7eb5b5.jpg: 640x640 1 34, 1 35, 1 36, 1 37, 1 calculus, 1 tongue, 11.1ms\n",
            "image 59/121 /content/drive/MyDrive/testrun/data/images/train/intraoral_upper-10-_JPEG.rf.5f6543ef0096b6280cf34b81b709653e.jpg: 640x640 1 11, 1 12, 1 13, 1 14, 1 15, 1 21, 1 22, 1 23, 1 24, 1 25, 1 26, 1 incisive papilla, 7 non-carious lesions, 1 palatine raphe, 7 staining or visible changes without cavitations, 2 visible changes with microcavitations, 11.4ms\n",
            "image 60/121 /content/drive/MyDrive/testrun/data/images/train/intraoral_upper-12-_JPEG.rf.6cef13b2e29512f3f12c6cef547555ca.jpg: 640x640 1 11, 1 13, 1 14, 1 15, 1 16, 1 21, 1 22, 1 23, 1 24, 1 25, 1 26, 1 27, 1 amalgam filling, 1 calculus, 1 incisive papilla, 1 palatine raphe, 1 tooth coloured filling, 4 visible changes with microcavitations, 11.9ms\n",
            "image 61/121 /content/drive/MyDrive/testrun/data/images/train/intraoral_upper-13-_JPEG.rf.db419586eb3875f984991d599ca5bbcb.jpg: 640x640 1 11, 1 12, 2 13s, 1 14, 1 15, 1 16, 1 17, 6 non-carious lesions, 1 palatine raphe, 5 staining or visible changes without cavitations, 1 visible changes with microcavitation, 11.7ms\n",
            "image 62/121 /content/drive/MyDrive/testrun/data/images/train/intraoral_upper-14-_JPEG.rf.d7fa4705901caacaed0e0d68ddd9d4af.jpg: 640x640 1 11, 1 12, 1 13, 1 14, 1 15, 1 16, 1 23, 1 24, 1 25, 1 26, 1 27, 1 incisive papilla, 9 non-carious lesions, 1 palatine raphe, 2 staining or visible changes without cavitations, 2 visible changes with microcavitations, 11.7ms\n",
            "image 63/121 /content/drive/MyDrive/testrun/data/images/train/intraoral_upper-15-_JPEG.rf.1f5f681d8cfc0fbd5d48f9d395fa5627.jpg: 640x640 1 11, 1 12, 1 13, 1 14, 1 15, 1 16, 1 21, 1 22, 1 23, 1 24, 1 25, 1 26, 1 27, 1 incisive papilla, 6 non-carious lesions, 1 palatine raphe, 4 staining or visible changes without cavitations, 1 visible changes with microcavitation, 17.7ms\n",
            "image 64/121 /content/drive/MyDrive/testrun/data/images/train/intraoral_upper-16-_JPEG.rf.ecb537505fe0d6ea860a2d83a5552446.jpg: 640x640 1 11, 1 12, 1 13, 1 14, 1 15, 1 17, 1 21, 1 22, 1 23, 1 24, 1 incisive papilla, 6 non-carious lesions, 1 palatine raphe, 10 staining or visible changes without cavitations, 1 visible changes with cavitation, 15.9ms\n",
            "image 65/121 /content/drive/MyDrive/testrun/data/images/train/intraoral_upper-17-_JPEG.rf.8235c0bbc5e6c1401cf5dcecd24e55ce.jpg: 640x640 1 21, 1 22, 1 23, 1 24, 1 25, 1 26, 1 27, 1 incisive papilla, 5 non-carious lesions, 1 palatine raphe, 14 staining or visible changes without cavitations, 1 visible changes with cavitation, 14.8ms\n",
            "image 66/121 /content/drive/MyDrive/testrun/data/images/train/intraoral_upper-19-_JPEG.rf.619e3c720be4528d1f5f956c46a59cb1.jpg: 640x640 1 11, 1 12, 1 13, 1 14, 1 15, 1 16, 1 17, 1 18, 1 21, 1 calculus, 1 incisive papilla, 1 palatine raphe, 2 visible changes with cavitations, 1 visible changes with microcavitation, 16.6ms\n",
            "image 67/121 /content/drive/MyDrive/testrun/data/images/train/intraoral_upper-2-_JPEG.rf.d94cca462b47836ebd12b9c00b920649.jpg: 640x640 1 11, 1 12, 1 13, 1 21, 1 23, 1 25, 1 44, 1 amalgam filling, 1 calculus, 1 incisive papilla, 1 palatine raphe, 4 staining or visible changes without cavitations, 1 tooth coloured filling, 2 visible changes with cavitations, 16.0ms\n",
            "image 68/121 /content/drive/MyDrive/testrun/data/images/train/intraoral_upper-22-_JPEG.rf.1eae18f92ed8ad29b9dbcbb118e17b47.jpg: 640x640 1 11, 1 12, 1 13, 1 14, 1 15, 1 16, 1 17, 1 18, 1 21, 1 22, 1 23, 1 24, 1 25, 1 26, 1 27, 1 incisive papilla, 1 palatine raphe, 1 staining or visible changes without cavitation, 4 visible changes with cavitations, 2 visible changes with microcavitations, 16.6ms\n",
            "image 69/121 /content/drive/MyDrive/testrun/data/images/train/intraoral_upper-24-_JPEG.rf.6e85997b4b91e14abd90ddd29d20d1c9.jpg: 640x640 1 11, 1 12, 1 13, 1 14, 1 21, 1 22, 1 23, 1 25, 1 26, 1 amalgam filling, 3 fixed prosthesiss, 1 incisive papilla, 1 palatine raphe, 1 staining or visible changes without cavitation, 18.4ms\n",
            "image 70/121 /content/drive/MyDrive/testrun/data/images/train/intraoral_upper-25-_JPEG.rf.2a796a72f410509e26d4bc13ecbef8c7.jpg: 640x640 1 11, 1 12, 1 14, 4 staining or visible changes without cavitations, 12.9ms\n",
            "image 71/121 /content/drive/MyDrive/testrun/data/images/train/intraoral_upper-26-_JPEG.rf.afb88e695e3eca1a50ce2df43aaf7088.jpg: 640x640 1 11, 1 12, 1 13, 1 14, 1 15, 1 16, 1 17, 1 21, 1 22, 1 incisive papilla, 1 palatine raphe, 4 staining or visible changes without cavitations, 1 visible changes with cavitation, 12.4ms\n",
            "image 72/121 /content/drive/MyDrive/testrun/data/images/train/intraoral_upper-28-_JPEG.rf.a1a0f662265001b20fd01458ba72ba83.jpg: 640x640 1 11, 1 12, 1 13, 1 14, 1 15, 1 16, 1 17, 1 21, 1 22, 1 23, 1 24, 1 25, 1 26, 1 27, 1 amalgam filling, 3 fixed prosthesiss, 1 incisive papilla, 1 palatine raphe, 2 tooth coloured fillings, 2 visible changes with cavitations, 2 visible changes with microcavitations, 12.1ms\n",
            "image 73/121 /content/drive/MyDrive/testrun/data/images/train/intraoral_upper-30-_JPEG.rf.bc801304400fd542db8b4cf704fc0957.jpg: 640x640 1 11, 1 12, 1 13, 1 14, 1 15, 1 21, 1 22, 1 23, 1 24, 1 25, 13 staining or visible changes without cavitations, 1 visible changes with cavitation, 12.3ms\n",
            "image 74/121 /content/drive/MyDrive/testrun/data/images/train/intraoral_upper-31-_JPEG.rf.1f1cb93ee3155d1bac37eece668dd1a9.jpg: 640x640 1 11, 2 12s, 2 13s, 2 14s, 2 15s, 2 16s, 2 17s, 1 amalgam filling, 1 calculus, 1 incisive papilla, 1 palatine raphe, 4 staining or visible changes without cavitations, 1 visible changes with cavitation, 16.3ms\n",
            "image 75/121 /content/drive/MyDrive/testrun/data/images/train/intraoral_upper-32-_JPEG.rf.da2e822efe514cdd18744ccfb9c55706.jpg: 640x640 1 11, 1 12, 1 13, 1 14, 1 15, 1 17, 1 18, 1 21, 1 22, 1 23, 1 24, 1 25, 1 26, 1 27, 1 28, 2 amalgam fillings, 1 incisive papilla, 1 palatine raphe, 3 staining or visible changes without cavitations, 2 visible changes with microcavitations, 11.5ms\n",
            "image 76/121 /content/drive/MyDrive/testrun/data/images/train/intraoral_upper-33-_JPEG.rf.745f0c832aa1bc1654d6acc845f496a5.jpg: 640x640 1 11, 1 12, 1 13, 1 14, 1 15, 1 17, 1 21, 1 22, 1 24, 1 25, 1 27, 1 calculus, 1 incisive papilla, 3 non-carious lesions, 1 palatine raphe, 4 staining or visible changes without cavitations, 11.4ms\n",
            "image 77/121 /content/drive/MyDrive/testrun/data/images/train/intraoral_upper-34-_JPEG.rf.2ec2ad895be4bb5c936d645dacfb3754.jpg: 640x640 1 11, 1 12, 1 13, 1 14, 1 15, 1 17, 1 21, 1 22, 1 24, 1 25, 1 27, 1 28, 1 incisive papilla, 4 non-carious lesions, 1 palatine raphe, 2 staining or visible changes without cavitations, 12.5ms\n",
            "image 78/121 /content/drive/MyDrive/testrun/data/images/train/intraoral_upper-35-_JPEG.rf.560480f8a954e72dd438ae2911d3f025.jpg: 640x640 1 11, 1 12, 1 13, 1 14, 1 15, 1 16, 1 21, 1 22, 1 23, 1 24, 1 25, 1 26, 1 27, 1 incisive papilla, 1 palatine raphe, 3 staining or visible changes without cavitations, 3 visible changes with microcavitations, 13.0ms\n",
            "image 79/121 /content/drive/MyDrive/testrun/data/images/train/intraoral_upper-36-_JPEG.rf.fc2508a0a99ca3614679260dde0c5fe0.jpg: 640x640 1 11, 1 12, 1 13, 1 14, 1 15, 1 16, 1 21, 1 22, 1 23, 1 24, 1 25, 1 26, 1 27, 1 28, 1 amalgam filling, 1 fixed prosthesis, 1 incisive papilla, 1 palatine raphe, 5 staining or visible changes without cavitations, 1 tooth coloured filling, 11.8ms\n",
            "image 80/121 /content/drive/MyDrive/testrun/data/images/train/intraoral_upper-37-_JPEG.rf.c7b837eb0089c819bf608f46c93c8a2c.jpg: 640x640 1 11, 2 12s, 1 13, 1 14, 1 15, 1 16, 1 17, 1 18, 1 amalgam filling, 1 fixed prosthesis, 1 incisive papilla, 1 palatine raphe, 3 staining or visible changes without cavitations, 2 visible changes with microcavitations, 11.6ms\n",
            "image 81/121 /content/drive/MyDrive/testrun/data/images/train/intraoral_upper-4-_JPEG.rf.2ca36ac6a382d1dcbbfdc58f6aae85f0.jpg: 640x640 1 23, 1 24, 1 25, 1 26, 1 palatine raphe, 1 visible changes with cavitation, 13.3ms\n",
            "image 82/121 /content/drive/MyDrive/testrun/data/images/train/intraoral_upper-41-_JPEG.rf.193f9cd5eb909ec6291486bee2f17dd6.jpg: 640x640 1 11, 1 12, 1 13, 1 14, 1 15, 1 16, 1 17, 11.4ms\n",
            "image 83/121 /content/drive/MyDrive/testrun/data/images/train/intraoral_upper-42-_JPEG.rf.fcd22194ad9ce31343053a2fade4a484.jpg: 640x640 1 11, 1 12, 1 13, 1 14, 1 15, 1 21, 1 22, 1 31, 1 32, 1 33, 1 41, 1 42, 1 43, 1 44, 1 45, 3 staining or visible changes without cavitations, 1 visible changes with cavitation, 12.6ms\n",
            "image 84/121 /content/drive/MyDrive/testrun/data/images/train/intraoral_upper-43-_JPEG.rf.477255e623587c38750214a3f48dd39b.jpg: 640x640 1 11, 1 12, 1 13, 1 21, 1 22, 3 staining or visible changes without cavitations, 11.8ms\n",
            "image 85/121 /content/drive/MyDrive/testrun/data/images/train/intraoral_upper-44-_JPEG.rf.b85979e5564d78a11a81e5ca7b766e6f.jpg: 640x640 1 11, 1 12, 2 13s, 1 21, 1 22, 1 23, 1 24, 1 31, 2 32s, 1 33, 1 34, 1 41, 1 42, 1 43, 2 44s, 4 calculuss, 1 tongue, 12.7ms\n",
            "image 86/121 /content/drive/MyDrive/testrun/data/images/train/intraoral_upper-45-_JPEG.rf.263df943769bfb952840189699319698.jpg: 640x640 1 11, 1 12, 1 13, 1 21, 1 22, 1 visible changes with cavitation, 11.8ms\n",
            "image 87/121 /content/drive/MyDrive/testrun/data/images/train/intraoral_upper-46-_JPEG.rf.5b84067c5fd38ea9f4428046de07ba26.jpg: 640x640 1 11, 1 21, 1 22, 1 23, 1 24, 1 25, 2 26s, 1 27, 1 staining or visible changes without cavitation, 18.1ms\n",
            "image 88/121 /content/drive/MyDrive/testrun/data/images/train/intraoral_upper-47-_JPEG.rf.8b03733986816f2e2cb2b0e1ba2898a6.jpg: 640x640 1 11, 1 12, 1 13, 1 14, 1 15, 1 16, 1 17, 1 21, 1 22, 1 23, 1 incisive papilla, 1 non-carious lesion, 1 palatine raphe, 6 staining or visible changes without cavitations, 7 visible changes with cavitations, 1 visible changes with microcavitation, 11.0ms\n",
            "image 89/121 /content/drive/MyDrive/testrun/data/images/train/intraoral_upper-49-_JPEG.rf.6c237716061d4af4804b5cc0e9e0c569.jpg: 640x640 1 11, 1 12, 1 13, 1 14, 1 15, 2 16s, 1 17, 1 21, 1 22, 1 23, 1 24, 2 25s, 1 27, 1 amalgam filling, 1 incisive papilla, 1 non-carious lesion, 5 staining or visible changes without cavitations, 1 visible changes with cavitation, 12.2ms\n",
            "image 90/121 /content/drive/MyDrive/testrun/data/images/train/intraoral_upper-5-_JPEG.rf.79f869454b42239786fc4aff78cfe062.jpg: 640x640 1 21, 1 22, 1 23, 1 24, 1 25, 1 26, 1 27, 2 amalgam fillings, 1 palatine raphe, 8 staining or visible changes without cavitations, 1 visible changes with cavitation, 1 visible changes with microcavitation, 14.1ms\n",
            "image 91/121 /content/drive/MyDrive/testrun/data/images/train/intraoral_upper-51-_JPEG.rf.da0286f6fe12e60dda460efb39098eb6.jpg: 640x640 1 11, 1 12, 1 13, 1 14, 1 15, 1 16, 1 21, 1 22, 1 23, 1 24, 1 25, 1 26, 1 incisive papilla, 1 non-carious lesion, 1 palatine raphe, 4 staining or visible changes without cavitations, 14.6ms\n",
            "image 92/121 /content/drive/MyDrive/testrun/data/images/train/intraoral_upper-52-_JPEG.rf.47db0d2902a7515f5666fdf7bb59a5b7.jpg: 640x640 1 26, 1 27, 1 28, 1 non-carious lesion, 5 staining or visible changes without cavitations, 1 visible changes with microcavitation, 25.8ms\n",
            "image 93/121 /content/drive/MyDrive/testrun/data/images/train/intraoral_upper-55-_JPEG.rf.55071db7433a776c0e038db7b142e13b.jpg: 640x640 1 21, 1 22, 1 23, 1 24, 1 25, 1 26, 1 27, 1 incisive papilla, 4 non-carious lesions, 1 palatine raphe, 4 staining or visible changes without cavitations, 3 visible changes with microcavitations, 19.4ms\n",
            "image 94/121 /content/drive/MyDrive/testrun/data/images/train/intraoral_upper-56-_JPEG.rf.0b4887e2ba33ba96b56d03c31352d333.jpg: 640x640 1 11, 1 12, 1 13, 1 14, 1 15, 1 21, 1 22, 1 23, 1 24, 1 25, 1 26, 1 incisive papilla, 1 palatine raphe, 4 staining or visible changes without cavitations, 2 visible changes with microcavitations, 14.0ms\n",
            "image 95/121 /content/drive/MyDrive/testrun/data/images/train/intraoral_upper-57-_JPEG.rf.16b8bf1519aea7df741b0d4ce4388db5.jpg: 640x640 1 11, 1 12, 1 13, 1 14, 1 15, 1 16, 1 21, 1 22, 1 23, 1 24, 1 25, 1 26, 3 fixed prosthesiss, 1 incisive papilla, 1 palatine raphe, 7 staining or visible changes without cavitations, 1 visible changes with cavitation, 2 visible changes with microcavitations, 27.8ms\n",
            "image 96/121 /content/drive/MyDrive/testrun/data/images/train/intraoral_upper-58-_JPEG.rf.2383ca1161ac87830174730cdd40df03.jpg: 640x640 1 23, 1 24, 1 25, 2 26s, 1 27, 1 33, 1 incisive papilla, 1 palatine raphe, 1 visible changes with cavitation, 3 visible changes with microcavitations, 16.1ms\n",
            "image 97/121 /content/drive/MyDrive/testrun/data/images/train/intraoral_upper-6-_JPEG.rf.90ae8f9d32c0f81d293142eb55413cb1.jpg: 640x640 1 11, 1 12, 1 13, 1 14, 1 15, 1 16, 1 21, 1 22, 1 23, 1 24, 1 25, 1 26, 1 27, 1 44, 1 amalgam filling, 1 incisive papilla, 1 palatine raphe, 13 staining or visible changes without cavitations, 1 tooth coloured filling, 3 visible changes with microcavitations, 17.5ms\n",
            "image 98/121 /content/drive/MyDrive/testrun/data/images/train/intraoral_upper-61-_JPEG.rf.9e9236f5a789ae404bc31c38fd8dc878.jpg: 640x640 2 11s, 2 12s, 3 13s, 2 14s, 2 15s, 1 16, 2 17s, 1 21, 1 incisive papilla, 2 non-carious lesions, 2 palatine raphes, 5 staining or visible changes without cavitations, 5 visible changes with microcavitations, 21.0ms\n",
            "image 99/121 /content/drive/MyDrive/testrun/data/images/train/intraoral_upper-62-_JPEG.rf.bc7805a60d58c75df8529572bf2fd6a7.jpg: 640x640 1 11, 1 12, 1 13, 1 15, 1 16, 1 17, 1 21, 1 22, 1 23, 1 25, 1 26, 1 incisive papilla, 4 non-carious lesions, 1 palatine raphe, 2 staining or visible changes without cavitations, 1 visible changes with cavitation, 11.7ms\n",
            "image 100/121 /content/drive/MyDrive/testrun/data/images/train/intraoral_upper-64-_JPEG.rf.11dce392041797684fb2f6019261abcd.jpg: 640x640 1 11, 1 12, 1 13, 1 14, 1 15, 1 16, 1 21, 1 22, 1 23, 1 24, 1 25, 1 26, 3 calculuss, 1 incisive papilla, 1 palatine raphe, 3 staining or visible changes without cavitations, 2 visible changes with cavitations, 1 visible changes with microcavitation, 12.5ms\n",
            "image 101/121 /content/drive/MyDrive/testrun/data/images/train/intraoral_upper-66-_JPEG.rf.3d3c4bd91f5341459c34648b21f1531e.jpg: 640x640 1 13, 1 14, 1 15, 1 16, 1 17, 1 visible changes with cavitation, 11.8ms\n",
            "image 102/121 /content/drive/MyDrive/testrun/data/images/train/intraoral_upper-68-_JPEG.rf.303c6d1b22740f7ea4c2b8a7630ea1c4.jpg: 640x640 2 11s, 2 12s, 2 13s, 2 14s, 2 15s, 2 16s, 1 17, 1 incisive papilla, 1 non-carious lesion, 1 palatine raphe, 4 staining or visible changes without cavitations, 14.1ms\n",
            "image 103/121 /content/drive/MyDrive/testrun/data/images/train/intraoral_upper-69-_JPEG.rf.4fb166d4f27a11c64040207f1e2c5665.jpg: 640x640 1 11, 1 12, 1 13, 1 14, 1 15, 1 16, 1 17, 1 21, 1 22, 1 23, 1 24, 1 25, 1 26, 1 27, 1 calculus, 1 incisive papilla, 1 palatine raphe, 1 staining or visible changes without cavitation, 6 visible changes with cavitations, 3 visible changes with microcavitations, 11.8ms\n",
            "image 104/121 /content/drive/MyDrive/testrun/data/images/train/intraoral_upper-7-_JPEG.rf.f1f1ad4533c27b582f5b2686fa68adb9.jpg: 640x640 1 11, 1 13, 1 14, 1 15, 1 16, 1 17, 1 21, 1 22, 1 23, 1 24, 1 25, 1 26, 1 27, 1 incisive papilla, 7 non-carious lesions, 1 palatine raphe, 11 staining or visible changes without cavitations, 1 visible changes with cavitation, 14.5ms\n",
            "image 105/121 /content/drive/MyDrive/testrun/data/images/train/intraoral_upper-71-_JPEG.rf.88f2d94ad61480a1b12142176cfa15a6.jpg: 640x640 1 11, 1 12, 1 13, 1 15, 1 16, 2 17s, 1 23, 1 24, 1 25, 1 amalgam filling, 1 incisive papilla, 1 non-carious lesion, 1 palatine raphe, 1 visible changes with cavitation, 12.1ms\n",
            "image 106/121 /content/drive/MyDrive/testrun/data/images/train/intraoral_upper-72-_JPEG.rf.9b98719aaa2960829522b5a75812936d.jpg: 640x640 1 11, 1 12, 1 13, 1 14, 1 21, 1 22, 1 23, 1 24, 1 25, 1 26, 1 incisive papilla, 1 non-carious lesion, 1 palatine raphe, 1 staining or visible changes without cavitation, 1 visible changes with microcavitation, 12.2ms\n",
            "image 107/121 /content/drive/MyDrive/testrun/data/images/train/intraoral_upper-73-_JPEG.rf.d72532178068dbfe6c56d250d32090e2.jpg: 640x640 1 11, 1 12, 1 13, 1 14, 1 15, 1 16, 1 17, 1 21, 1 22, 1 23, 1 24, 1 25, 1 26, 1 27, 1 amalgam filling, 1 fixed prosthesis, 1 incisive papilla, 7 non-carious lesions, 1 palatine raphe, 4 staining or visible changes without cavitations, 1 visible changes with cavitation, 11.6ms\n",
            "image 108/121 /content/drive/MyDrive/testrun/data/images/train/intraoral_upper-74-_JPEG.rf.08dea66e089cf7482a930ddb2c246c3c.jpg: 640x640 1 11, 1 12, 1 13, 1 14, 1 15, 1 16, 1 17, 1 18, 1 21, 1 22, 1 23, 1 24, 1 25, 1 26, 1 27, 2 amalgam fillings, 8 calculuss, 1 incisive papilla, 1 palatine raphe, 15 staining or visible changes without cavitations, 2 visible changes with microcavitations, 11.2ms\n",
            "image 109/121 /content/drive/MyDrive/testrun/data/images/train/intraoral_upper-75-_JPEG.rf.3e06624bce64a9563c0b11d4f87ecd34.jpg: 640x640 1 11, 1 12, 1 13, 1 14, 1 15, 1 16, 1 21, 1 22, 1 23, 2 24s, 1 25, 1 incisive papilla, 1 palatine raphe, 6 staining or visible changes without cavitations, 1 visible changes with cavitation, 1 visible changes with microcavitation, 12.0ms\n",
            "image 110/121 /content/drive/MyDrive/testrun/data/images/train/intraoral_upper-78-_JPEG.rf.7b1409534e32074dc4634bd3913ed13f.jpg: 640x640 1 11, 1 12, 1 13, 1 14, 1 15, 1 16, 1 17, 1 21, 1 22, 1 23, 1 24, 1 25, 1 26, 4 amalgam fillings, 5 fixed prosthesiss, 1 incisive papilla, 1 palatine raphe, 2 visible changes with cavitations, 1 visible changes with microcavitation, 11.9ms\n",
            "image 111/121 /content/drive/MyDrive/testrun/data/images/train/intraoral_upper-79-_JPEG.rf.0c504f5448ea453b264243c4d55296cb.jpg: 640x640 1 23, 1 24, 1 25, 1 26, 2 27s, 1 incisive papilla, 1 palatine raphe, 1 tooth coloured filling, 3 visible changes with cavitations, 1 visible changes with microcavitation, 12.4ms\n",
            "image 112/121 /content/drive/MyDrive/testrun/data/images/train/intraoral_upper-8-_JPEG.rf.cdb93d5d1d0a9c28170e37800ec935cb.jpg: 640x640 1 11, 1 12, 1 13, 1 14, 1 15, 1 16, 1 17, 1 21, 1 22, 1 23, 1 24, 1 25, 1 incisive papilla, 1 palatine raphe, 4 staining or visible changes without cavitations, 11.7ms\n",
            "image 113/121 /content/drive/MyDrive/testrun/data/images/train/intraoral_upper-80-_JPEG.rf.f5f9f08d884103a551e6984eff2a22bd.jpg: 640x640 1 11, 1 12, 1 14, 1 15, 1 16, 1 17, 1 21, 1 22, 1 23, 1 24, 1 amalgam filling, 4 fixed prosthesiss, 1 incisive papilla, 1 palatine raphe, 1 tooth coloured filling, 12.1ms\n",
            "image 114/121 /content/drive/MyDrive/testrun/data/images/train/intraoral_upper-81-_JPEG.rf.e0d56abc77aa72be25805450f54244ee.jpg: 640x640 1 11, 1 12, 1 13, 1 14, 1 15, 1 16, 1 17, 1 21, 1 22, 1 23, 1 24, 1 25, 1 26, 1 27, 1 incisive papilla, 1 non-carious lesion, 1 palatine raphe, 10 staining or visible changes without cavitations, 1 visible changes with cavitation, 1 visible changes with microcavitation, 11.7ms\n",
            "image 115/121 /content/drive/MyDrive/testrun/data/images/train/intraoral_upper-82-_JPEG.rf.570f1fd9220dd02da35de90f194be2de.jpg: 640x640 1 11, 1 12, 1 13, 1 14, 1 15, 1 16, 1 17, 1 21, 1 22, 1 23, 1 24, 1 25, 1 26, 1 incisive papilla, 1 non-carious lesion, 1 palatine raphe, 14 staining or visible changes without cavitations, 11.6ms\n",
            "image 116/121 /content/drive/MyDrive/testrun/data/images/train/intraoral_upper-83-_JPEG.rf.0b06bc428cb10869bdc5db875811f532.jpg: 640x640 1 11, 1 12, 1 13, 1 14, 1 16, 2 17s, 1 18, 1 21, 1 22, 1 23, 1 24, 1 25, 1 26, 1 incisive papilla, 1 palatine raphe, 3 staining or visible changes without cavitations, 2 visible changes with microcavitations, 12.3ms\n",
            "image 117/121 /content/drive/MyDrive/testrun/data/images/train/intraoral_upper-85-_JPEG.rf.08db4b188bbc452d506adfda12db88a9.jpg: 640x640 1 11, 1 12, 1 13, 1 14, 2 15s, 1 16, 1 21, 1 22, 1 23, 1 24, 1 25, 1 26, 1 27, 1 incisive papilla, 2 non-carious lesions, 1 palatine raphe, 2 staining or visible changes without cavitations, 1 tooth coloured filling, 7 visible changes with cavitations, 1 visible changes with microcavitation, 23.4ms\n",
            "image 118/121 /content/drive/MyDrive/testrun/data/images/train/intraoral_upper-86-_JPEG.rf.ec07845c3f8dd8f0b0170dcf55d06470.jpg: 640x640 1 11, 1 12, 1 13, 1 14, 1 15, 1 16, 1 17, 1 21, 1 22, 1 24, 1 25, 1 26, 1 palatine raphe, 1 visible changes with cavitation, 14.7ms\n",
            "image 119/121 /content/drive/MyDrive/testrun/data/images/train/intraoral_upper-87-_JPEG.rf.a99c496d4fb2ea152c16983be3b62a5f.jpg: 640x640 1 11, 1 12, 1 13, 1 14, 1 15, 1 16, 1 17, 1 18, 6 calculuss, 1 palatine raphe, 1 staining or visible changes without cavitation, 1 visible changes with cavitation, 15.3ms\n",
            "image 120/121 /content/drive/MyDrive/testrun/data/images/train/intraoral_upper-9-_JPEG.rf.17fce56e6cd73b5ccf0864bf852d7e22.jpg: 640x640 1 11, 1 12, 1 13, 1 14, 1 15, 1 16, 2 17s, 1 18, 1 21, 1 22, 1 23, 1 24, 1 25, 1 26, 1 27, 1 calculus, 1 incisive papilla, 4 non-carious lesions, 1 palatine raphe, 3 staining or visible changes without cavitations, 13.7ms\n",
            "image 121/121 /content/drive/MyDrive/testrun/data/images/train/intraoral_upper-90-_JPEG.rf.24f1857a42f30a8b0f85fa79923333c5.jpg: 640x640 1 11, 1 12, 1 13, 1 14, 1 15, 1 16, 1 21, 1 22, 1 23, 1 24, 1 25, 1 26, 1 27, 1 calculus, 1 incisive papilla, 1 palatine raphe, 4 staining or visible changes without cavitations, 1 tooth coloured filling, 1 visible changes with cavitation, 4 visible changes with microcavitations, 22.7ms\n",
            "Speed: 1.7ms preprocess, 13.9ms inference, 1.6ms postprocess per image at shape (1, 3, 640, 640)\n"
          ]
        }
      ]
    },
    {
      "cell_type": "code",
      "source": [
        "!yolo predict model='/content/drive/MyDrive/testrun/runs/detect/train/weights/best.pt' source='/content/drive/MyDrive/testrun/data/images/val/intraoral_lower-3-_JPEG.rf.fd3b4240dfa0348a800092bc98403a8e.jpg'"
      ],
      "metadata": {
        "id": "wfLgIkdvAQFF",
        "colab": {
          "base_uri": "https://localhost:8080/"
        },
        "outputId": "31c07cab-6029-4d13-81f3-8cfea4b341eb"
      },
      "execution_count": null,
      "outputs": [
        {
          "output_type": "stream",
          "name": "stdout",
          "text": [
            "Ultralytics YOLOv8.2.18 🚀 Python-3.10.12 torch-2.2.1+cu121 CUDA:0 (Tesla T4, 15102MiB)\n",
            "Model summary (fused): 168 layers, 3014228 parameters, 0 gradients, 8.1 GFLOPs\n",
            "\n",
            "image 1/1 /content/drive/MyDrive/testrun/data/images/val/intraoral_lower-3-_JPEG.rf.fd3b4240dfa0348a800092bc98403a8e.jpg: 640x640 3 32s, 2 33s, 1 34, 1 35, 1 41, 2 42s, 1 43, 2 tongues, 2 visible changes with microcavitations, 11.3ms\n",
            "Speed: 2.9ms preprocess, 11.3ms inference, 1983.7ms postprocess per image at shape (1, 3, 640, 640)\n",
            "Results saved to \u001b[1mruns/detect/predict3\u001b[0m\n",
            "💡 Learn more at https://docs.ultralytics.com/modes/predict\n"
          ]
        }
      ]
    },
    {
      "cell_type": "code",
      "source": [
        "!scp -r /content/runs/detect/predict3 '/content/drive/MyDrive/testrun'"
      ],
      "metadata": {
        "id": "98g0tYeAYZmn"
      },
      "execution_count": null,
      "outputs": []
    },
    {
      "cell_type": "code",
      "source": [
        "from IPython.display import display, Image\n",
        "\n",
        "Image(filename='/content/drive/MyDrive/testrun/runs/detect/train8/train_batch2.jpg', height=700)\n",
        "Image(filename='/content/drive/MyDrive/testrun/runs/detect/train8/results.png', height=700)\n",
        "Image(filename='/content/drive/MyDrive/testrun/runs/detect/train8/labels.jpg', height=700)"
      ],
      "metadata": {
        "id": "tGYJQ2LYB2E9",
        "colab": {
          "base_uri": "https://localhost:8080/",
          "height": 717
        },
        "outputId": "dfa460fc-f0eb-4c38-be53-6a3ffff08c4e"
      },
      "execution_count": null,
      "outputs": [
        {
          "output_type": "execute_result",
          "data": {
            "image/jpeg": "[encoded data removed]",
            "text/plain": [
              "<IPython.core.display.Image object>"
            ]
          },
          "metadata": {
            "image/jpeg": {
              "height": 700
            }
          },
          "execution_count": 41
        }
      ]
    },
    {
      "cell_type": "code",
      "source": [
        "import os\n",
        "\n",
        "from ultralytics import YOLO\n",
        "\n",
        "model = YOLO('/content/drive/MyDrive/testrun/runs/detect/train8/weights/best.pt')\n",
        "\n",
        "results_second_round= model.predict(source='/content/drive/MyDrive/testrun/data/images/val'\n",
        "                                   )\n",
        "\n"
      ],
      "metadata": {
        "id": "vsXYWUgM_vue",
        "colab": {
          "base_uri": "https://localhost:8080/"
        },
        "outputId": "3be72cf1-06f5-4c96-da8d-ce729052addc"
      },
      "execution_count": null,
      "outputs": [
        {
          "output_type": "stream",
          "name": "stdout",
          "text": [
            "\n",
            "image 1/35 /content/drive/MyDrive/testrun/data/images/val/intraoral_lower-27-_JPEG.rf.2857a5b9d0a8fe16c5c7c05729f4935d.jpg: 640x640 1 34, 1 35, 1 46, 1 47, 1 48, 1 tongue, 33.6ms\n",
            "image 2/35 /content/drive/MyDrive/testrun/data/images/val/intraoral_lower-29-_JPEG.rf.5603f3efc6820b8c3dde3e29fb1ce6a3.jpg: 640x640 1 31, 1 32, 1 33, 1 34, 1 35, 2 36s, 2 37s, 2 41s, 1 42, 1 43, 1 amalgam filling, 1 fixed prosthesis, 1 non-carious lesion, 1 tongue, 43.4ms\n",
            "image 3/35 /content/drive/MyDrive/testrun/data/images/val/intraoral_lower-3-_JPEG.rf.fd3b4240dfa0348a800092bc98403a8e.jpg: 640x640 1 31, 2 32s, 2 33s, 2 34s, 2 35s, 2 36s, 2 37s, 1 38, 1 42, 1 43, 1 44, 1 amalgam filling, 1 fixed prosthesis, 1 non-carious lesion, 1 tongue, 1 visible changes with cavitation, 1 visible changes with microcavitation, 16.5ms\n",
            "image 4/35 /content/drive/MyDrive/testrun/data/images/val/intraoral_lower-30-_JPEG.rf.553c87ed4c4d294f01c6d06add821282.jpg: 640x640 1 15, 1 26, 1 31, 1 33, 1 34, 1 36, 4 41s, 2 42s, 1 43, 1 44, 1 45, 2 amalgam fillings, 1 visible changes with cavitation, 20.7ms\n",
            "image 5/35 /content/drive/MyDrive/testrun/data/images/val/intraoral_lower-32-_JPEG.rf.afc5800f64de233e0089c7dbb84ca85b.jpg: 640x640 1 35, 1 36, 2 42s, 1 43, 1 44, 1 45, 2 47s, 1 48, 1 amalgam filling, 1 staining or visible changes without cavitation, 1 tongue, 2 visible changes with microcavitations, 16.5ms\n",
            "image 6/35 /content/drive/MyDrive/testrun/data/images/val/intraoral_lower-35-_JPEG.rf.f720d53972f24e8c8b5a1f6fcae473d4.jpg: 640x640 1 35, 1 36, 1 37, 1 47, 1 non-carious lesion, 1 tongue, 1 visible changes with microcavitation, 16.5ms\n",
            "image 7/35 /content/drive/MyDrive/testrun/data/images/val/intraoral_lower-40-_JPEG.rf.15705a3eb97efa3a086332e698f1bee6.jpg: 640x640 1 33, 1 34, 2 35s, 1 36, 1 37, 1 38, 1 tongue, 16.5ms\n",
            "image 8/35 /content/drive/MyDrive/testrun/data/images/val/intraoral_lower-43-_JPEG.rf.02e70387f1c24048a29bc355c1dc9855.jpg: 640x640 1 43, 1 46, 1 tongue, 1 visible changes with microcavitation, 15.8ms\n",
            "image 9/35 /content/drive/MyDrive/testrun/data/images/val/intraoral_lower-49-_JPEG.rf.2ebdca771c355f9f8b213fcc90773897.jpg: 640x640 2 31s, 2 32s, 3 34s, 3 35s, 1 42, 1 43, 3 calculuss, 1 non-carious lesion, 1 palatine raphe, 1 staining or visible changes without cavitation, 4 visible changes with microcavitations, 14.4ms\n",
            "image 10/35 /content/drive/MyDrive/testrun/data/images/val/intraoral_lower-54-_JPEG.rf.047f1b7abd1cffdb4caf30677ace4fe2.jpg: 640x640 1 16, 1 31, 2 32s, 1 34, 1 35, 1 37, 1 42, 1 45, 1 amalgam filling, 1 tongue, 1 visible changes with cavitation, 14.4ms\n",
            "image 11/35 /content/drive/MyDrive/testrun/data/images/val/intraoral_lower-66-_JPEG.rf.a3beb8f8f684b94455029a326d7fa07d.jpg: 640x640 2 35s, 1 37, 1 amalgam filling, 1 tongue, 15.6ms\n",
            "image 12/35 /content/drive/MyDrive/testrun/data/images/val/intraoral_lower-76-_JPEG.rf.808820d4e7b7ec4a84dd41ffb4c68190.jpg: 640x640 1 35, 1 36, 1 37, 1 47, 1 48, 1 tongue, 5 visible changes with microcavitations, 14.4ms\n",
            "image 13/35 /content/drive/MyDrive/testrun/data/images/val/intraoral_lower-8-_JPEG.rf.6a1a634d4f90c600d525a30d0020daef.jpg: 640x640 1 32, 1 33, 1 34, 1 36, 1 37, 1 38, 1 amalgam filling, 1 tongue, 14.5ms\n",
            "image 14/35 /content/drive/MyDrive/testrun/data/images/val/intraoral_lower-84-_JPEG.rf.7fe7e6896a02d365b2be369ce609892c.jpg: 640x640 2 31s, 1 32, 2 45s, 1 46, 1 47, 1 tongue, 5 visible changes with microcavitations, 21.6ms\n",
            "image 15/35 /content/drive/MyDrive/testrun/data/images/val/intraoral_lower-85-_JPEG.rf.683769192eb1a0adeb33040ca1d32007.jpg: 640x640 1 17, 2 32s, 1 33, 1 34, 2 35s, 3 36s, 2 37s, 1 38, 1 41, 1 42, 1 43, 1 44, 1 45, 2 non-carious lesions, 1 staining or visible changes without cavitation, 2 tongues, 2 visible changes with microcavitations, 14.1ms\n",
            "image 16/35 /content/drive/MyDrive/testrun/data/images/val/intraoral_upper-1-.rf.422ac999bb33b0056c5db6aeb3460fa0.jpg: 640x640 1 11, 1 12, 1 13, 1 14, 1 15, 1 21, 1 22, 1 23, 1 24, 1 25, 1 26, 1 incisive papilla, 1 non-carious lesion, 1 palatine raphe, 14.0ms\n",
            "image 17/35 /content/drive/MyDrive/testrun/data/images/val/intraoral_upper-18-_JPEG.rf.3d6c40d259334af1b973c9c5dadb39af.jpg: 640x640 2 11s, 2 12s, 1 13, 2 14s, 2 15s, 2 16s, 3 17s, 1 18, 1 22, 1 23, 1 24, 1 amalgam filling, 1 fixed prosthesis, 1 incisive papilla, 1 non-carious lesion, 1 palatine raphe, 1 staining or visible changes without cavitation, 2 visible changes with cavitations, 2 visible changes with microcavitations, 13.9ms\n",
            "image 18/35 /content/drive/MyDrive/testrun/data/images/val/intraoral_upper-20-_JPEG.rf.10b9a59c9830e911965ec9c2b4694ddb.jpg: 640x640 1 11, 2 12s, 1 13, 1 14, 1 17, 1 21, 1 22, 1 23, 1 24, 1 25, 1 26, 1 27, 1 incisive papilla, 5 non-carious lesions, 1 palatine raphe, 7 staining or visible changes without cavitations, 2 visible changes with cavitations, 4 visible changes with microcavitations, 13.9ms\n",
            "image 19/35 /content/drive/MyDrive/testrun/data/images/val/intraoral_upper-23-_JPEG.rf.32c4f6b75ee59e5d242cc434d0e2be65.jpg: 640x640 1 11, 1 12, 1 13, 1 14, 1 15, 1 16, 1 21, 1 22, 1 23, 2 fixed prosthesiss, 1 incisive papilla, 1 non-carious lesion, 1 palatine raphe, 1 visible changes with cavitation, 14.9ms\n",
            "image 20/35 /content/drive/MyDrive/testrun/data/images/val/intraoral_upper-27-_JPEG.rf.1a202c89ee24ffd4ea529d8caa0d357e.jpg: 640x640 1 11, 1 12, 1 13, 1 14, 1 15, 1 16, 1 17, 1 18, 1 21, 1 22, 1 23, 1 24, 1 25, 1 26, 1 27, 1 28, 2 32s, 1 amalgam filling, 1 fixed prosthesis, 5 non-carious lesions, 1 palatine raphe, 1 staining or visible changes without cavitation, 4 visible changes with microcavitations, 13.9ms\n",
            "image 21/35 /content/drive/MyDrive/testrun/data/images/val/intraoral_upper-29-_JPEG.rf.e74e97c2565ab44daec6dca51a54eb05.jpg: 640x640 1 11, 1 12, 2 13s, 1 14, 1 15, 1 16, 1 17, 1 18, 1 21, 1 22, 1 23, 1 24, 2 25s, 1 27, 1 incisive papilla, 1 non-carious lesion, 1 palatine raphe, 17 staining or visible changes without cavitations, 1 visible changes with microcavitation, 16.0ms\n",
            "image 22/35 /content/drive/MyDrive/testrun/data/images/val/intraoral_upper-3-_JPEG.rf.f3e4fe279b9a1ee465a654954cc03792.jpg: 640x640 1 11, 1 12, 1 13, 1 14, 2 15s, 1 16, 1 17, 1 21, 1 23, 2 calculuss, 1 incisive papilla, 1 palatine raphe, 7 staining or visible changes without cavitations, 2 visible changes with cavitations, 13.9ms\n",
            "image 23/35 /content/drive/MyDrive/testrun/data/images/val/intraoral_upper-38-_JPEG.rf.12d83f9aef40afddb546b91f47c663f3.jpg: 640x640 1 11, 2 12s, 2 14s, 2 37s, 1 amalgam filling, 13.9ms\n",
            "image 24/35 /content/drive/MyDrive/testrun/data/images/val/intraoral_upper-39-_JPEG.rf.de89e24a94fb8d64af1afb7a02f79846.jpg: 640x640 1 12, 2 13s, 1 14, 1 21, 3 22s, 1 31, 2 32s, 1 41, 1 42, 2 43s, 2 44s, 1 45, 1 tongue, 13.9ms\n",
            "image 25/35 /content/drive/MyDrive/testrun/data/images/val/intraoral_upper-40-_JPEG.rf.1594848e066cba1d4631a4f7d6ecf3ea.jpg: 640x640 1 12, 1 13, 2 21s, 2 22s, 1 23, 2 31s, 1 32, 1 33, 1 41, 1 42, 1 43, 2 44s, 13.4ms\n",
            "image 26/35 /content/drive/MyDrive/testrun/data/images/val/intraoral_upper-50-_JPEG.rf.67c9c8135028ac105aad5e8f7ccc848c.jpg: 640x640 1 11, 3 12s, 2 13s, 1 14, 2 15s, 1 16, 1 17, 1 18, 1 21, 1 22, 1 23, 1 24, 1 25, 1 26, 1 27, 2 32s, 1 incisive papilla, 1 palatine raphe, 1 visible changes with cavitation, 13.5ms\n",
            "image 27/35 /content/drive/MyDrive/testrun/data/images/val/intraoral_upper-53-_JPEG.rf.d116a659a7198da4bb86acbb7a7be808.jpg: 640x640 1 11, 2 12s, 1 16, 1 21, 1 22, 1 23, 2 24s, 1 25, 2 26s, 1 27, 1 amalgam filling, 1 fixed prosthesis, 1 incisive papilla, 1 palatine raphe, 2 staining or visible changes without cavitations, 1 visible changes with microcavitation, 13.5ms\n",
            "image 28/35 /content/drive/MyDrive/testrun/data/images/val/intraoral_upper-59-_JPEG.rf.af0e7e8bec6867b0e3dfa9a1e1149bf4.jpg: 640x640 2 11s, 1 12, 1 15, 2 22s, 2 23s, 1 24, 1 25, 1 palatine raphe, 3 staining or visible changes without cavitations, 14.5ms\n",
            "image 29/35 /content/drive/MyDrive/testrun/data/images/val/intraoral_upper-60-_JPEG.rf.84d94d56a565a323a9ea5657e23e4f05.jpg: 640x640 1 13, 1 14, 1 15, 1 16, 1 17, 1 non-carious lesion, 1 palatine raphe, 1 staining or visible changes without cavitation, 1 visible changes with cavitation, 1 visible changes with microcavitation, 13.4ms\n",
            "image 30/35 /content/drive/MyDrive/testrun/data/images/val/intraoral_upper-63-_JPEG.rf.e4c18895f20e80e157e7404c6fc3ea3d.jpg: 640x640 2 11s, 2 12s, 2 14s, 2 15s, 2 16s, 1 17, 2 22s, 2 24s, 1 25, 1 incisive papilla, 1 non-carious lesion, 1 palatine raphe, 2 staining or visible changes without cavitations, 1 visible changes with microcavitation, 13.4ms\n",
            "image 31/35 /content/drive/MyDrive/testrun/data/images/val/intraoral_upper-65-_JPEG.rf.42a39952a486ea1f7d61d42092d4e0e0.jpg: 640x640 1 16, 1 17, 1 24, 1 25, 1 26, 1 amalgam filling, 1 palatine raphe, 1 visible changes with cavitation, 17.2ms\n",
            "image 32/35 /content/drive/MyDrive/testrun/data/images/val/intraoral_upper-70-_JPEG.rf.8d6aa47898449f2bec587f73b2e8b6b5.jpg: 640x640 1 12, 1 13, 1 15, 1 21, 1 22, 1 24, 1 25, 1 26, 1 incisive papilla, 1 palatine raphe, 1 visible changes with cavitation, 21.9ms\n",
            "image 33/35 /content/drive/MyDrive/testrun/data/images/val/intraoral_upper-77-_JPEG.rf.9d845f9100470a62cd90b6af95317fd6.jpg: 640x640 1 11, 1 16, 1 17, 2 21s, 2 22s, 2 23s, 2 24s, 2 25s, 2 26s, 2 amalgam fillings, 1 fixed prosthesis, 1 incisive papilla, 1 non-carious lesion, 1 palatine raphe, 1 staining or visible changes without cavitation, 1 visible changes with cavitation, 1 visible changes with microcavitation, 17.7ms\n",
            "image 34/35 /content/drive/MyDrive/testrun/data/images/val/intraoral_upper-88-_JPEG.rf.985087df38152cbfe13d1f815e192973.jpg: 640x640 1 22, 1 23, 1 24, 1 25, 2 26s, 1 calculus, 2 palatine raphes, 19.3ms\n",
            "image 35/35 /content/drive/MyDrive/testrun/data/images/val/intraoral_upper-89-_JPEG.rf.1afe40dd280f5e0705f217494947a9cc.jpg: 640x640 2 11s, 1 12, 2 13s, 2 14s, 2 15s, 2 16s, 2 17s, 1 22, 1 25, 1 28, 1 incisive papilla, 1 non-carious lesion, 1 palatine raphe, 1 staining or visible changes without cavitation, 2 visible changes with cavitations, 13.6ms\n",
            "Speed: 1.7ms preprocess, 16.8ms inference, 1.7ms postprocess per image at shape (1, 3, 640, 640)\n"
          ]
        }
      ]
    },
    {
      "cell_type": "code",
      "source": [
        "type(results)"
      ],
      "metadata": {
        "id": "eGajjrxYCpvR",
        "colab": {
          "base_uri": "https://localhost:8080/",
          "height": 187
        },
        "outputId": "c7fe6781-d362-4f62-e132-02e4819de1c0"
      },
      "execution_count": null,
      "outputs": [
        {
          "output_type": "execute_result",
          "data": {
            "text/plain": [
              "ultralytics.utils.metrics.DetMetrics"
            ],
            "text/html": [
              "<div style=\"max-width:800px; border: 1px solid var(--colab-border-color);\"><style>\n",
              "      pre.function-repr-contents {\n",
              "        overflow-x: auto;\n",
              "        padding: 8px 12px;\n",
              "        max-height: 500px;\n",
              "      }\n",
              "\n",
              "      pre.function-repr-contents.function-repr-contents-collapsed {\n",
              "        cursor: pointer;\n",
              "        max-height: 100px;\n",
              "      }\n",
              "    </style>\n",
              "    <pre style=\"white-space: initial; background:\n",
              "         var(--colab-secondary-surface-color); padding: 8px 12px;\n",
              "         border-bottom: 1px solid var(--colab-border-color);\"><b>ultralytics.utils.metrics.DetMetrics</b><br/>def __init__(save_dir=Path(&#x27;.&#x27;), plot=False, on_plot=None, names=()) -&gt; None</pre><pre class=\"function-repr-contents function-repr-contents-collapsed\" style=\"\"><a class=\"filepath\" style=\"display:none\" href=\"#\">/usr/local/lib/python3.10/dist-packages/ultralytics/utils/metrics.py</a>This class is a utility class for computing detection metrics such as precision, recall, and mean average precision\n",
              "(mAP) of an object detection model.\n",
              "\n",
              "Args:\n",
              "    save_dir (Path): A path to the directory where the output plots will be saved. Defaults to current directory.\n",
              "    plot (bool): A flag that indicates whether to plot precision-recall curves for each class. Defaults to False.\n",
              "    on_plot (func): An optional callback to pass plots path and data when they are rendered. Defaults to None.\n",
              "    names (tuple of str): A tuple of strings that represents the names of the classes. Defaults to an empty tuple.\n",
              "\n",
              "Attributes:\n",
              "    save_dir (Path): A path to the directory where the output plots will be saved.\n",
              "    plot (bool): A flag that indicates whether to plot the precision-recall curves for each class.\n",
              "    on_plot (func): An optional callback to pass plots path and data when they are rendered.\n",
              "    names (tuple of str): A tuple of strings that represents the names of the classes.\n",
              "    box (Metric): An instance of the Metric class for storing the results of the detection metrics.\n",
              "    speed (dict): A dictionary for storing the execution time of different parts of the detection process.\n",
              "\n",
              "Methods:\n",
              "    process(tp, conf, pred_cls, target_cls): Updates the metric results with the latest batch of predictions.\n",
              "    keys: Returns a list of keys for accessing the computed detection metrics.\n",
              "    mean_results: Returns a list of mean values for the computed detection metrics.\n",
              "    class_result(i): Returns a list of values for the computed detection metrics for a specific class.\n",
              "    maps: Returns a dictionary of mean average precision (mAP) values for different IoU thresholds.\n",
              "    fitness: Computes the fitness score based on the computed detection metrics.\n",
              "    ap_class_index: Returns a list of class indices sorted by their average precision (AP) values.\n",
              "    results_dict: Returns a dictionary that maps detection metric keys to their computed values.\n",
              "    curves: TODO\n",
              "    curves_results: TODO</pre>\n",
              "      <script>\n",
              "      if (google.colab.kernel.accessAllowed && google.colab.files && google.colab.files.view) {\n",
              "        for (const element of document.querySelectorAll('.filepath')) {\n",
              "          element.style.display = 'block'\n",
              "          element.onclick = (event) => {\n",
              "            event.preventDefault();\n",
              "            event.stopPropagation();\n",
              "            google.colab.files.view(element.textContent, 792);\n",
              "          };\n",
              "        }\n",
              "      }\n",
              "      for (const element of document.querySelectorAll('.function-repr-contents')) {\n",
              "        element.onclick = (event) => {\n",
              "          event.preventDefault();\n",
              "          event.stopPropagation();\n",
              "          element.classList.toggle('function-repr-contents-collapsed');\n",
              "        };\n",
              "      }\n",
              "      </script>\n",
              "      </div>"
            ]
          },
          "metadata": {},
          "execution_count": 14
        }
      ]
    },
    {
      "cell_type": "code",
      "source": [
        "\"\"\"import os\n",
        "\n",
        "from ultralytics import YOLO\n",
        "\n",
        "model = YOLO('/content/drive/MyDrive/testrun/runs/detect/train4/weights/best.pt')\n",
        "\n",
        "results_second_round= model.predict(source='/content/drive/MyDrive/testrun/data/images/val', epochs=300)\"\"\"\n",
        "\n",
        "from ultralytics import YOLO\n",
        "\n",
        "!yolo task=detect mode=predict model='/content/drive/MyDrive/testrun/runs/detect/train8/weights/best.pt' conf=0.25 source='/content/drive/MyDrive/testrun/data/images/val/' save=True"
      ],
      "metadata": {
        "id": "aBP7L6U3DdSW",
        "colab": {
          "base_uri": "https://localhost:8080/"
        },
        "outputId": "2830d2ed-abdc-410a-9bc9-3401f3ad024d"
      },
      "execution_count": null,
      "outputs": [
        {
          "output_type": "stream",
          "name": "stdout",
          "text": [
            "Ultralytics YOLOv8.2.18 🚀 Python-3.10.12 torch-2.2.1+cu121 CUDA:0 (Tesla T4, 15102MiB)\n",
            "Model summary (fused): 168 layers, 11142612 parameters, 0 gradients, 28.5 GFLOPs\n",
            "\n",
            "image 1/35 /content/drive/MyDrive/testrun/data/images/val/intraoral_lower-27-_JPEG.rf.2857a5b9d0a8fe16c5c7c05729f4935d.jpg: 640x640 1 34, 1 35, 1 46, 1 47, 1 48, 1 tongue, 16.5ms\n",
            "image 2/35 /content/drive/MyDrive/testrun/data/images/val/intraoral_lower-29-_JPEG.rf.5603f3efc6820b8c3dde3e29fb1ce6a3.jpg: 640x640 1 31, 1 32, 1 33, 1 34, 1 35, 2 36s, 2 37s, 2 41s, 1 42, 1 43, 1 amalgam filling, 1 fixed prosthesis, 1 non-carious lesion, 1 tongue, 16.6ms\n",
            "image 3/35 /content/drive/MyDrive/testrun/data/images/val/intraoral_lower-3-_JPEG.rf.fd3b4240dfa0348a800092bc98403a8e.jpg: 640x640 1 31, 2 32s, 2 33s, 2 34s, 2 35s, 2 36s, 2 37s, 1 38, 1 42, 1 43, 1 44, 1 amalgam filling, 1 fixed prosthesis, 1 non-carious lesion, 1 tongue, 1 visible changes with cavitation, 1 visible changes with microcavitation, 16.4ms\n",
            "image 4/35 /content/drive/MyDrive/testrun/data/images/val/intraoral_lower-30-_JPEG.rf.553c87ed4c4d294f01c6d06add821282.jpg: 640x640 1 15, 1 26, 1 31, 1 33, 1 34, 1 36, 4 41s, 2 42s, 1 43, 1 44, 1 45, 2 amalgam fillings, 1 visible changes with cavitation, 16.4ms\n",
            "image 5/35 /content/drive/MyDrive/testrun/data/images/val/intraoral_lower-32-_JPEG.rf.afc5800f64de233e0089c7dbb84ca85b.jpg: 640x640 1 35, 1 36, 2 42s, 1 43, 1 44, 1 45, 2 47s, 1 48, 1 amalgam filling, 1 staining or visible changes without cavitation, 1 tongue, 2 visible changes with microcavitations, 16.4ms\n",
            "image 6/35 /content/drive/MyDrive/testrun/data/images/val/intraoral_lower-35-_JPEG.rf.f720d53972f24e8c8b5a1f6fcae473d4.jpg: 640x640 1 35, 1 36, 1 37, 1 47, 1 non-carious lesion, 1 tongue, 1 visible changes with microcavitation, 16.4ms\n",
            "image 7/35 /content/drive/MyDrive/testrun/data/images/val/intraoral_lower-40-_JPEG.rf.15705a3eb97efa3a086332e698f1bee6.jpg: 640x640 1 33, 1 34, 2 35s, 1 36, 1 37, 1 38, 1 tongue, 15.1ms\n",
            "image 8/35 /content/drive/MyDrive/testrun/data/images/val/intraoral_lower-43-_JPEG.rf.02e70387f1c24048a29bc355c1dc9855.jpg: 640x640 1 43, 1 46, 1 tongue, 1 visible changes with microcavitation, 15.3ms\n",
            "image 9/35 /content/drive/MyDrive/testrun/data/images/val/intraoral_lower-49-_JPEG.rf.2ebdca771c355f9f8b213fcc90773897.jpg: 640x640 2 31s, 2 32s, 3 34s, 3 35s, 1 42, 1 43, 3 calculuss, 1 non-carious lesion, 1 palatine raphe, 1 staining or visible changes without cavitation, 4 visible changes with microcavitations, 15.1ms\n",
            "image 10/35 /content/drive/MyDrive/testrun/data/images/val/intraoral_lower-54-_JPEG.rf.047f1b7abd1cffdb4caf30677ace4fe2.jpg: 640x640 1 16, 1 31, 2 32s, 1 34, 1 35, 1 37, 1 42, 1 45, 1 amalgam filling, 1 tongue, 1 visible changes with cavitation, 15.1ms\n",
            "image 11/35 /content/drive/MyDrive/testrun/data/images/val/intraoral_lower-66-_JPEG.rf.a3beb8f8f684b94455029a326d7fa07d.jpg: 640x640 2 35s, 1 37, 1 amalgam filling, 1 tongue, 15.1ms\n",
            "image 12/35 /content/drive/MyDrive/testrun/data/images/val/intraoral_lower-76-_JPEG.rf.808820d4e7b7ec4a84dd41ffb4c68190.jpg: 640x640 1 35, 1 36, 1 37, 1 47, 1 48, 1 tongue, 5 visible changes with microcavitations, 15.1ms\n",
            "image 13/35 /content/drive/MyDrive/testrun/data/images/val/intraoral_lower-8-_JPEG.rf.6a1a634d4f90c600d525a30d0020daef.jpg: 640x640 1 32, 1 33, 1 34, 1 36, 1 37, 1 38, 1 amalgam filling, 1 tongue, 15.1ms\n",
            "image 14/35 /content/drive/MyDrive/testrun/data/images/val/intraoral_lower-84-_JPEG.rf.7fe7e6896a02d365b2be369ce609892c.jpg: 640x640 2 31s, 1 32, 2 45s, 1 46, 1 47, 1 tongue, 5 visible changes with microcavitations, 15.1ms\n",
            "image 15/35 /content/drive/MyDrive/testrun/data/images/val/intraoral_lower-85-_JPEG.rf.683769192eb1a0adeb33040ca1d32007.jpg: 640x640 1 17, 2 32s, 1 33, 1 34, 2 35s, 3 36s, 2 37s, 1 38, 1 41, 1 42, 1 43, 1 44, 1 45, 2 non-carious lesions, 1 staining or visible changes without cavitation, 2 tongues, 2 visible changes with microcavitations, 15.1ms\n",
            "image 16/35 /content/drive/MyDrive/testrun/data/images/val/intraoral_upper-1-.rf.422ac999bb33b0056c5db6aeb3460fa0.jpg: 640x640 1 11, 1 12, 1 13, 1 14, 1 15, 1 21, 1 22, 1 23, 1 24, 1 25, 1 26, 1 incisive papilla, 1 non-carious lesion, 1 palatine raphe, 15.2ms\n",
            "image 17/35 /content/drive/MyDrive/testrun/data/images/val/intraoral_upper-18-_JPEG.rf.3d6c40d259334af1b973c9c5dadb39af.jpg: 640x640 2 11s, 2 12s, 1 13, 2 14s, 2 15s, 2 16s, 3 17s, 1 18, 1 22, 1 23, 1 24, 1 amalgam filling, 1 fixed prosthesis, 1 incisive papilla, 1 non-carious lesion, 1 palatine raphe, 1 staining or visible changes without cavitation, 2 visible changes with cavitations, 2 visible changes with microcavitations, 15.1ms\n",
            "image 18/35 /content/drive/MyDrive/testrun/data/images/val/intraoral_upper-20-_JPEG.rf.10b9a59c9830e911965ec9c2b4694ddb.jpg: 640x640 1 11, 2 12s, 1 13, 1 14, 1 17, 1 21, 1 22, 1 23, 1 24, 1 25, 1 26, 1 27, 1 incisive papilla, 5 non-carious lesions, 1 palatine raphe, 7 staining or visible changes without cavitations, 2 visible changes with cavitations, 4 visible changes with microcavitations, 15.1ms\n",
            "image 19/35 /content/drive/MyDrive/testrun/data/images/val/intraoral_upper-23-_JPEG.rf.32c4f6b75ee59e5d242cc434d0e2be65.jpg: 640x640 1 11, 1 12, 1 13, 1 14, 1 15, 1 16, 1 21, 1 22, 1 23, 2 fixed prosthesiss, 1 incisive papilla, 1 non-carious lesion, 1 palatine raphe, 1 visible changes with cavitation, 15.1ms\n",
            "image 20/35 /content/drive/MyDrive/testrun/data/images/val/intraoral_upper-27-_JPEG.rf.1a202c89ee24ffd4ea529d8caa0d357e.jpg: 640x640 1 11, 1 12, 1 13, 1 14, 1 15, 1 16, 1 17, 1 18, 1 21, 1 22, 1 23, 1 24, 1 25, 1 26, 1 27, 1 28, 2 32s, 1 amalgam filling, 1 fixed prosthesis, 5 non-carious lesions, 1 palatine raphe, 1 staining or visible changes without cavitation, 4 visible changes with microcavitations, 15.1ms\n",
            "image 21/35 /content/drive/MyDrive/testrun/data/images/val/intraoral_upper-29-_JPEG.rf.e74e97c2565ab44daec6dca51a54eb05.jpg: 640x640 1 11, 1 12, 2 13s, 1 14, 1 15, 1 16, 1 17, 1 18, 1 21, 1 22, 1 23, 1 24, 2 25s, 1 27, 1 incisive papilla, 1 non-carious lesion, 1 palatine raphe, 17 staining or visible changes without cavitations, 1 visible changes with microcavitation, 15.1ms\n",
            "image 22/35 /content/drive/MyDrive/testrun/data/images/val/intraoral_upper-3-_JPEG.rf.f3e4fe279b9a1ee465a654954cc03792.jpg: 640x640 1 11, 1 12, 1 13, 1 14, 2 15s, 1 16, 1 17, 1 21, 1 23, 2 calculuss, 1 incisive papilla, 1 palatine raphe, 7 staining or visible changes without cavitations, 2 visible changes with cavitations, 14.8ms\n",
            "image 23/35 /content/drive/MyDrive/testrun/data/images/val/intraoral_upper-38-_JPEG.rf.12d83f9aef40afddb546b91f47c663f3.jpg: 640x640 1 11, 2 12s, 2 14s, 2 37s, 1 amalgam filling, 14.8ms\n",
            "image 24/35 /content/drive/MyDrive/testrun/data/images/val/intraoral_upper-39-_JPEG.rf.de89e24a94fb8d64af1afb7a02f79846.jpg: 640x640 1 12, 2 13s, 1 14, 1 21, 3 22s, 1 31, 2 32s, 1 41, 1 42, 2 43s, 2 44s, 1 45, 1 tongue, 14.8ms\n",
            "image 25/35 /content/drive/MyDrive/testrun/data/images/val/intraoral_upper-40-_JPEG.rf.1594848e066cba1d4631a4f7d6ecf3ea.jpg: 640x640 1 12, 1 13, 2 21s, 2 22s, 1 23, 2 31s, 1 32, 1 33, 1 41, 1 42, 1 43, 2 44s, 14.8ms\n",
            "image 26/35 /content/drive/MyDrive/testrun/data/images/val/intraoral_upper-50-_JPEG.rf.67c9c8135028ac105aad5e8f7ccc848c.jpg: 640x640 1 11, 3 12s, 2 13s, 1 14, 2 15s, 1 16, 1 17, 1 18, 1 21, 1 22, 1 23, 1 24, 1 25, 1 26, 1 27, 2 32s, 1 incisive papilla, 1 palatine raphe, 1 visible changes with cavitation, 14.9ms\n",
            "image 27/35 /content/drive/MyDrive/testrun/data/images/val/intraoral_upper-53-_JPEG.rf.d116a659a7198da4bb86acbb7a7be808.jpg: 640x640 1 11, 2 12s, 1 16, 1 21, 1 22, 1 23, 2 24s, 1 25, 2 26s, 1 27, 1 amalgam filling, 1 fixed prosthesis, 1 incisive papilla, 1 palatine raphe, 2 staining or visible changes without cavitations, 1 visible changes with microcavitation, 14.8ms\n",
            "image 28/35 /content/drive/MyDrive/testrun/data/images/val/intraoral_upper-59-_JPEG.rf.af0e7e8bec6867b0e3dfa9a1e1149bf4.jpg: 640x640 2 11s, 1 12, 1 15, 2 22s, 2 23s, 1 24, 1 25, 1 palatine raphe, 3 staining or visible changes without cavitations, 17.7ms\n",
            "image 29/35 /content/drive/MyDrive/testrun/data/images/val/intraoral_upper-60-_JPEG.rf.84d94d56a565a323a9ea5657e23e4f05.jpg: 640x640 1 13, 1 14, 1 15, 1 16, 1 17, 1 non-carious lesion, 1 palatine raphe, 1 staining or visible changes without cavitation, 1 visible changes with cavitation, 1 visible changes with microcavitation, 14.9ms\n",
            "image 30/35 /content/drive/MyDrive/testrun/data/images/val/intraoral_upper-63-_JPEG.rf.e4c18895f20e80e157e7404c6fc3ea3d.jpg: 640x640 2 11s, 2 12s, 2 14s, 2 15s, 2 16s, 1 17, 2 22s, 2 24s, 1 25, 1 incisive papilla, 1 non-carious lesion, 1 palatine raphe, 2 staining or visible changes without cavitations, 1 visible changes with microcavitation, 14.9ms\n",
            "image 31/35 /content/drive/MyDrive/testrun/data/images/val/intraoral_upper-65-_JPEG.rf.42a39952a486ea1f7d61d42092d4e0e0.jpg: 640x640 1 16, 1 17, 1 24, 1 25, 1 26, 1 amalgam filling, 1 palatine raphe, 1 visible changes with cavitation, 14.8ms\n",
            "image 32/35 /content/drive/MyDrive/testrun/data/images/val/intraoral_upper-70-_JPEG.rf.8d6aa47898449f2bec587f73b2e8b6b5.jpg: 640x640 1 12, 1 13, 1 15, 1 21, 1 22, 1 24, 1 25, 1 26, 1 incisive papilla, 1 palatine raphe, 1 visible changes with cavitation, 14.8ms\n",
            "image 33/35 /content/drive/MyDrive/testrun/data/images/val/intraoral_upper-77-_JPEG.rf.9d845f9100470a62cd90b6af95317fd6.jpg: 640x640 1 11, 1 16, 1 17, 2 21s, 2 22s, 2 23s, 2 24s, 2 25s, 2 26s, 2 amalgam fillings, 1 fixed prosthesis, 1 incisive papilla, 1 non-carious lesion, 1 palatine raphe, 1 staining or visible changes without cavitation, 1 visible changes with cavitation, 1 visible changes with microcavitation, 14.8ms\n",
            "image 34/35 /content/drive/MyDrive/testrun/data/images/val/intraoral_upper-88-_JPEG.rf.985087df38152cbfe13d1f815e192973.jpg: 640x640 1 22, 1 23, 1 24, 1 25, 2 26s, 1 calculus, 2 palatine raphes, 15.0ms\n",
            "image 35/35 /content/drive/MyDrive/testrun/data/images/val/intraoral_upper-89-_JPEG.rf.1afe40dd280f5e0705f217494947a9cc.jpg: 640x640 2 11s, 1 12, 2 13s, 2 14s, 2 15s, 2 16s, 2 17s, 1 22, 1 25, 1 28, 1 incisive papilla, 1 non-carious lesion, 1 palatine raphe, 1 staining or visible changes without cavitation, 2 visible changes with cavitations, 15.3ms\n",
            "Speed: 1.5ms preprocess, 15.3ms inference, 57.7ms postprocess per image at shape (1, 3, 640, 640)\n",
            "Results saved to \u001b[1mruns/detect/predict4\u001b[0m\n",
            "💡 Learn more at https://docs.ultralytics.com/modes/predict\n"
          ]
        }
      ]
    },
    {
      "cell_type": "code",
      "source": [
        "!scp -r /content/runs/detect/predict4 '/content/drive/MyDrive/testrun/'"
      ],
      "metadata": {
        "id": "KnvBMm61ZJ7E"
      },
      "execution_count": null,
      "outputs": []
    },
    {
      "cell_type": "code",
      "source": [
        "from IPython.display import display, Image\n",
        "\n",
        "Image(filename='/content/drive/MyDrive/testrun/runs/detect/predict4/intraoral_lower-49-_JPEG.rf.2ebdca771c355f9f8b213fcc90773897.jpeg', height=300, width=300)"
      ],
      "metadata": {
        "colab": {
          "base_uri": "https://localhost:8080/",
          "height": 321
        },
        "id": "VLFFHLootwTO",
        "outputId": "938ef324-4031-4085-a893-d84983ada7f0"
      },
      "execution_count": null,
      "outputs": [
        {
          "output_type": "error",
          "ename": "FileNotFoundError",
          "evalue": "[Errno 2] No such file or directory: '/content/drive/MyDrive/testrun/runs/detect/predict4/intraoral_lower-49-_JPEG.rf.2ebdca771c355f9f8b213fcc90773897.jpeg'",
          "traceback": [
            "\u001b[0;31m---------------------------------------------------------------------------\u001b[0m",
            "\u001b[0;31mFileNotFoundError\u001b[0m                         Traceback (most recent call last)",
            "\u001b[0;32m<ipython-input-13-cf1100f7e866>\u001b[0m in \u001b[0;36m<cell line: 3>\u001b[0;34m()\u001b[0m\n\u001b[1;32m      1\u001b[0m \u001b[0;32mfrom\u001b[0m \u001b[0mIPython\u001b[0m\u001b[0;34m.\u001b[0m\u001b[0mdisplay\u001b[0m \u001b[0;32mimport\u001b[0m \u001b[0mdisplay\u001b[0m\u001b[0;34m,\u001b[0m \u001b[0mImage\u001b[0m\u001b[0;34m\u001b[0m\u001b[0;34m\u001b[0m\u001b[0m\n\u001b[1;32m      2\u001b[0m \u001b[0;34m\u001b[0m\u001b[0m\n\u001b[0;32m----> 3\u001b[0;31m \u001b[0mImage\u001b[0m\u001b[0;34m(\u001b[0m\u001b[0mfilename\u001b[0m\u001b[0;34m=\u001b[0m\u001b[0;34m'/content/drive/MyDrive/testrun/runs/detect/predict4/intraoral_lower-49-_JPEG.rf.2ebdca771c355f9f8b213fcc90773897.jpeg'\u001b[0m\u001b[0;34m,\u001b[0m \u001b[0mheight\u001b[0m\u001b[0;34m=\u001b[0m\u001b[0;36m300\u001b[0m\u001b[0;34m,\u001b[0m \u001b[0mwidth\u001b[0m\u001b[0;34m=\u001b[0m\u001b[0;36m300\u001b[0m\u001b[0;34m)\u001b[0m\u001b[0;34m\u001b[0m\u001b[0;34m\u001b[0m\u001b[0m\n\u001b[0m",
            "\u001b[0;32m/usr/local/lib/python3.10/dist-packages/IPython/core/display.py\u001b[0m in \u001b[0;36m__init__\u001b[0;34m(self, data, url, filename, format, embed, width, height, retina, unconfined, metadata)\u001b[0m\n\u001b[1;32m   1229\u001b[0m         \u001b[0mself\u001b[0m\u001b[0;34m.\u001b[0m\u001b[0mretina\u001b[0m \u001b[0;34m=\u001b[0m \u001b[0mretina\u001b[0m\u001b[0;34m\u001b[0m\u001b[0;34m\u001b[0m\u001b[0m\n\u001b[1;32m   1230\u001b[0m         \u001b[0mself\u001b[0m\u001b[0;34m.\u001b[0m\u001b[0munconfined\u001b[0m \u001b[0;34m=\u001b[0m \u001b[0munconfined\u001b[0m\u001b[0;34m\u001b[0m\u001b[0;34m\u001b[0m\u001b[0m\n\u001b[0;32m-> 1231\u001b[0;31m         super(Image, self).__init__(data=data, url=url, filename=filename, \n\u001b[0m\u001b[1;32m   1232\u001b[0m                 metadata=metadata)\n\u001b[1;32m   1233\u001b[0m \u001b[0;34m\u001b[0m\u001b[0m\n",
            "\u001b[0;32m/usr/local/lib/python3.10/dist-packages/IPython/core/display.py\u001b[0m in \u001b[0;36m__init__\u001b[0;34m(self, data, url, filename, metadata)\u001b[0m\n\u001b[1;32m    635\u001b[0m             \u001b[0mself\u001b[0m\u001b[0;34m.\u001b[0m\u001b[0mmetadata\u001b[0m \u001b[0;34m=\u001b[0m \u001b[0;34m{\u001b[0m\u001b[0;34m}\u001b[0m\u001b[0;34m\u001b[0m\u001b[0;34m\u001b[0m\u001b[0m\n\u001b[1;32m    636\u001b[0m \u001b[0;34m\u001b[0m\u001b[0m\n\u001b[0;32m--> 637\u001b[0;31m         \u001b[0mself\u001b[0m\u001b[0;34m.\u001b[0m\u001b[0mreload\u001b[0m\u001b[0;34m(\u001b[0m\u001b[0;34m)\u001b[0m\u001b[0;34m\u001b[0m\u001b[0;34m\u001b[0m\u001b[0m\n\u001b[0m\u001b[1;32m    638\u001b[0m         \u001b[0mself\u001b[0m\u001b[0;34m.\u001b[0m\u001b[0m_check_data\u001b[0m\u001b[0;34m(\u001b[0m\u001b[0;34m)\u001b[0m\u001b[0;34m\u001b[0m\u001b[0;34m\u001b[0m\u001b[0m\n\u001b[1;32m    639\u001b[0m \u001b[0;34m\u001b[0m\u001b[0m\n",
            "\u001b[0;32m/usr/local/lib/python3.10/dist-packages/IPython/core/display.py\u001b[0m in \u001b[0;36mreload\u001b[0;34m(self)\u001b[0m\n\u001b[1;32m   1261\u001b[0m         \u001b[0;34m\"\"\"Reload the raw data from file or URL.\"\"\"\u001b[0m\u001b[0;34m\u001b[0m\u001b[0;34m\u001b[0m\u001b[0m\n\u001b[1;32m   1262\u001b[0m         \u001b[0;32mif\u001b[0m \u001b[0mself\u001b[0m\u001b[0;34m.\u001b[0m\u001b[0membed\u001b[0m\u001b[0;34m:\u001b[0m\u001b[0;34m\u001b[0m\u001b[0;34m\u001b[0m\u001b[0m\n\u001b[0;32m-> 1263\u001b[0;31m             \u001b[0msuper\u001b[0m\u001b[0;34m(\u001b[0m\u001b[0mImage\u001b[0m\u001b[0;34m,\u001b[0m\u001b[0mself\u001b[0m\u001b[0;34m)\u001b[0m\u001b[0;34m.\u001b[0m\u001b[0mreload\u001b[0m\u001b[0;34m(\u001b[0m\u001b[0;34m)\u001b[0m\u001b[0;34m\u001b[0m\u001b[0;34m\u001b[0m\u001b[0m\n\u001b[0m\u001b[1;32m   1264\u001b[0m             \u001b[0;32mif\u001b[0m \u001b[0mself\u001b[0m\u001b[0;34m.\u001b[0m\u001b[0mretina\u001b[0m\u001b[0;34m:\u001b[0m\u001b[0;34m\u001b[0m\u001b[0;34m\u001b[0m\u001b[0m\n\u001b[1;32m   1265\u001b[0m                 \u001b[0mself\u001b[0m\u001b[0;34m.\u001b[0m\u001b[0m_retina_shape\u001b[0m\u001b[0;34m(\u001b[0m\u001b[0;34m)\u001b[0m\u001b[0;34m\u001b[0m\u001b[0;34m\u001b[0m\u001b[0m\n",
            "\u001b[0;32m/usr/local/lib/python3.10/dist-packages/IPython/core/display.py\u001b[0m in \u001b[0;36mreload\u001b[0;34m(self)\u001b[0m\n\u001b[1;32m    660\u001b[0m         \u001b[0;34m\"\"\"Reload the raw data from file or URL.\"\"\"\u001b[0m\u001b[0;34m\u001b[0m\u001b[0;34m\u001b[0m\u001b[0m\n\u001b[1;32m    661\u001b[0m         \u001b[0;32mif\u001b[0m \u001b[0mself\u001b[0m\u001b[0;34m.\u001b[0m\u001b[0mfilename\u001b[0m \u001b[0;32mis\u001b[0m \u001b[0;32mnot\u001b[0m \u001b[0;32mNone\u001b[0m\u001b[0;34m:\u001b[0m\u001b[0;34m\u001b[0m\u001b[0;34m\u001b[0m\u001b[0m\n\u001b[0;32m--> 662\u001b[0;31m             \u001b[0;32mwith\u001b[0m \u001b[0mopen\u001b[0m\u001b[0;34m(\u001b[0m\u001b[0mself\u001b[0m\u001b[0;34m.\u001b[0m\u001b[0mfilename\u001b[0m\u001b[0;34m,\u001b[0m \u001b[0mself\u001b[0m\u001b[0;34m.\u001b[0m\u001b[0m_read_flags\u001b[0m\u001b[0;34m)\u001b[0m \u001b[0;32mas\u001b[0m \u001b[0mf\u001b[0m\u001b[0;34m:\u001b[0m\u001b[0;34m\u001b[0m\u001b[0;34m\u001b[0m\u001b[0m\n\u001b[0m\u001b[1;32m    663\u001b[0m                 \u001b[0mself\u001b[0m\u001b[0;34m.\u001b[0m\u001b[0mdata\u001b[0m \u001b[0;34m=\u001b[0m \u001b[0mf\u001b[0m\u001b[0;34m.\u001b[0m\u001b[0mread\u001b[0m\u001b[0;34m(\u001b[0m\u001b[0;34m)\u001b[0m\u001b[0;34m\u001b[0m\u001b[0;34m\u001b[0m\u001b[0m\n\u001b[1;32m    664\u001b[0m         \u001b[0;32melif\u001b[0m \u001b[0mself\u001b[0m\u001b[0;34m.\u001b[0m\u001b[0murl\u001b[0m \u001b[0;32mis\u001b[0m \u001b[0;32mnot\u001b[0m \u001b[0;32mNone\u001b[0m\u001b[0;34m:\u001b[0m\u001b[0;34m\u001b[0m\u001b[0;34m\u001b[0m\u001b[0m\n",
            "\u001b[0;31mFileNotFoundError\u001b[0m: [Errno 2] No such file or directory: '/content/drive/MyDrive/testrun/runs/detect/predict4/intraoral_lower-49-_JPEG.rf.2ebdca771c355f9f8b213fcc90773897.jpeg'"
          ]
        }
      ]
    }
  ]
}